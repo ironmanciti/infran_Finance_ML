{
 "cells": [
  {
   "cell_type": "markdown",
   "metadata": {},
   "source": [
    "# Optimization(최적화) 문제 \n",
    "\n",
    "- 최적화(optimization) 문제란 어떤 목적함수(objective function)의 함수값을 최적화(최대화 또는 최소화)시키는 파라미터(변수) 조합을 찾는 문제"
   ]
  },
  {
   "cell_type": "code",
   "execution_count": 1,
   "metadata": {},
   "outputs": [],
   "source": [
    "from scipy.optimize import minimize"
   ]
  },
  {
   "cell_type": "markdown",
   "metadata": {},
   "source": [
    "### 최적화 문제 example  \n",
    "본 문제는 주어진 수식을 최소화 하는 변수들의 값을 찾는 것 입니다.  \n",
    "- 목적 함수:\n",
    "최소화하고자 하는 목적 함수는 다음과 같습니다.  \n",
    "$$\\text{minimize } x_1x_4(x_1 + x_2 + x_3) +  x_3$$  \n",
    "- 제약 조건:\n",
    "이 최적화 문제에는 부등식 제약 조건과 등식 제약 조건 두 가지 유형의 제약 조건이 있습니다: \n",
    "\n",
    "1. 부등식 제약 조건(inequality constraint):  \n",
    "$$x_1x_2x_3x_4 \\ge 25 \\rightarrow f(x) \\ge 0$$\n",
    "2. 등식 제약 조건(equality constraint):\n",
    "$$x_1^2 + x_2^2 + x_3^2 + x_4^2 = 40 \\rightarrow g(x) = 0$$  \n",
    "- 변수의 범위(bounds): 모든 변수 $x_1, x_2, x_3, x_4$는 1과 5 사이의 값을 가져야 합니다. \n",
    "$$1 \\le x_1, x_2, x_3, x_4 \\le 5$$\n",
    "$$\\rightarrow 1 \\le x_1 \\le 5, 1 \\le x_2 \\le 5, 1 \\le x_3 \\le 5, 1 \\le x_4 \\le 5$$\n",
    "- 초기값(initial values):  \n",
    "최적화 과정을 시작하기 위한 변수들의 초기값은 $x_0 = (1, 5, 5, 1)$로 설정됩니다. 이 초기값은 최적화 알고리즘이 해를 탐색하기 시작하는 지점입니다."
   ]
  },
  {
   "cell_type": "code",
   "execution_count": 2,
   "metadata": {},
   "outputs": [],
   "source": [
    "# 목적 함수를 정의합니다. 이 함수는 최적화하고자 하는 대상입니다.\n",
    "def objective(x):\n",
    "    # x는 변수들의 리스트입니다. 여기서는 네 개의 변수를 사용합니다.\n",
    "    x1 = x[0]\n",
    "    x2 = x[1]\n",
    "    x3 = x[2]\n",
    "    x4 = x[3]\n",
    "    # 주어진 식을 사용하여 목적 함수의 값을 계산합니다.\n",
    "    return x1 * x4 * (x1 + x2 + x3) + x3\n",
    "\n",
    "# 부등식 제약 조건 함수입니다. \n",
    "def constraint1(x):\n",
    "    # x0, x1, x2, x3의 곱이 25.0 이상이어야 하는 조건입니다.\n",
    "    return x[0] * x[1] * x[2] * x[3] - 25.0\n",
    "\n",
    "# 등식 제약 조건 함수입니다. \n",
    "def constraint2(x):\n",
    "    sum_sq = 40  # 시작점을 40으로 설정합니다.\n",
    "    # 네 변수의 제곱합이 40 이 되도록 하는 조건입니다.\n",
    "    for i in range(4):\n",
    "        sum_sq = sum_sq - x[i] ** 2\n",
    "    return sum_sq"
   ]
  },
  {
   "cell_type": "code",
   "execution_count": 3,
   "metadata": {},
   "outputs": [
    {
     "name": "stdout",
     "output_type": "stream",
     "text": [
      "16\n"
     ]
    }
   ],
   "source": [
    "# 초기 변수 값으로 [1, 5, 5, 1]을 설정합니다. 이는 최적화 문제를 시작하기 위한 초기 추정값입니다.\n",
    "x0 = [1, 5, 5, 1]\n",
    "\n",
    "# 초기값 x0을 목적 함수에 전달하여, 이 초기값에서의 목적 함수의 결과값을 계산합니다.\n",
    "# 이는 최적화 과정을 시작하기 전에, 선택한 초기값에서 목적 함수가 어떤 값을 가지는지 확인하기 위함입니다.\n",
    "print(objective(x0))"
   ]
  },
  {
   "cell_type": "code",
   "execution_count": 4,
   "metadata": {},
   "outputs": [],
   "source": [
    "# 각 변수에 대한 상한과 하한을 설정합니다. 이 예제에서 모든 변수(x1, x2, x3, x4)의 값은 1.0과 5.0 사이여야 합니다.\n",
    "b = (1.0, 5.0)\n",
    "# bounds 변수는 최적화할 변수들의 범위를 지정합니다. 여기서는 모든 변수에 동일한 범위(b)를 적용합니다.\n",
    "bounds = (b, b, b, b)\n",
    "\n",
    "# 첫 번째 제약 조건: 부등식 제약 조건입니다. 이 함수의 반환값은 0 이상이어야 합니다.\n",
    "con1 = {'type': 'ineq', 'fun': constraint1}\n",
    "# 두 번째 제약 조건: 등식 제약 조건입니다. 이 함수의 반환값은 0이어야 합니다.\n",
    "con2 = {'type': 'eq', 'fun': constraint2}\n",
    "# 최적화 문제에 적용할 제약 조건들의 리스트입니다.\n",
    "cons = [con1, con2]"
   ]
  },
  {
   "cell_type": "markdown",
   "metadata": {},
   "source": [
    "- 최적화 알고리즘 SLSQP(Sequential Least SQuares Programming)는 복잡한 현실 문제를 단순화해 목적함수를 이차식으로 근사해 풀고 다음 번 지점을 예측해 다시 동일한 방법을 수행하는 문제를 푸는 알고리즘으로서 비선형 최적화 문제를 해결할 수 있다. SLSQP는 제약조건(constraint)과 상하한선(bound)이 있는 조건에서 사용할 수 있다."
   ]
  },
  {
   "cell_type": "code",
   "execution_count": 5,
   "metadata": {},
   "outputs": [
    {
     "data": {
      "text/plain": [
       " message: Optimization terminated successfully\n",
       " success: True\n",
       "  status: 0\n",
       "     fun: 17.01401724563517\n",
       "       x: [ 1.000e+00  4.743e+00  3.821e+00  1.379e+00]\n",
       "     nit: 5\n",
       "     jac: [ 1.457e+01  1.379e+00  2.379e+00  9.564e+00]\n",
       "    nfev: 25\n",
       "    njev: 5"
      ]
     },
     "execution_count": 5,
     "metadata": {},
     "output_type": "execute_result"
    }
   ],
   "source": [
    "sol = minimize(objective, x0, method='SLSQP', bounds=bounds, constraints=cons)\n",
    "sol"
   ]
  },
  {
   "cell_type": "code",
   "execution_count": 6,
   "metadata": {},
   "outputs": [
    {
     "name": "stdout",
     "output_type": "stream",
     "text": [
      "최적화 조건을 만족시키는 변수들의 조합은  [1.         4.7429961  3.82115462 1.37940765]\n"
     ]
    }
   ],
   "source": [
    "print(\"최적화 조건을 만족시키는 변수들의 조합은 \", sol.x)"
   ]
  },
  {
   "cell_type": "code",
   "execution_count": null,
   "metadata": {},
   "outputs": [],
   "source": []
  }
 ],
 "metadata": {
  "kernelspec": {
   "display_name": "Python 3 (ipykernel)",
   "language": "python",
   "name": "python3"
  },
  "language_info": {
   "codemirror_mode": {
    "name": "ipython",
    "version": 3
   },
   "file_extension": ".py",
   "mimetype": "text/x-python",
   "name": "python",
   "nbconvert_exporter": "python",
   "pygments_lexer": "ipython3",
   "version": "3.9.21"
  }
 },
 "nbformat": 4,
 "nbformat_minor": 4
}
