{
 "cells": [
  {
   "cell_type": "markdown",
   "metadata": {},
   "source": [
    "# Optimization(최적화) 문제 \n",
    "\n",
    "- 최적화(optimization) 문제란 어떤 목적함수(objective function)의 함수값을 최적화(최대화 또는 최소화)시키는 파라미터(변수) 조합을 찾는 문제"
   ]
  },
  {
   "cell_type": "code",
   "execution_count": 1,
   "metadata": {},
   "outputs": [],
   "source": [
    "from scipy.optimize import minimize"
   ]
  },
  {
   "cell_type": "markdown",
   "metadata": {},
   "source": [
    "### 최적화 문제 example\n",
    "minimize $$x_1x_4(x_1 + x_2 + x_3) +  x_3$$  \n",
    "inequality constraint : $$x_1x_2x_3x_4 \\ge 25 \\rightarrow f(x) \\ge 0$$\n",
    "equality constraint : $$x_1^2 + x_2^2 + x_3^2 + x_4^2 = 40 \\rightarrow g(x) = 0$$ \n",
    "bounds : $$1 \\le x_1, x_2, x_3, x_4 \\le 5$$\n",
    "$$\\rightarrow 1 \\le x_1 \\le 5, 1 \\le x_2 \\le 5, 1 \\le x_3 \\le 5, 1 \\le x_4 \\le 5$$  \n",
    "initial values : $$x_0 = (1, 5, 5, 1)$$"
   ]
  },
  {
   "cell_type": "code",
   "execution_count": 2,
   "metadata": {},
   "outputs": [],
   "source": [
    "def objective(x):\n",
    "    x1 = x[0]\n",
    "    x2 = x[1]\n",
    "    x3 = x[2]\n",
    "    x4 = x[3]\n",
    "    return x1 * x4 * (x1 + x2 + x3) + x3\n",
    "\n",
    "def constraint1(x):\n",
    "    return x[0] * x[1] * x[2] * x[3] - 25.0\n",
    "\n",
    "def constraint2(x):\n",
    "    sum_sq = 40\n",
    "    for i in range(4):\n",
    "        sum_sq = sum_sq - x[i] ** 2\n",
    "    return sum_sq"
   ]
  },
  {
   "cell_type": "code",
   "execution_count": 3,
   "metadata": {},
   "outputs": [
    {
     "name": "stdout",
     "output_type": "stream",
     "text": [
      "16\n"
     ]
    }
   ],
   "source": [
    "x0 = [1, 5, 5, 1]\n",
    "print(objective(x0))"
   ]
  },
  {
   "cell_type": "code",
   "execution_count": 4,
   "metadata": {},
   "outputs": [],
   "source": [
    "b = (1.0, 5.0)\n",
    "bounds = (b, b, b, b)\n",
    "con1 = {'type': 'ineq', 'fun': constraint1}\n",
    "con2 = {'type': 'eq', 'fun': constraint2}\n",
    "cons = [con1, con2]"
   ]
  },
  {
   "cell_type": "markdown",
   "metadata": {},
   "source": [
    "- 최적화 알고리즘 SLSQP(Sequential Least SQuares Programming)는 복잡한 현실 문제를 단순화해 목적함수를 이차식으로 근사해 풀고 다음 번 지점을 예측해 다시 동일한 방법을 수행하는 문제를 푸는 알고리즘으로서 비선형 최적화 문제를 해결할 수 있다. SLSQP는 제약조건(constraint)과 상하한선(bound)이 있는 조건에서 사용할 수 있다."
   ]
  },
  {
   "cell_type": "code",
   "execution_count": 5,
   "metadata": {},
   "outputs": [
    {
     "data": {
      "text/plain": [
       "     fun: 17.01401724563517\n",
       "     jac: array([14.57227015,  1.37940764,  2.37940764,  9.56415057])\n",
       " message: 'Optimization terminated successfully'\n",
       "    nfev: 25\n",
       "     nit: 5\n",
       "    njev: 5\n",
       "  status: 0\n",
       " success: True\n",
       "       x: array([1.        , 4.7429961 , 3.82115462, 1.37940765])"
      ]
     },
     "execution_count": 5,
     "metadata": {},
     "output_type": "execute_result"
    }
   ],
   "source": [
    "sol = minimize(objective, x0, method='SLSQP', bounds=bounds, constraints=cons)\n",
    "sol"
   ]
  },
  {
   "cell_type": "code",
   "execution_count": 6,
   "metadata": {},
   "outputs": [
    {
     "name": "stdout",
     "output_type": "stream",
     "text": [
      "최적화 조건을 만족시키는 변수들의 조합은  [1.         4.7429961  3.82115462 1.37940765]\n"
     ]
    }
   ],
   "source": [
    "print(\"최적화 조건을 만족시키는 변수들의 조합은 \", sol.x)"
   ]
  },
  {
   "cell_type": "code",
   "execution_count": null,
   "metadata": {},
   "outputs": [],
   "source": []
  }
 ],
 "metadata": {
  "kernelspec": {
   "display_name": "Python 3 (ipykernel)",
   "language": "python",
   "name": "python3"
  },
  "language_info": {
   "codemirror_mode": {
    "name": "ipython",
    "version": 3
   },
   "file_extension": ".py",
   "mimetype": "text/x-python",
   "name": "python",
   "nbconvert_exporter": "python",
   "pygments_lexer": "ipython3",
   "version": "3.8.13"
  }
 },
 "nbformat": 4,
 "nbformat_minor": 2
}
