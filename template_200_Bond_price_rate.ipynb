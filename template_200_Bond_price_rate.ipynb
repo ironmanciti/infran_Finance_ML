{
 "cells": [
  {
   "cell_type": "markdown",
   "id": "5a90ec3d-afc3-42f8-85e2-8cef0066a35a",
   "metadata": {},
   "source": [
    "# 채권 가격과 이자율 관계 시각화\n",
    "\n",
    "액면가: 1,000달러  \n",
    "쿠폰 금리: 5% (연간 50달러 지급)  \n",
    "만기: 10년  \n",
    "\n",
    "- 시장 이자율이 **5%**일 때 투자자는 채권이 액면가(1,000달러)로 거래될 것이라 기대  \n",
    "- 시장 이자율이 **6%**로 상승하면 채권의 고정된 이자 지급액(50달러)은 매력적이지 않게 되므로 채권 가격은 할인  \n",
    "- 시장 이자율이 **4%**로 하락하면 채권의 이자 지급액(50달러)은 매력적으로 보이게 되므로 채권 가격의 프리미엄 상승  "
   ]
  },
  {
   "cell_type": "code",
   "execution_count": null,
   "id": "b72f7052",
   "metadata": {},
   "outputs": [],
   "source": [
    "# 채권의 기본 정보\n",
    "# 다양한 시장 이자율 (0%에서 10%까지)"
   ]
  },
  {
   "cell_type": "code",
   "execution_count": null,
   "id": "daa84a54",
   "metadata": {},
   "outputs": [],
   "source": [
    "# 채권 가격 계산 함수 - 주어진 시장 이자율에서 채권 가격을 계산\n",
    "def bond_price(face_value, coupon_rate, interest_rate, years):\n",
    "# 각 이자율에 대한 채권 가격 계산\n",
    "# 그래프 그리기"
   ]
  },
  {
   "cell_type": "code",
   "execution_count": null,
   "id": "0e8a132b",
   "metadata": {},
   "outputs": [],
   "source": []
  }
 ],
 "metadata": {
  "kernelspec": {
   "display_name": "Python 3 (ipykernel)",
   "language": "python",
   "name": "python3"
  },
  "language_info": {
   "codemirror_mode": {
    "name": "ipython",
    "version": 3
   },
   "file_extension": ".py",
   "mimetype": "text/x-python",
   "name": "python",
   "nbconvert_exporter": "python",
   "pygments_lexer": "ipython3",
   "version": "3.9.16"
  }
 },
 "nbformat": 4,
 "nbformat_minor": 5
}
