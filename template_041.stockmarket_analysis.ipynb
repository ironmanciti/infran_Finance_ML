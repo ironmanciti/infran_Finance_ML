{
 "cells": [
  {
   "cell_type": "markdown",
   "metadata": {},
   "source": [
    "# 주식시장 분석 \n",
    "\n",
    "- 2012-1-1 ~ 2021-12-31 기간의 Tesla, FORD, Apple 의 주가 등락, 변동성, 수익률 비교  \n"
   ]
  },
  {
   "cell_type": "markdown",
   "metadata": {},
   "source": [
    "## yfinance 를 이용한 주가 data 가져오기"
   ]
  },
  {
   "cell_type": "markdown",
   "metadata": {},
   "source": [
    "## 주가 추이 시각화"
   ]
  },
  {
   "cell_type": "markdown",
   "metadata": {},
   "source": [
    "**최대 거래량 발생 일자**"
   ]
  },
  {
   "cell_type": "markdown",
   "metadata": {},
   "source": [
    "## Log Close Price\n",
    "- 서로 scale 이 다른 주가에 대한 실제 변화율을 시각화 하기 위해 price 의 log 를 취함"
   ]
  },
  {
   "cell_type": "markdown",
   "metadata": {},
   "source": [
    "## Normalized Price\n",
    "\n",
    "- 시초가를 1 로 맞추어 놓고 변화된 상대 가격 비교"
   ]
  },
  {
   "cell_type": "markdown",
   "metadata": {},
   "source": [
    "## 주식 종목간의 correlation 분석\n",
    "\n",
    "- Tesla 주식이  Apple 과 관련 있는지, GM 과 관련 있는지 분석"
   ]
  },
  {
   "cell_type": "markdown",
   "metadata": {},
   "source": [
    "## 일일 수익율 (Daily Percentage Change)\n",
    "\n",
    "- 주식을 구입하고 다음 날 팔았을 때의 이득 (손실)\n",
    "\n",
    "- 주식의 변동성 분석에 유용\n",
    "\n",
    "- 일일 수익율의 분포가 넓으면 변동성 큼\n",
    "\n",
    "$r_t = \\frac{P_t}{P_{t-1}} - 1$ \n",
    "\n",
    "$수익(율) = \\frac{당일가격}{전일가격} - 1$\n",
    "\n",
    "```\n",
    "tesla['return'] = tesla['Close'] / tesla['Close'].shift(1) - 1\n",
    "tesla['return'] = tesla['Close'].pct_change(1)  \n",
    "```\n",
    "\n",
    "- histogram 으로 얼마나 넓게 분포하는지 check"
   ]
  },
  {
   "cell_type": "markdown",
   "metadata": {},
   "source": [
    "## 누적일일수익률 (Cumulative Daily Returns)\n",
    "\n",
    "- 1 불을 투자했을 때 누적적으로 가장 수익이 많이 났을 주식 파악\n",
    "\n",
    "$i_t = (1+r_t) * i_{t-1}$  \n",
    "\n",
    "\n",
    "$누적수익률 = (1 + 당일수익률) * 전일자 누적수익률$"
   ]
  }
 ],
 "metadata": {
  "kernelspec": {
   "display_name": "Python 3",
   "language": "python",
   "name": "python3"
  },
  "language_info": {
   "codemirror_mode": {
    "name": "ipython",
    "version": 3
   },
   "file_extension": ".py",
   "mimetype": "text/x-python",
   "name": "python",
   "nbconvert_exporter": "python",
   "pygments_lexer": "ipython3",
   "version": "3.9.7"
  }
 },
 "nbformat": 4,
 "nbformat_minor": 2
}
