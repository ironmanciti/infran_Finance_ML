{
 "cells": [
  {
   "cell_type": "markdown",
   "id": "2b603b48-7ee7-4cc3-9489-01c284b89795",
   "metadata": {},
   "source": [
    "# 채권 수익률 예측 Machine Learning Model\n",
    "\n",
    "채권 가격을 예측하는 머신 러닝 모델을 작성하려면 먼저 채권 가격에 영향을 미치는 변수들을 수집하고, 이를 기반으로 모델을 학습시켜야 합니다. 일반적으로 채권 가격은 **이자율**, **만기 기간**, **신용 등급**, **쿠폰 금리**, **유동성** 등 다양한 요인에 의해 결정됩니다. 이 예제에서는 간단하게 경제 지표와 소비자 물가 지수를 이용하여 채권 수익률을 예측하는 회귀 모델을 구축하겠습니다.\n",
    "\n",
    "아래 예제에서는 머신 러닝 회귀 모델 중 하나인 `RandomForestRegressor`를 사용하겠습니다. 또한, Python의 `scikit-learn`과 `pandas` 라이브러리를 사용하여 데이터를 전처리하고 모델을 학습시킵니다.\n",
    "\n",
    "### 예제 코드: 미국 10년 만기 국채 수익률 예측\n",
    "\n",
    "1. **데이터 수집**:\n",
    "   - 미국 10년 만기 국채 수익률 (10Y Treasury Yield)을 가져옵니다. \n",
    "   - S&P 500 지수와 소비자 물가지수(CPI) 데이터를 가져와 경제 지표로 활용합니다. \n",
    "   - 여기서 `10Y_Treasury_Yield`는 금리에 해당하며, `SP500`와 `CPI`는 경기를 반영하는 추가 변수로 사용됩니다. \n",
    "<br>\n",
    "<br>\n",
    "3. **모델 학습**:\n",
    "   - 예측 변수(`X`)로 S&P 500 지수, CPI를 사용하고, 타깃 변수(`y`)로 채권 수익률을 설정합니다."
   ]
  },
  {
   "cell_type": "code",
   "execution_count": null,
   "id": "a3bb72e2",
   "metadata": {},
   "outputs": [],
   "source": []
  },
  {
   "cell_type": "code",
   "execution_count": null,
   "id": "aef45c8f",
   "metadata": {},
   "outputs": [],
   "source": [
    "# 데이터 수집 기간 설정\n",
    "# 미국 10년 만기 국채 수익률 데이터 가져오기 (FRED 데이터)"
   ]
  },
  {
   "cell_type": "code",
   "execution_count": null,
   "id": "9362fb5d",
   "metadata": {},
   "outputs": [],
   "source": [
    "# S&P 500 데이터 가져오기 (경기 지표로 사용)"
   ]
  },
  {
   "cell_type": "code",
   "execution_count": null,
   "id": "e8e353a1",
   "metadata": {},
   "outputs": [],
   "source": [
    "# 기타 경제 지표 예시로 소비자 물가지수 (CPI) 가져오기"
   ]
  },
  {
   "cell_type": "code",
   "execution_count": null,
   "id": "2b3e7c77",
   "metadata": {},
   "outputs": [],
   "source": [
    "# 데이터 합치기"
   ]
  },
  {
   "cell_type": "code",
   "execution_count": null,
   "id": "896829bd",
   "metadata": {},
   "outputs": [],
   "source": [
    "# 타겟 변수 설정: 10년 만기 국채 수익률 (10Y Treasury Yield)\n",
    "# 예측 변수로 '10Y_Treasury_Yield'를 제외한 다른 경제 지표들 사용\n",
    "# 학습 데이터와 테스트 데이터로 분리"
   ]
  },
  {
   "cell_type": "code",
   "execution_count": null,
   "id": "a3c4a327",
   "metadata": {},
   "outputs": [],
   "source": [
    "# 랜덤 포레스트 회귀 모델 학습\n",
    "# 예측"
   ]
  },
  {
   "cell_type": "code",
   "execution_count": null,
   "id": "0759d17f",
   "metadata": {},
   "outputs": [],
   "source": [
    "# 모델 평가\n",
    "# 예측 결과 일부 출력"
   ]
  },
  {
   "cell_type": "code",
   "execution_count": null,
   "id": "89546617",
   "metadata": {},
   "outputs": [],
   "source": []
  },
  {
   "cell_type": "code",
   "execution_count": null,
   "id": "0da66674",
   "metadata": {},
   "outputs": [],
   "source": [
    "# 오늘 날짜 데이터 수집\n",
    "# 오늘 데이터로 예측"
   ]
  },
  {
   "cell_type": "code",
   "execution_count": null,
   "id": "8e665831",
   "metadata": {},
   "outputs": [],
   "source": []
  },
  {
   "cell_type": "markdown",
   "id": "335641cb-32c2-4e55-8708-4b29a5d23ac6",
   "metadata": {},
   "source": [
    "\r\n",
    "### 해석 방법:\r\n",
    "\r\n",
    "1. **오늘의 실제 시장 수익률이 모델 예측 수익률보다 높을 때**:\r\n",
    "   - 채권 수익률이 **고평가**되었다고 볼 수 있습니다.\r\n",
    "   - 이는 시장이 채권의 위험을 더 크게 평가하고 있다는 뜻으로 해석될 수 있습니다.\r\n",
    "   - 이 경우, 채권 가격은 상대적으로 낮게 거래되고 있을 가능성이 있습니다.\r\n",
    "\r\n",
    "2. **오늘의 실제 시장 수익률이 모델 예측 수익률보다 낮을 때**:\r\n",
    "   - 채권 수익률이 **저평가**되었다고 볼 수 있습니다.\r\n",
    "   - 이는 시장이 채권의 위험을 더 낮게 평가하고 있다는 뜻으로 해석될 수 있습니다.\r\n",
    "   - 이 경우, 채권 가격은 상대적으로 높게 거래되고 있을 가능성이 있습니다.\r\n",
    "\r\n",
    "---\r\n",
    "\r\n",
    "### 왜 이런 해석이 가능한가?\r\n",
    "\r\n",
    "- **채권 가격과 수익률의 관계**: 채권 가격과 수익률은 반비례 관계에 있습니다. 시장 수익률이 높다면 채권 가격은 낮아지고, 수익률이 낮다면 채권 가격은 높아집니다.\r\n",
    "- **모델의 역할**: 모델은 과거 데이터와 경제 지표를 기반으로 \"합리적인 수익률\"을 예측합니다. 따라서 실제 시장 수익률이 모델 수익률보다 높다면, 시장이 그만큼 위험을 더 반영하고 있는 것으로 볼 수 있습니다.\r\n",
    "\r\n",
    "---\r\n",
    "\r\n",
    "### 예제 시나리오:\r\n",
    "- **모델 예측 수익률**: 3.5%\r\n",
    "- **오늘의 시장 수익률**: 4.0%\r\n",
    "  - 실제 시장 수익률이 더 높으므로, **채권 수익률이 고평가**되었음을 의미합니다.\r\n",
    "  - 이 경우, 투자자들은 채권을 저평가된 것으로 간주하고 매수 기회를 찾을 수 있습니다.\r\n",
    "\r\n",
    "반대로, 시장 수익률이 3.0%라면 채권은 **저평가**된 것으로 간주할 수 있습니다.\r\n",
    "\r\n",
    "---\r\n",
    "\r\n",
    "### 결론:\r\n",
    "- **모델 예측 vs 실제 시장 수익률** 비교는 투자 판단에 중요한 참고 지표가 됩니다.\r\n",
    "- 다만, 시장 수익률이 높거나 낮은 이유에는 금리 변화, 유동성, 위험 선호도 등 다양한 요인이 포함되므로, 이러한 외부 요인도 함께 고려해야 합니다."
   ]
  },
  {
   "cell_type": "code",
   "execution_count": null,
   "id": "3c2e7240",
   "metadata": {},
   "outputs": [],
   "source": []
  }
 ],
 "metadata": {
  "kernelspec": {
   "display_name": "Python 3 (ipykernel)",
   "language": "python",
   "name": "python3"
  },
  "language_info": {
   "codemirror_mode": {
    "name": "ipython",
    "version": 3
   },
   "file_extension": ".py",
   "mimetype": "text/x-python",
   "name": "python",
   "nbconvert_exporter": "python",
   "pygments_lexer": "ipython3",
   "version": "3.9.16"
  }
 },
 "nbformat": 4,
 "nbformat_minor": 5
}
