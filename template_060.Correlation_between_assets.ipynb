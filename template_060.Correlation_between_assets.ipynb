{
 "cells": [
  {
   "cell_type": "markdown",
   "metadata": {},
   "source": [
    "# 두 random 변수간의 연관성 - Correlation Coefficient (상관계수)\n",
    "\n",
    "## covariance \n",
    "\n",
    "- 한 변수의 variance 가 얼마나 많이 다른 변수의 variance 로 설명되는지를 측정한 것. 즉, Y 가 변할 때마다, X 가 얼마나 변하는지 check 하여 따라서 변화하는 정도가 크면 high covariance 를 갖는다고 말함.  \n",
    "\n",
    "- Covariance 자체로는 큰 의미가 없다.\n",
    "\n",
    "\n",
    "## 상관계수\n",
    "\n",
    "- 두개의 변수가 linear 한 정도를 측정하는 것  \n",
    "\n",
    "- Correlation 은 단순히 정규화된 형태의 covariance 이다. 정규화하지 않으면 correlation 과 covariance 는 일상 대화에서 거의 비슷한 의미로 사용된다. 두개는 개념적으로는 거의 동일하다. \n",
    "\n",
    "\n",
    "- 두 변수는 price 와 price 가 될 수도 있고, price 와 강우량이 될 수도 있다. 어떤 조합도 가능  \n",
    "\n",
    "- 그 값은 언제나 -1 과 1 사이  \n",
    "\n",
    "- 양의 계수는 두개의 변수가 직접 연결된 것을 표시. 하나가 증가하면 다른 하나도 증가.  \n",
    "\n",
    "- 음의 계수는 두개의 변수가 역으로 관련된 것을 표시. 하나가 증가하면 다른 하나는 감소.   \n",
    "\n",
    "- 상관계수가 0 에 가까워질수록 두 변수간의 관계는 약화\n",
    "\n",
    "- 두개의 random data set 은 0 에 가까운 correlation 을 갖는다.\n",
    "\n",
    "- 두 변수 $X$ 와 $Y$ 가 다음과 같이 정의되면, 상관계수는\n",
    "$$r = \\frac{Cov(X,Y)}{std(X)std(Y)}$$"
   ]
  },
  {
   "cell_type": "markdown",
   "metadata": {},
   "source": [
    "## 두개의 random variable 의 correlation"
   ]
  },
  {
   "cell_type": "markdown",
   "metadata": {},
   "source": [
    "- 서로간의 correlation이 없는 두 개의 변수"
   ]
  },
  {
   "cell_type": "markdown",
   "metadata": {},
   "source": [
    "- correlation 을 부여한 두개의 random variable을 비교"
   ]
  },
  {
   "cell_type": "markdown",
   "metadata": {},
   "source": [
    "역의 상관 관계를 만들어 본다."
   ]
  },
  {
   "cell_type": "markdown",
   "metadata": {},
   "source": [
    "## Correlation 의 금융 data 적용\n",
    "\n",
    "### 관련된 자산들을 파악\n",
    "\n",
    "- 두개의 자산이 correlated 라는 것은 움직임이 비슷하다는 의미  \n",
    "\n",
    "- 주의할 점은 두개의 자산이 correlated 라는 것은 움직임이 비슷하다는 것이지 한 자산의 움직임이 다른 자산의 움직임을 일으킨다는 의미는 아니란 것이다.\n",
    "\n",
    "### 서로 연관성 없는 자산들로 portfolio 구성\n",
    "\n",
    "finance 에서 correlation 이 유용한 이유는 portfolio 구성에 있다. 연관성 없는 자산들로 portfolio 를 구성하면 안정된 수익을 기대할 수 있다.\n",
    "\n",
    "### 상관계수의 한계점\n",
    "\n",
    "- 변수들이 정규분포 되어 있지 않은 경우 특히 correlation 이 중요한지 말하기 쉽지 않다. 상관계수는 1 에 가까운 경우 측정 기간 동안 두개의 주식이 correlate  되어있다고 말할 수 있지만 미래에도 그럴지 알 수 없다.   \n",
    "- KOSPI 지수와 correlation 이 높은 주식들은 다른 평균적인 주식 보다 개별 주식간의 correlation 이 좀 더 높을 것이다.  \n",
    "- 특정 시점에만 correlated 된 것 처럼 보일 수 있으므로 긴 기간에 걸쳐 상관계수를 검사해야 한다. 긴 기간 동안 correlation 이 얼마나 stable 한가 측정할 필요가 있다."
   ]
  },
  {
   "cell_type": "markdown",
   "metadata": {},
   "source": [
    "## 주식 종목 간의 상관 관계\n",
    "지난 1 년간의 기아차, 강원랜드, 현대차의 상관 관계 파악"
   ]
  },
  {
   "cell_type": "markdown",
   "metadata": {},
   "source": [
    "### 서로 연관성 없는 자산들로 portfolio 구성\n",
    "\n",
    "finance 에서 correlation 이 유용한 이유는 portfolio 구성에 있다. 연관성 없는 자산들로 portfolio 를 구성하면 안정된 수익을 기대할 수 있다.\n",
    "\n",
    "### 상관계수의 한계점\n",
    "\n",
    "- 변수들이 정규분포 되어 있지 않은 경우 특히 correlation 이 중요한지 말하기 쉽지 않다. 상관계수는 1 에 가까운 경우 측정 기간 동안 두개의 주식이 correlate  되어있다고 말할 수 있지만 미래에도 그럴지 알 수 없다.   \n",
    "- KOSPI 지수와 correlation 이 높은 주식들은 다른 평균적인 주식 보다 개별 주식간의 correlation 이 좀 더 높을 것이다.  \n",
    "- 특정 시점에만 correlated 된 것 처럼 보일 수 있으므로 긴 기간에 걸쳐 상관계수를 검사해야 한다. 긴 기간 동안 correlation 이 얼마나 stable 한가 측정할 필요가 있다."
   ]
  },
  {
   "cell_type": "markdown",
   "metadata": {},
   "source": [
    "- KOSPI 종목 간의 상관 관계 파악  \n",
    "- 시가 총액을 바꾸어 가며 TEST"
   ]
  }
 ],
 "metadata": {
  "kernelspec": {
   "display_name": "Python 3 (ipykernel)",
   "language": "python",
   "name": "python3"
  },
  "language_info": {
   "codemirror_mode": {
    "name": "ipython",
    "version": 3
   },
   "file_extension": ".py",
   "mimetype": "text/x-python",
   "name": "python",
   "nbconvert_exporter": "python",
   "pygments_lexer": "ipython3",
   "version": "3.8.13"
  }
 },
 "nbformat": 4,
 "nbformat_minor": 2
}
