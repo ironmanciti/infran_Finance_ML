{
 "cells": [
  {
   "cell_type": "markdown",
   "id": "whole-religion",
   "metadata": {},
   "source": [
    "# LSTM을 이용한 주가 예측"
   ]
  },
  {
   "cell_type": "code",
   "execution_count": 1,
   "id": "streaming-prefix",
   "metadata": {},
   "outputs": [],
   "source": [
    "import pandas as pd\n",
    "import numpy as np\n",
    "import matplotlib.pyplot as plt\n",
    "from sklearn.preprocessing import MinMaxScaler\n",
    "\n",
    "import yfinance as yf\n",
    "\n",
    "import tensorflow as tf\n",
    "from tensorflow.keras.models import Sequential\n",
    "from tensorflow.keras.layers import LSTM,Dropout,Dense, Lambda"
   ]
  },
  {
   "cell_type": "markdown",
   "id": "signed-temperature",
   "metadata": {},
   "source": [
    "- Apple 주식 가격 예측"
   ]
  },
  {
   "cell_type": "code",
   "execution_count": 2,
   "id": "alert-brand",
   "metadata": {},
   "outputs": [
    {
     "data": {
      "text/html": [
       "<div>\n",
       "<style scoped>\n",
       "    .dataframe tbody tr th:only-of-type {\n",
       "        vertical-align: middle;\n",
       "    }\n",
       "\n",
       "    .dataframe tbody tr th {\n",
       "        vertical-align: top;\n",
       "    }\n",
       "\n",
       "    .dataframe thead th {\n",
       "        text-align: right;\n",
       "    }\n",
       "</style>\n",
       "<table border=\"1\" class=\"dataframe\">\n",
       "  <thead>\n",
       "    <tr style=\"text-align: right;\">\n",
       "      <th></th>\n",
       "      <th>Open</th>\n",
       "      <th>High</th>\n",
       "      <th>Low</th>\n",
       "      <th>Close</th>\n",
       "      <th>Adj Close</th>\n",
       "      <th>Volume</th>\n",
       "    </tr>\n",
       "    <tr>\n",
       "      <th>Date</th>\n",
       "      <th></th>\n",
       "      <th></th>\n",
       "      <th></th>\n",
       "      <th></th>\n",
       "      <th></th>\n",
       "      <th></th>\n",
       "    </tr>\n",
       "  </thead>\n",
       "  <tbody>\n",
       "    <tr>\n",
       "      <th>2009-12-31</th>\n",
       "      <td>7.611786</td>\n",
       "      <td>7.619643</td>\n",
       "      <td>7.520000</td>\n",
       "      <td>7.526071</td>\n",
       "      <td>6.425998</td>\n",
       "      <td>352410800</td>\n",
       "    </tr>\n",
       "    <tr>\n",
       "      <th>2010-01-04</th>\n",
       "      <td>7.622500</td>\n",
       "      <td>7.660714</td>\n",
       "      <td>7.585000</td>\n",
       "      <td>7.643214</td>\n",
       "      <td>6.526021</td>\n",
       "      <td>493729600</td>\n",
       "    </tr>\n",
       "    <tr>\n",
       "      <th>2010-01-05</th>\n",
       "      <td>7.664286</td>\n",
       "      <td>7.699643</td>\n",
       "      <td>7.616071</td>\n",
       "      <td>7.656429</td>\n",
       "      <td>6.537303</td>\n",
       "      <td>601904800</td>\n",
       "    </tr>\n",
       "    <tr>\n",
       "      <th>2010-01-06</th>\n",
       "      <td>7.656429</td>\n",
       "      <td>7.686786</td>\n",
       "      <td>7.526786</td>\n",
       "      <td>7.534643</td>\n",
       "      <td>6.433319</td>\n",
       "      <td>552160000</td>\n",
       "    </tr>\n",
       "    <tr>\n",
       "      <th>2010-01-07</th>\n",
       "      <td>7.562500</td>\n",
       "      <td>7.571429</td>\n",
       "      <td>7.466071</td>\n",
       "      <td>7.520714</td>\n",
       "      <td>6.421425</td>\n",
       "      <td>477131200</td>\n",
       "    </tr>\n",
       "  </tbody>\n",
       "</table>\n",
       "</div>"
      ],
      "text/plain": [
       "                Open      High       Low     Close  Adj Close     Volume\n",
       "Date                                                                    \n",
       "2009-12-31  7.611786  7.619643  7.520000  7.526071   6.425998  352410800\n",
       "2010-01-04  7.622500  7.660714  7.585000  7.643214   6.526021  493729600\n",
       "2010-01-05  7.664286  7.699643  7.616071  7.656429   6.537303  601904800\n",
       "2010-01-06  7.656429  7.686786  7.526786  7.534643   6.433319  552160000\n",
       "2010-01-07  7.562500  7.571429  7.466071  7.520714   6.421425  477131200"
      ]
     },
     "execution_count": 2,
     "metadata": {},
     "output_type": "execute_result"
    }
   ],
   "source": [
    "df = yf.download('AAPL', start='2010-01-01', end='2021-12-31', \n",
    "                 progress=False)\n",
    "df.head()"
   ]
  },
  {
   "cell_type": "code",
   "execution_count": 3,
   "id": "dcf5e005",
   "metadata": {},
   "outputs": [
    {
     "data": {
      "text/plain": [
       "<AxesSubplot:xlabel='Date'>"
      ]
     },
     "execution_count": 3,
     "metadata": {},
     "output_type": "execute_result"
    },
    {
     "data": {
      "image/png": "[encoded data removed]",
      "text/plain": [
       "<Figure size 432x288 with 1 Axes>"
      ]
     },
     "metadata": {
      "needs_background": "light"
     },
     "output_type": "display_data"
    }
   ],
   "source": [
    "df.Close.plot()"
   ]
  },
  {
   "cell_type": "markdown",
   "id": "thorough-collectible",
   "metadata": {},
   "source": [
    "LSTM layer로 하려고 하는 것은 지난 window-size 일(즉, t-window에서 t-1까지)의 역사적 가격을 사용하여 시간 t의 가격을 예측하는 것입니다. 정확한 가격이 아닌 추세를 파악하기 위해 노력할 것임을 명심하십시오."
   ]
  },
  {
   "cell_type": "markdown",
   "id": "b02b2e7c",
   "metadata": {},
   "source": [
    "`len(df) - 100`일의 데이터로 모델을 학습시키고 다음 100일의 데이터로 테스트하는 방식으로 데이터를 분할합니다.\n",
    "### train/test split"
   ]
  },
  {
   "cell_type": "code",
   "execution_count": 4,
   "id": "9ce9bc19",
   "metadata": {},
   "outputs": [
    {
     "data": {
      "text/plain": [
       "((2114, 1), (907, 1))"
      ]
     },
     "execution_count": 4,
     "metadata": {},
     "output_type": "execute_result"
    }
   ],
   "source": [
    "data_training = pd.DataFrame(df['Close'][0:int(len(df)*0.70)])\n",
    "data_testing = pd.DataFrame(df['Close'][int(len(df)*0.70):int(len(df))])\n",
    "\n",
    "data_training.shape, data_testing.shape"
   ]
  },
  {
   "cell_type": "code",
   "execution_count": 5,
   "id": "992d6739",
   "metadata": {},
   "outputs": [],
   "source": [
    "# scaler = MinMaxScaler()\n",
    "# x = np.array([1, 2, 3, 4, 5, 6, 7, 8, 9, 10]).reshape(-1, 1)\n",
    "# x_scaled = scaler.fit_transform(x)\n",
    "# print(x_scaled)\n",
    "# print(scaler.scale_, scaler.min_, scaler.data_min_, scaler.data_max_)\n",
    "# x_scaled / scaler.scale_ + scaler.data_min_"
   ]
  },
  {
   "cell_type": "code",
   "execution_count": 6,
   "id": "2e90cd2a",
   "metadata": {},
   "outputs": [
    {
     "data": {
      "text/plain": [
       "(2114, 1)"
      ]
     },
     "execution_count": 6,
     "metadata": {},
     "output_type": "execute_result"
    }
   ],
   "source": [
    "scaler = MinMaxScaler()\n",
    "data_training_array = scaler.fit_transform(data_training)\n",
    "data_training_array.shape"
   ]
  },
  {
   "cell_type": "code",
   "execution_count": 7,
   "id": "c21d1234",
   "metadata": {},
   "outputs": [
    {
     "data": {
      "text/plain": [
       "((2014, 100, 1), (2014,))"
      ]
     },
     "execution_count": 7,
     "metadata": {},
     "output_type": "execute_result"
    }
   ],
   "source": [
    "X_train = []\n",
    "y_train = []\n",
    "window = 100\n",
    "\n",
    "for i in range(window, data_training.shape[0]):\n",
    "    X_train.append(data_training_array[i-window: i])\n",
    "    y_train.append(data_training_array[i, 0])\n",
    "    \n",
    "X_train, y_train = np.array(X_train), np.array(y_train)\n",
    "X_train.shape, y_train.shape"
   ]
  },
  {
   "cell_type": "code",
   "execution_count": 8,
   "id": "99322634",
   "metadata": {},
   "outputs": [],
   "source": [
    "#data_training_array[:5]"
   ]
  },
  {
   "cell_type": "code",
   "execution_count": 9,
   "id": "72e84850",
   "metadata": {},
   "outputs": [],
   "source": [
    "#X_train[:5]"
   ]
  },
  {
   "cell_type": "code",
   "execution_count": 10,
   "id": "6047fb7a",
   "metadata": {},
   "outputs": [],
   "source": [
    "#y_train[:5]"
   ]
  },
  {
   "cell_type": "markdown",
   "id": "accomplished-phenomenon",
   "metadata": {},
   "source": [
    "** train data가 잘 만들어 졌는지 확인하는 Tip** \n",
    "\n",
    "- hist의 각 element는 window개 timestep의 list입니다. 1씩 증가하기 때문에 X_train의 **두 번째 element의 마지막 항목**은 target의 **첫 번째 element**와 같아야 합니다. 또한 **마지막 element의 마지막 항목**은 target의 마지막 2번째 element와 같아야 합니다."
   ]
  },
  {
   "cell_type": "code",
   "execution_count": 11,
   "id": "cognitive-shuttle",
   "metadata": {},
   "outputs": [
    {
     "data": {
      "text/plain": [
       "True"
      ]
     },
     "execution_count": 11,
     "metadata": {},
     "output_type": "execute_result"
    }
   ],
   "source": [
    "X_train[1][-1][-1] == y_train[0]"
   ]
  },
  {
   "cell_type": "code",
   "execution_count": 12,
   "id": "18b106e2",
   "metadata": {},
   "outputs": [
    {
     "data": {
      "text/plain": [
       "True"
      ]
     },
     "execution_count": 12,
     "metadata": {},
     "output_type": "execute_result"
    }
   ],
   "source": [
    "X_train[-1][-1][-1] == y_train[-2]"
   ]
  },
  {
   "cell_type": "markdown",
   "id": "working-diana",
   "metadata": {},
   "source": [
    "- model 생성 및 fitting"
   ]
  },
  {
   "cell_type": "code",
   "execution_count": 13,
   "id": "continent-consistency",
   "metadata": {},
   "outputs": [
    {
     "name": "stderr",
     "output_type": "stream",
     "text": [
      "2022-08-11 09:25:29.844077: I tensorflow/core/platform/cpu_feature_guard.cc:151] This TensorFlow binary is optimized with oneAPI Deep Neural Network Library (oneDNN) to use the following CPU instructions in performance-critical operations:  AVX2 FMA\n",
      "To enable them in other operations, rebuild TensorFlow with the appropriate compiler flags.\n"
     ]
    },
    {
     "name": "stdout",
     "output_type": "stream",
     "text": [
      "Model: \"sequential\"\n",
      "_________________________________________________________________\n",
      " Layer (type)                Output Shape              Param #   \n",
      "=================================================================\n",
      " lstm (LSTM)                 (None, 100, 30)           3840      \n",
      "                                                                 \n",
      " dropout (Dropout)           (None, 100, 30)           0         \n",
      "                                                                 \n",
      " lstm_1 (LSTM)               (None, 100, 60)           21840     \n",
      "                                                                 \n",
      " dropout_1 (Dropout)         (None, 100, 60)           0         \n",
      "                                                                 \n",
      " lstm_2 (LSTM)               (None, 120)               86880     \n",
      "                                                                 \n",
      " dropout_2 (Dropout)         (None, 120)               0         \n",
      "                                                                 \n",
      " dense (Dense)               (None, 60)                7260      \n",
      "                                                                 \n",
      " dropout_3 (Dropout)         (None, 60)                0         \n",
      "                                                                 \n",
      " dense_1 (Dense)             (None, 1)                 61        \n",
      "                                                                 \n",
      "=================================================================\n",
      "Total params: 119,881\n",
      "Trainable params: 119,881\n",
      "Non-trainable params: 0\n",
      "_________________________________________________________________\n"
     ]
    }
   ],
   "source": [
    "model = tf.keras.Sequential()\n",
    "model.add(LSTM(units=30, return_sequences=True, input_shape=(window, 1)))\n",
    "model.add(Dropout(0.2))\n",
    "\n",
    "model.add(LSTM(units=60, return_sequences=True))\n",
    "model.add(Dropout(0.2))\n",
    "\n",
    "model.add(LSTM(units=120))\n",
    "model.add(Dropout(0.2))\n",
    "\n",
    "model.add(Dense(60))\n",
    "model.add(Dropout(0.2))\n",
    "               \n",
    "model.add(Dense(units=1))\n",
    "\n",
    "model.summary()"
   ]
  },
  {
   "cell_type": "code",
   "execution_count": 14,
   "id": "generic-stress",
   "metadata": {
    "scrolled": false
   },
   "outputs": [
    {
     "name": "stdout",
     "output_type": "stream",
     "text": [
      "Epoch 1/20\n",
      "63/63 [==============================] - 8s 74ms/step - loss: 0.0165\n",
      "Epoch 2/20\n",
      "63/63 [==============================] - 5s 72ms/step - loss: 0.0035\n",
      "Epoch 3/20\n",
      "63/63 [==============================] - 5s 72ms/step - loss: 0.0033\n",
      "Epoch 4/20\n",
      "63/63 [==============================] - 5s 76ms/step - loss: 0.0026\n",
      "Epoch 5/20\n",
      "63/63 [==============================] - 5s 73ms/step - loss: 0.0027\n",
      "Epoch 6/20\n",
      "63/63 [==============================] - 5s 73ms/step - loss: 0.0024\n",
      "Epoch 7/20\n",
      "63/63 [==============================] - 5s 73ms/step - loss: 0.0024\n",
      "Epoch 8/20\n",
      "63/63 [==============================] - 5s 73ms/step - loss: 0.0024\n",
      "Epoch 9/20\n",
      "63/63 [==============================] - 5s 74ms/step - loss: 0.0020\n",
      "Epoch 10/20\n",
      "63/63 [==============================] - 5s 75ms/step - loss: 0.0021\n",
      "Epoch 11/20\n",
      "63/63 [==============================] - 5s 79ms/step - loss: 0.0025\n",
      "Epoch 12/20\n",
      "63/63 [==============================] - 5s 78ms/step - loss: 0.0020\n",
      "Epoch 13/20\n",
      "63/63 [==============================] - 5s 78ms/step - loss: 0.0019\n",
      "Epoch 14/20\n",
      "63/63 [==============================] - 5s 79ms/step - loss: 0.0018\n",
      "Epoch 15/20\n",
      "63/63 [==============================] - 5s 79ms/step - loss: 0.0019\n",
      "Epoch 16/20\n",
      "63/63 [==============================] - 5s 79ms/step - loss: 0.0018\n",
      "Epoch 17/20\n",
      "63/63 [==============================] - 5s 78ms/step - loss: 0.0019\n",
      "Epoch 18/20\n",
      "63/63 [==============================] - 5s 82ms/step - loss: 0.0016\n",
      "Epoch 19/20\n",
      "63/63 [==============================] - 5s 85ms/step - loss: 0.0017\n",
      "Epoch 20/20\n",
      "63/63 [==============================] - 5s 80ms/step - loss: 0.0017\n"
     ]
    }
   ],
   "source": [
    "model.compile(optimizer='adam', loss='mean_squared_error')\n",
    "\n",
    "history = model.fit(X_train, y_train, epochs=20, batch_size=32)"
   ]
  },
  {
   "cell_type": "code",
   "execution_count": 15,
   "id": "closing-specification",
   "metadata": {},
   "outputs": [
    {
     "data": {
      "image/png": "[encoded data removed]",
      "text/plain": [
       "<Figure size 432x288 with 1 Axes>"
      ]
     },
     "metadata": {
      "needs_background": "light"
     },
     "output_type": "display_data"
    }
   ],
   "source": [
    "plt.plot(history.history['loss'])\n",
    "plt.xlabel('Epoch')\n",
    "plt.ylabel('Loss')\n",
    "plt.show();"
   ]
  },
  {
   "cell_type": "markdown",
   "id": "ranging-incentive",
   "metadata": {},
   "source": [
    "앞으로 100일 동안의 주가 추이를 예측해 보도록 하겠습니다. 우리의 목표는 실제 가격이 아니라 추세를 예측하는 것임을 기억하십시오. 첫번째 예측을 위해 과거 window 일 수 만큼의 data 가 필요하므로 training data의 마지막 window 갯수 만큼을 concatenate 합니다."
   ]
  },
  {
   "cell_type": "code",
   "execution_count": 16,
   "id": "650f473c",
   "metadata": {},
   "outputs": [
    {
     "data": {
      "text/plain": [
       "(1007, 1)"
      ]
     },
     "execution_count": 16,
     "metadata": {},
     "output_type": "execute_result"
    }
   ],
   "source": [
    "past_window_days = data_training.tail(window)\n",
    "final_df = pd.concat([past_window_days, data_testing])\n",
    "final_df.shape"
   ]
  },
  {
   "cell_type": "code",
   "execution_count": 17,
   "id": "8fefe56d",
   "metadata": {},
   "outputs": [
    {
     "data": {
      "text/plain": [
       "(1007, 1)"
      ]
     },
     "execution_count": 17,
     "metadata": {},
     "output_type": "execute_result"
    }
   ],
   "source": [
    "input_data = scaler.fit_transform(final_df)\n",
    "input_data.shape"
   ]
  },
  {
   "cell_type": "code",
   "execution_count": 18,
   "id": "d11d92ea",
   "metadata": {},
   "outputs": [
    {
     "data": {
      "text/plain": [
       "((907, 100, 1), (907,))"
      ]
     },
     "execution_count": 18,
     "metadata": {},
     "output_type": "execute_result"
    }
   ],
   "source": [
    "X_test = []\n",
    "y_test = []\n",
    "for i in range(window, input_data.shape[0]):\n",
    "    X_test.append(input_data[i-window:i])\n",
    "    y_test.append(input_data[i, 0])\n",
    "    \n",
    "X_test, y_test = np.array(X_test), np.array(y_test)\n",
    "X_test.shape, y_test.shape"
   ]
  },
  {
   "cell_type": "code",
   "execution_count": 19,
   "id": "80ab779e",
   "metadata": {},
   "outputs": [
    {
     "data": {
      "text/plain": [
       "True"
      ]
     },
     "execution_count": 19,
     "metadata": {},
     "output_type": "execute_result"
    }
   ],
   "source": [
    "X_test[1][-1][-1] == y_test[0]"
   ]
  },
  {
   "cell_type": "code",
   "execution_count": 20,
   "id": "8044e4f4",
   "metadata": {},
   "outputs": [
    {
     "data": {
      "text/plain": [
       "True"
      ]
     },
     "execution_count": 20,
     "metadata": {},
     "output_type": "execute_result"
    }
   ],
   "source": [
    "X_test[-1][-1][-1] == y_test[-2]"
   ]
  },
  {
   "cell_type": "code",
   "execution_count": 21,
   "id": "8202a847",
   "metadata": {},
   "outputs": [
    {
     "data": {
      "text/plain": [
       "(907, 1)"
      ]
     },
     "execution_count": 21,
     "metadata": {},
     "output_type": "execute_result"
    }
   ],
   "source": [
    "y_predicted = model.predict(X_test)\n",
    "y_predicted.shape"
   ]
  },
  {
   "cell_type": "code",
   "execution_count": 22,
   "id": "7dd10f76",
   "metadata": {},
   "outputs": [
    {
     "data": {
      "text/plain": [
       "(array([0.00690691]), array([35.54750061]))"
      ]
     },
     "execution_count": 22,
     "metadata": {},
     "output_type": "execute_result"
    }
   ],
   "source": [
    "scaler.scale_, scaler.data_min_"
   ]
  },
  {
   "cell_type": "code",
   "execution_count": 26,
   "id": "4178ad34",
   "metadata": {},
   "outputs": [],
   "source": [
    "y_predicted = y_predicted / scaler.scale_ + scaler.data_min_\n",
    "y_test = y_test / scaler.scale_ + scaler.data_min_"
   ]
  },
  {
   "cell_type": "code",
   "execution_count": 27,
   "id": "c167fd36",
   "metadata": {},
   "outputs": [
    {
     "data": {
      "image/png": "[encoded data removed]",
      "text/plain": [
       "<Figure size 864x432 with 1 Axes>"
      ]
     },
     "metadata": {
      "needs_background": "light"
     },
     "output_type": "display_data"
    }
   ],
   "source": [
    "plt.figure(figsize=(12, 6))\n",
    "plt.plot(y_test, 'b', label='Original Price')\n",
    "plt.plot(y_predicted, 'r', label='Predicted Price')\n",
    "plt.xlabel('Time')\n",
    "plt.ylabel('Price')\n",
    "plt.legend()\n",
    "plt.show()"
   ]
  },
  {
   "cell_type": "markdown",
   "id": "7170a2b2",
   "metadata": {},
   "source": [
    "최근 일자 부분만 확대하여 시각화"
   ]
  },
  {
   "cell_type": "code",
   "execution_count": 28,
   "id": "3fa862c9",
   "metadata": {},
   "outputs": [
    {
     "data": {
      "image/png": "[encoded data removed]",
      "text/plain": [
       "<Figure size 864x432 with 1 Axes>"
      ]
     },
     "metadata": {
      "needs_background": "light"
     },
     "output_type": "display_data"
    }
   ],
   "source": [
    "plt.figure(figsize=(12, 6))\n",
    "plt.plot(y_test[-20:], 'bx-', label='Original Price')\n",
    "plt.plot(y_predicted[-20:], 'ro-', label='Predicted Price')\n",
    "plt.xlabel('Time')\n",
    "plt.ylabel('Price')\n",
    "plt.legend()\n",
    "plt.show()"
   ]
  },
  {
   "cell_type": "markdown",
   "id": "accompanied-walker",
   "metadata": {},
   "source": [
    "## 다양한 window_size tuning 을 하여 보다 정확한 예측 시도"
   ]
  },
  {
   "cell_type": "code",
   "execution_count": null,
   "id": "knowing-secretary",
   "metadata": {},
   "outputs": [],
   "source": []
  }
 ],
 "metadata": {
  "kernelspec": {
   "display_name": "Python 3 (ipykernel)",
   "language": "python",
   "name": "python3"
  },
  "language_info": {
   "codemirror_mode": {
    "name": "ipython",
    "version": 3
   },
   "file_extension": ".py",
   "mimetype": "text/x-python",
   "name": "python",
   "nbconvert_exporter": "python",
   "pygments_lexer": "ipython3",
   "version": "3.9.12"
  }
 },
 "nbformat": 4,
 "nbformat_minor": 5
}
