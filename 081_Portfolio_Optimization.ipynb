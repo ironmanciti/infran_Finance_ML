{
 "cells": [
  {
   "cell_type": "markdown",
   "metadata": {},
   "source": [
    "# Portfolio Optimization (포트폴리오 최적화)\n",
    "\n",
    "- 위험회피적 투자자가 시장 위험의 주어진 수준에 따라 기대수익을 최적화하거나 최대화하여 보상 수준을 선택  \n",
    "\n",
    "\n",
    "- 방법 1 – Monte Carlo Simulation 에 의한 최적 포트폴리오 탐색\n",
    "- 방법 2 – scipy 를 이용한 수학적 최적화 (Mathematical Optimization)"
   ]
  },
  {
   "cell_type": "code",
   "execution_count": 1,
   "metadata": {},
   "outputs": [],
   "source": [
    "import numpy as np\n",
    "import pandas as pd\n",
    "import matplotlib.pyplot as plt\n",
    "import datetime\n",
    "import FinanceDataReader as fdr\n",
    "import korean"
   ]
  },
  {
   "cell_type": "code",
   "execution_count": 2,
   "metadata": {},
   "outputs": [],
   "source": [
    "start = datetime.datetime(2015,1,1)"
   ]
  },
  {
   "cell_type": "markdown",
   "metadata": {},
   "source": [
    "- portfolio 생성"
   ]
  },
  {
   "cell_type": "code",
   "execution_count": 3,
   "metadata": {},
   "outputs": [
    {
     "data": {
      "text/html": [
       "<div>\n",
       "<style scoped>\n",
       "    .dataframe tbody tr th:only-of-type {\n",
       "        vertical-align: middle;\n",
       "    }\n",
       "\n",
       "    .dataframe tbody tr th {\n",
       "        vertical-align: top;\n",
       "    }\n",
       "\n",
       "    .dataframe thead th {\n",
       "        text-align: right;\n",
       "    }\n",
       "</style>\n",
       "<table border=\"1\" class=\"dataframe\">\n",
       "  <thead>\n",
       "    <tr style=\"text-align: right;\">\n",
       "      <th></th>\n",
       "      <th>DB하이텍</th>\n",
       "      <th>삼성전자</th>\n",
       "      <th>삼성증권</th>\n",
       "      <th>카카오</th>\n",
       "    </tr>\n",
       "  </thead>\n",
       "  <tbody>\n",
       "    <tr>\n",
       "      <th>2015-01-02 00:00:00</th>\n",
       "      <td>4645</td>\n",
       "      <td>26600</td>\n",
       "      <td>43261</td>\n",
       "      <td>27538</td>\n",
       "    </tr>\n",
       "    <tr>\n",
       "      <th>2015-01-05 00:00:00</th>\n",
       "      <td>4580</td>\n",
       "      <td>26660</td>\n",
       "      <td>42436</td>\n",
       "      <td>29003</td>\n",
       "    </tr>\n",
       "    <tr>\n",
       "      <th>2015-01-06 00:00:00</th>\n",
       "      <td>4455</td>\n",
       "      <td>25900</td>\n",
       "      <td>42485</td>\n",
       "      <td>29164</td>\n",
       "    </tr>\n",
       "    <tr>\n",
       "      <th>2015-01-07 00:00:00</th>\n",
       "      <td>4450</td>\n",
       "      <td>26140</td>\n",
       "      <td>42485</td>\n",
       "      <td>29746</td>\n",
       "    </tr>\n",
       "    <tr>\n",
       "      <th>2015-01-08 00:00:00</th>\n",
       "      <td>4475</td>\n",
       "      <td>26280</td>\n",
       "      <td>43261</td>\n",
       "      <td>29565</td>\n",
       "    </tr>\n",
       "  </tbody>\n",
       "</table>\n",
       "</div>"
      ],
      "text/plain": [
       "                     DB하이텍   삼성전자   삼성증권    카카오\n",
       "2015-01-02 00:00:00   4645  26600  43261  27538\n",
       "2015-01-05 00:00:00   4580  26660  42436  29003\n",
       "2015-01-06 00:00:00   4455  25900  42485  29164\n",
       "2015-01-07 00:00:00   4450  26140  42485  29746\n",
       "2015-01-08 00:00:00   4475  26280  43261  29565"
      ]
     },
     "execution_count": 3,
     "metadata": {},
     "output_type": "execute_result"
    }
   ],
   "source": [
    "stock_list = [('000990', 'DB하이텍'), ('005930', '삼성전자'), ('016360', '삼성증권'), ('035720', '카카오')]\n",
    "#stock_list = [('005930', '삼성전자'), ('081660', '휠라홀딩스'), ('138930', 'BNK금융'), ('139480', '이마트'),  ('035720', '카카오')]\n",
    "code_names = [code[1] for code in stock_list]\n",
    "\n",
    "portfolio = pd.DataFrame([])\n",
    "for stock in stock_list:\n",
    "    df = fdr.DataReader(stock[0], start)\n",
    "    if len(df) == 0:\n",
    "        print(stock)\n",
    "    portfolio = pd.concat([portfolio, df['Close']], axis=1)\n",
    "    \n",
    "portfolio.columns = code_names\n",
    "portfolio.head()"
   ]
  },
  {
   "cell_type": "code",
   "execution_count": 4,
   "metadata": {},
   "outputs": [
    {
     "data": {
      "text/html": [
       "<div>\n",
       "<style scoped>\n",
       "    .dataframe tbody tr th:only-of-type {\n",
       "        vertical-align: middle;\n",
       "    }\n",
       "\n",
       "    .dataframe tbody tr th {\n",
       "        vertical-align: top;\n",
       "    }\n",
       "\n",
       "    .dataframe thead th {\n",
       "        text-align: right;\n",
       "    }\n",
       "</style>\n",
       "<table border=\"1\" class=\"dataframe\">\n",
       "  <thead>\n",
       "    <tr style=\"text-align: right;\">\n",
       "      <th></th>\n",
       "      <th>DB하이텍</th>\n",
       "      <th>삼성전자</th>\n",
       "      <th>삼성증권</th>\n",
       "      <th>카카오</th>\n",
       "    </tr>\n",
       "  </thead>\n",
       "  <tbody>\n",
       "    <tr>\n",
       "      <th>2015-01-02 00:00:00</th>\n",
       "      <td>4645</td>\n",
       "      <td>26600</td>\n",
       "      <td>43261</td>\n",
       "      <td>27538</td>\n",
       "    </tr>\n",
       "    <tr>\n",
       "      <th>2015-01-05 00:00:00</th>\n",
       "      <td>4580</td>\n",
       "      <td>26660</td>\n",
       "      <td>42436</td>\n",
       "      <td>29003</td>\n",
       "    </tr>\n",
       "    <tr>\n",
       "      <th>2015-01-06 00:00:00</th>\n",
       "      <td>4455</td>\n",
       "      <td>25900</td>\n",
       "      <td>42485</td>\n",
       "      <td>29164</td>\n",
       "    </tr>\n",
       "    <tr>\n",
       "      <th>2015-01-07 00:00:00</th>\n",
       "      <td>4450</td>\n",
       "      <td>26140</td>\n",
       "      <td>42485</td>\n",
       "      <td>29746</td>\n",
       "    </tr>\n",
       "    <tr>\n",
       "      <th>2015-01-08 00:00:00</th>\n",
       "      <td>4475</td>\n",
       "      <td>26280</td>\n",
       "      <td>43261</td>\n",
       "      <td>29565</td>\n",
       "    </tr>\n",
       "  </tbody>\n",
       "</table>\n",
       "</div>"
      ],
      "text/plain": [
       "                     DB하이텍   삼성전자   삼성증권    카카오\n",
       "2015-01-02 00:00:00   4645  26600  43261  27538\n",
       "2015-01-05 00:00:00   4580  26660  42436  29003\n",
       "2015-01-06 00:00:00   4455  25900  42485  29164\n",
       "2015-01-07 00:00:00   4450  26140  42485  29746\n",
       "2015-01-08 00:00:00   4475  26280  43261  29565"
      ]
     },
     "execution_count": 4,
     "metadata": {},
     "output_type": "execute_result"
    }
   ],
   "source": [
    "portfolio.head()"
   ]
  },
  {
   "cell_type": "markdown",
   "metadata": {},
   "source": [
    "- 포트폴리오 수익률 생성 (daily log return)"
   ]
  },
  {
   "cell_type": "code",
   "execution_count": 5,
   "metadata": {},
   "outputs": [
    {
     "data": {
      "text/html": [
       "<div>\n",
       "<style scoped>\n",
       "    .dataframe tbody tr th:only-of-type {\n",
       "        vertical-align: middle;\n",
       "    }\n",
       "\n",
       "    .dataframe tbody tr th {\n",
       "        vertical-align: top;\n",
       "    }\n",
       "\n",
       "    .dataframe thead th {\n",
       "        text-align: right;\n",
       "    }\n",
       "</style>\n",
       "<table border=\"1\" class=\"dataframe\">\n",
       "  <thead>\n",
       "    <tr style=\"text-align: right;\">\n",
       "      <th></th>\n",
       "      <th>DB하이텍</th>\n",
       "      <th>삼성전자</th>\n",
       "      <th>삼성증권</th>\n",
       "      <th>카카오</th>\n",
       "    </tr>\n",
       "  </thead>\n",
       "  <tbody>\n",
       "    <tr>\n",
       "      <th>2015-01-02 00:00:00</th>\n",
       "      <td>NaN</td>\n",
       "      <td>NaN</td>\n",
       "      <td>NaN</td>\n",
       "      <td>NaN</td>\n",
       "    </tr>\n",
       "    <tr>\n",
       "      <th>2015-01-05 00:00:00</th>\n",
       "      <td>-0.014092</td>\n",
       "      <td>0.002253</td>\n",
       "      <td>-0.019254</td>\n",
       "      <td>0.051832</td>\n",
       "    </tr>\n",
       "    <tr>\n",
       "      <th>2015-01-06 00:00:00</th>\n",
       "      <td>-0.027672</td>\n",
       "      <td>-0.028921</td>\n",
       "      <td>0.001154</td>\n",
       "      <td>0.005536</td>\n",
       "    </tr>\n",
       "    <tr>\n",
       "      <th>2015-01-07 00:00:00</th>\n",
       "      <td>-0.001123</td>\n",
       "      <td>0.009224</td>\n",
       "      <td>0.000000</td>\n",
       "      <td>0.019760</td>\n",
       "    </tr>\n",
       "    <tr>\n",
       "      <th>2015-01-08 00:00:00</th>\n",
       "      <td>0.005602</td>\n",
       "      <td>0.005341</td>\n",
       "      <td>0.018100</td>\n",
       "      <td>-0.006103</td>\n",
       "    </tr>\n",
       "  </tbody>\n",
       "</table>\n",
       "</div>"
      ],
      "text/plain": [
       "                        DB하이텍      삼성전자      삼성증권       카카오\n",
       "2015-01-02 00:00:00       NaN       NaN       NaN       NaN\n",
       "2015-01-05 00:00:00 -0.014092  0.002253 -0.019254  0.051832\n",
       "2015-01-06 00:00:00 -0.027672 -0.028921  0.001154  0.005536\n",
       "2015-01-07 00:00:00 -0.001123  0.009224  0.000000  0.019760\n",
       "2015-01-08 00:00:00  0.005602  0.005341  0.018100 -0.006103"
      ]
     },
     "execution_count": 5,
     "metadata": {},
     "output_type": "execute_result"
    }
   ],
   "source": [
    "log_ret = np.log(portfolio / portfolio.shift())\n",
    "log_ret.head()"
   ]
  },
  {
   "cell_type": "markdown",
   "metadata": {},
   "source": [
    "asset 간의 상관 계수"
   ]
  },
  {
   "cell_type": "code",
   "execution_count": 6,
   "metadata": {},
   "outputs": [
    {
     "data": {
      "text/html": [
       "<div>\n",
       "<style scoped>\n",
       "    .dataframe tbody tr th:only-of-type {\n",
       "        vertical-align: middle;\n",
       "    }\n",
       "\n",
       "    .dataframe tbody tr th {\n",
       "        vertical-align: top;\n",
       "    }\n",
       "\n",
       "    .dataframe thead th {\n",
       "        text-align: right;\n",
       "    }\n",
       "</style>\n",
       "<table border=\"1\" class=\"dataframe\">\n",
       "  <thead>\n",
       "    <tr style=\"text-align: right;\">\n",
       "      <th></th>\n",
       "      <th>DB하이텍</th>\n",
       "      <th>삼성전자</th>\n",
       "      <th>삼성증권</th>\n",
       "      <th>카카오</th>\n",
       "    </tr>\n",
       "  </thead>\n",
       "  <tbody>\n",
       "    <tr>\n",
       "      <th>DB하이텍</th>\n",
       "      <td>1.000000</td>\n",
       "      <td>0.302194</td>\n",
       "      <td>0.276229</td>\n",
       "      <td>0.272952</td>\n",
       "    </tr>\n",
       "    <tr>\n",
       "      <th>삼성전자</th>\n",
       "      <td>0.302194</td>\n",
       "      <td>1.000000</td>\n",
       "      <td>0.393826</td>\n",
       "      <td>0.224085</td>\n",
       "    </tr>\n",
       "    <tr>\n",
       "      <th>삼성증권</th>\n",
       "      <td>0.276229</td>\n",
       "      <td>0.393826</td>\n",
       "      <td>1.000000</td>\n",
       "      <td>0.270402</td>\n",
       "    </tr>\n",
       "    <tr>\n",
       "      <th>카카오</th>\n",
       "      <td>0.272952</td>\n",
       "      <td>0.224085</td>\n",
       "      <td>0.270402</td>\n",
       "      <td>1.000000</td>\n",
       "    </tr>\n",
       "  </tbody>\n",
       "</table>\n",
       "</div>"
      ],
      "text/plain": [
       "          DB하이텍      삼성전자      삼성증권       카카오\n",
       "DB하이텍  1.000000  0.302194  0.276229  0.272952\n",
       "삼성전자   0.302194  1.000000  0.393826  0.224085\n",
       "삼성증권   0.276229  0.393826  1.000000  0.270402\n",
       "카카오    0.272952  0.224085  0.270402  1.000000"
      ]
     },
     "execution_count": 6,
     "metadata": {},
     "output_type": "execute_result"
    }
   ],
   "source": [
    "portfolio.pct_change().corr()"
   ]
  },
  {
   "cell_type": "markdown",
   "metadata": {},
   "source": [
    "## Method 1 - Monte Carlo Simulation\n",
    "\n",
    "- 가능한 allocation 의 조합을 loop 로 반복하여 최적의 조합 (Highest Sharpe ratio) 을 찾는다.\n",
    "\n",
    "\n",
    "- Sharpe ratio = (기대수익률 - 무위험수익률) / (기대수익률과 무위험수익률 공분산의 표준편차)  \n",
    "\n",
    "$$SR=\\frac{R_p - R_f}{\\sigma_p}$$ \n",
    "\n"
   ]
  },
  {
   "cell_type": "markdown",
   "metadata": {},
   "source": [
    "위의 자산을 1/4 씩 동일 비중으로 포트폴리오 구성한 경우 portfolio 의 변동성 계산"
   ]
  },
  {
   "cell_type": "code",
   "execution_count": 7,
   "metadata": {},
   "outputs": [],
   "source": [
    "weights = np.array([0.25, 0.25, 0.25, 0.25])"
   ]
  },
  {
   "cell_type": "markdown",
   "metadata": {},
   "source": [
    "포트폴리오의 연간 covariance"
   ]
  },
  {
   "cell_type": "code",
   "execution_count": 8,
   "metadata": {},
   "outputs": [
    {
     "data": {
      "text/plain": [
       "array([0.09069212, 0.03938079, 0.0492327 , 0.05804929])"
      ]
     },
     "execution_count": 8,
     "metadata": {},
     "output_type": "execute_result"
    }
   ],
   "source": [
    "cov = np.dot(log_ret.cov() * 252, weights)\n",
    "cov"
   ]
  },
  {
   "cell_type": "markdown",
   "metadata": {},
   "source": [
    "포트폴리오의 연간 수익"
   ]
  },
  {
   "cell_type": "code",
   "execution_count": 9,
   "metadata": {},
   "outputs": [
    {
     "data": {
      "text/plain": [
       "0.13000918658389676"
      ]
     },
     "execution_count": 9,
     "metadata": {},
     "output_type": "execute_result"
    }
   ],
   "source": [
    "ret = np.sum(log_ret.mean() * weights) * 252\n",
    "ret"
   ]
  },
  {
   "cell_type": "markdown",
   "metadata": {},
   "source": [
    "포트폴리오의 연간 변동성"
   ]
  },
  {
   "cell_type": "code",
   "execution_count": 10,
   "metadata": {},
   "outputs": [
    {
     "data": {
      "text/plain": [
       "0.24359541495243967"
      ]
     },
     "execution_count": 10,
     "metadata": {},
     "output_type": "execute_result"
    }
   ],
   "source": [
    "vol = np.sqrt(np.dot(weights.T, cov))\n",
    "vol"
   ]
  },
  {
   "cell_type": "markdown",
   "metadata": {},
   "source": [
    "포트폴리오의 샤프지수"
   ]
  },
  {
   "cell_type": "code",
   "execution_count": 11,
   "metadata": {},
   "outputs": [
    {
     "data": {
      "text/plain": [
       "0.5337094978133319"
      ]
     },
     "execution_count": 11,
     "metadata": {},
     "output_type": "execute_result"
    }
   ],
   "source": [
    "ret / vol"
   ]
  },
  {
   "cell_type": "markdown",
   "metadata": {},
   "source": [
    "### Putting all together\n",
    "- 샤프비율 계산 함수 \n",
    "    - 연간 기대 수익률, 연간 covariance, sharp ratio 반환 "
   ]
  },
  {
   "cell_type": "code",
   "execution_count": 12,
   "metadata": {},
   "outputs": [],
   "source": [
    "def get_ret_vol_sr(weights, log_ret):\n",
    "    weights = np.array(weights)\n",
    "    cov = np.dot(log_ret.cov() * 252, weights)\n",
    "    ret = np.sum(log_ret.mean() * weights) * 252\n",
    "    vol = np.sqrt(np.dot(weights.T, cov))\n",
    "    sr = ret / vol\n",
    "    return np.array([ret, vol, sr])"
   ]
  },
  {
   "cell_type": "code",
   "execution_count": 13,
   "metadata": {},
   "outputs": [
    {
     "data": {
      "text/plain": [
       "array([0.13000919, 0.24359541, 0.5337095 ])"
      ]
     },
     "execution_count": 13,
     "metadata": {},
     "output_type": "execute_result"
    }
   ],
   "source": [
    "get_ret_vol_sr(weights, log_ret)"
   ]
  },
  {
   "cell_type": "markdown",
   "metadata": {},
   "source": [
    "- 각 자산의 비중을 무작위로 선택하여 특정 자산 비중에서의 연간 수익률, 변동성, 샤프비율 계산"
   ]
  },
  {
   "cell_type": "code",
   "execution_count": 14,
   "metadata": {},
   "outputs": [],
   "source": [
    "np.random.seed(101)\n",
    "cols = len(log_ret.columns)\n",
    "iteration = 50_000\n",
    "\n",
    "all_weights = np.zeros((iteration, cols))\n",
    "ret_arr = np.zeros(iteration)\n",
    "vol_arr = np.zeros(iteration)\n",
    "sharpe_arr = np.zeros(iteration)\n",
    "\n",
    "for i in range(iteration):\n",
    "    weights = np.random.random(cols) \n",
    "    weights = weights / np.sum(weights) #각 자산의 비중\n",
    "    all_weights[i, :] = weights  # iteration 별 자산 비중 저장\n",
    "    \n",
    "    rvs = get_ret_vol_sr(weights, log_ret) #특정 자산비중에서의 ret,vol,sr\n",
    "    ret_arr[i] = rvs[0]\n",
    "    vol_arr[i] = rvs[1]\n",
    "    sharpe_arr[i] = rvs[2]"
   ]
  },
  {
   "cell_type": "code",
   "execution_count": 15,
   "metadata": {},
   "outputs": [
    {
     "data": {
      "text/plain": [
       "(50000,)"
      ]
     },
     "execution_count": 15,
     "metadata": {},
     "output_type": "execute_result"
    }
   ],
   "source": [
    "sharpe_arr.shape"
   ]
  },
  {
   "cell_type": "markdown",
   "metadata": {},
   "source": [
    "- 최적 샤프 비율 (highest sharpe ratio)을 구하고, 그 때의 최적 자산 배분 비율을 구함"
   ]
  },
  {
   "cell_type": "code",
   "execution_count": 16,
   "metadata": {},
   "outputs": [
    {
     "name": "stdout",
     "output_type": "stream",
     "text": [
      "최적 Sharpe Ratio = 0.6974968041567453\n"
     ]
    },
    {
     "data": {
      "text/plain": [
       "45161"
      ]
     },
     "execution_count": 16,
     "metadata": {},
     "output_type": "execute_result"
    }
   ],
   "source": [
    "# MC method 에 의해 simulation 한 최적 sharpe ratio\n",
    "print('최적 Sharpe Ratio = {}'.format(sharpe_arr.max()))\n",
    "\n",
    "max_idx = sharpe_arr.argmax()\n",
    "max_idx"
   ]
  },
  {
   "cell_type": "markdown",
   "metadata": {},
   "source": [
    "최적 Sharpe ratio 일 때의 daily return 과 volatility, 최적 portfolio 비율"
   ]
  },
  {
   "cell_type": "code",
   "execution_count": 17,
   "metadata": {},
   "outputs": [
    {
     "name": "stdout",
     "output_type": "stream",
     "text": [
      "return = 0.19794140274157127\n",
      "volatility = 0.28378825761198584\n",
      "최적 자산 배분 비율 = ['DB하이텍' '삼성전자' '삼성증권' '카카오'] : [0.42414 0.37479 0.00023 0.20084]\n"
     ]
    }
   ],
   "source": [
    "print('return = {}'.format(ret_arr[max_idx]))\n",
    "print('volatility = {}'.format(vol_arr[max_idx]))\n",
    "\n",
    "with np.printoptions(precision=5, suppress=True):\n",
    "    print('최적 자산 배분 비율 = {} : {}'.format(log_ret.columns.values, all_weights[max_idx]))"
   ]
  },
  {
   "cell_type": "markdown",
   "metadata": {},
   "source": [
    "- 포트폴리오 조합 및 최적 포트폴리오 시각화"
   ]
  },
  {
   "cell_type": "code",
   "execution_count": 18,
   "metadata": {},
   "outputs": [
    {
     "data": {
      "image/png": "[encoded data removed]",
      "text/plain": [
       "<Figure size 576x432 with 2 Axes>"
      ]
     },
     "metadata": {
      "needs_background": "light"
     },
     "output_type": "display_data"
    }
   ],
   "source": [
    "plt.figure(figsize=(8, 6))\n",
    "plt.scatter(vol_arr, ret_arr, c=sharpe_arr, marker='.', cmap='plasma')\n",
    "plt.colorbar(label='Sharpe Ratio')\n",
    "plt.grid(True)\n",
    "plt.xlabel('Volatility')\n",
    "plt.ylabel('Return')\n",
    "#최적 portfolio\n",
    "plt.plot(vol_arr[max_idx], ret_arr[max_idx], 'ro', markeredgecolor='k', markersize=10);"
   ]
  },
  {
   "cell_type": "markdown",
   "metadata": {},
   "source": [
    "## Method 2 - Scipy 를 이용한 수학적 최적화 (Mathematical Optimization)"
   ]
  },
  {
   "cell_type": "markdown",
   "metadata": {},
   "source": [
    "최적화 알고리즘을 이용한 최적 포트폴리오 계산  "
   ]
  },
  {
   "cell_type": "code",
   "execution_count": 19,
   "metadata": {},
   "outputs": [],
   "source": [
    "from scipy.optimize import minimize"
   ]
  },
  {
   "cell_type": "markdown",
   "metadata": {},
   "source": [
    "Sharpe ratio 의 maximize 를 minimize 함수로 하므로 sharpe ratio * (-1) 을 minimize 하는 trick 을 이용한다."
   ]
  },
  {
   "cell_type": "code",
   "execution_count": 20,
   "metadata": {},
   "outputs": [
    {
     "data": {
      "text/plain": [
       "     fun: -0.6976340034097587\n",
       "     jac: array([-1.64486468e-04,  1.55046582e-05,  4.23993737e-01,  3.03864479e-04])\n",
       " message: 'Optimization terminated successfully'\n",
       "    nfev: 35\n",
       "     nit: 7\n",
       "    njev: 7\n",
       "  status: 0\n",
       " success: True\n",
       "       x: array([0.41598049, 0.37811669, 0.        , 0.20590282])"
      ]
     },
     "execution_count": 20,
     "metadata": {},
     "output_type": "execute_result"
    }
   ],
   "source": [
    "# 목적 함수 - 샤프비율 최대화\n",
    "def neg_sharpe(weights):\n",
    "    return get_ret_vol_sr(weights, log_ret)[2] * -1\n",
    "\n",
    "#constraint 함수 정의\n",
    "def check_sum(weights):\n",
    "    # return 0 if sum of weights is 1.0\n",
    "    return np.sum(weights) - 1\n",
    "\n",
    "cons = ({'type': 'eq', 'fun': check_sum})\n",
    "\n",
    "# 각 weight 에 대한 (min, max)\n",
    "bounds = tuple((0, 1) for _ in log_ret.columns)\n",
    "\n",
    "# 각 asset의 초기 비중을 동일하게 가져간다고 가정\n",
    "x0 = [1/len(log_ret.columns) for _ in log_ret.columns]\n",
    "\n",
    "opt_results = minimize(neg_sharpe, x0, method='SLSQP', bounds=bounds, constraints=cons)\n",
    "opt_results"
   ]
  },
  {
   "cell_type": "markdown",
   "metadata": {},
   "source": [
    "- objective function을 minimize (Sharpe Ratio를 최대화)하는 x 값 (asset weights)"
   ]
  },
  {
   "cell_type": "markdown",
   "metadata": {},
   "source": [
    "- MC method로 구한 결과와 수학적 optimize 결과가 유사하면 successful result 이다."
   ]
  },
  {
   "cell_type": "code",
   "execution_count": 21,
   "metadata": {},
   "outputs": [
    {
     "name": "stdout",
     "output_type": "stream",
     "text": [
      "scipy를 이용한 최적 자산 비중 = ['DB하이텍' '삼성전자' '삼성증권' '카카오'] : [0.41598 0.37812 0.      0.2059 ]\n",
      "MC를 이용한 최적 자산 비중    = ['DB하이텍' '삼성전자' '삼성증권' '카카오'] : [0.42414 0.37479 0.00023 0.20084]\n"
     ]
    }
   ],
   "source": [
    "with np.printoptions(precision=5, suppress=True):\n",
    "    print('scipy를 이용한 최적 자산 비중 = {} : {}'.format(log_ret.columns.values, opt_results.x))  \n",
    "    print('MC를 이용한 최적 자산 비중    = {} : {}'.format(log_ret.columns.values, all_weights[max_idx]))"
   ]
  },
  {
   "cell_type": "markdown",
   "metadata": {},
   "source": [
    "- optimum asset weights 일 때의 return, volatility, sharpe ratio 구하기"
   ]
  },
  {
   "cell_type": "code",
   "execution_count": 30,
   "metadata": {},
   "outputs": [
    {
     "name": "stdout",
     "output_type": "stream",
     "text": [
      "최적 자산 비중 ['DB하이텍' '삼성전자' '삼성증권' '카카오']: [0.41598049 0.37811669 0.         0.20590282] 일 때\n",
      "최적 Sharpe Ratio = 0.698\n",
      "최적 SR일 때의 수익률 = 0.197\n",
      "최적 SR일 때의 변동성 = 0.282\n"
     ]
    }
   ],
   "source": [
    "opt_rvs = get_ret_vol_sr(opt_results.x, log_ret)\n",
    "\n",
    "#with np.printoptions(precision=3, suppress=True):\n",
    "print('최적 자산 비중 {}: {} 일 때'.format(log_ret.columns.values, opt_results.x))\n",
    "print('최적 Sharpe Ratio = {:.3f}'.format(opt_rvs[2]))\n",
    "print('최적 SR일 때의 수익률 = {:.3f}'.format(opt_rvs[0]))\n",
    "print('최적 SR일 때의 변동성 = {:.3f}'.format(opt_rvs[1]))"
   ]
  },
  {
   "cell_type": "markdown",
   "metadata": {},
   "source": [
    "## Efficient Frontier (효율적 투자선)\n",
    "\n",
    "- Efficient Frontier 는 정의된 수준의 위험 또는 주어진 기대수익 수준의 가장 낮은 위험에 대해 가장 높은 수익률을 제공하는 최적 포트폴리오 세트이다. \n",
    "\n",
    "- 효율적 전선 아래에 있는 포트폴리오는 동일한 위험 수준에 대해 효율적 전선 상의 포트폴리오 보다 낮은 수익을 제공하므로 최선의 포트폴리오가 아님. 효율적 전선 오른쪽의 포트폴리오는 동일한 수익에 대해 위험 수준이 높으므로 최선의 포트폴리오가 아님."
   ]
  },
  {
   "cell_type": "code",
   "execution_count": 23,
   "metadata": {},
   "outputs": [],
   "source": [
    "# return 의 시각화 범위 설정\n",
    "frontier_y = np.linspace(0.01, 0.30, 100)"
   ]
  },
  {
   "cell_type": "code",
   "execution_count": 24,
   "metadata": {},
   "outputs": [],
   "source": [
    "# 목적 함수 설정 - 특정 asset weights에서 가장 낮은 변동성\n",
    "def minimize_volatility(weights):\n",
    "    return get_ret_vol_sr(weights, log_ret)[1]"
   ]
  },
  {
   "cell_type": "code",
   "execution_count": 25,
   "metadata": {},
   "outputs": [],
   "source": [
    "# 최적화 함수\n",
    "def optimized_result(possible_return):\n",
    "    cons = ({'type': 'eq',  'fun': check_sum},\n",
    "                 {'type': 'eq', \n",
    "                    'fun': lambda w: get_ret_vol_sr(w, log_ret)[0] - possible_return})\n",
    "    \n",
    "    result = minimize(minimize_volatility, x0, \n",
    "                      method='SLSQP', bounds=bounds, constraints=cons)   \n",
    "    return result"
   ]
  },
  {
   "cell_type": "markdown",
   "metadata": {},
   "source": [
    "- possible return이 frontier_y일 때의 volatility를 구한다.  \n",
    "- optimized_result 의 fun 이 목적함수의 반환값 $\\rightarrow$ 즉, volatility 값  \n",
    "    - fun : Values of objective function  \n",
    "    - x : 자산 비중"
   ]
  },
  {
   "cell_type": "code",
   "execution_count": 26,
   "metadata": {},
   "outputs": [
    {
     "data": {
      "text/plain": [
       "     fun: 0.2557127214227344\n",
       "     jac: array([0.16023163, 0.15339783, 0.29748114, 0.12914901])\n",
       " message: 'Optimization terminated successfully'\n",
       "    nfev: 20\n",
       "     nit: 4\n",
       "    njev: 4\n",
       "  status: 0\n",
       " success: True\n",
       "       x: array([3.90312782e-18, 2.35476381e-01, 7.17947824e-01, 4.65757952e-02])"
      ]
     },
     "execution_count": 26,
     "metadata": {},
     "output_type": "execute_result"
    }
   ],
   "source": [
    "result = optimized_result(frontier_y[0])\n",
    "result"
   ]
  },
  {
   "cell_type": "markdown",
   "metadata": {},
   "source": [
    "- 모든 return (frontier_y)에 대한 volatility 를 구함"
   ]
  },
  {
   "cell_type": "code",
   "execution_count": 27,
   "metadata": {},
   "outputs": [
    {
     "data": {
      "text/plain": [
       "[0.2557127214227344,\n",
       " 0.25283916215288116,\n",
       " 0.2500579100034724,\n",
       " 0.247372078500432,\n",
       " 0.24478480870189115]"
      ]
     },
     "execution_count": 27,
     "metadata": {},
     "output_type": "execute_result"
    }
   ],
   "source": [
    "frontier_volatility = []\n",
    "\n",
    "for possible_return in frontier_y:\n",
    "    result = optimized_result(possible_return)\n",
    "    frontier_volatility.append(result.fun)\n",
    "    \n",
    "frontier_volatility[:5]"
   ]
  },
  {
   "cell_type": "markdown",
   "metadata": {},
   "source": [
    "- 모든 possible return 과 volatility를 연결하는 plot 시각화."
   ]
  },
  {
   "cell_type": "code",
   "execution_count": 28,
   "metadata": {},
   "outputs": [
    {
     "data": {
      "text/plain": [
       "<matplotlib.legend.Legend at 0x1db967696d0>"
      ]
     },
     "execution_count": 28,
     "metadata": {},
     "output_type": "execute_result"
    },
    {
     "data": {
      "image/png": "[encoded data removed]",
      "text/plain": [
       "<Figure size 576x432 with 1 Axes>"
      ]
     },
     "metadata": {
      "needs_background": "light"
     },
     "output_type": "display_data"
    }
   ],
   "source": [
    "plt.figure(figsize=(8, 6))\n",
    "plt.plot(frontier_volatility, frontier_y, 'g--', linewidth=3, label='Efficient Frontier')\n",
    "\n",
    "plt.plot(opt_rvs[1], opt_rvs[0], 'ro', markersize=10, label='Optimum Portfolio');\n",
    "\n",
    "plt.xlabel('Volatility')\n",
    "plt.ylabel('Return')\n",
    "plt.legend()"
   ]
  }
 ],
 "metadata": {
  "kernelspec": {
   "display_name": "Python 3 (ipykernel)",
   "language": "python",
   "name": "python3"
  },
  "language_info": {
   "codemirror_mode": {
    "name": "ipython",
    "version": 3
   },
   "file_extension": ".py",
   "mimetype": "text/x-python",
   "name": "python",
   "nbconvert_exporter": "python",
   "pygments_lexer": "ipython3",
   "version": "3.8.13"
  }
 },
 "nbformat": 4,
 "nbformat_minor": 2
}
