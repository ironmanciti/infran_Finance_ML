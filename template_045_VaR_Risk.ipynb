{
 "cells": [
  {
   "cell_type": "markdown",
   "metadata": {},
   "source": [
    "# Value At Risk (위험 가치)\n",
    "\n",
    "- 특정 포트폴리오가 일정기간 동안 보여준 변동률을 고려할 때 향후 발생할 수도 있는 최대 손실 가능 금액 (Worst Expected Loss)과 확률  \n",
    "\n",
    "### APPLE 주식의 로그 수익률 분포\n",
    "\n",
    "- histogram 으로 확인하면 normal distribution 에 매우 가깝게 나타난다.\n",
    "- Mean(mu), variance(sigma) 를 historic data 로부터 추정"
   ]
  },
  {
   "cell_type": "markdown",
   "metadata": {},
   "source": [
    "- 로그 수익률 계산"
   ]
  },
  {
   "cell_type": "markdown",
   "metadata": {},
   "source": [
    "- 로그 수익률의 평균, 표준편차 계산  \n",
    "\n",
    "표본 표준편차의 경우 공식에서 `n – 1` (ddof=1)을 사용합니다. n을 사용하면 변동성을 일관되게 과소평가하는 편향된 추정치를 얻을 수 있기 때문입니다. 표본 표준 편차는 모집단의 실제 표준 편차보다 낮은 경향이 있습니다.  \n",
    "표본 n을 n – 1로 줄이면 표준 편차가 인위적으로 커지므로 보수적인 변동성 추정치를 얻을 수 있습니다."
   ]
  },
  {
   "cell_type": "markdown",
   "metadata": {},
   "source": [
    "### 수익률 분포 시각화"
   ]
  },
  {
   "cell_type": "markdown",
   "metadata": {},
   "source": [
    "### 확률밀도함수(probability density function) 시각화\n",
    "- 확률밀도 함수의 95% 신뢰구간 시각화"
   ]
  },
  {
   "cell_type": "markdown",
   "metadata": {},
   "source": [
    "### APPL 주식이 하루에 x% 이상 하락할 확률 계산"
   ]
  },
  {
   "cell_type": "markdown",
   "metadata": {},
   "source": [
    "- 누적 분포 함수(Cumulative distribution function, cdf)는 주어진 특정 값보다 작거나 같은 확률을 나타내는 함수이다.\n",
    "- `norm.cdf` 함수 사용\n",
    "\n",
    "    ex) 하루 5% 이상 하락할 확률"
   ]
  },
  {
   "cell_type": "markdown",
   "metadata": {},
   "source": [
    "- 하루에 10% 이상 하락할 확률"
   ]
  },
  {
   "cell_type": "markdown",
   "metadata": {},
   "source": [
    "- 하루 1% 이상 하락할 확률"
   ]
  },
  {
   "cell_type": "markdown",
   "metadata": {},
   "source": [
    "위에서 계산한 확률을 시각화"
   ]
  },
  {
   "cell_type": "markdown",
   "metadata": {},
   "source": [
    "### APPL 주식이 일년(220 거래일)에 xx% 이상 하락할 확률 계산\n",
    "\n",
    "- `mu`가 daily return의 평균이므로 220 거래일의 평균 return 은 $220 \\times mu $\n",
    "- `sigma`가 daily return의 표준편차이므로 220 거래일의 표준편차는 $\\sqrt{220} \\times \\sigma$"
   ]
  },
  {
   "cell_type": "markdown",
   "metadata": {},
   "source": [
    "- 1년에 40% 이상 하락할 확률"
   ]
  },
  {
   "cell_type": "markdown",
   "metadata": {},
   "source": [
    "확률 시각화"
   ]
  },
  {
   "cell_type": "markdown",
   "metadata": {},
   "source": [
    "## Value at risk (VaR, 위험 가치) 계산\n",
    "\n",
    "- 일일 수익률의 5% 분위수(quantile)를 95% VaR 또는 95% 수준의 VaR이라고 합니다.\n",
    "\n",
    "    ex) 95% VAR (일일 수익률의 5% 분위수) $\\rightarrow$ daily return 이 VaR 보다 더 나쁠 확률이 5% 임\n",
    "    \n",
    "    \n",
    "- ppf : Percent point function (inverse of cdf / percentiles)   \n",
    "    ppf() 함수는 주어진 정규 분포 값(sigma, mu)에 대한 확률을 계산하는 반면 cdf() 함수는 주어진 확률이 필요한 값인 정규 분포 값(sigma, mu)을 계산합니다.\n",
    "    \n",
    "<img src=\"https://i.stack.imgur.com/aZSLH.png\" />\n",
    "    \n",
    "- VaR는 Exposure 의 크기, 변동성, 노출(exposure) 기간에 의해 영향을 받습니다.  따라서, 노출이 커지거나 변동성이 커지면 VaR 값이는 커지게 되며,   \n",
    "- 최악의 상황을 정의하는 유의 수준(significance level)을 낮추면 (예를 들어, 5%를 1%로) VaR 값은 증가 합니다. "
   ]
  },
  {
   "cell_type": "markdown",
   "metadata": {},
   "source": [
    "유의 수준(신뢰 수준) 5%에서 VaR 계산"
   ]
  },
  {
   "cell_type": "markdown",
   "metadata": {},
   "source": [
    "유의 수준(신뢰 수준)을 1%로 낮추면 VaR 증가"
   ]
  }
 ],
 "metadata": {
  "kernelspec": {
   "display_name": "Python 3",
   "language": "python",
   "name": "python3"
  },
  "language_info": {
   "codemirror_mode": {
    "name": "ipython",
    "version": 3
   },
   "file_extension": ".py",
   "mimetype": "text/x-python",
   "name": "python",
   "nbconvert_exporter": "python",
   "pygments_lexer": "ipython3",
   "version": "3.9.7"
  }
 },
 "nbformat": 4,
 "nbformat_minor": 2
}
