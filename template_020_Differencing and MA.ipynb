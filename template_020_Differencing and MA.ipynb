{
 "cells": [
  {
   "cell_type": "markdown",
   "metadata": {},
   "source": [
    "# 차분(Differencing) 과 이동평균(MA) - Simple Trade Strategy"
   ]
  },
  {
   "cell_type": "markdown",
   "metadata": {},
   "source": [
    "## Price difference (익일 종가 - 당일 종가)\n",
    "\n",
    "PriceDiff = (Close Price of tomorrow - Close Price of today)\n",
    "\n",
    "- shift(period)"
   ]
  },
  {
   "cell_type": "markdown",
   "metadata": {},
   "source": [
    "Price Difference - manual 계산"
   ]
  },
  {
   "cell_type": "markdown",
   "metadata": {},
   "source": [
    "Price Difference - diff() method 사용"
   ]
  },
  {
   "cell_type": "markdown",
   "metadata": {},
   "source": [
    "차분한 값으로부터 원래의 값 복원하기"
   ]
  },
  {
   "cell_type": "markdown",
   "metadata": {},
   "source": [
    "## 일일 수익률 계산\n",
    "\n",
    "- 1 주를 계속 보유하였다고 가정.  \n",
    "\n",
    "\n",
    "- 계산 방법. \n",
    "\n",
    "- Daily Return = df/df.shift(1) - 1  \n",
    "    or\n",
    "- Daily Return[1:] = df[1:] / df[:-1].values - 1  \n",
    "    or    \n",
    "- Daily Return = df.pct_chage()"
   ]
  },
  {
   "cell_type": "markdown",
   "metadata": {},
   "source": [
    "## 이동평균 - Moving average\n",
    "\n",
    "- DataFrame.rolling()"
   ]
  },
  {
   "cell_type": "markdown",
   "metadata": {},
   "source": [
    "### 이동평균 계산 및 이동평균선 시각화"
   ]
  },
  {
   "cell_type": "markdown",
   "metadata": {},
   "source": [
    "## EWMA (Exponentially-weighted moving average)\n",
    "\n",
    "\n",
    "SMA(Simple Moving Average)에는 몇 가지 \"약점\"이 있습니다.\n",
    "* window 가 작을수록 신호가 아닌 잡음이 증가합니다.\n",
    "* 항상 window 크기만큼 지연됩니다.\n",
    "* 평균화로 인해 데이터의 전체 피크 또는 계곡에 도달하지 않습니다.\n",
    "* 미래의 움직임에 대해 실제로 알려주지 않습니다. 실제로는 데이터의 trend를 묘사하는 것입니다.\n",
    "* 극단적인 historical value 로 인해 SMA가 크게 왜곡 될 수 있습니다.\n",
    "\n",
    "이러한 문제를 해결하기 위해 EWMA (지수 가중 이동 평균)를 사용할 수 있습니다."
   ]
  },
  {
   "cell_type": "markdown",
   "metadata": {},
   "source": [
    "- EWMA를 사용하면 SMA의 지연 효과를 줄일 수 있으며 최근에 발생한 값에 더 많은 가중치를 적용합니다.  \n",
    "\n",
    "- 가장 최근 값에 적용되는 가중치는 EWMA에 사용된 실제 매개 변수와 window 크기로 지정된 기간에 따라 다릅니다.\n",
    "\n",
    "EWMA 공식은 다음과 같습니다.\n",
    "\n",
    "$$ y_t =   \\frac{\\sum\\limits_{i=0}^t w_i x_{t-i}}{\\sum\\limits_{i=0}^t w_i}$$\n",
    "\n",
    "$x_t$ 는 입력값, $w_i$ 는 적용된 weight (i=0 에서 t 사이로 변할 수 있음). $y_t$ 는 산출된 값입니다."
   ]
  }
 ],
 "metadata": {
  "kernelspec": {
   "display_name": "Python 3",
   "language": "python",
   "name": "python3"
  },
  "language_info": {
   "codemirror_mode": {
    "name": "ipython",
    "version": 3
   },
   "file_extension": ".py",
   "mimetype": "text/x-python",
   "name": "python",
   "nbconvert_exporter": "python",
   "pygments_lexer": "ipython3",
   "version": "3.9.7"
  }
 },
 "nbformat": 4,
 "nbformat_minor": 2
}
