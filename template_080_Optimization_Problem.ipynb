{
 "cells": [
  {
   "cell_type": "markdown",
   "metadata": {},
   "source": [
    "# Optimization(최적화) 문제 \n",
    "\n",
    "- 최적화(optimization) 문제란 어떤 목적함수(objective function)의 함수값을 최적화(최대화 또는 최소화)시키는 파라미터(변수) 조합을 찾는 문제"
   ]
  },
  {
   "cell_type": "markdown",
   "metadata": {},
   "source": [
    "### 최적화 문제 example\n",
    "minimize $$x_1x_4(x_1 + x_2 + x_3) +  x_3$$  \n",
    "inequality constraint : $$x_1x_2x_3x_4 \\ge 25 \\rightarrow f(x) \\ge 0$$\n",
    "equality constraint : $$x_1^2 + x_2^2 + x_3^2 + x_4^2 = 40 \\rightarrow g(x) = 0$$ \n",
    "bounds : $$1 \\le x_1, x_2, x_3, x_4 \\le 5$$\n",
    "$$\\rightarrow 1 \\le x_1 \\le 5, 1 \\le x_2 \\le 5, 1 \\le x_3 \\le 5, 1 \\le x_4 \\le 5$$  \n",
    "initial values : $$x_0 = (1, 5, 5, 1)$$"
   ]
  },
  {
   "cell_type": "markdown",
   "metadata": {},
   "source": [
    "- 최적화 알고리즘 SLSQP(Sequential Least SQuares Programming)는 복잡한 현실 문제를 단순화해 목적함수를 이차식으로 근사해 풀고 다음 번 지점을 예측해 다시 동일한 방법을 수행하는 문제를 푸는 알고리즘으로서 비선형 최적화 문제를 해결할 수 있다. SLSQP는 제약조건(constraint)과 상하한선(bound)이 있는 조건에서 사용할 수 있다."
   ]
  }
 ],
 "metadata": {
  "kernelspec": {
   "display_name": "Python 3 (ipykernel)",
   "language": "python",
   "name": "python3"
  },
  "language_info": {
   "codemirror_mode": {
    "name": "ipython",
    "version": 3
   },
   "file_extension": ".py",
   "mimetype": "text/x-python",
   "name": "python",
   "nbconvert_exporter": "python",
   "pygments_lexer": "ipython3",
   "version": "3.8.13"
  }
 },
 "nbformat": 4,
 "nbformat_minor": 2
}
