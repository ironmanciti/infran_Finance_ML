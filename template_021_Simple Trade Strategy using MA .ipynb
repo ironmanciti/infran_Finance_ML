{
 "cells": [
  {
   "cell_type": "markdown",
   "metadata": {},
   "source": [
    "# 이동평균선을 이용한 Simple trading strategy \n",
    "\n",
    "- fast signal (단기 이동평균) 이 slow signal (장기 이동평균)위에 있으면 1 주 보유, 아래에 있으면 0 주 보유 전략  \n",
    "- 종가에 매수, 매도 한다고 가정. 거래비용 없다고 가정.\n",
    "\n",
    "- MA10 >= MA50 : 1 주 보유 (매수 or hold), MA10 < MA50 : 0 주 보유 (매도 or no action)  \n",
    " \n",
    "- Daily Profit 계산\n",
    "\n",
    "- 누적 수익 계산"
   ]
  },
  {
   "cell_type": "markdown",
   "metadata": {},
   "source": [
    "## Daily Profit"
   ]
  },
  {
   "cell_type": "markdown",
   "metadata": {},
   "source": [
    "## 누적 수익"
   ]
  }
 ],
 "metadata": {
  "kernelspec": {
   "display_name": "Python 3",
   "language": "python",
   "name": "python3"
  },
  "language_info": {
   "codemirror_mode": {
    "name": "ipython",
    "version": 3
   },
   "file_extension": ".py",
   "mimetype": "text/x-python",
   "name": "python",
   "nbconvert_exporter": "python",
   "pygments_lexer": "ipython3",
   "version": "3.9.7"
  }
 },
 "nbformat": 4,
 "nbformat_minor": 2
}
