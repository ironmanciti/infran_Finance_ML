{
 "cells": [
  {
   "cell_type": "markdown",
   "metadata": {},
   "source": [
    "#  Machine Learning을 활용한 Credit Card Default 예측"
   ]
  },
  {
   "cell_type": "markdown",
   "metadata": {},
   "source": [
    "### Dataset 구성\n",
    "- limit_bal : credit 카드 한도  \n",
    "- payment_status_{month}: 이전 6개월 중 해당 월의 payment status  \n",
    "- bill_statement_{month}: 이전 6개월 중 해당 월의 청구 금액  \n",
    "- previous_payment_{month} : 이전 6개월 중 해당 월의 결제 금액  \n",
    "- default_payment_next_month : 익월 연체 여부 (1, 0)"
   ]
  },
  {
   "cell_type": "markdown",
   "metadata": {},
   "source": [
    "- missing value check"
   ]
  },
  {
   "cell_type": "markdown",
   "metadata": {},
   "source": [
    "### Target 변수의 분포\n",
    "- 신용카드 연체 가능성을 예측하는 것이므로, target 은 `default_payment_next_month` column 입니다."
   ]
  },
  {
   "cell_type": "markdown",
   "metadata": {},
   "source": [
    "## Dealing with missing values"
   ]
  },
  {
   "cell_type": "markdown",
   "metadata": {},
   "source": [
    "- `age`는 median 으로 채운다"
   ]
  },
  {
   "cell_type": "markdown",
   "metadata": {},
   "source": [
    "- categorical feature('sex', 'education', 'marriage')는 sklearn 의 SimpleImputer를 이용하여 filling"
   ]
  },
  {
   "cell_type": "markdown",
   "metadata": {},
   "source": [
    "- categorical feature들은 `pd.get_dummies`를 이용하여 `one-hot-encoding`"
   ]
  },
  {
   "cell_type": "markdown",
   "metadata": {},
   "source": [
    "### 편향된 target 이므로 층화 추출법으로 train/test 분리"
   ]
  },
  {
   "cell_type": "markdown",
   "metadata": {},
   "source": [
    "### target의 비율이 train과 test set에 유지되었는지 확인"
   ]
  },
  {
   "cell_type": "markdown",
   "metadata": {},
   "source": [
    "## RandomForeset classifier model 생성 및 예측"
   ]
  },
  {
   "cell_type": "markdown",
   "metadata": {},
   "source": [
    "- Evaluate the results:"
   ]
  },
  {
   "cell_type": "markdown",
   "metadata": {},
   "source": [
    "- recall 을 높이기 위해 threshold 조정"
   ]
  }
 ],
 "metadata": {
  "kernelspec": {
   "display_name": "Python 3 (ipykernel)",
   "language": "python",
   "name": "python3"
  },
  "language_info": {
   "codemirror_mode": {
    "name": "ipython",
    "version": 3
   },
   "file_extension": ".py",
   "mimetype": "text/x-python",
   "name": "python",
   "nbconvert_exporter": "python",
   "pygments_lexer": "ipython3",
   "version": "3.8.13"
  }
 },
 "nbformat": 4,
 "nbformat_minor": 4
}
