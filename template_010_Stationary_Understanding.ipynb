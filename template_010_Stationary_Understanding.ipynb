{
 "cells": [
  {
   "cell_type": "markdown",
   "id": "7137f47d",
   "metadata": {},
   "source": [
    "# Stationary Time Series (정상 시계열)"
   ]
  },
  {
   "cell_type": "markdown",
   "id": "b76e03a6",
   "metadata": {},
   "source": [
    "## What is Stationarity (정상성)?\n",
    "\n",
    "1. constant mean (일정한 평균)  \n",
    "2. constant variance (일정한 분산)  \n",
    "3. constant autocorrelation structure (일정한 자기상관)  \n",
    "4. no periodic component (주기 성분 없음)"
   ]
  },
  {
   "cell_type": "markdown",
   "id": "afc1a34a",
   "metadata": {},
   "source": [
    "- 위의 플롯에는 뚜렷한 추세나 계절성이 없습니다. 이 시계열 데이터는 4가지 정상성 조건인 일정한 평균, 일정한 분산, 일정한 자기상관, 주기 성분 없음을 충족합니다.  \n",
    "\n",
    "- 시계열의 histogram 을 plotting 하여 정규분포를 보이면 평균과 분산이 일정하다는 확신을 얻을 수 있습니다."
   ]
  },
  {
   "cell_type": "markdown",
   "id": "64ea3eb3",
   "metadata": {},
   "source": [
    "## Autocorrelation Structure  (자기 상관 구조)\n",
    "\n",
    "- 특정 시점(step)이 다른 시점(step)과 수치적 연관성 있음.\n",
    "\n",
    "- 자기상관성은 difference(차분)에 의해 stationary 로 바꿀 수 있다."
   ]
  },
  {
   "cell_type": "markdown",
   "id": "b6c0566e",
   "metadata": {},
   "source": [
    "시계열이 균일분포 등 비정규분포를 보이면 non-stationay 라고 판단 가능"
   ]
  },
  {
   "cell_type": "markdown",
   "id": "0158f62c",
   "metadata": {},
   "source": [
    "## non-stationary (비정상) data의 특징\n",
    "\n",
    "1. Trend (평균의 변화)가 존재\n",
    "2. 이분산성(변동 분산)  \n",
    "3. Seasonality (계절성, 주기적 구성요소)  \n",
    "4. Trend + Seasonality"
   ]
  },
  {
   "cell_type": "markdown",
   "id": "e5c67cce",
   "metadata": {},
   "source": [
    "### Trend\n",
    "\n",
    "평균이 시간이 지남에 따라 변하므로 non-stationary"
   ]
  },
  {
   "cell_type": "markdown",
   "id": "52237406",
   "metadata": {},
   "source": [
    "### 이분산성(변동 분산)\n",
    "\n",
    "시간에 따른 분산의 변화"
   ]
  },
  {
   "cell_type": "markdown",
   "id": "431bfe91",
   "metadata": {},
   "source": [
    "### Seasonality\n",
    "\n",
    "- 정상 시계열은 시계열이 관측되는 시간에 따라 속성이 달라지지 않는 시계열입니다. 따라서 추세가 있는 시계열 또는 계절성이 있는 시계열은 고정적이지 않습니다. 추세와 계절성은 다른 시간에 시계열 값에 영향을 미칩니다.\n",
    "\n",
    "- 주기적인 요소가 있으므로 non-stationary"
   ]
  },
  {
   "cell_type": "markdown",
   "id": "00ca858f",
   "metadata": {},
   "source": [
    "### Trend + Seasonality\n",
    "\n",
    "평균이 시간이 지남에 따라 변하고 주기적인 구성 요소가 있으므로 non-stationary"
   ]
  },
  {
   "cell_type": "markdown",
   "id": "95599149",
   "metadata": {},
   "source": [
    "### autocorrelation + trend"
   ]
  },
  {
   "cell_type": "markdown",
   "id": "beefa8cf",
   "metadata": {},
   "source": [
    "## Differencing 으로 Autocorrelation 제거"
   ]
  },
  {
   "cell_type": "markdown",
   "id": "bc827ae7",
   "metadata": {},
   "source": [
    "## pandas autocorrelation_plot\n",
    "\n",
    "- Time series 가 random 한 경우 autocorrelation 은 모든 time-lag 에서 zero 에 가까워야 함  \n",
    "\n",
    "- Time series 가 non-random 한 경우 하나 이상의 autocorrelation 이 크게 non-zero 값을 보임  \n",
    "\n",
    "- 플롯의 수평선은 95% 및 99% 신뢰 대역에 해당. 점선은 99% 신뢰 구간."
   ]
  }
 ],
 "metadata": {
  "kernelspec": {
   "display_name": "Python 3",
   "language": "python",
   "name": "python3"
  },
  "language_info": {
   "codemirror_mode": {
    "name": "ipython",
    "version": 3
   },
   "file_extension": ".py",
   "mimetype": "text/x-python",
   "name": "python",
   "nbconvert_exporter": "python",
   "pygments_lexer": "ipython3",
   "version": "3.9.7"
  }
 },
 "nbformat": 4,
 "nbformat_minor": 5
}
