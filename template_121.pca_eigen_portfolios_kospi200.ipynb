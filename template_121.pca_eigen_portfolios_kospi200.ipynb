{
 "cells": [
  {
   "cell_type": "markdown",
   "metadata": {},
   "source": [
    "## PCA를 통한 주식 시장 분석 \n",
    "\n",
    "### KOSPI200 종목 data 를 sklearn.decomposition 을 통해 PCA 분석\n",
    "\n",
    "- PCA를 일일 주식 수익률에 적용할 때 첫 번째 주성분은 시장 요인(beta)에 근사합니다."
   ]
  },
  {
   "cell_type": "markdown",
   "metadata": {},
   "source": [
    "- `{ticker: name}` dictionary  작성"
   ]
  },
  {
   "cell_type": "markdown",
   "metadata": {},
   "source": [
    "2020-01-01 ~ 2020-12-31 기간 KOSPI200 종목의 주가 정보 수집"
   ]
  },
  {
   "cell_type": "markdown",
   "metadata": {},
   "source": [
    "### null data cleansing  \n",
    "- start 일 이후 상장한 종목이 있으므로 이전 날짜는 back fill 로 채움 \n",
    "- 전체가 NaN (기간 중 상장 않은 종목)인 종목은 drop"
   ]
  },
  {
   "cell_type": "markdown",
   "metadata": {},
   "source": [
    "전체가 NaN인 종목은 drop"
   ]
  },
  {
   "cell_type": "markdown",
   "metadata": {},
   "source": [
    "## Asset의 daily Return(일일 수익률) 계산 \n",
    "\n",
    "- 주가 크기가 서로 다르므로 log 함수 적용 \n",
    "- log 를 적용했으므로 pct_change() 대신 diff() 적용"
   ]
  },
  {
   "cell_type": "markdown",
   "metadata": {},
   "source": [
    "- 누적 수익률 계산  \n",
    "- log 수익률이므로 prod() 대신 cumsum()으로 더해줌  \n",
    "- 원래의 값으로 복원하려면 np.exp() 적용"
   ]
  },
  {
   "cell_type": "markdown",
   "metadata": {},
   "source": [
    "위의 수치는 2020년  이후 KOSPI200 지수 500개 종목의 일일 수익률과 누적 수익률을 보여줍니다. 원시 데이터의 양이 상당히 많아 보일 수 있으므로 PCA를 통해 일일 수익률의 첫 번째 주성분을 계산하여 처리해 보겠습니다.\n",
    "\n",
    "아래 그림은 기본적으로 200개 주식 각각에 대한 값을 포함하는 차원 200의 벡터인 첫 번째 주성분의 값을 보여줍니다."
   ]
  },
  {
   "cell_type": "markdown",
   "metadata": {},
   "source": [
    "첫 번째 주성분은 대부분의 분산을 설명하는 입력 데이터의 선형 조합을 나타내고, 주식 수익률의 주요 동인은 전체 시장 요인이므로, 첫 번째 주성분(즉, 입력 데이터의 선형 결합)에 비례하여 현금을 할당해 주식 포트폴리오를 구성하면 KOSPI200의 수익률을 대략적으로 복제할 수 있음을 의미합니다."
   ]
  },
  {
   "cell_type": "markdown",
   "metadata": {},
   "source": [
    "첫번째 주성분 비율로 구성한 200개 종목 portfolio 의 daily log return"
   ]
  },
  {
   "cell_type": "markdown",
   "metadata": {},
   "source": [
    "my_portfolio의 누적 수익률"
   ]
  },
  {
   "cell_type": "markdown",
   "metadata": {},
   "source": [
    "아래 그림은 PCA 첫번째 주성분 portfolio가 KOSPI200을 거의 비슷하게 복제함을 보여줍니다."
   ]
  },
  {
   "cell_type": "markdown",
   "metadata": {},
   "source": [
    "## PCA로 COVID19의 종목별 영향 분석\n",
    "\n",
    "PCA를 사용하면 사전 지식 없이 COVID19 대유행의 영향을 가장 많이 받거나 적게 받은 비즈니스를 함께 클러스터링할 수 있습니다.\n",
    "\n",
    "2020년은 COVID19 대유행으로 인해 주식 시장에 격변의 시기였습니다. PCA를 사용하여 이 대유행이 개별 주식에 어떤 영향을 미쳤는지 분석할 수 있습니다.\n",
    "\n",
    "\n",
    "첫 번째 주성분을 살펴보고 아래와 같이 PCA 가중치가 가장 크거나 가장 작은 종목을 선택합니다."
   ]
  },
  {
   "cell_type": "markdown",
   "metadata": {},
   "source": [
    "pca 가 가장 negative한 종목들"
   ]
  },
  {
   "cell_type": "markdown",
   "metadata": {},
   "source": [
    "pca가 가장 덜 negative한 종목들"
   ]
  },
  {
   "cell_type": "markdown",
   "metadata": {},
   "source": [
    "pca가 가장 negative한 종목(negative beta, 시장 영향을 많이 받은 종목)과 덜 negative한 종목(시장 영향을 적게 받은 종목) 시각화"
   ]
  },
  {
   "cell_type": "markdown",
   "metadata": {},
   "source": [
    "우리는 PCA 가중치에 따라 상위 및 하위 10개 기업을 매수한 포트폴리오를 구성할 수 있습니다. 아래 그림에서 볼 수 있듯이 이 하위 10 종목 포트폴리오는 KOSPI200 지수보다 더 손실을 본 반면, 상위 10 종목 포트폴리오는 팬데믹으로 인해 실제로 수혜를 입은 회사에 투자했기 때문에 시장보다 훨씬 더 나은 성과를 거두었을 것입니다."
   ]
  }
 ],
 "metadata": {
  "anaconda-cloud": {},
  "coursera": {
   "course_slug": "machine-learning-in-finance"
  },
  "kernelspec": {
   "display_name": "Python 3 (ipykernel)",
   "language": "python",
   "name": "python3"
  },
  "language_info": {
   "codemirror_mode": {
    "name": "ipython",
    "version": 3
   },
   "file_extension": ".py",
   "mimetype": "text/x-python",
   "name": "python",
   "nbconvert_exporter": "python",
   "pygments_lexer": "ipython3",
   "version": "3.8.13"
  }
 },
 "nbformat": 4,
 "nbformat_minor": 1
}
