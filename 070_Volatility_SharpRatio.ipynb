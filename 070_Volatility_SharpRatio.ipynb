{
 "cells": [
  {
   "cell_type": "markdown",
   "metadata": {},
   "source": [
    "# 변동성과 위험 (Volatility and Risk), Sharpe Ratio\n",
    "\n",
    "변동성은 표준편차인 평균으로부터의 평균 제곱편차로 측정됩니다."
   ]
  },
  {
   "cell_type": "code",
   "execution_count": 70,
   "metadata": {},
   "outputs": [],
   "source": [
    "import pandas as pd\n",
    "import numpy as np\n",
    "import matplotlib.pyplot as plt\n",
    "import korean"
   ]
  },
  {
   "cell_type": "code",
   "execution_count": 2,
   "metadata": {
    "scrolled": true
   },
   "outputs": [
    {
     "data": {
      "text/html": [
       "<div>\n",
       "<style scoped>\n",
       "    .dataframe tbody tr th:only-of-type {\n",
       "        vertical-align: middle;\n",
       "    }\n",
       "\n",
       "    .dataframe tbody tr th {\n",
       "        vertical-align: top;\n",
       "    }\n",
       "\n",
       "    .dataframe thead th {\n",
       "        text-align: right;\n",
       "    }\n",
       "</style>\n",
       "<table border=\"1\" class=\"dataframe\">\n",
       "  <thead>\n",
       "    <tr style=\"text-align: right;\">\n",
       "      <th></th>\n",
       "      <th>BLUE</th>\n",
       "      <th>ORANGE</th>\n",
       "    </tr>\n",
       "  </thead>\n",
       "  <tbody>\n",
       "    <tr>\n",
       "      <th>0</th>\n",
       "      <td>NaN</td>\n",
       "      <td>NaN</td>\n",
       "    </tr>\n",
       "    <tr>\n",
       "      <th>1</th>\n",
       "      <td>0.023621</td>\n",
       "      <td>0.039662</td>\n",
       "    </tr>\n",
       "    <tr>\n",
       "      <th>2</th>\n",
       "      <td>-0.021807</td>\n",
       "      <td>-0.033638</td>\n",
       "    </tr>\n",
       "    <tr>\n",
       "      <th>3</th>\n",
       "      <td>-0.031763</td>\n",
       "      <td>0.082232</td>\n",
       "    </tr>\n",
       "    <tr>\n",
       "      <th>4</th>\n",
       "      <td>0.034477</td>\n",
       "      <td>0.044544</td>\n",
       "    </tr>\n",
       "  </tbody>\n",
       "</table>\n",
       "</div>"
      ],
      "text/plain": [
       "       BLUE    ORANGE\n",
       "0       NaN       NaN\n",
       "1  0.023621  0.039662\n",
       "2 -0.021807 -0.033638\n",
       "3 -0.031763  0.082232\n",
       "4  0.034477  0.044544"
      ]
     },
     "execution_count": 2,
     "metadata": {},
     "output_type": "execute_result"
    }
   ],
   "source": [
    "prices = pd.read_csv(\"data/sample_prices.csv\")\n",
    "\n",
    "returns = prices.pct_change()\n",
    "returns.head()"
   ]
  },
  {
   "cell_type": "code",
   "execution_count": 3,
   "metadata": {},
   "outputs": [],
   "source": [
    "returns = returns.dropna()"
   ]
  },
  {
   "cell_type": "markdown",
   "metadata": {},
   "source": [
    "표준 편차를 계산합니다.  \n",
    "$$(편차) = (각 변량) - (전체 평균)$$  \n",
    "$$(분산) = \\frac{편차의 제곱의 합}{총 변량의 갯수}$$\n",
    "$$(표준편차) = 분산의 제곱근 (\\sqrt{분산})$$"
   ]
  },
  {
   "cell_type": "code",
   "execution_count": 4,
   "metadata": {},
   "outputs": [
    {
     "data": {
      "text/plain": [
       "BLUE      0.022957\n",
       "ORANGE    0.076212\n",
       "dtype: float64"
      ]
     },
     "execution_count": 4,
     "metadata": {},
     "output_type": "execute_result"
    }
   ],
   "source": [
    "#편차\n",
    "deviations = returns - returns.mean()  \n",
    "#편차의 제곱\n",
    "squared_deviations = deviations ** 2\n",
    "\n",
    "#분산 = 편차의 제곱의 평균\n",
    "mean_squared_deviations = squared_deviations.mean()\n",
    "# 표준편차 (변동성)\n",
    "volatility = np.sqrt(mean_squared_deviations)\n",
    "volatility"
   ]
  },
  {
   "cell_type": "markdown",
   "metadata": {},
   "source": [
    "내장된 `.std()` 메소드를 사용할 때도 같은 답이 나와야 하는데 약간의 차이가 납니다.  \n",
    "\n",
    "- ddof : int, default 1, Delta Degrees of Freedom. 계산에 사용되는 제수는 `N-ddof`이며, 여기서 N은 element 수를 나타냅니다."
   ]
  },
  {
   "cell_type": "code",
   "execution_count": 5,
   "metadata": {},
   "outputs": [
    {
     "data": {
      "text/plain": [
       "BLUE      0.023977\n",
       "ORANGE    0.079601\n",
       "dtype: float64"
      ]
     },
     "execution_count": 5,
     "metadata": {},
     "output_type": "execute_result"
    }
   ],
   "source": [
    "returns.std()"
   ]
  },
  {
   "cell_type": "code",
   "execution_count": 6,
   "metadata": {},
   "outputs": [
    {
     "data": {
      "text/plain": [
       "BLUE      0.022957\n",
       "ORANGE    0.076212\n",
       "dtype: float64"
      ]
     },
     "execution_count": 6,
     "metadata": {},
     "output_type": "execute_result"
    }
   ],
   "source": [
    "returns.std(ddof=0)"
   ]
  },
  {
   "cell_type": "markdown",
   "metadata": {},
   "source": [
    "위 두 계산이 일치 않는 이유는 기본적으로 `.std()` 메서드는 $n-1$의 분모를 사용하는 샘플 표준 편차를 계산하기 때문입니다. 반면에 우리는 $n$의 분자를 사용하는 모표준편차(Population Standard Deviation)를 계산했습니다. 관찰된 수익률은 분포에서 관찰된 샘플로 간주되기 때문에 $n-1$의 분모를 사용하는 것이 더 정확할 것이므로 동일한 숫자를 얻는지 확인하기 위해 계산을 다시 실행해 보겠습니다.\n",
    "\n",
    "관찰 수를 얻기 위해 행과 열 수의 튜플을 반환하는 DataFrame의 `.shape` 속성을 사용할 수 있습니다."
   ]
  },
  {
   "cell_type": "code",
   "execution_count": 7,
   "metadata": {},
   "outputs": [
    {
     "data": {
      "text/plain": [
       "(12, 2)"
      ]
     },
     "execution_count": 7,
     "metadata": {},
     "output_type": "execute_result"
    }
   ],
   "source": [
    "returns.shape"
   ]
  },
  {
   "cell_type": "code",
   "execution_count": 8,
   "metadata": {},
   "outputs": [
    {
     "data": {
      "text/plain": [
       "BLUE      0.023977\n",
       "ORANGE    0.079601\n",
       "dtype: float64"
      ]
     },
     "execution_count": 8,
     "metadata": {},
     "output_type": "execute_result"
    }
   ],
   "source": [
    "number_of_obs = returns.shape[0]\n",
    "mean_squared_deviations = squared_deviations.sum()/(number_of_obs-1)\n",
    "\n",
    "volatility = np.sqrt(mean_squared_deviations)\n",
    "volatility"
   ]
  },
  {
   "cell_type": "markdown",
   "metadata": {},
   "source": [
    "# 연간 변동성 (Annualizing Volatility)\n",
    "\n",
    "변동성을 관측당 기간 수의 제곱근으로 스케일링(곱하기)하여 annualize 합니다.\n",
    "\n",
    "따라서 월별 시리즈의 변동성을 연간화하기 위해 12의 제곱근을 곱합니다. `np.sqrt()`를 사용하는 대신 $0.5$의 거듭제곱으로 올릴 수도 있습니다."
   ]
  },
  {
   "cell_type": "code",
   "execution_count": 9,
   "metadata": {},
   "outputs": [
    {
     "data": {
      "text/plain": [
       "BLUE      0.083060\n",
       "ORANGE    0.275747\n",
       "dtype: float64"
      ]
     },
     "execution_count": 9,
     "metadata": {},
     "output_type": "execute_result"
    }
   ],
   "source": [
    "annualized_vol = returns.std()*(np.sqrt(12))\n",
    "annualized_vol"
   ]
  },
  {
   "cell_type": "code",
   "execution_count": 10,
   "metadata": {},
   "outputs": [
    {
     "data": {
      "text/plain": [
       "BLUE      0.083060\n",
       "ORANGE    0.275747\n",
       "dtype: float64"
      ]
     },
     "execution_count": 10,
     "metadata": {},
     "output_type": "execute_result"
    }
   ],
   "source": [
    "returns.std()*(12**0.5)"
   ]
  },
  {
   "cell_type": "markdown",
   "metadata": {},
   "source": [
    "# 위험 조정 수익 (Risk Adjusted Returns)\n",
    "\n",
    "위험 조정 수익이란 투자 수익(investment returns)을 단순히 투입 대비 산출로만 계산하는 것이 아니라, 수익이 나타나는 과정에서 포함된 위험들을 고려했을 때의 수익을 의미한다.\n",
    "\n",
    "예를 들어 시장에 기본적이고 공통적으로 존재하는 위험이 있어서 이에 대한 보상으로 투자 활동에 3%의 수익률이 있어야 할 때, 한 투자 활동으로부터 5%의 수익을 얻었다면 시장 위험을 조정한 수익으로 볼때는 그 투자활동은 2%의 수익을 얻은 것이다. \n",
    "\n",
    "Sharpe Ratio 가 대표적인 위험 조정 수익률 지수"
   ]
  },
  {
   "cell_type": "markdown",
   "metadata": {},
   "source": [
    "1 년간 주식에 투자하여 얻은 수익률 계산"
   ]
  },
  {
   "cell_type": "code",
   "execution_count": 62,
   "metadata": {},
   "outputs": [
    {
     "data": {
      "text/html": [
       "<div>\n",
       "<style scoped>\n",
       "    .dataframe tbody tr th:only-of-type {\n",
       "        vertical-align: middle;\n",
       "    }\n",
       "\n",
       "    .dataframe tbody tr th {\n",
       "        vertical-align: top;\n",
       "    }\n",
       "\n",
       "    .dataframe thead th {\n",
       "        text-align: right;\n",
       "    }\n",
       "</style>\n",
       "<table border=\"1\" class=\"dataframe\">\n",
       "  <thead>\n",
       "    <tr style=\"text-align: right;\">\n",
       "      <th></th>\n",
       "      <th>삼성전자</th>\n",
       "      <th>카카오</th>\n",
       "      <th>셀트리온</th>\n",
       "      <th>대성홀딩스</th>\n",
       "    </tr>\n",
       "  </thead>\n",
       "  <tbody>\n",
       "    <tr>\n",
       "      <th>2020-01-03</th>\n",
       "      <td>0.005435</td>\n",
       "      <td>0.000000</td>\n",
       "      <td>-0.013891</td>\n",
       "      <td>0.000000</td>\n",
       "    </tr>\n",
       "    <tr>\n",
       "      <th>2020-01-06</th>\n",
       "      <td>0.000000</td>\n",
       "      <td>0.013101</td>\n",
       "      <td>-0.025351</td>\n",
       "      <td>NaN</td>\n",
       "    </tr>\n",
       "    <tr>\n",
       "      <th>2020-01-07</th>\n",
       "      <td>0.005405</td>\n",
       "      <td>0.035601</td>\n",
       "      <td>0.028901</td>\n",
       "      <td>-0.010922</td>\n",
       "    </tr>\n",
       "    <tr>\n",
       "      <th>2020-01-08</th>\n",
       "      <td>0.017921</td>\n",
       "      <td>-0.003114</td>\n",
       "      <td>-0.028089</td>\n",
       "      <td>0.007362</td>\n",
       "    </tr>\n",
       "    <tr>\n",
       "      <th>2020-01-09</th>\n",
       "      <td>0.031690</td>\n",
       "      <td>0.028206</td>\n",
       "      <td>0.023120</td>\n",
       "      <td>-0.020706</td>\n",
       "    </tr>\n",
       "    <tr>\n",
       "      <th>...</th>\n",
       "      <td>...</td>\n",
       "      <td>...</td>\n",
       "      <td>...</td>\n",
       "      <td>...</td>\n",
       "    </tr>\n",
       "    <tr>\n",
       "      <th>2022-07-28</th>\n",
       "      <td>0.001618</td>\n",
       "      <td>0.006954</td>\n",
       "      <td>0.002639</td>\n",
       "      <td>0.015971</td>\n",
       "    </tr>\n",
       "    <tr>\n",
       "      <th>2022-07-29</th>\n",
       "      <td>-0.008078</td>\n",
       "      <td>0.033149</td>\n",
       "      <td>0.000000</td>\n",
       "      <td>-0.008464</td>\n",
       "    </tr>\n",
       "    <tr>\n",
       "      <th>2022-08-01</th>\n",
       "      <td>-0.001629</td>\n",
       "      <td>-0.010695</td>\n",
       "      <td>-0.013158</td>\n",
       "      <td>0.030488</td>\n",
       "    </tr>\n",
       "    <tr>\n",
       "      <th>2022-08-02</th>\n",
       "      <td>0.006525</td>\n",
       "      <td>-0.029730</td>\n",
       "      <td>-0.008000</td>\n",
       "      <td>0.018935</td>\n",
       "    </tr>\n",
       "    <tr>\n",
       "      <th>2020-12-16</th>\n",
       "      <td>NaN</td>\n",
       "      <td>0.002699</td>\n",
       "      <td>-0.018056</td>\n",
       "      <td>0.002058</td>\n",
       "    </tr>\n",
       "  </tbody>\n",
       "</table>\n",
       "<p>639 rows × 4 columns</p>\n",
       "</div>"
      ],
      "text/plain": [
       "                삼성전자       카카오      셀트리온     대성홀딩스\n",
       "2020-01-03  0.005435  0.000000 -0.013891  0.000000\n",
       "2020-01-06  0.000000  0.013101 -0.025351       NaN\n",
       "2020-01-07  0.005405  0.035601  0.028901 -0.010922\n",
       "2020-01-08  0.017921 -0.003114 -0.028089  0.007362\n",
       "2020-01-09  0.031690  0.028206  0.023120 -0.020706\n",
       "...              ...       ...       ...       ...\n",
       "2022-07-28  0.001618  0.006954  0.002639  0.015971\n",
       "2022-07-29 -0.008078  0.033149  0.000000 -0.008464\n",
       "2022-08-01 -0.001629 -0.010695 -0.013158  0.030488\n",
       "2022-08-02  0.006525 -0.029730 -0.008000  0.018935\n",
       "2020-12-16       NaN  0.002699 -0.018056  0.002058\n",
       "\n",
       "[639 rows x 4 columns]"
      ]
     },
     "execution_count": 62,
     "metadata": {},
     "output_type": "execute_result"
    }
   ],
   "source": [
    "import datetime\n",
    "import FinanceDataReader as fdr\n",
    "\n",
    "tickers = [['삼성전자', '005930'], ['카카오', '035720'], ['셀트리온', '068270'],\n",
    "                 ['대성홀딩스', '016710']]\n",
    "\n",
    "dataset = pd.DataFrame([])\n",
    "daily_returns = pd.DataFrame([])\n",
    "\n",
    "# start = datetime.date(2020, 1, 1)   #주가 상승기\n",
    "# end = datetime.date(2021, 1, 1)\n",
    "\n",
    "#start = datetime.date(2022, 1, 1)      #주가 하락기\n",
    "#end = datetime.date(2022, 12, 31)\n",
    "\n",
    "start = datetime.date(2020, 1, 1)      #전체 기간\n",
    "end = datetime.date(2022, 12, 31)\n",
    "\n",
    "\n",
    "for name, ticker in tickers:\n",
    "    df = fdr.DataReader(ticker, start=start, end=end)\n",
    "    df.rename(columns={'Close': name}, inplace=True)\n",
    "    dataset = pd.concat([dataset, df[name]], axis=1)\n",
    "    df = df.pct_change()\n",
    "    df.dropna(inplace=True)\n",
    "    daily_returns = pd.concat([daily_returns, df[name]], axis=1)\n",
    "\n",
    "daily_returns"
   ]
  },
  {
   "cell_type": "markdown",
   "metadata": {},
   "source": [
    "일일 수익률 시각화"
   ]
  },
  {
   "cell_type": "code",
   "execution_count": 63,
   "metadata": {},
   "outputs": [
    {
     "data": {
      "text/plain": [
       "<AxesSubplot:>"
      ]
     },
     "execution_count": 63,
     "metadata": {},
     "output_type": "execute_result"
    },
    {
     "data": {
      "image/png": "[encoded data removed]",
      "text/plain": [
       "<Figure size 720x360 with 1 Axes>"
      ]
     },
     "metadata": {
      "needs_background": "light"
     },
     "output_type": "display_data"
    }
   ],
   "source": [
    "daily_returns.plot()"
   ]
  },
  {
   "cell_type": "markdown",
   "metadata": {},
   "source": [
    "일일 변동성(volatility)"
   ]
  },
  {
   "cell_type": "code",
   "execution_count": 64,
   "metadata": {},
   "outputs": [
    {
     "data": {
      "text/plain": [
       "삼성전자     0.016848\n",
       "카카오      0.024757\n",
       "셀트리온     0.030861\n",
       "대성홀딩스    0.014550\n",
       "dtype: float64"
      ]
     },
     "execution_count": 64,
     "metadata": {},
     "output_type": "execute_result"
    }
   ],
   "source": [
    "daily_returns.std()"
   ]
  },
  {
   "cell_type": "markdown",
   "metadata": {},
   "source": [
    "연간 수익률"
   ]
  },
  {
   "cell_type": "code",
   "execution_count": 65,
   "metadata": {},
   "outputs": [
    {
     "data": {
      "text/plain": [
       "삼성전자     0.117754\n",
       "카카오      1.345715\n",
       "셀트리온     0.072114\n",
       "대성홀딩스    9.449029\n",
       "dtype: float64"
      ]
     },
     "execution_count": 65,
     "metadata": {},
     "output_type": "execute_result"
    }
   ],
   "source": [
    "annualized_return = (1+daily_returns).prod() - 1\n",
    "annualized_return"
   ]
  },
  {
   "cell_type": "markdown",
   "metadata": {},
   "source": [
    "연간 변동성"
   ]
  },
  {
   "cell_type": "code",
   "execution_count": 66,
   "metadata": {},
   "outputs": [
    {
     "data": {
      "text/plain": [
       "삼성전자     0.267461\n",
       "카카오      0.393006\n",
       "셀트리온     0.489898\n",
       "대성홀딩스    0.230974\n",
       "dtype: float64"
      ]
     },
     "execution_count": 66,
     "metadata": {},
     "output_type": "execute_result"
    }
   ],
   "source": [
    "annualized_vol = daily_returns.std() * np.sqrt(252)\n",
    "annualized_vol"
   ]
  },
  {
   "cell_type": "markdown",
   "metadata": {},
   "source": [
    "- Sharpe Ratio 계산 \n",
    "\n",
    "초과 수익 / 변동성 --> 변동성(위험) 한단위 당 초과 수익\n",
    "\n",
    "$$SR=\\frac{R_p-R_f}{\\sigma_p}$$\n",
    "\n",
    "p: portfolio, f: risk free"
   ]
  },
  {
   "cell_type": "code",
   "execution_count": 67,
   "metadata": {},
   "outputs": [
    {
     "data": {
      "text/plain": [
       "삼성전자      0.402876\n",
       "카카오       3.398711\n",
       "셀트리온      0.126790\n",
       "대성홀딩스    40.866152\n",
       "dtype: float64"
      ]
     },
     "execution_count": 67,
     "metadata": {},
     "output_type": "execute_result"
    }
   ],
   "source": [
    "#무위험 수익률\n",
    "riskfree_rate = 0.01 #연간 1%\n",
    "#초과 수익률\n",
    "excess_return = annualized_return - riskfree_rate\n",
    "#샤프지수\n",
    "sharpe_ratio = excess_return/annualized_vol\n",
    "sharpe_ratio"
   ]
  },
  {
   "cell_type": "markdown",
   "metadata": {},
   "source": [
    "실제 주가 시각화"
   ]
  },
  {
   "cell_type": "code",
   "execution_count": 68,
   "metadata": {},
   "outputs": [
    {
     "data": {
      "image/png": "[encoded data removed]",
      "text/plain": [
       "<Figure size 720x360 with 1 Axes>"
      ]
     },
     "metadata": {
      "needs_background": "light"
     },
     "output_type": "display_data"
    }
   ],
   "source": [
    "fig, ax = plt.subplots(1, 1)\n",
    "dataset.plot(ax=ax)\n",
    "ax.set_yscale('log')"
   ]
  },
  {
   "cell_type": "code",
   "execution_count": 69,
   "metadata": {},
   "outputs": [
    {
     "data": {
      "text/html": [
       "<div>\n",
       "<style scoped>\n",
       "    .dataframe tbody tr th:only-of-type {\n",
       "        vertical-align: middle;\n",
       "    }\n",
       "\n",
       "    .dataframe tbody tr th {\n",
       "        vertical-align: top;\n",
       "    }\n",
       "\n",
       "    .dataframe thead th {\n",
       "        text-align: right;\n",
       "    }\n",
       "</style>\n",
       "<table border=\"1\" class=\"dataframe\">\n",
       "  <thead>\n",
       "    <tr style=\"text-align: right;\">\n",
       "      <th></th>\n",
       "      <th>삼성전자</th>\n",
       "      <th>카카오</th>\n",
       "      <th>셀트리온</th>\n",
       "      <th>대성홀딩스</th>\n",
       "    </tr>\n",
       "  </thead>\n",
       "  <tbody>\n",
       "    <tr>\n",
       "      <th>2020-01-02</th>\n",
       "      <td>55200</td>\n",
       "      <td>30609</td>\n",
       "      <td>173489</td>\n",
       "      <td>8240</td>\n",
       "    </tr>\n",
       "    <tr>\n",
       "      <th>2020-01-03</th>\n",
       "      <td>55500</td>\n",
       "      <td>30609</td>\n",
       "      <td>171079</td>\n",
       "      <td>8240</td>\n",
       "    </tr>\n",
       "    <tr>\n",
       "      <th>2020-01-06</th>\n",
       "      <td>55500</td>\n",
       "      <td>31010</td>\n",
       "      <td>166742</td>\n",
       "      <td>8240</td>\n",
       "    </tr>\n",
       "    <tr>\n",
       "      <th>2020-01-07</th>\n",
       "      <td>55800</td>\n",
       "      <td>32114</td>\n",
       "      <td>171561</td>\n",
       "      <td>8150</td>\n",
       "    </tr>\n",
       "    <tr>\n",
       "      <th>2020-01-08</th>\n",
       "      <td>56800</td>\n",
       "      <td>32014</td>\n",
       "      <td>166742</td>\n",
       "      <td>8210</td>\n",
       "    </tr>\n",
       "    <tr>\n",
       "      <th>...</th>\n",
       "      <td>...</td>\n",
       "      <td>...</td>\n",
       "      <td>...</td>\n",
       "      <td>...</td>\n",
       "    </tr>\n",
       "    <tr>\n",
       "      <th>2022-07-27</th>\n",
       "      <td>61800</td>\n",
       "      <td>71900</td>\n",
       "      <td>189500</td>\n",
       "      <td>81400</td>\n",
       "    </tr>\n",
       "    <tr>\n",
       "      <th>2022-07-28</th>\n",
       "      <td>61900</td>\n",
       "      <td>72400</td>\n",
       "      <td>190000</td>\n",
       "      <td>82700</td>\n",
       "    </tr>\n",
       "    <tr>\n",
       "      <th>2022-07-29</th>\n",
       "      <td>61400</td>\n",
       "      <td>74800</td>\n",
       "      <td>190000</td>\n",
       "      <td>82000</td>\n",
       "    </tr>\n",
       "    <tr>\n",
       "      <th>2022-08-01</th>\n",
       "      <td>61300</td>\n",
       "      <td>74000</td>\n",
       "      <td>187500</td>\n",
       "      <td>84500</td>\n",
       "    </tr>\n",
       "    <tr>\n",
       "      <th>2022-08-02</th>\n",
       "      <td>61700</td>\n",
       "      <td>71800</td>\n",
       "      <td>186000</td>\n",
       "      <td>86100</td>\n",
       "    </tr>\n",
       "  </tbody>\n",
       "</table>\n",
       "<p>640 rows × 4 columns</p>\n",
       "</div>"
      ],
      "text/plain": [
       "             삼성전자    카카오    셀트리온  대성홀딩스\n",
       "2020-01-02  55200  30609  173489   8240\n",
       "2020-01-03  55500  30609  171079   8240\n",
       "2020-01-06  55500  31010  166742   8240\n",
       "2020-01-07  55800  32114  171561   8150\n",
       "2020-01-08  56800  32014  166742   8210\n",
       "...           ...    ...     ...    ...\n",
       "2022-07-27  61800  71900  189500  81400\n",
       "2022-07-28  61900  72400  190000  82700\n",
       "2022-07-29  61400  74800  190000  82000\n",
       "2022-08-01  61300  74000  187500  84500\n",
       "2022-08-02  61700  71800  186000  86100\n",
       "\n",
       "[640 rows x 4 columns]"
      ]
     },
     "execution_count": 69,
     "metadata": {},
     "output_type": "execute_result"
    }
   ],
   "source": [
    "dataset"
   ]
  },
  {
   "cell_type": "code",
   "execution_count": null,
   "metadata": {},
   "outputs": [],
   "source": []
  }
 ],
 "metadata": {
  "kernelspec": {
   "display_name": "Python 3 (ipykernel)",
   "language": "python",
   "name": "python3"
  },
  "language_info": {
   "codemirror_mode": {
    "name": "ipython",
    "version": 3
   },
   "file_extension": ".py",
   "mimetype": "text/x-python",
   "name": "python",
   "nbconvert_exporter": "python",
   "pygments_lexer": "ipython3",
   "version": "3.8.13"
  }
 },
 "nbformat": 4,
 "nbformat_minor": 4
}
