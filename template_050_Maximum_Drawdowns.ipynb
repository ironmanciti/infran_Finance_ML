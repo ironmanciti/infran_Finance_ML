{
 "cells": [
  {
   "cell_type": "markdown",
   "metadata": {},
   "source": [
    "# Maximum Drawdown 계산 \n",
    "\n",
    "- 고점 대비 최대 손실 폭"
   ]
  },
  {
   "cell_type": "markdown",
   "metadata": {},
   "source": [
    "## Drawdown 계산\n",
    "\n",
    "step 1. 수익률 시계열을 wealth index를 나타내는 시계열로 변환  \n",
    "step 2. 이전 피크 계산  \n",
    "step 3. 이전 피크와 현재 값의 차이(비율)로 드로다운을 계산합니다.  \n",
    "\n",
    "대형주 주식에 대해 이 작업을 수행해 보겠습니다."
   ]
  },
  {
   "cell_type": "markdown",
   "metadata": {},
   "source": [
    "step 1. 수익률 시계열을 wealth index를 나타내는 시계열로 변환  "
   ]
  },
  {
   "cell_type": "markdown",
   "metadata": {},
   "source": [
    "step 2. 이전 피크 계산 - cummax()  "
   ]
  },
  {
   "cell_type": "markdown",
   "metadata": {},
   "source": [
    "step 3. 이전 피크와 현재 값의 차이(비율)로 드로다운을 계산합니다.  "
   ]
  },
  {
   "cell_type": "markdown",
   "metadata": {},
   "source": [
    "최대 MDD"
   ]
  },
  {
   "cell_type": "markdown",
   "metadata": {},
   "source": [
    "최대 MDD 일자"
   ]
  },
  {
   "cell_type": "markdown",
   "metadata": {},
   "source": [
    "## Drawdown 함수 생성\n",
    "\n",
    "이 함수는 수익률 시계열을 입력으로 사용하고 wealth index, previous peak 및 drawdown을 백분율로 포함하는 DataFrame으로 시계열을 반환합니다."
   ]
  },
  {
   "cell_type": "markdown",
   "metadata": {},
   "source": [
    "- 누적 수익률과 이전 peak 수익률 시각화"
   ]
  },
  {
   "cell_type": "markdown",
   "metadata": {},
   "source": [
    "- Tesla의 역사적 MDD 와 발생 시점"
   ]
  },
  {
   "cell_type": "markdown",
   "metadata": {},
   "source": [
    "- 코로나 쇼크 시기의 실제 주가"
   ]
  },
  {
   "cell_type": "markdown",
   "metadata": {},
   "source": [
    "### Market Index 의 MDD \n",
    "- yahoo finance에서 S&P500를 불러오는 코드는 `^GSPC`이고 KOSPI는` ^KS11`이다.  "
   ]
  },
  {
   "cell_type": "markdown",
   "metadata": {},
   "source": [
    "- KOSPI는 1998년 6월 16일 IMF 외환 위기 때 -64% 의 MDD 발생.  \n",
    "\n",
    "- S&P500 은 2009년 3월 9일 세계 금융 위기 때 -56%의 MDD 발생."
   ]
  }
 ],
 "metadata": {
  "kernelspec": {
   "display_name": "Python 3 (ipykernel)",
   "language": "python",
   "name": "python3"
  },
  "language_info": {
   "codemirror_mode": {
    "name": "ipython",
    "version": 3
   },
   "file_extension": ".py",
   "mimetype": "text/x-python",
   "name": "python",
   "nbconvert_exporter": "python",
   "pygments_lexer": "ipython3",
   "version": "3.8.13"
  }
 },
 "nbformat": 4,
 "nbformat_minor": 4
}
