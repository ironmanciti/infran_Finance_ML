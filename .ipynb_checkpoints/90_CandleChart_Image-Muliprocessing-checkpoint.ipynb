{
 "cells": [
  {
   "cell_type": "code",
   "execution_count": null,
   "metadata": {
    "id": "TflsdzBvyier"
   },
   "outputs": [],
   "source": [
    "# !pip install -q mpl_finance\n",
    "# !pip install -q finance-datareader"
   ]
  },
  {
   "cell_type": "code",
   "execution_count": 18,
   "metadata": {
    "id": "8OU8xlfpyieu"
   },
   "outputs": [],
   "source": [
    "import pandas_datareader as data_reader\n",
    "import FinanceDataReader as fdr\n",
    "import matplotlib.pyplot as plt\n",
    "import pandas as pd\n",
    "import numpy as np\n",
    "import time\n",
    "import os\n",
    "import shutil\n",
    "import torch.multiprocessing as mp\n",
    "from mpl_finance import candlestick_ohlc"
   ]
  },
  {
   "cell_type": "markdown",
   "metadata": {
    "id": "HI0nGpO9yiev"
   },
   "source": [
    "## Candle Chart image file 생성"
   ]
  },
  {
   "cell_type": "code",
   "execution_count": 19,
   "metadata": {
    "colab": {
     "base_uri": "https://localhost:8080/",
     "height": 205
    },
    "id": "xMLWIrVoyiew",
    "outputId": "c3b7ef7f-9dba-426e-91fc-cc7e34374cf4"
   },
   "outputs": [
    {
     "name": "stdout",
     "output_type": "stream",
     "text": [
      "(5646, 4)\n"
     ]
    },
    {
     "data": {
      "text/html": [
       "<div>\n",
       "<style scoped>\n",
       "    .dataframe tbody tr th:only-of-type {\n",
       "        vertical-align: middle;\n",
       "    }\n",
       "\n",
       "    .dataframe tbody tr th {\n",
       "        vertical-align: top;\n",
       "    }\n",
       "\n",
       "    .dataframe thead th {\n",
       "        text-align: right;\n",
       "    }\n",
       "</style>\n",
       "<table border=\"1\" class=\"dataframe\">\n",
       "  <thead>\n",
       "    <tr style=\"text-align: right;\">\n",
       "      <th></th>\n",
       "      <th>code</th>\n",
       "      <th>code_name</th>\n",
       "      <th>smarket</th>\n",
       "      <th>kospi200</th>\n",
       "    </tr>\n",
       "  </thead>\n",
       "  <tbody>\n",
       "    <tr>\n",
       "      <th>0</th>\n",
       "      <td>000020</td>\n",
       "      <td>동화약품</td>\n",
       "      <td>0</td>\n",
       "      <td>0</td>\n",
       "    </tr>\n",
       "    <tr>\n",
       "      <th>1</th>\n",
       "      <td>000030</td>\n",
       "      <td>우리은행</td>\n",
       "      <td>0</td>\n",
       "      <td>1</td>\n",
       "    </tr>\n",
       "    <tr>\n",
       "      <th>2</th>\n",
       "      <td>000040</td>\n",
       "      <td>KR모터스</td>\n",
       "      <td>0</td>\n",
       "      <td>0</td>\n",
       "    </tr>\n",
       "    <tr>\n",
       "      <th>3</th>\n",
       "      <td>000050</td>\n",
       "      <td>경방</td>\n",
       "      <td>0</td>\n",
       "      <td>0</td>\n",
       "    </tr>\n",
       "    <tr>\n",
       "      <th>4</th>\n",
       "      <td>000060</td>\n",
       "      <td>메리츠화재</td>\n",
       "      <td>0</td>\n",
       "      <td>0</td>\n",
       "    </tr>\n",
       "  </tbody>\n",
       "</table>\n",
       "</div>"
      ],
      "text/plain": [
       "     code code_name  smarket  kospi200\n",
       "0  000020      동화약품        0         0\n",
       "1  000030      우리은행        0         1\n",
       "2  000040     KR모터스        0         0\n",
       "3  000050        경방        0         0\n",
       "4  000060     메리츠화재        0         0"
      ]
     },
     "execution_count": 19,
     "metadata": {},
     "output_type": "execute_result"
    }
   ],
   "source": [
    "df = pd.read_csv(\"data/stockcode.csv\", index_col=0, encoding=\"cp949\")\n",
    "print(df.shape)\n",
    "df.head()"
   ]
  },
  {
   "cell_type": "code",
   "execution_count": 20,
   "metadata": {},
   "outputs": [
    {
     "data": {
      "text/plain": [
       "3     2480\n",
       "0     1489\n",
       "10    1284\n",
       "8      393\n",
       "Name: smarket, dtype: int64"
      ]
     },
     "execution_count": 20,
     "metadata": {},
     "output_type": "execute_result"
    }
   ],
   "source": [
    "df.smarket.value_counts()"
   ]
  },
  {
   "cell_type": "code",
   "execution_count": 21,
   "metadata": {},
   "outputs": [
    {
     "name": "stdout",
     "output_type": "stream",
     "text": [
      "(2773, 4)\n"
     ]
    },
    {
     "data": {
      "text/html": [
       "<div>\n",
       "<style scoped>\n",
       "    .dataframe tbody tr th:only-of-type {\n",
       "        vertical-align: middle;\n",
       "    }\n",
       "\n",
       "    .dataframe tbody tr th {\n",
       "        vertical-align: top;\n",
       "    }\n",
       "\n",
       "    .dataframe thead th {\n",
       "        text-align: right;\n",
       "    }\n",
       "</style>\n",
       "<table border=\"1\" class=\"dataframe\">\n",
       "  <thead>\n",
       "    <tr style=\"text-align: right;\">\n",
       "      <th></th>\n",
       "      <th>code</th>\n",
       "      <th>code_name</th>\n",
       "      <th>smarket</th>\n",
       "      <th>kospi200</th>\n",
       "    </tr>\n",
       "  </thead>\n",
       "  <tbody>\n",
       "    <tr>\n",
       "      <th>0</th>\n",
       "      <td>000020</td>\n",
       "      <td>동화약품</td>\n",
       "      <td>0</td>\n",
       "      <td>0</td>\n",
       "    </tr>\n",
       "    <tr>\n",
       "      <th>1</th>\n",
       "      <td>000030</td>\n",
       "      <td>우리은행</td>\n",
       "      <td>0</td>\n",
       "      <td>1</td>\n",
       "    </tr>\n",
       "    <tr>\n",
       "      <th>2</th>\n",
       "      <td>000040</td>\n",
       "      <td>KR모터스</td>\n",
       "      <td>0</td>\n",
       "      <td>0</td>\n",
       "    </tr>\n",
       "    <tr>\n",
       "      <th>3</th>\n",
       "      <td>000050</td>\n",
       "      <td>경방</td>\n",
       "      <td>0</td>\n",
       "      <td>0</td>\n",
       "    </tr>\n",
       "    <tr>\n",
       "      <th>4</th>\n",
       "      <td>000060</td>\n",
       "      <td>메리츠화재</td>\n",
       "      <td>0</td>\n",
       "      <td>0</td>\n",
       "    </tr>\n",
       "  </tbody>\n",
       "</table>\n",
       "</div>"
      ],
      "text/plain": [
       "     code code_name  smarket  kospi200\n",
       "0  000020      동화약품        0         0\n",
       "1  000030      우리은행        0         1\n",
       "2  000040     KR모터스        0         0\n",
       "3  000050        경방        0         0\n",
       "4  000060     메리츠화재        0         0"
      ]
     },
     "execution_count": 21,
     "metadata": {},
     "output_type": "execute_result"
    }
   ],
   "source": [
    "df_smarket = df[(df.smarket == 0) | (df.smarket == 10)]\n",
    "print(df_smarket.shape)\n",
    "df_smarket.head()"
   ]
  },
  {
   "cell_type": "code",
   "execution_count": 22,
   "metadata": {
    "colab": {
     "base_uri": "https://localhost:8080/"
    },
    "id": "AAtlfyl7yiex",
    "outputId": "80015962-8312-4719-d070-666239d5e285"
   },
   "outputs": [],
   "source": [
    "# tickers = df[df['kospi200'] == 1]['code'].values\n",
    "tickers = df_smarket['code'].values\n",
    "tickers = tickers[:50]"
   ]
  },
  {
   "cell_type": "code",
   "execution_count": 23,
   "metadata": {},
   "outputs": [
    {
     "data": {
      "text/plain": [
       "(50,\n",
       " array(['000020', '000030', '000040', '000050', '000060', '000070',\n",
       "        '000075', '000080', '000087', '000100', '000105', '000120',\n",
       "        '000140', '000145', '000150', '000155', '000157', '000180',\n",
       "        '000210', '000215', '000220', '000225', '000227', '000230',\n",
       "        '000240', '000270', '000300', '000320', '000325', '000370',\n",
       "        '000390', '000400', '000430', '000480', '000490', '000500',\n",
       "        '000520', '000540', '000545', '000547', '000590', '000640',\n",
       "        '000650', '000660', '000670', '000680', '000700', '000720',\n",
       "        '000725'], dtype=object))"
      ]
     },
     "execution_count": 23,
     "metadata": {},
     "output_type": "execute_result"
    }
   ],
   "source": [
    "len(tickers), tickers[:-1]"
   ]
  },
  {
   "cell_type": "code",
   "execution_count": 24,
   "metadata": {
    "colab": {
     "base_uri": "https://localhost:8080/"
    },
    "id": "zT9e5OTHyiey",
    "outputId": "773d3109-a3f2-4680-e2fc-c9cda845128e"
   },
   "outputs": [
    {
     "data": {
      "text/plain": [
       "(35, 12, 3)"
      ]
     },
     "execution_count": 24,
     "metadata": {},
     "output_type": "execute_result"
    }
   ],
   "source": [
    "from sklearn.model_selection import train_test_split\n",
    "\n",
    "train, val = train_test_split(tickers, test_size=0.3)\n",
    "val, test = train_test_split(val, test_size=0.2)\n",
    "len(train), len(val), len(test)"
   ]
  },
  {
   "cell_type": "code",
   "execution_count": 25,
   "metadata": {
    "id": "W00Uu942yiez"
   },
   "outputs": [],
   "source": [
    "tmp = \"/Users/ohyoungjea/Downloads/\"\n",
    "os.mkdir(tmp+\"/candles\")\n",
    "for path in [tmp+\"candles/train\", tmp+\"candles/val\", tmp+\"candles/test\"]:\n",
    "    try:\n",
    "        shutil.rmtree(path)\n",
    "    except:\n",
    "        pass\n",
    "    os.mkdir(path)\n",
    "    os.mkdir(path+\"/ups\")\n",
    "    os.mkdir(path+\"/downs\")\n",
    "    os.mkdir(path+\"/flats\")"
   ]
  },
  {
   "cell_type": "code",
   "execution_count": 26,
   "metadata": {},
   "outputs": [],
   "source": [
    "def image_main(tickers, path):\n",
    "    \n",
    "    plt.rcParams.update({'figure.max_open_warning': 0})\n",
    "    up_ratio = 1.03    # 3\n",
    "    down_ratio = 0.97  # 3% 하락\n",
    "    window=180 \n",
    "    future=7 \n",
    "    print_y=False\n",
    "    \n",
    "    print(\"**8\")\n",
    "    print(tickers)\n",
    "    for ticker in tickers:\n",
    "        \n",
    "        df = fdr.DataReader(ticker)\n",
    "        df['MA6'] = df['Close'].rolling(6).mean()\n",
    "        df['MA20'] = df['Close'].rolling(20).mean()\n",
    "\n",
    "        start_idx = 0\n",
    "        seq = 0\n",
    "        \n",
    "        while start_idx+window+future < df.shape[0]:\n",
    "            sec = df.loc[df.index[start_idx]:df.index[start_idx+window+future]]\n",
    "            sec.reset_index(inplace=True)\n",
    "\n",
    "            seq += 1\n",
    "\n",
    "            last_price = \\\n",
    "                sec.loc[sec.index[0]:sec.index[window]].tail(1)['Close'].values[0]\n",
    "\n",
    "            future_price = sec.loc[sec.index[window+future]]['Close'] \n",
    "\n",
    "            fig, ax = plt.subplots(1, 1, figsize=(6, 4))\n",
    "\n",
    "            x = np.arange(len(sec.index))\n",
    "            ohlc = sec[['Open', 'High', 'Low', 'Close']].astype(int).values\n",
    "            dohlc = np.hstack((np.reshape(x, (-1, 1)), ohlc))\n",
    "            # 봉차트\n",
    "            candlestick_ohlc(ax, dohlc, width=0.5, colorup='r', colordown='b')\n",
    "            # 이동 평균\n",
    "            sec.MA6.plot(ax=ax)\n",
    "            sec.MA20.plot(ax=ax)\n",
    "\n",
    "            plt.xticks([])\n",
    "            plt.yticks([])\n",
    "\n",
    "            if future_price > last_price * up_ratio:\n",
    "                plt.savefig(f'{path}/ups/{ticker}{seq}.png')\n",
    "                if print_y:\n",
    "                    print(f'{path}/ups/{ticker}{seq}.png....last',\n",
    "                      f'last price={last_price}, future price={future_price}')\n",
    "            elif future_price < last_price * down_ratio:\n",
    "                plt.savefig(f'{path}/downs/{ticker}{seq}.png')\n",
    "                if print_y:\n",
    "                    print(f'{path}/downs/{ticker}{seq}.png....',\n",
    "                      f'last price={last_price}, future price={future_price}')\n",
    "            else:\n",
    "                plt.savefig(f'{path}/flats/{ticker}{seq}.png')\n",
    "                if print_y:\n",
    "                    print(f'{path}/flats/{ticker}{seq}.png....',\n",
    "                      f'last price={last_price}, future price={future_price}')\n",
    "\n",
    "            plt.close()   \n",
    "\n",
    "            start_idx += window\n",
    "\n",
    "        print(f\"processing {ticker} completed...seq#: {seq}\")"
   ]
  },
  {
   "cell_type": "code",
   "execution_count": 27,
   "metadata": {},
   "outputs": [],
   "source": [
    "# start = 0\n",
    "# end = 300\n",
    "# n = end // 5\n",
    "# for i in range(1, end//n+1):\n",
    "#     end = i * n\n",
    "#     print(start, end)\n",
    "#     start = end"
   ]
  },
  {
   "cell_type": "code",
   "execution_count": 28,
   "metadata": {
    "colab": {
     "base_uri": "https://localhost:8080/"
    },
    "id": "VD2UIp6Fyie0",
    "outputId": "2365e3ad-3597-44e1-b0cc-5ad7ef021e9f",
    "scrolled": true
   },
   "outputs": [
    {
     "name": "stdout",
     "output_type": "stream",
     "text": [
      "**8\n",
      "**8**8['000520' '000640' '000490' '000660' '000030' '000590' '000720']\n",
      "\n",
      "['000060' '000150' '000680' '000225' '000325' '000087' '000210']\n",
      "\n",
      "['000670' '000300' '000105' '000100' '000050' '000180' '000760']\n",
      "**8\n",
      "['000145' '000700' '000230' '000480' '000430' '000390' '000120']**8\n",
      "\n",
      "['000040' '000080' '000157' '000725' '000227' '000650' '000075']**8\n",
      "\n",
      "**8['000320' '000240']\n",
      "\n",
      "**8['000270' '000215']\n",
      "\n",
      "['000540' '000370']\n",
      "**8\n",
      "['000140' '000547']**8\n",
      "\n",
      "['000155' '000400']\n",
      "**8\n",
      "['000545' '000070']\n"
     ]
    },
    {
     "ename": "ZeroDivisionError",
     "evalue": "integer division or modulo by zero",
     "output_type": "error",
     "traceback": [
      "\u001b[0;31m---------------------------------------------------------------------------\u001b[0m",
      "\u001b[0;31mZeroDivisionError\u001b[0m                         Traceback (most recent call last)",
      "\u001b[0;32m<ipython-input-28-eba3fab68096>\u001b[0m in \u001b[0;36m<module>\u001b[0;34m\u001b[0m\n\u001b[1;32m      7\u001b[0m     \u001b[0mend\u001b[0m \u001b[0;34m=\u001b[0m \u001b[0mlen\u001b[0m\u001b[0;34m(\u001b[0m\u001b[0mtickers\u001b[0m\u001b[0;34m)\u001b[0m\u001b[0;34m\u001b[0m\u001b[0;34m\u001b[0m\u001b[0m\n\u001b[1;32m      8\u001b[0m     \u001b[0mn\u001b[0m \u001b[0;34m=\u001b[0m \u001b[0mend\u001b[0m \u001b[0;34m//\u001b[0m \u001b[0;36m5\u001b[0m\u001b[0;34m\u001b[0m\u001b[0;34m\u001b[0m\u001b[0m\n\u001b[0;32m----> 9\u001b[0;31m     \u001b[0;32mfor\u001b[0m \u001b[0mi\u001b[0m \u001b[0;32min\u001b[0m \u001b[0mrange\u001b[0m\u001b[0;34m(\u001b[0m\u001b[0;36m1\u001b[0m\u001b[0;34m,\u001b[0m \u001b[0mend\u001b[0m\u001b[0;34m//\u001b[0m\u001b[0mn\u001b[0m\u001b[0;34m+\u001b[0m\u001b[0;36m1\u001b[0m\u001b[0;34m)\u001b[0m\u001b[0;34m:\u001b[0m\u001b[0;34m\u001b[0m\u001b[0;34m\u001b[0m\u001b[0m\n\u001b[0m\u001b[1;32m     10\u001b[0m         \u001b[0mend\u001b[0m \u001b[0;34m=\u001b[0m \u001b[0mi\u001b[0m \u001b[0;34m*\u001b[0m \u001b[0mn\u001b[0m\u001b[0;34m\u001b[0m\u001b[0;34m\u001b[0m\u001b[0m\n\u001b[1;32m     11\u001b[0m         \u001b[0mp\u001b[0m \u001b[0;34m=\u001b[0m \u001b[0mmp\u001b[0m\u001b[0;34m.\u001b[0m\u001b[0mProcess\u001b[0m\u001b[0;34m(\u001b[0m\u001b[0mtarget\u001b[0m\u001b[0;34m=\u001b[0m\u001b[0mimage_main\u001b[0m\u001b[0;34m,\u001b[0m \u001b[0margs\u001b[0m\u001b[0;34m=\u001b[0m\u001b[0;34m(\u001b[0m\u001b[0mtickers\u001b[0m\u001b[0;34m[\u001b[0m\u001b[0mstart\u001b[0m\u001b[0;34m:\u001b[0m\u001b[0mend\u001b[0m\u001b[0;34m]\u001b[0m\u001b[0;34m,\u001b[0m \u001b[0mpath\u001b[0m\u001b[0;34m)\u001b[0m\u001b[0;34m)\u001b[0m\u001b[0;34m\u001b[0m\u001b[0;34m\u001b[0m\u001b[0m\n",
      "\u001b[0;31mZeroDivisionError\u001b[0m: integer division or modulo by zero"
     ]
    }
   ],
   "source": [
    "s = time.time()\n",
    "processes = []\n",
    "\n",
    "for tickers, folder in zip([train, val, test], [\"train\", \"val\", \"test\"]):\n",
    "    path = tmp+\"candles/\" + folder\n",
    "    start = 0\n",
    "    end = len(tickers)\n",
    "    n = end // 5\n",
    "    for i in range(1, end//n+1):\n",
    "        end = i * n\n",
    "        p = mp.Process(target=image_main, args=(tickers[start:end], path)) \n",
    "        p.start()\n",
    "        processes.append(p)\n",
    "        start = end\n",
    "    \n",
    "for p in processes:\n",
    "    p.join()\n",
    "for p in processes:\n",
    "    p.terminate()\n",
    "\n",
    "print(f\"Total elapse time: {(time.time() - s)/60:.2f} mins\")"
   ]
  },
  {
   "cell_type": "code",
   "execution_count": 21,
   "metadata": {},
   "outputs": [
    {
     "name": "stdout",
     "output_type": "stream",
     "text": [
      "/Users/ohyoungjea/Downloads/candles/train/ups 0\n",
      "/Users/ohyoungjea/Downloads/candles/train/downs 0\n",
      "/Users/ohyoungjea/Downloads/candles/train/flats 0\n",
      "/Users/ohyoungjea/Downloads/candles/val/ups 0\n",
      "/Users/ohyoungjea/Downloads/candles/val/downs 0\n",
      "/Users/ohyoungjea/Downloads/candles/val/flats 0\n",
      "/Users/ohyoungjea/Downloads/candles/test/ups 0\n",
      "/Users/ohyoungjea/Downloads/candles/test/downs 0\n",
      "/Users/ohyoungjea/Downloads/candles/test/flats 0\n"
     ]
    }
   ],
   "source": [
    "for path in [tmp+\"candles/train/\", tmp+\"candles/val/\", tmp+\"candles/test/\"]:\n",
    "    for subpath in ['ups', 'downs', 'flats']:\n",
    "        print(path+subpath, len(os.listdir(path + subpath)))"
   ]
  },
  {
   "cell_type": "code",
   "execution_count": null,
   "metadata": {},
   "outputs": [],
   "source": []
  }
 ],
 "metadata": {
  "colab": {
   "name": "900.CandleChart_Image.ipynb",
   "provenance": []
  },
  "kernelspec": {
   "display_name": "Python 3",
   "language": "python",
   "name": "python3"
  },
  "language_info": {
   "codemirror_mode": {
    "name": "ipython",
    "version": 3
   },
   "file_extension": ".py",
   "mimetype": "text/x-python",
   "name": "python",
   "nbconvert_exporter": "python",
   "pygments_lexer": "ipython3",
   "version": "3.7.10"
  }
 },
 "nbformat": 4,
 "nbformat_minor": 1
}
