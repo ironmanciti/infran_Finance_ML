{
 "cells": [
  {
   "cell_type": "markdown",
   "metadata": {},
   "source": [
    "# 차분(Differencing) 과 이동평균(MA) - Simple Trade Strategy"
   ]
  },
  {
   "cell_type": "code",
   "execution_count": 1,
   "metadata": {},
   "outputs": [],
   "source": [
    "# !pip install pandas_datareader\n",
    "#!pip install yfinance"
   ]
  },
  {
   "cell_type": "code",
   "execution_count": 1,
   "metadata": {},
   "outputs": [],
   "source": [
    "import pandas as pd\n",
    "import numpy as np\n",
    "import matplotlib.pyplot as plt\n",
    "import yfinance as yf\n",
    "import pandas_datareader as data_reader"
   ]
  },
  {
   "cell_type": "markdown",
   "metadata": {},
   "source": [
    "## Price difference (익일 종가 - 당일 종가)\n",
    "\n",
    "PriceDiff = (Close Price of tomorrow - Close Price of today)\n",
    "\n",
    "- shift(period)"
   ]
  },
  {
   "cell_type": "code",
   "execution_count": 2,
   "metadata": {},
   "outputs": [],
   "source": [
    "fb = data_reader.DataReader(\"FB\", data_source=\"yahoo\")    #Facebook\n",
    "ms = data_reader.DataReader(\"MSFT\", data_source=\"yahoo\")  #Microsoft"
   ]
  },
  {
   "cell_type": "code",
   "execution_count": 3,
   "metadata": {},
   "outputs": [
    {
     "data": {
      "text/html": [
       "<div>\n",
       "<style scoped>\n",
       "    .dataframe tbody tr th:only-of-type {\n",
       "        vertical-align: middle;\n",
       "    }\n",
       "\n",
       "    .dataframe tbody tr th {\n",
       "        vertical-align: top;\n",
       "    }\n",
       "\n",
       "    .dataframe thead th {\n",
       "        text-align: right;\n",
       "    }\n",
       "</style>\n",
       "<table border=\"1\" class=\"dataframe\">\n",
       "  <thead>\n",
       "    <tr style=\"text-align: right;\">\n",
       "      <th></th>\n",
       "      <th>High</th>\n",
       "      <th>Low</th>\n",
       "      <th>Open</th>\n",
       "      <th>Close</th>\n",
       "      <th>Volume</th>\n",
       "      <th>Adj Close</th>\n",
       "    </tr>\n",
       "    <tr>\n",
       "      <th>Date</th>\n",
       "      <th></th>\n",
       "      <th></th>\n",
       "      <th></th>\n",
       "      <th></th>\n",
       "      <th></th>\n",
       "      <th></th>\n",
       "    </tr>\n",
       "  </thead>\n",
       "  <tbody>\n",
       "    <tr>\n",
       "      <th>2021-08-06</th>\n",
       "      <td>365.149994</td>\n",
       "      <td>361.399994</td>\n",
       "      <td>361.399994</td>\n",
       "      <td>363.510010</td>\n",
       "      <td>8925000</td>\n",
       "      <td>363.510010</td>\n",
       "    </tr>\n",
       "    <tr>\n",
       "      <th>2021-08-09</th>\n",
       "      <td>365.779999</td>\n",
       "      <td>360.750000</td>\n",
       "      <td>363.760010</td>\n",
       "      <td>361.609985</td>\n",
       "      <td>7798900</td>\n",
       "      <td>361.609985</td>\n",
       "    </tr>\n",
       "    <tr>\n",
       "      <th>2021-08-10</th>\n",
       "      <td>364.100006</td>\n",
       "      <td>359.040009</td>\n",
       "      <td>361.829987</td>\n",
       "      <td>361.130005</td>\n",
       "      <td>7469900</td>\n",
       "      <td>361.130005</td>\n",
       "    </tr>\n",
       "    <tr>\n",
       "      <th>2021-08-11</th>\n",
       "      <td>362.359985</td>\n",
       "      <td>357.809998</td>\n",
       "      <td>362.100006</td>\n",
       "      <td>359.959991</td>\n",
       "      <td>8400300</td>\n",
       "      <td>359.959991</td>\n",
       "    </tr>\n",
       "    <tr>\n",
       "      <th>2021-08-12</th>\n",
       "      <td>363.000000</td>\n",
       "      <td>357.109985</td>\n",
       "      <td>358.450012</td>\n",
       "      <td>362.649994</td>\n",
       "      <td>7170700</td>\n",
       "      <td>362.649994</td>\n",
       "    </tr>\n",
       "  </tbody>\n",
       "</table>\n",
       "</div>"
      ],
      "text/plain": [
       "                  High         Low        Open       Close   Volume  \\\n",
       "Date                                                                  \n",
       "2021-08-06  365.149994  361.399994  361.399994  363.510010  8925000   \n",
       "2021-08-09  365.779999  360.750000  363.760010  361.609985  7798900   \n",
       "2021-08-10  364.100006  359.040009  361.829987  361.130005  7469900   \n",
       "2021-08-11  362.359985  357.809998  362.100006  359.959991  8400300   \n",
       "2021-08-12  363.000000  357.109985  358.450012  362.649994  7170700   \n",
       "\n",
       "             Adj Close  \n",
       "Date                    \n",
       "2021-08-06  363.510010  \n",
       "2021-08-09  361.609985  \n",
       "2021-08-10  361.130005  \n",
       "2021-08-11  359.959991  \n",
       "2021-08-12  362.649994  "
      ]
     },
     "execution_count": 3,
     "metadata": {},
     "output_type": "execute_result"
    }
   ],
   "source": [
    "fb.head()"
   ]
  },
  {
   "cell_type": "code",
   "execution_count": 4,
   "metadata": {},
   "outputs": [],
   "source": [
    "fb.drop(['High', 'Low', 'Open', 'Volume', 'Adj Close'], axis=1, inplace=True)\n",
    "ms.drop(['High', 'Low', 'Open', 'Volume', 'Adj Close'], axis=1, inplace=True)"
   ]
  },
  {
   "cell_type": "code",
   "execution_count": 5,
   "metadata": {},
   "outputs": [
    {
     "data": {
      "text/html": [
       "<div>\n",
       "<style scoped>\n",
       "    .dataframe tbody tr th:only-of-type {\n",
       "        vertical-align: middle;\n",
       "    }\n",
       "\n",
       "    .dataframe tbody tr th {\n",
       "        vertical-align: top;\n",
       "    }\n",
       "\n",
       "    .dataframe thead th {\n",
       "        text-align: right;\n",
       "    }\n",
       "</style>\n",
       "<table border=\"1\" class=\"dataframe\">\n",
       "  <thead>\n",
       "    <tr style=\"text-align: right;\">\n",
       "      <th></th>\n",
       "      <th>Close</th>\n",
       "      <th>Yesterday Close</th>\n",
       "    </tr>\n",
       "    <tr>\n",
       "      <th>Date</th>\n",
       "      <th></th>\n",
       "      <th></th>\n",
       "    </tr>\n",
       "  </thead>\n",
       "  <tbody>\n",
       "    <tr>\n",
       "      <th>2021-08-06</th>\n",
       "      <td>363.510010</td>\n",
       "      <td>NaN</td>\n",
       "    </tr>\n",
       "    <tr>\n",
       "      <th>2021-08-09</th>\n",
       "      <td>361.609985</td>\n",
       "      <td>363.510010</td>\n",
       "    </tr>\n",
       "    <tr>\n",
       "      <th>2021-08-10</th>\n",
       "      <td>361.130005</td>\n",
       "      <td>361.609985</td>\n",
       "    </tr>\n",
       "    <tr>\n",
       "      <th>2021-08-11</th>\n",
       "      <td>359.959991</td>\n",
       "      <td>361.130005</td>\n",
       "    </tr>\n",
       "    <tr>\n",
       "      <th>2021-08-12</th>\n",
       "      <td>362.649994</td>\n",
       "      <td>359.959991</td>\n",
       "    </tr>\n",
       "  </tbody>\n",
       "</table>\n",
       "</div>"
      ],
      "text/plain": [
       "                 Close  Yesterday Close\n",
       "Date                                   \n",
       "2021-08-06  363.510010              NaN\n",
       "2021-08-09  361.609985       363.510010\n",
       "2021-08-10  361.130005       361.609985\n",
       "2021-08-11  359.959991       361.130005\n",
       "2021-08-12  362.649994       359.959991"
      ]
     },
     "execution_count": 5,
     "metadata": {},
     "output_type": "execute_result"
    }
   ],
   "source": [
    "fb['Yesterday Close'] = fb['Close'].shift(1)\n",
    "fb.head()"
   ]
  },
  {
   "cell_type": "markdown",
   "metadata": {},
   "source": [
    "Price Difference - manual 계산"
   ]
  },
  {
   "cell_type": "code",
   "execution_count": 6,
   "metadata": {},
   "outputs": [
    {
     "data": {
      "text/html": [
       "<div>\n",
       "<style scoped>\n",
       "    .dataframe tbody tr th:only-of-type {\n",
       "        vertical-align: middle;\n",
       "    }\n",
       "\n",
       "    .dataframe tbody tr th {\n",
       "        vertical-align: top;\n",
       "    }\n",
       "\n",
       "    .dataframe thead th {\n",
       "        text-align: right;\n",
       "    }\n",
       "</style>\n",
       "<table border=\"1\" class=\"dataframe\">\n",
       "  <thead>\n",
       "    <tr style=\"text-align: right;\">\n",
       "      <th></th>\n",
       "      <th>Close</th>\n",
       "      <th>Yesterday Close</th>\n",
       "      <th>Price Difference</th>\n",
       "    </tr>\n",
       "    <tr>\n",
       "      <th>Date</th>\n",
       "      <th></th>\n",
       "      <th></th>\n",
       "      <th></th>\n",
       "    </tr>\n",
       "  </thead>\n",
       "  <tbody>\n",
       "    <tr>\n",
       "      <th>2021-08-06</th>\n",
       "      <td>363.510010</td>\n",
       "      <td>NaN</td>\n",
       "      <td>NaN</td>\n",
       "    </tr>\n",
       "    <tr>\n",
       "      <th>2021-08-09</th>\n",
       "      <td>361.609985</td>\n",
       "      <td>363.510010</td>\n",
       "      <td>-1.900024</td>\n",
       "    </tr>\n",
       "    <tr>\n",
       "      <th>2021-08-10</th>\n",
       "      <td>361.130005</td>\n",
       "      <td>361.609985</td>\n",
       "      <td>-0.479980</td>\n",
       "    </tr>\n",
       "    <tr>\n",
       "      <th>2021-08-11</th>\n",
       "      <td>359.959991</td>\n",
       "      <td>361.130005</td>\n",
       "      <td>-1.170013</td>\n",
       "    </tr>\n",
       "    <tr>\n",
       "      <th>2021-08-12</th>\n",
       "      <td>362.649994</td>\n",
       "      <td>359.959991</td>\n",
       "      <td>2.690002</td>\n",
       "    </tr>\n",
       "  </tbody>\n",
       "</table>\n",
       "</div>"
      ],
      "text/plain": [
       "                 Close  Yesterday Close  Price Difference\n",
       "Date                                                     \n",
       "2021-08-06  363.510010              NaN               NaN\n",
       "2021-08-09  361.609985       363.510010         -1.900024\n",
       "2021-08-10  361.130005       361.609985         -0.479980\n",
       "2021-08-11  359.959991       361.130005         -1.170013\n",
       "2021-08-12  362.649994       359.959991          2.690002"
      ]
     },
     "execution_count": 6,
     "metadata": {},
     "output_type": "execute_result"
    }
   ],
   "source": [
    "fb['Price Difference'] = fb['Close'] - fb['Yesterday Close']\n",
    "fb.head()"
   ]
  },
  {
   "cell_type": "markdown",
   "metadata": {},
   "source": [
    "Price Difference - diff() method 사용"
   ]
  },
  {
   "cell_type": "code",
   "execution_count": 7,
   "metadata": {},
   "outputs": [
    {
     "data": {
      "text/html": [
       "<div>\n",
       "<style scoped>\n",
       "    .dataframe tbody tr th:only-of-type {\n",
       "        vertical-align: middle;\n",
       "    }\n",
       "\n",
       "    .dataframe tbody tr th {\n",
       "        vertical-align: top;\n",
       "    }\n",
       "\n",
       "    .dataframe thead th {\n",
       "        text-align: right;\n",
       "    }\n",
       "</style>\n",
       "<table border=\"1\" class=\"dataframe\">\n",
       "  <thead>\n",
       "    <tr style=\"text-align: right;\">\n",
       "      <th></th>\n",
       "      <th>Close</th>\n",
       "      <th>Yesterday Close</th>\n",
       "      <th>Price Difference</th>\n",
       "      <th>Price Diff2</th>\n",
       "    </tr>\n",
       "    <tr>\n",
       "      <th>Date</th>\n",
       "      <th></th>\n",
       "      <th></th>\n",
       "      <th></th>\n",
       "      <th></th>\n",
       "    </tr>\n",
       "  </thead>\n",
       "  <tbody>\n",
       "    <tr>\n",
       "      <th>2021-08-06</th>\n",
       "      <td>363.510010</td>\n",
       "      <td>NaN</td>\n",
       "      <td>NaN</td>\n",
       "      <td>NaN</td>\n",
       "    </tr>\n",
       "    <tr>\n",
       "      <th>2021-08-09</th>\n",
       "      <td>361.609985</td>\n",
       "      <td>363.510010</td>\n",
       "      <td>-1.900024</td>\n",
       "      <td>-1.900024</td>\n",
       "    </tr>\n",
       "    <tr>\n",
       "      <th>2021-08-10</th>\n",
       "      <td>361.130005</td>\n",
       "      <td>361.609985</td>\n",
       "      <td>-0.479980</td>\n",
       "      <td>-0.479980</td>\n",
       "    </tr>\n",
       "    <tr>\n",
       "      <th>2021-08-11</th>\n",
       "      <td>359.959991</td>\n",
       "      <td>361.130005</td>\n",
       "      <td>-1.170013</td>\n",
       "      <td>-1.170013</td>\n",
       "    </tr>\n",
       "    <tr>\n",
       "      <th>2021-08-12</th>\n",
       "      <td>362.649994</td>\n",
       "      <td>359.959991</td>\n",
       "      <td>2.690002</td>\n",
       "      <td>2.690002</td>\n",
       "    </tr>\n",
       "  </tbody>\n",
       "</table>\n",
       "</div>"
      ],
      "text/plain": [
       "                 Close  Yesterday Close  Price Difference  Price Diff2\n",
       "Date                                                                  \n",
       "2021-08-06  363.510010              NaN               NaN          NaN\n",
       "2021-08-09  361.609985       363.510010         -1.900024    -1.900024\n",
       "2021-08-10  361.130005       361.609985         -0.479980    -0.479980\n",
       "2021-08-11  359.959991       361.130005         -1.170013    -1.170013\n",
       "2021-08-12  362.649994       359.959991          2.690002     2.690002"
      ]
     },
     "execution_count": 7,
     "metadata": {},
     "output_type": "execute_result"
    }
   ],
   "source": [
    "fb['Price Diff2'] = fb['Close'].diff()\n",
    "fb.head()"
   ]
  },
  {
   "cell_type": "code",
   "execution_count": 8,
   "metadata": {},
   "outputs": [
    {
     "data": {
      "text/html": [
       "<div>\n",
       "<style scoped>\n",
       "    .dataframe tbody tr th:only-of-type {\n",
       "        vertical-align: middle;\n",
       "    }\n",
       "\n",
       "    .dataframe tbody tr th {\n",
       "        vertical-align: top;\n",
       "    }\n",
       "\n",
       "    .dataframe thead th {\n",
       "        text-align: right;\n",
       "    }\n",
       "</style>\n",
       "<table border=\"1\" class=\"dataframe\">\n",
       "  <thead>\n",
       "    <tr style=\"text-align: right;\">\n",
       "      <th></th>\n",
       "      <th>Close</th>\n",
       "      <th>Yesterday Close</th>\n",
       "      <th>Price Difference</th>\n",
       "    </tr>\n",
       "    <tr>\n",
       "      <th>Date</th>\n",
       "      <th></th>\n",
       "      <th></th>\n",
       "      <th></th>\n",
       "    </tr>\n",
       "  </thead>\n",
       "  <tbody>\n",
       "    <tr>\n",
       "      <th>2017-08-07</th>\n",
       "      <td>72.400002</td>\n",
       "      <td>NaN</td>\n",
       "      <td>NaN</td>\n",
       "    </tr>\n",
       "    <tr>\n",
       "      <th>2017-08-08</th>\n",
       "      <td>72.790001</td>\n",
       "      <td>72.400002</td>\n",
       "      <td>0.389999</td>\n",
       "    </tr>\n",
       "    <tr>\n",
       "      <th>2017-08-09</th>\n",
       "      <td>72.470001</td>\n",
       "      <td>72.790001</td>\n",
       "      <td>-0.320000</td>\n",
       "    </tr>\n",
       "    <tr>\n",
       "      <th>2017-08-10</th>\n",
       "      <td>71.410004</td>\n",
       "      <td>72.470001</td>\n",
       "      <td>-1.059998</td>\n",
       "    </tr>\n",
       "    <tr>\n",
       "      <th>2017-08-11</th>\n",
       "      <td>72.500000</td>\n",
       "      <td>71.410004</td>\n",
       "      <td>1.089996</td>\n",
       "    </tr>\n",
       "  </tbody>\n",
       "</table>\n",
       "</div>"
      ],
      "text/plain": [
       "                Close  Yesterday Close  Price Difference\n",
       "Date                                                    \n",
       "2017-08-07  72.400002              NaN               NaN\n",
       "2017-08-08  72.790001        72.400002          0.389999\n",
       "2017-08-09  72.470001        72.790001         -0.320000\n",
       "2017-08-10  71.410004        72.470001         -1.059998\n",
       "2017-08-11  72.500000        71.410004          1.089996"
      ]
     },
     "execution_count": 8,
     "metadata": {},
     "output_type": "execute_result"
    }
   ],
   "source": [
    "ms['Yesterday Close'] = ms['Close'].shift(1)\n",
    "ms['Price Difference'] = ms['Close'].diff()\n",
    "ms.head()"
   ]
  },
  {
   "cell_type": "code",
   "execution_count": 9,
   "metadata": {},
   "outputs": [
    {
     "name": "stdout",
     "output_type": "stream",
     "text": [
      "0.089996337890625\n"
     ]
    }
   ],
   "source": [
    "print(ms['Price Difference'].loc['2017-11-03'])"
   ]
  },
  {
   "cell_type": "code",
   "execution_count": 10,
   "metadata": {},
   "outputs": [
    {
     "data": {
      "text/html": [
       "<div>\n",
       "<style scoped>\n",
       "    .dataframe tbody tr th:only-of-type {\n",
       "        vertical-align: middle;\n",
       "    }\n",
       "\n",
       "    .dataframe tbody tr th {\n",
       "        vertical-align: top;\n",
       "    }\n",
       "\n",
       "    .dataframe thead th {\n",
       "        text-align: right;\n",
       "    }\n",
       "</style>\n",
       "<table border=\"1\" class=\"dataframe\">\n",
       "  <thead>\n",
       "    <tr style=\"text-align: right;\">\n",
       "      <th></th>\n",
       "      <th>Close</th>\n",
       "      <th>Yesterday Close</th>\n",
       "      <th>Price Difference</th>\n",
       "    </tr>\n",
       "    <tr>\n",
       "      <th>Date</th>\n",
       "      <th></th>\n",
       "      <th></th>\n",
       "      <th></th>\n",
       "    </tr>\n",
       "  </thead>\n",
       "  <tbody>\n",
       "    <tr>\n",
       "      <th>2017-08-07</th>\n",
       "      <td>72.400002</td>\n",
       "      <td>NaN</td>\n",
       "      <td>NaN</td>\n",
       "    </tr>\n",
       "    <tr>\n",
       "      <th>2017-08-08</th>\n",
       "      <td>72.790001</td>\n",
       "      <td>72.400002</td>\n",
       "      <td>0.389999</td>\n",
       "    </tr>\n",
       "    <tr>\n",
       "      <th>2017-08-09</th>\n",
       "      <td>72.470001</td>\n",
       "      <td>72.790001</td>\n",
       "      <td>-0.320000</td>\n",
       "    </tr>\n",
       "    <tr>\n",
       "      <th>2017-08-10</th>\n",
       "      <td>71.410004</td>\n",
       "      <td>72.470001</td>\n",
       "      <td>-1.059998</td>\n",
       "    </tr>\n",
       "    <tr>\n",
       "      <th>2017-08-11</th>\n",
       "      <td>72.500000</td>\n",
       "      <td>71.410004</td>\n",
       "      <td>1.089996</td>\n",
       "    </tr>\n",
       "  </tbody>\n",
       "</table>\n",
       "</div>"
      ],
      "text/plain": [
       "                Close  Yesterday Close  Price Difference\n",
       "Date                                                    \n",
       "2017-08-07  72.400002              NaN               NaN\n",
       "2017-08-08  72.790001        72.400002          0.389999\n",
       "2017-08-09  72.470001        72.790001         -0.320000\n",
       "2017-08-10  71.410004        72.470001         -1.059998\n",
       "2017-08-11  72.500000        71.410004          1.089996"
      ]
     },
     "execution_count": 10,
     "metadata": {},
     "output_type": "execute_result"
    }
   ],
   "source": [
    "ms.head()"
   ]
  },
  {
   "cell_type": "markdown",
   "metadata": {},
   "source": [
    "차분한 값으로부터 원래의 값 복원하기"
   ]
  },
  {
   "cell_type": "code",
   "execution_count": 11,
   "metadata": {},
   "outputs": [
    {
     "data": {
      "text/plain": [
       "Date\n",
       "2017-08-07           NaN\n",
       "2017-08-08     72.790001\n",
       "2017-08-09     72.470001\n",
       "2017-08-10     71.410004\n",
       "2017-08-11     72.500000\n",
       "                 ...    \n",
       "2022-08-01    278.010010\n",
       "2022-08-02    274.820007\n",
       "2022-08-03    282.470001\n",
       "2022-08-04    283.649994\n",
       "2022-08-05    282.910004\n",
       "Name: Price Difference, Length: 1259, dtype: float64"
      ]
     },
     "execution_count": 11,
     "metadata": {},
     "output_type": "execute_result"
    }
   ],
   "source": [
    "ms['Price Difference'].cumsum() + ms['Close'][0]"
   ]
  },
  {
   "cell_type": "markdown",
   "metadata": {},
   "source": [
    "## 일일 수익률 계산\n",
    "\n",
    "- 1 주를 계속 보유하였다고 가정.  \n",
    "\n",
    "\n",
    "- 계산 방법. \n",
    "\n",
    "- Daily Return = df/df.shift(1) - 1  \n",
    "    or\n",
    "- Daily Return[1:] = df[1:] / df[:-1].values - 1  \n",
    "    or    \n",
    "- Daily Return = df.pct_chage()"
   ]
  },
  {
   "cell_type": "code",
   "execution_count": 12,
   "metadata": {},
   "outputs": [
    {
     "data": {
      "text/html": [
       "<div>\n",
       "<style scoped>\n",
       "    .dataframe tbody tr th:only-of-type {\n",
       "        vertical-align: middle;\n",
       "    }\n",
       "\n",
       "    .dataframe tbody tr th {\n",
       "        vertical-align: top;\n",
       "    }\n",
       "\n",
       "    .dataframe thead th {\n",
       "        text-align: right;\n",
       "    }\n",
       "</style>\n",
       "<table border=\"1\" class=\"dataframe\">\n",
       "  <thead>\n",
       "    <tr style=\"text-align: right;\">\n",
       "      <th></th>\n",
       "      <th>Close</th>\n",
       "      <th>Yesterday Close</th>\n",
       "      <th>Price Difference</th>\n",
       "      <th>Return</th>\n",
       "    </tr>\n",
       "    <tr>\n",
       "      <th>Date</th>\n",
       "      <th></th>\n",
       "      <th></th>\n",
       "      <th></th>\n",
       "      <th></th>\n",
       "    </tr>\n",
       "  </thead>\n",
       "  <tbody>\n",
       "    <tr>\n",
       "      <th>2017-08-07</th>\n",
       "      <td>72.400002</td>\n",
       "      <td>NaN</td>\n",
       "      <td>NaN</td>\n",
       "      <td>NaN</td>\n",
       "    </tr>\n",
       "    <tr>\n",
       "      <th>2017-08-08</th>\n",
       "      <td>72.790001</td>\n",
       "      <td>72.400002</td>\n",
       "      <td>0.389999</td>\n",
       "      <td>0.005387</td>\n",
       "    </tr>\n",
       "    <tr>\n",
       "      <th>2017-08-09</th>\n",
       "      <td>72.470001</td>\n",
       "      <td>72.790001</td>\n",
       "      <td>-0.320000</td>\n",
       "      <td>-0.004396</td>\n",
       "    </tr>\n",
       "    <tr>\n",
       "      <th>2017-08-10</th>\n",
       "      <td>71.410004</td>\n",
       "      <td>72.470001</td>\n",
       "      <td>-1.059998</td>\n",
       "      <td>-0.014627</td>\n",
       "    </tr>\n",
       "    <tr>\n",
       "      <th>2017-08-11</th>\n",
       "      <td>72.500000</td>\n",
       "      <td>71.410004</td>\n",
       "      <td>1.089996</td>\n",
       "      <td>0.015264</td>\n",
       "    </tr>\n",
       "  </tbody>\n",
       "</table>\n",
       "</div>"
      ],
      "text/plain": [
       "                Close  Yesterday Close  Price Difference    Return\n",
       "Date                                                              \n",
       "2017-08-07  72.400002              NaN               NaN       NaN\n",
       "2017-08-08  72.790001        72.400002          0.389999  0.005387\n",
       "2017-08-09  72.470001        72.790001         -0.320000 -0.004396\n",
       "2017-08-10  71.410004        72.470001         -1.059998 -0.014627\n",
       "2017-08-11  72.500000        71.410004          1.089996  0.015264"
      ]
     },
     "execution_count": 12,
     "metadata": {},
     "output_type": "execute_result"
    }
   ],
   "source": [
    "ms['Return'] = ms['Close'] / ms['Yesterday Close'] - 1\n",
    "ms.head()"
   ]
  },
  {
   "cell_type": "code",
   "execution_count": 13,
   "metadata": {},
   "outputs": [
    {
     "data": {
      "text/html": [
       "<div>\n",
       "<style scoped>\n",
       "    .dataframe tbody tr th:only-of-type {\n",
       "        vertical-align: middle;\n",
       "    }\n",
       "\n",
       "    .dataframe tbody tr th {\n",
       "        vertical-align: top;\n",
       "    }\n",
       "\n",
       "    .dataframe thead th {\n",
       "        text-align: right;\n",
       "    }\n",
       "</style>\n",
       "<table border=\"1\" class=\"dataframe\">\n",
       "  <thead>\n",
       "    <tr style=\"text-align: right;\">\n",
       "      <th></th>\n",
       "      <th>Close</th>\n",
       "      <th>Yesterday Close</th>\n",
       "      <th>Price Difference</th>\n",
       "      <th>Return</th>\n",
       "    </tr>\n",
       "    <tr>\n",
       "      <th>Date</th>\n",
       "      <th></th>\n",
       "      <th></th>\n",
       "      <th></th>\n",
       "      <th></th>\n",
       "    </tr>\n",
       "  </thead>\n",
       "  <tbody>\n",
       "    <tr>\n",
       "      <th>2022-08-01</th>\n",
       "      <td>278.010010</td>\n",
       "      <td>280.739990</td>\n",
       "      <td>-2.729980</td>\n",
       "      <td>-0.009724</td>\n",
       "    </tr>\n",
       "    <tr>\n",
       "      <th>2022-08-02</th>\n",
       "      <td>274.820007</td>\n",
       "      <td>278.010010</td>\n",
       "      <td>-3.190002</td>\n",
       "      <td>-0.011474</td>\n",
       "    </tr>\n",
       "    <tr>\n",
       "      <th>2022-08-03</th>\n",
       "      <td>282.470001</td>\n",
       "      <td>274.820007</td>\n",
       "      <td>7.649994</td>\n",
       "      <td>0.027836</td>\n",
       "    </tr>\n",
       "    <tr>\n",
       "      <th>2022-08-04</th>\n",
       "      <td>283.649994</td>\n",
       "      <td>282.470001</td>\n",
       "      <td>1.179993</td>\n",
       "      <td>0.004177</td>\n",
       "    </tr>\n",
       "    <tr>\n",
       "      <th>2022-08-05</th>\n",
       "      <td>282.910004</td>\n",
       "      <td>283.649994</td>\n",
       "      <td>-0.739990</td>\n",
       "      <td>-0.002609</td>\n",
       "    </tr>\n",
       "  </tbody>\n",
       "</table>\n",
       "</div>"
      ],
      "text/plain": [
       "                 Close  Yesterday Close  Price Difference    Return\n",
       "Date                                                               \n",
       "2022-08-01  278.010010       280.739990         -2.729980 -0.009724\n",
       "2022-08-02  274.820007       278.010010         -3.190002 -0.011474\n",
       "2022-08-03  282.470001       274.820007          7.649994  0.027836\n",
       "2022-08-04  283.649994       282.470001          1.179993  0.004177\n",
       "2022-08-05  282.910004       283.649994         -0.739990 -0.002609"
      ]
     },
     "execution_count": 13,
     "metadata": {},
     "output_type": "execute_result"
    }
   ],
   "source": [
    "ms.tail()"
   ]
  },
  {
   "cell_type": "code",
   "execution_count": 14,
   "metadata": {},
   "outputs": [
    {
     "data": {
      "text/plain": [
       "Date\n",
       "2017-08-08    0.005387\n",
       "2017-08-09   -0.004396\n",
       "2017-08-10   -0.014627\n",
       "2017-08-11    0.015264\n",
       "2017-08-14    0.015034\n",
       "                ...   \n",
       "2022-08-01   -0.009724\n",
       "2022-08-02   -0.011474\n",
       "2022-08-03    0.027836\n",
       "2022-08-04    0.004177\n",
       "2022-08-05   -0.002609\n",
       "Name: Close, Length: 1258, dtype: float64"
      ]
     },
     "execution_count": 14,
     "metadata": {},
     "output_type": "execute_result"
    }
   ],
   "source": [
    "ms['Close'][1:] / ms['Close'][:-1].values - 1"
   ]
  },
  {
   "cell_type": "code",
   "execution_count": 15,
   "metadata": {},
   "outputs": [
    {
     "data": {
      "text/plain": [
       "Date\n",
       "2017-08-07         NaN\n",
       "2017-08-08    0.005387\n",
       "2017-08-09   -0.004396\n",
       "2017-08-10   -0.014627\n",
       "2017-08-11    0.015264\n",
       "                ...   \n",
       "2022-08-01   -0.009724\n",
       "2022-08-02   -0.011474\n",
       "2022-08-03    0.027836\n",
       "2022-08-04    0.004177\n",
       "2022-08-05   -0.002609\n",
       "Name: Close, Length: 1259, dtype: float64"
      ]
     },
     "execution_count": 15,
     "metadata": {},
     "output_type": "execute_result"
    }
   ],
   "source": [
    "ms['Close'].pct_change()"
   ]
  },
  {
   "cell_type": "code",
   "execution_count": 16,
   "metadata": {},
   "outputs": [
    {
     "name": "stdout",
     "output_type": "stream",
     "text": [
      "1825 일간 1 주를 계속 보유하였다면 누적 수익율은\n",
      "Date\n",
      "2017-08-07         NaN\n",
      "2017-08-08    1.005387\n",
      "2017-08-09    1.000967\n",
      "2017-08-10    0.986326\n",
      "2017-08-11    1.001381\n",
      "                ...   \n",
      "2022-08-01    3.839917\n",
      "2022-08-02    3.795856\n",
      "2022-08-03    3.901519\n",
      "2022-08-04    3.917818\n",
      "2022-08-05    3.907597\n",
      "Name: Return, Length: 1259, dtype: float64\n"
     ]
    }
   ],
   "source": [
    "print(f\"{len(pd.date_range(ms.index[0], ms.index[-1]))} 일간 1 주를 계속 보유하였다면 누적 수익율은\")\n",
    "print((1+ms['Return']).cumprod())"
   ]
  },
  {
   "cell_type": "markdown",
   "metadata": {},
   "source": [
    "## 이동평균 - Moving average\n",
    "\n",
    "- DataFrame.rolling()"
   ]
  },
  {
   "cell_type": "code",
   "execution_count": 17,
   "metadata": {},
   "outputs": [
    {
     "data": {
      "text/plain": [
       "Date\n",
       "2021-08-06           NaN\n",
       "2021-08-09           NaN\n",
       "2021-08-10    362.083333\n",
       "2021-08-11    360.899994\n",
       "2021-08-12    361.246663\n",
       "                 ...    \n",
       "2022-08-01    159.916667\n",
       "2022-08-02    159.740000\n",
       "2022-08-03    162.973333\n",
       "2022-08-04    166.520004\n",
       "2022-08-05    168.826670\n",
       "Name: Close, Length: 252, dtype: float64"
      ]
     },
     "execution_count": 17,
     "metadata": {},
     "output_type": "execute_result"
    }
   ],
   "source": [
    "# 3일 이동평균\n",
    "(fb['Close'] + fb['Close'].shift(1) + fb['Close'].shift(2)) / 3"
   ]
  },
  {
   "cell_type": "code",
   "execution_count": 18,
   "metadata": {},
   "outputs": [
    {
     "data": {
      "text/plain": [
       "Date\n",
       "2021-08-06           NaN\n",
       "2021-08-09           NaN\n",
       "2021-08-10    362.083333\n",
       "2021-08-11    360.899994\n",
       "2021-08-12    361.246663\n",
       "                 ...    \n",
       "2022-08-01    159.916667\n",
       "2022-08-02    159.740000\n",
       "2022-08-03    162.973333\n",
       "2022-08-04    166.520004\n",
       "2022-08-05    168.826670\n",
       "Name: Close, Length: 252, dtype: float64"
      ]
     },
     "execution_count": 18,
     "metadata": {},
     "output_type": "execute_result"
    }
   ],
   "source": [
    "fb['Close'].rolling(3).mean()"
   ]
  },
  {
   "cell_type": "markdown",
   "metadata": {},
   "source": [
    "### 이동평균 계산 및 이동평균선 시각화"
   ]
  },
  {
   "cell_type": "code",
   "execution_count": 19,
   "metadata": {},
   "outputs": [
    {
     "data": {
      "text/plain": [
       "<matplotlib.legend.Legend at 0x131e4573fd0>"
      ]
     },
     "execution_count": 19,
     "metadata": {},
     "output_type": "execute_result"
    },
    {
     "data": {
      "image/png": "[encoded data removed]",
      "text/plain": [
       "<Figure size 864x432 with 1 Axes>"
      ]
     },
     "metadata": {
      "needs_background": "light"
     },
     "output_type": "display_data"
    }
   ],
   "source": [
    "fb['ma30'] = fb['Close'].rolling(30).mean()\n",
    "fb['ma60'] = fb['Close'].rolling(60).mean()#plot the moving average\n",
    "\n",
    "#plot the moving average\n",
    "plt.figure(figsize=(12, 6))\n",
    "fb['ma30'].plot(label='MA30')\n",
    "fb['ma60'].plot(label='MA60')\n",
    "fb['Close'].plot(label='Close')\n",
    "plt.legend()"
   ]
  },
  {
   "cell_type": "code",
   "execution_count": 20,
   "metadata": {},
   "outputs": [
    {
     "data": {
      "image/png": "[encoded data removed]",
      "text/plain": [
       "<Figure size 864x432 with 1 Axes>"
      ]
     },
     "metadata": {
      "needs_background": "light"
     },
     "output_type": "display_data"
    }
   ],
   "source": [
    "#특정 기간을 slicing한 이동평균 plot\n",
    "plt.figure(figsize=(12, 6))\n",
    "fb['ma30'].loc['2021-01-01':'2021-12-31'].plot(label='MA30')\n",
    "fb['ma60'].loc['2021-01-01':'2021-12-31'].plot(label='MA60')\n",
    "fb['Close'].loc['2021-01-01':'2021-12-31'].plot(label='Close')\n",
    "plt.legend()\n",
    "plt.show()"
   ]
  },
  {
   "cell_type": "markdown",
   "metadata": {},
   "source": [
    "## EWMA (Exponentially-weighted moving average)\n",
    "\n",
    "\n",
    "SMA(Simple Moving Average)에는 몇 가지 \"약점\"이 있습니다.\n",
    "* window 가 작을수록 신호가 아닌 잡음이 증가합니다.\n",
    "* 항상 window 크기만큼 지연됩니다.\n",
    "* 평균화로 인해 데이터의 전체 피크 또는 계곡에 도달하지 않습니다.\n",
    "* 미래의 움직임에 대해 실제로 알려주지 않습니다. 실제로는 데이터의 trend를 묘사하는 것입니다.\n",
    "* 극단적인 historical value 로 인해 SMA가 크게 왜곡 될 수 있습니다.\n",
    "\n",
    "이러한 문제를 해결하기 위해 EWMA (지수 가중 이동 평균)를 사용할 수 있습니다."
   ]
  },
  {
   "cell_type": "code",
   "execution_count": 21,
   "metadata": {},
   "outputs": [
    {
     "data": {
      "text/html": [
       "<div>\n",
       "<style scoped>\n",
       "    .dataframe tbody tr th:only-of-type {\n",
       "        vertical-align: middle;\n",
       "    }\n",
       "\n",
       "    .dataframe tbody tr th {\n",
       "        vertical-align: top;\n",
       "    }\n",
       "\n",
       "    .dataframe thead th {\n",
       "        text-align: right;\n",
       "    }\n",
       "</style>\n",
       "<table border=\"1\" class=\"dataframe\">\n",
       "  <thead>\n",
       "    <tr style=\"text-align: right;\">\n",
       "      <th></th>\n",
       "      <th>Close</th>\n",
       "    </tr>\n",
       "    <tr>\n",
       "      <th>Date</th>\n",
       "      <th></th>\n",
       "    </tr>\n",
       "  </thead>\n",
       "  <tbody>\n",
       "    <tr>\n",
       "      <th>2019-12-31</th>\n",
       "      <td>73.412498</td>\n",
       "    </tr>\n",
       "    <tr>\n",
       "      <th>2020-01-02</th>\n",
       "      <td>75.087502</td>\n",
       "    </tr>\n",
       "    <tr>\n",
       "      <th>2020-01-03</th>\n",
       "      <td>74.357498</td>\n",
       "    </tr>\n",
       "    <tr>\n",
       "      <th>2020-01-06</th>\n",
       "      <td>74.949997</td>\n",
       "    </tr>\n",
       "    <tr>\n",
       "      <th>2020-01-07</th>\n",
       "      <td>74.597504</td>\n",
       "    </tr>\n",
       "  </tbody>\n",
       "</table>\n",
       "</div>"
      ],
      "text/plain": [
       "                Close\n",
       "Date                 \n",
       "2019-12-31  73.412498\n",
       "2020-01-02  75.087502\n",
       "2020-01-03  74.357498\n",
       "2020-01-06  74.949997\n",
       "2020-01-07  74.597504"
      ]
     },
     "execution_count": 21,
     "metadata": {},
     "output_type": "execute_result"
    }
   ],
   "source": [
    "df = yf.download('AAPL', start='2020-01-01', end='2020-06-30', progress=False)\n",
    "df.drop(['Open', 'High', 'Low', 'Adj Close', 'Volume'], axis=1, inplace=True)\n",
    "df.head()"
   ]
  },
  {
   "cell_type": "code",
   "execution_count": 22,
   "metadata": {},
   "outputs": [
    {
     "data": {
      "image/png": "[encoded data removed]",
      "text/plain": [
       "<Figure size 864x432 with 1 Axes>"
      ]
     },
     "metadata": {
      "needs_background": "light"
     },
     "output_type": "display_data"
    }
   ],
   "source": [
    "#SMA : Simple Moving Average\n",
    "\n",
    "df['SMA6'] = df['Close'].rolling(window=6).mean()\n",
    "df['SMA12'] = df['Close'].rolling(window=12).mean()\n",
    "df.plot(figsize=(12, 6));"
   ]
  },
  {
   "cell_type": "markdown",
   "metadata": {},
   "source": [
    "- EWMA를 사용하면 SMA의 지연 효과를 줄일 수 있으며 최근에 발생한 값에 더 많은 가중치를 적용합니다.  \n",
    "\n",
    "- 가장 최근 값에 적용되는 가중치는 EWMA에 사용된 실제 매개 변수와 window 크기로 지정된 기간에 따라 다릅니다.\n",
    "\n",
    "EWMA 공식은 다음과 같습니다.\n",
    "\n",
    "$$ y_t =   \\frac{\\sum\\limits_{i=0}^t w_i x_{t-i}}{\\sum\\limits_{i=0}^t w_i}$$\n",
    "\n",
    "$x_t$ 는 입력값, $w_i$ 는 적용된 weight (i=0 에서 t 사이로 변할 수 있음). $y_t$ 는 산출된 값입니다."
   ]
  },
  {
   "cell_type": "code",
   "execution_count": 26,
   "metadata": {},
   "outputs": [
    {
     "data": {
      "text/html": [
       "<div>\n",
       "<style scoped>\n",
       "    .dataframe tbody tr th:only-of-type {\n",
       "        vertical-align: middle;\n",
       "    }\n",
       "\n",
       "    .dataframe tbody tr th {\n",
       "        vertical-align: top;\n",
       "    }\n",
       "\n",
       "    .dataframe thead th {\n",
       "        text-align: right;\n",
       "    }\n",
       "</style>\n",
       "<table border=\"1\" class=\"dataframe\">\n",
       "  <thead>\n",
       "    <tr style=\"text-align: right;\">\n",
       "      <th></th>\n",
       "      <th>Close</th>\n",
       "      <th>SMA6</th>\n",
       "      <th>SMA12</th>\n",
       "      <th>EWMA12</th>\n",
       "    </tr>\n",
       "    <tr>\n",
       "      <th>Date</th>\n",
       "      <th></th>\n",
       "      <th></th>\n",
       "      <th></th>\n",
       "      <th></th>\n",
       "    </tr>\n",
       "  </thead>\n",
       "  <tbody>\n",
       "    <tr>\n",
       "      <th>2020-06-23</th>\n",
       "      <td>91.632500</td>\n",
       "      <td>88.771666</td>\n",
       "      <td>87.052082</td>\n",
       "      <td>87.036708</td>\n",
       "    </tr>\n",
       "    <tr>\n",
       "      <th>2020-06-24</th>\n",
       "      <td>90.014999</td>\n",
       "      <td>89.104167</td>\n",
       "      <td>87.606249</td>\n",
       "      <td>87.494907</td>\n",
       "    </tr>\n",
       "    <tr>\n",
       "      <th>2020-06-25</th>\n",
       "      <td>91.209999</td>\n",
       "      <td>89.656250</td>\n",
       "      <td>88.040624</td>\n",
       "      <td>88.066459</td>\n",
       "    </tr>\n",
       "    <tr>\n",
       "      <th>2020-06-26</th>\n",
       "      <td>88.407501</td>\n",
       "      <td>89.735416</td>\n",
       "      <td>88.057082</td>\n",
       "      <td>88.118927</td>\n",
       "    </tr>\n",
       "    <tr>\n",
       "      <th>2020-06-29</th>\n",
       "      <td>90.445000</td>\n",
       "      <td>90.237916</td>\n",
       "      <td>88.596249</td>\n",
       "      <td>88.476785</td>\n",
       "    </tr>\n",
       "  </tbody>\n",
       "</table>\n",
       "</div>"
      ],
      "text/plain": [
       "                Close       SMA6      SMA12     EWMA12\n",
       "Date                                                  \n",
       "2020-06-23  91.632500  88.771666  87.052082  87.036708\n",
       "2020-06-24  90.014999  89.104167  87.606249  87.494907\n",
       "2020-06-25  91.209999  89.656250  88.040624  88.066459\n",
       "2020-06-26  88.407501  89.735416  88.057082  88.118927\n",
       "2020-06-29  90.445000  90.237916  88.596249  88.476785"
      ]
     },
     "execution_count": 26,
     "metadata": {},
     "output_type": "execute_result"
    }
   ],
   "source": [
    "df['EWMA12'] = df['Close'].ewm(span=12).mean()\n",
    "df.tail()"
   ]
  },
  {
   "cell_type": "code",
   "execution_count": 27,
   "metadata": {},
   "outputs": [
    {
     "data": {
      "text/plain": [
       "<AxesSubplot:xlabel='Date'>"
      ]
     },
     "execution_count": 27,
     "metadata": {},
     "output_type": "execute_result"
    },
    {
     "data": {
      "image/png": "[encoded data removed]",
      "text/plain": [
       "<Figure size 864x432 with 1 Axes>"
      ]
     },
     "metadata": {
      "needs_background": "light"
     },
     "output_type": "display_data"
    }
   ],
   "source": [
    "df[['Close', 'EWMA12', 'SMA12']].plot(figsize=(12, 6))"
   ]
  },
  {
   "cell_type": "code",
   "execution_count": null,
   "metadata": {},
   "outputs": [],
   "source": []
  }
 ],
 "metadata": {
  "kernelspec": {
   "display_name": "Python 3",
   "language": "python",
   "name": "python3"
  },
  "language_info": {
   "codemirror_mode": {
    "name": "ipython",
    "version": 3
   },
   "file_extension": ".py",
   "mimetype": "text/x-python",
   "name": "python",
   "nbconvert_exporter": "python",
   "pygments_lexer": "ipython3",
   "version": "3.9.7"
  }
 },
 "nbformat": 4,
 "nbformat_minor": 2
}
