{
 "cells": [
  {
   "cell_type": "code",
   "execution_count": 132,
   "metadata": {},
   "outputs": [],
   "source": [
    "import FinanceDataReader as fdr\n",
    "import matplotlib.pyplot as plt\n",
    "import PIL.Image as Image\n",
    "import pandas as pd\n",
    "import numpy as np\n",
    "import time\n",
    "import os\n",
    "import tensorflow as tf\n",
    "from tensorflow.keras.models import load_model\n",
    "from datetime import timedelta\n",
    "from mpl_finance import candlestick_ohlc"
   ]
  },
  {
   "cell_type": "markdown",
   "metadata": {},
   "source": [
    "## Candle Chart image file 생성"
   ]
  },
  {
   "cell_type": "code",
   "execution_count": 72,
   "metadata": {},
   "outputs": [
    {
     "data": {
      "text/html": [
       "<div>\n",
       "<style scoped>\n",
       "    .dataframe tbody tr th:only-of-type {\n",
       "        vertical-align: middle;\n",
       "    }\n",
       "\n",
       "    .dataframe tbody tr th {\n",
       "        vertical-align: top;\n",
       "    }\n",
       "\n",
       "    .dataframe thead th {\n",
       "        text-align: right;\n",
       "    }\n",
       "</style>\n",
       "<table border=\"1\" class=\"dataframe\">\n",
       "  <thead>\n",
       "    <tr style=\"text-align: right;\">\n",
       "      <th></th>\n",
       "      <th>code</th>\n",
       "      <th>code_name</th>\n",
       "      <th>smarket</th>\n",
       "      <th>kospi200</th>\n",
       "    </tr>\n",
       "  </thead>\n",
       "  <tbody>\n",
       "    <tr>\n",
       "      <th>0</th>\n",
       "      <td>000020</td>\n",
       "      <td>동화약품</td>\n",
       "      <td>0</td>\n",
       "      <td>0</td>\n",
       "    </tr>\n",
       "    <tr>\n",
       "      <th>1</th>\n",
       "      <td>000030</td>\n",
       "      <td>우리은행</td>\n",
       "      <td>0</td>\n",
       "      <td>1</td>\n",
       "    </tr>\n",
       "    <tr>\n",
       "      <th>2</th>\n",
       "      <td>000040</td>\n",
       "      <td>KR모터스</td>\n",
       "      <td>0</td>\n",
       "      <td>0</td>\n",
       "    </tr>\n",
       "    <tr>\n",
       "      <th>3</th>\n",
       "      <td>000050</td>\n",
       "      <td>경방</td>\n",
       "      <td>0</td>\n",
       "      <td>0</td>\n",
       "    </tr>\n",
       "    <tr>\n",
       "      <th>4</th>\n",
       "      <td>000060</td>\n",
       "      <td>메리츠화재</td>\n",
       "      <td>0</td>\n",
       "      <td>0</td>\n",
       "    </tr>\n",
       "  </tbody>\n",
       "</table>\n",
       "</div>"
      ],
      "text/plain": [
       "     code code_name  smarket  kospi200\n",
       "0  000020      동화약품        0         0\n",
       "1  000030      우리은행        0         1\n",
       "2  000040     KR모터스        0         0\n",
       "3  000050        경방        0         0\n",
       "4  000060     메리츠화재        0         0"
      ]
     },
     "execution_count": 72,
     "metadata": {},
     "output_type": "execute_result"
    }
   ],
   "source": [
    "df = pd.read_csv(\"data/stockcode.csv\", index_col=0, encoding=\"cp949\")\n",
    "df.head()"
   ]
  },
  {
   "cell_type": "code",
   "execution_count": 73,
   "metadata": {},
   "outputs": [
    {
     "data": {
      "text/plain": [
       "array(['000030', '000070', '000080', '000100', '000120', '000150',\n",
       "       '000210', '000240', '000270', '000640'], dtype=object)"
      ]
     },
     "execution_count": 73,
     "metadata": {},
     "output_type": "execute_result"
    }
   ],
   "source": [
    "# tickers = [\"005930\", \"002000\", '068270', \"002380\", \"005320\"]\n",
    "tickers = df[df['kospi200'] == 1]['code'].values\n",
    "tickers[:10]"
   ]
  },
  {
   "cell_type": "code",
   "execution_count": 62,
   "metadata": {},
   "outputs": [],
   "source": [
    "# tickers = tickers[np.where(tickers > \"064960\")[0]]"
   ]
  },
  {
   "cell_type": "code",
   "execution_count": 116,
   "metadata": {},
   "outputs": [
    {
     "data": {
      "text/html": [
       "<div>\n",
       "<style scoped>\n",
       "    .dataframe tbody tr th:only-of-type {\n",
       "        vertical-align: middle;\n",
       "    }\n",
       "\n",
       "    .dataframe tbody tr th {\n",
       "        vertical-align: top;\n",
       "    }\n",
       "\n",
       "    .dataframe thead th {\n",
       "        text-align: right;\n",
       "    }\n",
       "</style>\n",
       "<table border=\"1\" class=\"dataframe\">\n",
       "  <thead>\n",
       "    <tr style=\"text-align: right;\">\n",
       "      <th></th>\n",
       "      <th>Open</th>\n",
       "      <th>High</th>\n",
       "      <th>Low</th>\n",
       "      <th>Close</th>\n",
       "      <th>Volume</th>\n",
       "      <th>Change</th>\n",
       "    </tr>\n",
       "    <tr>\n",
       "      <th>Date</th>\n",
       "      <th></th>\n",
       "      <th></th>\n",
       "      <th></th>\n",
       "      <th></th>\n",
       "      <th></th>\n",
       "      <th></th>\n",
       "    </tr>\n",
       "  </thead>\n",
       "  <tbody>\n",
       "    <tr>\n",
       "      <th>2018-07-13</th>\n",
       "      <td>59800</td>\n",
       "      <td>59800</td>\n",
       "      <td>47050</td>\n",
       "      <td>55600</td>\n",
       "      <td>1497451</td>\n",
       "      <td>NaN</td>\n",
       "    </tr>\n",
       "    <tr>\n",
       "      <th>2018-07-16</th>\n",
       "      <td>55300</td>\n",
       "      <td>58400</td>\n",
       "      <td>52500</td>\n",
       "      <td>55500</td>\n",
       "      <td>745751</td>\n",
       "      <td>-0.001799</td>\n",
       "    </tr>\n",
       "    <tr>\n",
       "      <th>2018-07-17</th>\n",
       "      <td>54000</td>\n",
       "      <td>65300</td>\n",
       "      <td>53100</td>\n",
       "      <td>60900</td>\n",
       "      <td>803024</td>\n",
       "      <td>0.097297</td>\n",
       "    </tr>\n",
       "    <tr>\n",
       "      <th>2018-07-18</th>\n",
       "      <td>60600</td>\n",
       "      <td>66200</td>\n",
       "      <td>60500</td>\n",
       "      <td>61600</td>\n",
       "      <td>662837</td>\n",
       "      <td>0.011494</td>\n",
       "    </tr>\n",
       "    <tr>\n",
       "      <th>2018-07-19</th>\n",
       "      <td>62400</td>\n",
       "      <td>63100</td>\n",
       "      <td>58500</td>\n",
       "      <td>61700</td>\n",
       "      <td>329582</td>\n",
       "      <td>0.001623</td>\n",
       "    </tr>\n",
       "  </tbody>\n",
       "</table>\n",
       "</div>"
      ],
      "text/plain": [
       "             Open   High    Low  Close   Volume    Change\n",
       "Date                                                     \n",
       "2018-07-13  59800  59800  47050  55600  1497451       NaN\n",
       "2018-07-16  55300  58400  52500  55500   745751 -0.001799\n",
       "2018-07-17  54000  65300  53100  60900   803024  0.097297\n",
       "2018-07-18  60600  66200  60500  61600   662837  0.011494\n",
       "2018-07-19  62400  63100  58500  61700   329582  0.001623"
      ]
     },
     "execution_count": 116,
     "metadata": {},
     "output_type": "execute_result"
    }
   ],
   "source": [
    "ticker = tickers[-1]\n",
    "df = fdr.DataReader(ticker)\n",
    "df.head()"
   ]
  },
  {
   "cell_type": "code",
   "execution_count": 107,
   "metadata": {},
   "outputs": [],
   "source": [
    "path = \"candle_backtest\"\n",
    "if not os.path.exists(path):\n",
    "    os.mkdir(path)\n",
    "    os.mkdir(path+\"/ups\")\n",
    "    os.mkdir(path+\"/downs\")"
   ]
  },
  {
   "cell_type": "code",
   "execution_count": 122,
   "metadata": {},
   "outputs": [
    {
     "data": {
      "text/plain": [
       "Timestamp('2019-01-02 00:00:00')"
      ]
     },
     "execution_count": 122,
     "metadata": {},
     "output_type": "execute_result"
    }
   ],
   "source": [
    "df[\"2019-01-01\":].index[0]"
   ]
  },
  {
   "cell_type": "code",
   "execution_count": 126,
   "metadata": {},
   "outputs": [],
   "source": [
    "def infer_updown(df, start_date, future = 5, window = 180, return_ratio = 1.03):\n",
    "    \n",
    "    start_idx = df[start_date:].index[0]\n",
    "    sec = df.loc[start_idx:start_idx + timedelta(window+future)]\n",
    "    \n",
    "    fig, ax = plt.subplots(1, 1, figsize=(6, 4))\n",
    "    x = np.arange(len(sec.index))\n",
    "    ohlc = sec[['Open', 'High', 'Low', 'Close']].astype(int).values\n",
    "    dohlc = np.hstack((np.reshape(x, (-1, 1)), ohlc))\n",
    "\n",
    "    candlestick_ohlc(ax, dohlc, width=0.5, colorup='r', colordown='b')\n",
    "    plt.xticks([])\n",
    "    plt.yticks([])\n",
    "\n",
    "    last_price = df.loc[sec.index[0]+timedelta(window)]['Close']\n",
    "\n",
    "    future_price = sec.tail(1)['Close'].values[0]\n",
    "\n",
    "    if future_price > last_price * return_ratio:\n",
    "        plt.savefig(f'{path}/ups/{ticker}.png')\n",
    "        print(f'{path}/ups/{ticker}{seq}.png....last',\n",
    "              f'last price={last_price}, future price={future_price}')\n",
    "    else:\n",
    "        plt.savefig(f'{path}/downs/{ticker}.png')\n",
    "        print(f'{path}/downs/{ticker}.png....',\n",
    "              f'last price={last_price}, future price={future_price}')"
   ]
  },
  {
   "cell_type": "code",
   "execution_count": 127,
   "metadata": {},
   "outputs": [
    {
     "name": "stdout",
     "output_type": "stream",
     "text": [
      "candle_backtest/downs/298040.png.... last price=34500.0, future price=33200\n"
     ]
    },
    {
     "data": {
      "image/png": "[encoded data removed]",
      "text/plain": [
       "<Figure size 432x288 with 1 Axes>"
      ]
     },
     "metadata": {},
     "output_type": "display_data"
    }
   ],
   "source": [
    "infer_updown(df, \"2019-01-01\")"
   ]
  },
  {
   "cell_type": "code",
   "execution_count": 128,
   "metadata": {},
   "outputs": [],
   "source": [
    "folder = \"1636283848\"\n",
    "path = \"/Users/ohyoungjea/Google Drive/내 드라이브/saved_models/{}\".format(folder)\n",
    "\n",
    "reloaded = tf.keras.models.load_model(path)"
   ]
  },
  {
   "cell_type": "code",
   "execution_count": 129,
   "metadata": {},
   "outputs": [
    {
     "data": {
      "image/png": "[encoded data removed]",
      "text/plain": [
       "<PIL.Image.Image image mode=RGBA size=224x224 at 0x7FAACA4A2C50>"
      ]
     },
     "execution_count": 129,
     "metadata": {},
     "output_type": "execute_result"
    }
   ],
   "source": [
    "IMAGE_SHAPE = (224, 224)\n",
    "\n",
    "data_path = \\\n",
    "    \"/Users/ohyoungjea/OneDrive/Finance_ML_Lecture/candle_backtest/downs/298040.png\"\n",
    "\n",
    "test_img = Image.open(data_path).resize(IMAGE_SHAPE)\n",
    "test_img"
   ]
  },
  {
   "cell_type": "code",
   "execution_count": 130,
   "metadata": {},
   "outputs": [
    {
     "data": {
      "text/plain": [
       "(224, 224, 3)"
      ]
     },
     "execution_count": 130,
     "metadata": {},
     "output_type": "execute_result"
    }
   ],
   "source": [
    "input_img = np.array(test_img)/255.0\n",
    "input_img = input_img[:, :, :3]\n",
    "input_img.shape"
   ]
  },
  {
   "cell_type": "code",
   "execution_count": 131,
   "metadata": {},
   "outputs": [
    {
     "data": {
      "text/plain": [
       "array([[0.7896055 , 0.21039452]], dtype=float32)"
      ]
     },
     "execution_count": 131,
     "metadata": {},
     "output_type": "execute_result"
    }
   ],
   "source": [
    "y_pred = reloaded.predict(input_img[np.newaxis, ...])\n",
    "y_pred"
   ]
  },
  {
   "cell_type": "code",
   "execution_count": null,
   "metadata": {},
   "outputs": [],
   "source": []
  }
 ],
 "metadata": {
  "kernelspec": {
   "display_name": "Python 3",
   "language": "python",
   "name": "python3"
  },
  "language_info": {
   "codemirror_mode": {
    "name": "ipython",
    "version": 3
   },
   "file_extension": ".py",
   "mimetype": "text/x-python",
   "name": "python",
   "nbconvert_exporter": "python",
   "pygments_lexer": "ipython3",
   "version": "3.7.10"
  }
 },
 "nbformat": 4,
 "nbformat_minor": 2
}
