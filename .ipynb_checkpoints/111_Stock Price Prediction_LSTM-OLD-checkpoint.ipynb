{
 "cells": [
  {
   "cell_type": "markdown",
   "id": "whole-religion",
   "metadata": {},
   "source": [
    "# LSTM을 이용한 주가 예측"
   ]
  },
  {
   "cell_type": "code",
   "execution_count": 1,
   "id": "streaming-prefix",
   "metadata": {},
   "outputs": [],
   "source": [
    "import pandas as pd\n",
    "import numpy as np\n",
    "import matplotlib.pyplot as plt\n",
    "\n",
    "import yfinance as yf\n",
    "\n",
    "import tensorflow as tf\n",
    "from tensorflow.keras.models import Sequential\n",
    "from tensorflow.keras.layers import LSTM,Dropout,Dense, Lambda"
   ]
  },
  {
   "cell_type": "markdown",
   "id": "signed-temperature",
   "metadata": {},
   "source": [
    "- Apple 주식 가격 예측"
   ]
  },
  {
   "cell_type": "code",
   "execution_count": 2,
   "id": "alert-brand",
   "metadata": {},
   "outputs": [
    {
     "data": {
      "text/html": [
       "<div>\n",
       "<style scoped>\n",
       "    .dataframe tbody tr th:only-of-type {\n",
       "        vertical-align: middle;\n",
       "    }\n",
       "\n",
       "    .dataframe tbody tr th {\n",
       "        vertical-align: top;\n",
       "    }\n",
       "\n",
       "    .dataframe thead th {\n",
       "        text-align: right;\n",
       "    }\n",
       "</style>\n",
       "<table border=\"1\" class=\"dataframe\">\n",
       "  <thead>\n",
       "    <tr style=\"text-align: right;\">\n",
       "      <th></th>\n",
       "      <th>Open</th>\n",
       "      <th>High</th>\n",
       "      <th>Low</th>\n",
       "      <th>Close</th>\n",
       "      <th>Adj Close</th>\n",
       "      <th>Volume</th>\n",
       "    </tr>\n",
       "    <tr>\n",
       "      <th>Date</th>\n",
       "      <th></th>\n",
       "      <th></th>\n",
       "      <th></th>\n",
       "      <th></th>\n",
       "      <th></th>\n",
       "      <th></th>\n",
       "    </tr>\n",
       "  </thead>\n",
       "  <tbody>\n",
       "    <tr>\n",
       "      <th>2018-01-02</th>\n",
       "      <td>42.540001</td>\n",
       "      <td>43.075001</td>\n",
       "      <td>42.314999</td>\n",
       "      <td>43.064999</td>\n",
       "      <td>41.075405</td>\n",
       "      <td>102223600</td>\n",
       "    </tr>\n",
       "    <tr>\n",
       "      <th>2018-01-03</th>\n",
       "      <td>43.132500</td>\n",
       "      <td>43.637501</td>\n",
       "      <td>42.990002</td>\n",
       "      <td>43.057499</td>\n",
       "      <td>41.068256</td>\n",
       "      <td>118071600</td>\n",
       "    </tr>\n",
       "    <tr>\n",
       "      <th>2018-01-04</th>\n",
       "      <td>43.134998</td>\n",
       "      <td>43.367500</td>\n",
       "      <td>43.020000</td>\n",
       "      <td>43.257500</td>\n",
       "      <td>41.259010</td>\n",
       "      <td>89738400</td>\n",
       "    </tr>\n",
       "    <tr>\n",
       "      <th>2018-01-05</th>\n",
       "      <td>43.360001</td>\n",
       "      <td>43.842499</td>\n",
       "      <td>43.262501</td>\n",
       "      <td>43.750000</td>\n",
       "      <td>41.728756</td>\n",
       "      <td>94640000</td>\n",
       "    </tr>\n",
       "    <tr>\n",
       "      <th>2018-01-08</th>\n",
       "      <td>43.587502</td>\n",
       "      <td>43.902500</td>\n",
       "      <td>43.482498</td>\n",
       "      <td>43.587502</td>\n",
       "      <td>41.573769</td>\n",
       "      <td>82271200</td>\n",
       "    </tr>\n",
       "  </tbody>\n",
       "</table>\n",
       "</div>"
      ],
      "text/plain": [
       "                 Open       High        Low      Close  Adj Close     Volume\n",
       "Date                                                                        \n",
       "2018-01-02  42.540001  43.075001  42.314999  43.064999  41.075405  102223600\n",
       "2018-01-03  43.132500  43.637501  42.990002  43.057499  41.068256  118071600\n",
       "2018-01-04  43.134998  43.367500  43.020000  43.257500  41.259010   89738400\n",
       "2018-01-05  43.360001  43.842499  43.262501  43.750000  41.728756   94640000\n",
       "2018-01-08  43.587502  43.902500  43.482498  43.587502  41.573769   82271200"
      ]
     },
     "execution_count": 2,
     "metadata": {},
     "output_type": "execute_result"
    }
   ],
   "source": [
    "aapl = yf.download('AAPL', start='2018-01-01', end='2021-12-31', progress=False)\n",
    "aapl.head()"
   ]
  },
  {
   "cell_type": "code",
   "execution_count": 3,
   "id": "dcf5e005",
   "metadata": {},
   "outputs": [
    {
     "data": {
      "text/plain": [
       "<AxesSubplot:xlabel='Date'>"
      ]
     },
     "execution_count": 3,
     "metadata": {},
     "output_type": "execute_result"
    },
    {
     "data": {
      "image/png": "[encoded data removed]",
      "text/plain": [
       "<Figure size 432x288 with 1 Axes>"
      ]
     },
     "metadata": {
      "needs_background": "light"
     },
     "output_type": "display_data"
    }
   ],
   "source": [
    "aapl.Close.plot()"
   ]
  },
  {
   "cell_type": "markdown",
   "id": "thorough-collectible",
   "metadata": {},
   "source": [
    "LSTM layer로 하려고 하는 것은 지난 window-size 일(즉, t-window에서 t-1까지)의 역사적 가격을 사용하여 시간 t의 가격을 예측하는 것입니다. 정확한 가격이 아닌 추세를 파악하기 위해 노력할 것임을 명심하십시오."
   ]
  },
  {
   "cell_type": "markdown",
   "id": "european-darkness",
   "metadata": {},
   "source": [
    "- training dataset 생성"
   ]
  },
  {
   "cell_type": "code",
   "execution_count": 4,
   "id": "falling-subcommittee",
   "metadata": {},
   "outputs": [
    {
     "data": {
      "text/plain": [
       "(1007, 6)"
      ]
     },
     "execution_count": 4,
     "metadata": {},
     "output_type": "execute_result"
    }
   ],
   "source": [
    "aapl.shape"
   ]
  },
  {
   "cell_type": "code",
   "execution_count": 29,
   "id": "animated-request",
   "metadata": {},
   "outputs": [],
   "source": [
    "hist = []\n",
    "target = []\n",
    "\n",
    "window = 3\n",
    "close = aapl['Close'].values\n",
    "\n",
    "for i in range(len(close) - window):\n",
    "    x = close[i:i+window]\n",
    "    y = close[i+window]\n",
    "    hist.append(x)\n",
    "    target.append(y)"
   ]
  },
  {
   "cell_type": "code",
   "execution_count": 30,
   "id": "99322634",
   "metadata": {},
   "outputs": [
    {
     "data": {
      "text/plain": [
       "array([43.06499863, 43.05749893, 43.25749969, 43.75      , 43.58750153,\n",
       "       43.58250046, 43.57249832, 43.81999969, 44.27249908, 44.04750061])"
      ]
     },
     "execution_count": 30,
     "metadata": {},
     "output_type": "execute_result"
    }
   ],
   "source": [
    "close[:10]"
   ]
  },
  {
   "cell_type": "code",
   "execution_count": 31,
   "id": "72e84850",
   "metadata": {},
   "outputs": [
    {
     "data": {
      "text/plain": [
       "[array([43.06499863, 43.05749893, 43.25749969]),\n",
       " array([43.05749893, 43.25749969, 43.75      ]),\n",
       " array([43.25749969, 43.75      , 43.58750153]),\n",
       " array([43.75      , 43.58750153, 43.58250046]),\n",
       " array([43.58750153, 43.58250046, 43.57249832])]"
      ]
     },
     "execution_count": 31,
     "metadata": {},
     "output_type": "execute_result"
    }
   ],
   "source": [
    "hist[:5]"
   ]
  },
  {
   "cell_type": "code",
   "execution_count": 32,
   "id": "6047fb7a",
   "metadata": {},
   "outputs": [
    {
     "data": {
      "text/plain": [
       "[43.75,\n",
       " 43.587501525878906,\n",
       " 43.58250045776367,\n",
       " 43.5724983215332,\n",
       " 43.81999969482422]"
      ]
     },
     "execution_count": 32,
     "metadata": {},
     "output_type": "execute_result"
    }
   ],
   "source": [
    "target[:5]"
   ]
  },
  {
   "cell_type": "markdown",
   "id": "accomplished-phenomenon",
   "metadata": {},
   "source": [
    "** train data가 잘 만들어 졌는지 확인하는 Tip** \n",
    "\n",
    "- hist의 각 element는 window개 timestep의 list입니다. 1씩 증가하기 때문에 hist의 **두 번째 element의 마지막 항목**은 target의 **첫 번째 element**와 같아야 합니다. 또한 **마지막 element의 마지막 항목**은 target의 마지막 2번째 element와 같아야 합니다."
   ]
  },
  {
   "cell_type": "code",
   "execution_count": 33,
   "id": "cognitive-shuttle",
   "metadata": {},
   "outputs": [
    {
     "data": {
      "text/plain": [
       "True"
      ]
     },
     "execution_count": 33,
     "metadata": {},
     "output_type": "execute_result"
    }
   ],
   "source": [
    "hist[1][-1] == target[0]"
   ]
  },
  {
   "cell_type": "code",
   "execution_count": 34,
   "id": "18b106e2",
   "metadata": {},
   "outputs": [
    {
     "data": {
      "text/plain": [
       "True"
      ]
     },
     "execution_count": 34,
     "metadata": {},
     "output_type": "execute_result"
    }
   ],
   "source": [
    "hist[-1][-1] == target[-2]"
   ]
  },
  {
   "cell_type": "markdown",
   "id": "b8338499",
   "metadata": {},
   "source": [
    "hist와 target을 numpy matrix format으로 변경"
   ]
  },
  {
   "cell_type": "code",
   "execution_count": 37,
   "id": "retained-throw",
   "metadata": {},
   "outputs": [
    {
     "name": "stdout",
     "output_type": "stream",
     "text": [
      "(1004, 3)\n",
      "(1004, 1)\n"
     ]
    }
   ],
   "source": [
    "hist = np.array(hist)\n",
    "target = np.array(target)\n",
    "target = target.reshape(-1, 1)\n",
    "\n",
    "print(hist.shape)\n",
    "print(target.shape)"
   ]
  },
  {
   "cell_type": "code",
   "execution_count": 38,
   "id": "hungarian-champagne",
   "metadata": {},
   "outputs": [
    {
     "data": {
      "text/plain": [
       "904"
      ]
     },
     "execution_count": 38,
     "metadata": {},
     "output_type": "execute_result"
    }
   ],
   "source": [
    "len(hist) - 100"
   ]
  },
  {
   "cell_type": "markdown",
   "id": "continued-alpha",
   "metadata": {},
   "source": [
    "`len(hist) - 100`일의 데이터로 모델을 학습시키고 다음 100일의 데이터로 테스트하는 방식으로 데이터를 분할합니다.\n",
    "### train/test split"
   ]
  },
  {
   "cell_type": "code",
   "execution_count": 39,
   "id": "tired-easter",
   "metadata": {},
   "outputs": [],
   "source": [
    "split = len(hist) - 100\n",
    "X_train = hist[:split]\n",
    "X_test = hist[split:]\n",
    "y_train = target[:split]\n",
    "y_test = target[split:]"
   ]
  },
  {
   "cell_type": "code",
   "execution_count": 40,
   "id": "ba0be369",
   "metadata": {},
   "outputs": [
    {
     "data": {
      "text/plain": [
       "((904, 3, 1), (100, 3))"
      ]
     },
     "execution_count": 40,
     "metadata": {},
     "output_type": "execute_result"
    }
   ],
   "source": [
    "X_train = X_train.reshape(-1, window, 1)\n",
    "X_tes = X_test.reshape(-1, window, 1)\n",
    "\n",
    "X_train.shape, X_test.shape"
   ]
  },
  {
   "cell_type": "markdown",
   "id": "working-diana",
   "metadata": {},
   "source": [
    "- model 생성 및 fitting"
   ]
  },
  {
   "cell_type": "code",
   "execution_count": 52,
   "id": "continent-consistency",
   "metadata": {},
   "outputs": [
    {
     "name": "stdout",
     "output_type": "stream",
     "text": [
      "Model: \"sequential_1\"\n",
      "_________________________________________________________________\n",
      " Layer (type)                Output Shape              Param #   \n",
      "=================================================================\n",
      " lstm_3 (LSTM)               (None, 3, 64)             16896     \n",
      "                                                                 \n",
      " lstm_4 (LSTM)               (None, 3, 32)             12416     \n",
      "                                                                 \n",
      " lstm_5 (LSTM)               (None, 16)                3136      \n",
      "                                                                 \n",
      " dense_1 (Dense)             (None, 1)                 17        \n",
      "                                                                 \n",
      " lambda_1 (Lambda)           (None, 1)                 0         \n",
      "                                                                 \n",
      "=================================================================\n",
      "Total params: 32,465\n",
      "Trainable params: 32,465\n",
      "Non-trainable params: 0\n",
      "_________________________________________________________________\n"
     ]
    }
   ],
   "source": [
    "model = tf.keras.Sequential()\n",
    "model.add(LSTM(units=64, return_sequences=True, input_shape=(window, 1)))\n",
    "model.add(LSTM(units=32, return_sequences=True))\n",
    "model.add(LSTM(units=16))\n",
    "model.add(Dense(units=1))\n",
    "model.add(Lambda(lambda x: x * 100))\n",
    "\n",
    "model.summary()"
   ]
  },
  {
   "cell_type": "code",
   "execution_count": 53,
   "id": "generic-stress",
   "metadata": {},
   "outputs": [],
   "source": [
    "model.compile(optimizer='adam', loss='mean_squared_error', metrics=['mae'])"
   ]
  },
  {
   "cell_type": "code",
   "execution_count": 54,
   "id": "taken-grave",
   "metadata": {
    "scrolled": true
   },
   "outputs": [
    {
     "name": "stdout",
     "output_type": "stream",
     "text": [
      "Epoch 1/50\n",
      "29/29 [==============================] - 5s 41ms/step - loss: 2389.4900 - mae: 39.8194 - val_loss: 4784.7974 - val_mae: 68.3010\n",
      "Epoch 2/50\n",
      "29/29 [==============================] - 0s 4ms/step - loss: 773.8186 - mae: 22.5666 - val_loss: 2559.8665 - val_mae: 49.6378\n",
      "Epoch 3/50\n",
      "29/29 [==============================] - 0s 4ms/step - loss: 70.7202 - mae: 5.9745 - val_loss: 465.3785 - val_mae: 19.8973\n",
      "Epoch 4/50\n",
      "29/29 [==============================] - 0s 5ms/step - loss: 11.8277 - mae: 2.4756 - val_loss: 201.3703 - val_mae: 12.2381\n",
      "Epoch 5/50\n",
      "29/29 [==============================] - 0s 4ms/step - loss: 6.9806 - mae: 1.8121 - val_loss: 159.1814 - val_mae: 10.6804\n",
      "Epoch 6/50\n",
      "29/29 [==============================] - 0s 4ms/step - loss: 7.2373 - mae: 1.9336 - val_loss: 123.1345 - val_mae: 8.9109\n",
      "Epoch 7/50\n",
      "29/29 [==============================] - 0s 4ms/step - loss: 6.3543 - mae: 1.7685 - val_loss: 110.1736 - val_mae: 8.2693\n",
      "Epoch 8/50\n",
      "29/29 [==============================] - 0s 5ms/step - loss: 5.8738 - mae: 1.6860 - val_loss: 112.7347 - val_mae: 8.5626\n",
      "Epoch 9/50\n",
      "29/29 [==============================] - 0s 5ms/step - loss: 5.8863 - mae: 1.6789 - val_loss: 100.3699 - val_mae: 7.8783\n",
      "Epoch 10/50\n",
      "29/29 [==============================] - 0s 4ms/step - loss: 5.7428 - mae: 1.6675 - val_loss: 108.5932 - val_mae: 8.4920\n",
      "Epoch 11/50\n",
      "29/29 [==============================] - 0s 5ms/step - loss: 5.9946 - mae: 1.7181 - val_loss: 126.4427 - val_mae: 9.6037\n",
      "Epoch 12/50\n",
      "29/29 [==============================] - 0s 5ms/step - loss: 5.8532 - mae: 1.7240 - val_loss: 90.4546 - val_mae: 7.4369\n",
      "Epoch 13/50\n",
      "29/29 [==============================] - 0s 5ms/step - loss: 6.1402 - mae: 1.7388 - val_loss: 68.3296 - val_mae: 5.9235\n",
      "Epoch 14/50\n",
      "29/29 [==============================] - 0s 5ms/step - loss: 5.4587 - mae: 1.6613 - val_loss: 73.2531 - val_mae: 6.3607\n",
      "Epoch 15/50\n",
      "29/29 [==============================] - 0s 5ms/step - loss: 5.5560 - mae: 1.6374 - val_loss: 90.5857 - val_mae: 7.6141\n",
      "Epoch 16/50\n",
      "29/29 [==============================] - 0s 5ms/step - loss: 6.2002 - mae: 1.7700 - val_loss: 113.4301 - val_mae: 9.0857\n",
      "Epoch 17/50\n",
      "29/29 [==============================] - 0s 5ms/step - loss: 6.9315 - mae: 1.8798 - val_loss: 129.8700 - val_mae: 9.9244\n",
      "Epoch 18/50\n",
      "29/29 [==============================] - 0s 4ms/step - loss: 7.3295 - mae: 1.9727 - val_loss: 97.9016 - val_mae: 7.9835\n",
      "Epoch 19/50\n",
      "29/29 [==============================] - 0s 4ms/step - loss: 5.8595 - mae: 1.7018 - val_loss: 73.7816 - val_mae: 6.4034\n",
      "Epoch 20/50\n",
      "29/29 [==============================] - 0s 4ms/step - loss: 6.4505 - mae: 1.8317 - val_loss: 132.2303 - val_mae: 10.0358\n",
      "Epoch 21/50\n",
      "29/29 [==============================] - 0s 5ms/step - loss: 7.7783 - mae: 1.9861 - val_loss: 149.7671 - val_mae: 10.8882\n",
      "Epoch 22/50\n",
      "29/29 [==============================] - 0s 5ms/step - loss: 6.4883 - mae: 1.7824 - val_loss: 131.3187 - val_mae: 9.9757\n",
      "Epoch 23/50\n",
      "29/29 [==============================] - 0s 5ms/step - loss: 6.0845 - mae: 1.7566 - val_loss: 69.6222 - val_mae: 6.1211\n",
      "Epoch 24/50\n",
      "29/29 [==============================] - 0s 5ms/step - loss: 6.4887 - mae: 1.8617 - val_loss: 57.6830 - val_mae: 5.2596\n",
      "Epoch 25/50\n",
      "29/29 [==============================] - 0s 4ms/step - loss: 5.9579 - mae: 1.7319 - val_loss: 100.9176 - val_mae: 8.2872\n",
      "Epoch 26/50\n",
      "29/29 [==============================] - 0s 4ms/step - loss: 5.5123 - mae: 1.6347 - val_loss: 64.1603 - val_mae: 5.8365\n",
      "Epoch 27/50\n",
      "29/29 [==============================] - 0s 4ms/step - loss: 5.2640 - mae: 1.5988 - val_loss: 64.9531 - val_mae: 5.9556\n",
      "Epoch 28/50\n",
      "29/29 [==============================] - 0s 4ms/step - loss: 7.0137 - mae: 1.8877 - val_loss: 52.4797 - val_mae: 5.0341\n",
      "Epoch 29/50\n",
      "29/29 [==============================] - 0s 4ms/step - loss: 5.5291 - mae: 1.6390 - val_loss: 98.5847 - val_mae: 8.2809\n",
      "Epoch 30/50\n",
      "29/29 [==============================] - 0s 5ms/step - loss: 5.2029 - mae: 1.5648 - val_loss: 91.2068 - val_mae: 7.8916\n",
      "Epoch 31/50\n",
      "29/29 [==============================] - 0s 5ms/step - loss: 7.1218 - mae: 1.8996 - val_loss: 99.2375 - val_mae: 8.3651\n",
      "Epoch 32/50\n",
      "29/29 [==============================] - 0s 5ms/step - loss: 8.5889 - mae: 2.2149 - val_loss: 107.7604 - val_mae: 8.7396\n",
      "Epoch 33/50\n",
      "29/29 [==============================] - 0s 4ms/step - loss: 5.9658 - mae: 1.7308 - val_loss: 61.9521 - val_mae: 5.6074\n",
      "Epoch 34/50\n",
      "29/29 [==============================] - 0s 4ms/step - loss: 6.8595 - mae: 1.8568 - val_loss: 51.1772 - val_mae: 4.8794\n",
      "Epoch 35/50\n",
      "29/29 [==============================] - 0s 5ms/step - loss: 7.0871 - mae: 1.9550 - val_loss: 111.6012 - val_mae: 8.9438\n",
      "Epoch 36/50\n",
      "29/29 [==============================] - 0s 5ms/step - loss: 6.7713 - mae: 1.8940 - val_loss: 71.5467 - val_mae: 6.3210\n",
      "Epoch 37/50\n",
      "29/29 [==============================] - 0s 5ms/step - loss: 5.0829 - mae: 1.5512 - val_loss: 83.2353 - val_mae: 7.2889\n",
      "Epoch 38/50\n",
      "29/29 [==============================] - 0s 5ms/step - loss: 4.8284 - mae: 1.5102 - val_loss: 45.8958 - val_mae: 4.6390\n",
      "Epoch 39/50\n",
      "29/29 [==============================] - 0s 5ms/step - loss: 5.9974 - mae: 1.7264 - val_loss: 70.8952 - val_mae: 6.4893\n",
      "Epoch 40/50\n",
      "29/29 [==============================] - 0s 5ms/step - loss: 4.9217 - mae: 1.5250 - val_loss: 44.7341 - val_mae: 4.5908\n",
      "Epoch 41/50\n",
      "29/29 [==============================] - 0s 4ms/step - loss: 5.0867 - mae: 1.5496 - val_loss: 65.8821 - val_mae: 6.2142\n",
      "Epoch 42/50\n",
      "29/29 [==============================] - 0s 4ms/step - loss: 5.3795 - mae: 1.6332 - val_loss: 65.7406 - val_mae: 6.2594\n",
      "Epoch 43/50\n",
      "29/29 [==============================] - 0s 4ms/step - loss: 5.1879 - mae: 1.5605 - val_loss: 63.4910 - val_mae: 6.0978\n",
      "Epoch 44/50\n",
      "29/29 [==============================] - 0s 5ms/step - loss: 5.7964 - mae: 1.7297 - val_loss: 38.9074 - val_mae: 4.2182\n",
      "Epoch 45/50\n",
      "29/29 [==============================] - 0s 5ms/step - loss: 6.8150 - mae: 1.9454 - val_loss: 53.3710 - val_mae: 5.2159\n",
      "Epoch 46/50\n",
      "29/29 [==============================] - 0s 5ms/step - loss: 5.4758 - mae: 1.6600 - val_loss: 55.4612 - val_mae: 5.4004\n",
      "Epoch 47/50\n",
      "29/29 [==============================] - 0s 5ms/step - loss: 6.0096 - mae: 1.7662 - val_loss: 47.0123 - val_mae: 4.7273\n",
      "Epoch 48/50\n",
      "29/29 [==============================] - 0s 4ms/step - loss: 5.6468 - mae: 1.6458 - val_loss: 71.9878 - val_mae: 6.6087\n",
      "Epoch 49/50\n",
      "29/29 [==============================] - 0s 4ms/step - loss: 4.8979 - mae: 1.5203 - val_loss: 53.1719 - val_mae: 5.2437\n",
      "Epoch 50/50\n",
      "29/29 [==============================] - 0s 4ms/step - loss: 4.8380 - mae: 1.5276 - val_loss: 69.8111 - val_mae: 6.5740\n"
     ]
    }
   ],
   "source": [
    "history = model.fit(X_train, y_train, epochs=50, batch_size=32, validation_data=(X_test, y_test))"
   ]
  },
  {
   "cell_type": "code",
   "execution_count": 55,
   "id": "closing-specification",
   "metadata": {},
   "outputs": [
    {
     "data": {
      "image/png": "[encoded data removed]",
      "text/plain": [
       "<Figure size 432x288 with 1 Axes>"
      ]
     },
     "metadata": {
      "needs_background": "light"
     },
     "output_type": "display_data"
    }
   ],
   "source": [
    "plt.plot(history.history['loss'])\n",
    "plt.plot(history.history['val_loss'])\n",
    "plt.legend(['Training Loss', 'Validation Loss'])\n",
    "plt.xlabel('Epoch')\n",
    "plt.ylabel('Loss')\n",
    "plt.show();"
   ]
  },
  {
   "cell_type": "markdown",
   "id": "ranging-incentive",
   "metadata": {},
   "source": [
    "앞으로 100일 동안의 주가 추이를 예측해 보도록 하겠습니다. 우리의 목표는 실제 가격이 아니라 추세를 예측하는 것임을 기억하십시오."
   ]
  },
  {
   "cell_type": "code",
   "execution_count": 56,
   "id": "controlling-desperate",
   "metadata": {},
   "outputs": [
    {
     "name": "stdout",
     "output_type": "stream",
     "text": [
      "4/4 [==============================] - 1s 2ms/step\n"
     ]
    },
    {
     "data": {
      "image/png": "[encoded data removed]",
      "text/plain": [
       "<Figure size 864x432 with 1 Axes>"
      ]
     },
     "metadata": {
      "needs_background": "light"
     },
     "output_type": "display_data"
    }
   ],
   "source": [
    "pred = model.predict(X_test)\n",
    "\n",
    "plt.figure(figsize=(12,6))\n",
    "plt.plot(np.concatenate((y_train, y_test)), label='True')\n",
    "plt.plot(np.concatenate((y_train, pred)), label='Predicted')\n",
    "plt.title('Apple Stock Price Prediction')\n",
    "plt.legend()\n",
    "plt.show()"
   ]
  },
  {
   "cell_type": "markdown",
   "id": "0ffe87a8",
   "metadata": {},
   "source": [
    "예측 부분만 확대하여 시각화"
   ]
  },
  {
   "cell_type": "code",
   "execution_count": 57,
   "id": "c5bc75ee",
   "metadata": {},
   "outputs": [
    {
     "data": {
      "image/png": "[encoded data removed]",
      "text/plain": [
       "<Figure size 576x288 with 1 Axes>"
      ]
     },
     "metadata": {
      "needs_background": "light"
     },
     "output_type": "display_data"
    }
   ],
   "source": [
    "plt.figure(figsize=(8,4))\n",
    "plt.plot(y_test, label='True')\n",
    "plt.plot(pred, label='Predicted')\n",
    "plt.title('Apple Stock Price Prediction')\n",
    "plt.legend()\n",
    "plt.show()"
   ]
  },
  {
   "cell_type": "markdown",
   "id": "accompanied-walker",
   "metadata": {},
   "source": [
    "## 다양한 window_size tuning 을 하여 보다 정확한 예측 시도"
   ]
  },
  {
   "cell_type": "code",
   "execution_count": null,
   "id": "knowing-secretary",
   "metadata": {},
   "outputs": [],
   "source": []
  }
 ],
 "metadata": {
  "kernelspec": {
   "display_name": "Python 3 (ipykernel)",
   "language": "python",
   "name": "python3"
  },
  "language_info": {
   "codemirror_mode": {
    "name": "ipython",
    "version": 3
   },
   "file_extension": ".py",
   "mimetype": "text/x-python",
   "name": "python",
   "nbconvert_exporter": "python",
   "pygments_lexer": "ipython3",
   "version": "3.8.13"
  }
 },
 "nbformat": 4,
 "nbformat_minor": 5
}
