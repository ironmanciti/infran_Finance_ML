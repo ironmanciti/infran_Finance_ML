{
 "cells": [
  {
   "cell_type": "markdown",
   "id": "whole-religion",
   "metadata": {
    "id": "whole-religion"
   },
   "source": [
    "# LSTM을 이용한 주가 예측"
   ]
  },
  {
   "cell_type": "code",
   "execution_count": 1,
   "id": "8H_XE5hZK-h1",
   "metadata": {
    "colab": {
     "base_uri": "https://localhost:8080/"
    },
    "id": "8H_XE5hZK-h1",
    "outputId": "75601a0b-1a8e-40fc-ce31-de5b49198510"
   },
   "outputs": [],
   "source": [
    "#!pip install --upgrade pandas-datareader"
   ]
  },
  {
   "cell_type": "code",
   "execution_count": 13,
   "id": "streaming-prefix",
   "metadata": {
    "id": "streaming-prefix"
   },
   "outputs": [],
   "source": [
    "import pandas as pd\n",
    "import numpy as np\n",
    "import matplotlib.pyplot as plt\n",
    "from sklearn.preprocessing import MinMaxScaler\n",
    "\n",
    "import pandas_datareader as data_reader\n",
    "\n",
    "import tensorflow as tf\n",
    "from tensorflow.keras.models import Sequential\n",
    "from tensorflow.keras.layers import LSTM,Dropout,Dense, Lambda"
   ]
  },
  {
   "cell_type": "markdown",
   "id": "signed-temperature",
   "metadata": {
    "id": "signed-temperature"
   },
   "source": [
    "- Apple 주식 가격 예측"
   ]
  },
  {
   "cell_type": "code",
   "execution_count": 3,
   "id": "alert-brand",
   "metadata": {
    "colab": {
     "base_uri": "https://localhost:8080/",
     "height": 237
    },
    "id": "alert-brand",
    "outputId": "62ca0c4a-9360-48e1-f0ba-d661f5cf3111"
   },
   "outputs": [
    {
     "data": {
      "text/html": [
       "<div>\n",
       "<style scoped>\n",
       "    .dataframe tbody tr th:only-of-type {\n",
       "        vertical-align: middle;\n",
       "    }\n",
       "\n",
       "    .dataframe tbody tr th {\n",
       "        vertical-align: top;\n",
       "    }\n",
       "\n",
       "    .dataframe thead th {\n",
       "        text-align: right;\n",
       "    }\n",
       "</style>\n",
       "<table border=\"1\" class=\"dataframe\">\n",
       "  <thead>\n",
       "    <tr style=\"text-align: right;\">\n",
       "      <th></th>\n",
       "      <th>High</th>\n",
       "      <th>Low</th>\n",
       "      <th>Open</th>\n",
       "      <th>Close</th>\n",
       "      <th>Volume</th>\n",
       "      <th>Adj Close</th>\n",
       "    </tr>\n",
       "    <tr>\n",
       "      <th>Date</th>\n",
       "      <th></th>\n",
       "      <th></th>\n",
       "      <th></th>\n",
       "      <th></th>\n",
       "      <th></th>\n",
       "      <th></th>\n",
       "    </tr>\n",
       "  </thead>\n",
       "  <tbody>\n",
       "    <tr>\n",
       "      <th>2009-12-31</th>\n",
       "      <td>7.619643</td>\n",
       "      <td>7.520000</td>\n",
       "      <td>7.611786</td>\n",
       "      <td>7.526071</td>\n",
       "      <td>352410800.0</td>\n",
       "      <td>6.434926</td>\n",
       "    </tr>\n",
       "    <tr>\n",
       "      <th>2010-01-04</th>\n",
       "      <td>7.660714</td>\n",
       "      <td>7.585000</td>\n",
       "      <td>7.622500</td>\n",
       "      <td>7.643214</td>\n",
       "      <td>493729600.0</td>\n",
       "      <td>6.535086</td>\n",
       "    </tr>\n",
       "    <tr>\n",
       "      <th>2010-01-05</th>\n",
       "      <td>7.699643</td>\n",
       "      <td>7.616071</td>\n",
       "      <td>7.664286</td>\n",
       "      <td>7.656429</td>\n",
       "      <td>601904800.0</td>\n",
       "      <td>6.546384</td>\n",
       "    </tr>\n",
       "    <tr>\n",
       "      <th>2010-01-06</th>\n",
       "      <td>7.686786</td>\n",
       "      <td>7.526786</td>\n",
       "      <td>7.656429</td>\n",
       "      <td>7.534643</td>\n",
       "      <td>552160000.0</td>\n",
       "      <td>6.442255</td>\n",
       "    </tr>\n",
       "    <tr>\n",
       "      <th>2010-01-07</th>\n",
       "      <td>7.571429</td>\n",
       "      <td>7.466071</td>\n",
       "      <td>7.562500</td>\n",
       "      <td>7.520714</td>\n",
       "      <td>477131200.0</td>\n",
       "      <td>6.430343</td>\n",
       "    </tr>\n",
       "  </tbody>\n",
       "</table>\n",
       "</div>"
      ],
      "text/plain": [
       "                High       Low      Open     Close       Volume  Adj Close\n",
       "Date                                                                      \n",
       "2009-12-31  7.619643  7.520000  7.611786  7.526071  352410800.0   6.434926\n",
       "2010-01-04  7.660714  7.585000  7.622500  7.643214  493729600.0   6.535086\n",
       "2010-01-05  7.699643  7.616071  7.664286  7.656429  601904800.0   6.546384\n",
       "2010-01-06  7.686786  7.526786  7.656429  7.534643  552160000.0   6.442255\n",
       "2010-01-07  7.571429  7.466071  7.562500  7.520714  477131200.0   6.430343"
      ]
     },
     "execution_count": 3,
     "metadata": {},
     "output_type": "execute_result"
    }
   ],
   "source": [
    "df = data_reader.DataReader('AAPL', 'yahoo', start='2010-01-01', end='2019-12-31')\n",
    "df.head()"
   ]
  },
  {
   "cell_type": "code",
   "execution_count": 4,
   "id": "dcf5e005",
   "metadata": {
    "colab": {
     "base_uri": "https://localhost:8080/",
     "height": 206
    },
    "id": "dcf5e005",
    "outputId": "83d24ff4-b47d-4ed7-b088-5aeb3bfbc0ba"
   },
   "outputs": [
    {
     "data": {
      "text/html": [
       "<div>\n",
       "<style scoped>\n",
       "    .dataframe tbody tr th:only-of-type {\n",
       "        vertical-align: middle;\n",
       "    }\n",
       "\n",
       "    .dataframe tbody tr th {\n",
       "        vertical-align: top;\n",
       "    }\n",
       "\n",
       "    .dataframe thead th {\n",
       "        text-align: right;\n",
       "    }\n",
       "</style>\n",
       "<table border=\"1\" class=\"dataframe\">\n",
       "  <thead>\n",
       "    <tr style=\"text-align: right;\">\n",
       "      <th></th>\n",
       "      <th>Date</th>\n",
       "      <th>High</th>\n",
       "      <th>Low</th>\n",
       "      <th>Open</th>\n",
       "      <th>Close</th>\n",
       "      <th>Volume</th>\n",
       "      <th>Adj Close</th>\n",
       "    </tr>\n",
       "  </thead>\n",
       "  <tbody>\n",
       "    <tr>\n",
       "      <th>0</th>\n",
       "      <td>2009-12-31</td>\n",
       "      <td>7.619643</td>\n",
       "      <td>7.520000</td>\n",
       "      <td>7.611786</td>\n",
       "      <td>7.526071</td>\n",
       "      <td>352410800.0</td>\n",
       "      <td>6.434926</td>\n",
       "    </tr>\n",
       "    <tr>\n",
       "      <th>1</th>\n",
       "      <td>2010-01-04</td>\n",
       "      <td>7.660714</td>\n",
       "      <td>7.585000</td>\n",
       "      <td>7.622500</td>\n",
       "      <td>7.643214</td>\n",
       "      <td>493729600.0</td>\n",
       "      <td>6.535086</td>\n",
       "    </tr>\n",
       "    <tr>\n",
       "      <th>2</th>\n",
       "      <td>2010-01-05</td>\n",
       "      <td>7.699643</td>\n",
       "      <td>7.616071</td>\n",
       "      <td>7.664286</td>\n",
       "      <td>7.656429</td>\n",
       "      <td>601904800.0</td>\n",
       "      <td>6.546384</td>\n",
       "    </tr>\n",
       "    <tr>\n",
       "      <th>3</th>\n",
       "      <td>2010-01-06</td>\n",
       "      <td>7.686786</td>\n",
       "      <td>7.526786</td>\n",
       "      <td>7.656429</td>\n",
       "      <td>7.534643</td>\n",
       "      <td>552160000.0</td>\n",
       "      <td>6.442255</td>\n",
       "    </tr>\n",
       "    <tr>\n",
       "      <th>4</th>\n",
       "      <td>2010-01-07</td>\n",
       "      <td>7.571429</td>\n",
       "      <td>7.466071</td>\n",
       "      <td>7.562500</td>\n",
       "      <td>7.520714</td>\n",
       "      <td>477131200.0</td>\n",
       "      <td>6.430343</td>\n",
       "    </tr>\n",
       "  </tbody>\n",
       "</table>\n",
       "</div>"
      ],
      "text/plain": [
       "        Date      High       Low      Open     Close       Volume  Adj Close\n",
       "0 2009-12-31  7.619643  7.520000  7.611786  7.526071  352410800.0   6.434926\n",
       "1 2010-01-04  7.660714  7.585000  7.622500  7.643214  493729600.0   6.535086\n",
       "2 2010-01-05  7.699643  7.616071  7.664286  7.656429  601904800.0   6.546384\n",
       "3 2010-01-06  7.686786  7.526786  7.656429  7.534643  552160000.0   6.442255\n",
       "4 2010-01-07  7.571429  7.466071  7.562500  7.520714  477131200.0   6.430343"
      ]
     },
     "execution_count": 4,
     "metadata": {},
     "output_type": "execute_result"
    }
   ],
   "source": [
    "df = df.reset_index()\n",
    "df.head()"
   ]
  },
  {
   "cell_type": "code",
   "execution_count": 5,
   "id": "x3fiLO8TLPmQ",
   "metadata": {
    "colab": {
     "base_uri": "https://localhost:8080/",
     "height": 206
    },
    "id": "x3fiLO8TLPmQ",
    "outputId": "dbbe1dea-d5e2-46fc-c2e0-690cdf8f9448"
   },
   "outputs": [
    {
     "data": {
      "text/html": [
       "<div>\n",
       "<style scoped>\n",
       "    .dataframe tbody tr th:only-of-type {\n",
       "        vertical-align: middle;\n",
       "    }\n",
       "\n",
       "    .dataframe tbody tr th {\n",
       "        vertical-align: top;\n",
       "    }\n",
       "\n",
       "    .dataframe thead th {\n",
       "        text-align: right;\n",
       "    }\n",
       "</style>\n",
       "<table border=\"1\" class=\"dataframe\">\n",
       "  <thead>\n",
       "    <tr style=\"text-align: right;\">\n",
       "      <th></th>\n",
       "      <th>High</th>\n",
       "      <th>Low</th>\n",
       "      <th>Open</th>\n",
       "      <th>Close</th>\n",
       "      <th>Volume</th>\n",
       "    </tr>\n",
       "  </thead>\n",
       "  <tbody>\n",
       "    <tr>\n",
       "      <th>0</th>\n",
       "      <td>7.619643</td>\n",
       "      <td>7.520000</td>\n",
       "      <td>7.611786</td>\n",
       "      <td>7.526071</td>\n",
       "      <td>352410800.0</td>\n",
       "    </tr>\n",
       "    <tr>\n",
       "      <th>1</th>\n",
       "      <td>7.660714</td>\n",
       "      <td>7.585000</td>\n",
       "      <td>7.622500</td>\n",
       "      <td>7.643214</td>\n",
       "      <td>493729600.0</td>\n",
       "    </tr>\n",
       "    <tr>\n",
       "      <th>2</th>\n",
       "      <td>7.699643</td>\n",
       "      <td>7.616071</td>\n",
       "      <td>7.664286</td>\n",
       "      <td>7.656429</td>\n",
       "      <td>601904800.0</td>\n",
       "    </tr>\n",
       "    <tr>\n",
       "      <th>3</th>\n",
       "      <td>7.686786</td>\n",
       "      <td>7.526786</td>\n",
       "      <td>7.656429</td>\n",
       "      <td>7.534643</td>\n",
       "      <td>552160000.0</td>\n",
       "    </tr>\n",
       "    <tr>\n",
       "      <th>4</th>\n",
       "      <td>7.571429</td>\n",
       "      <td>7.466071</td>\n",
       "      <td>7.562500</td>\n",
       "      <td>7.520714</td>\n",
       "      <td>477131200.0</td>\n",
       "    </tr>\n",
       "  </tbody>\n",
       "</table>\n",
       "</div>"
      ],
      "text/plain": [
       "       High       Low      Open     Close       Volume\n",
       "0  7.619643  7.520000  7.611786  7.526071  352410800.0\n",
       "1  7.660714  7.585000  7.622500  7.643214  493729600.0\n",
       "2  7.699643  7.616071  7.664286  7.656429  601904800.0\n",
       "3  7.686786  7.526786  7.656429  7.534643  552160000.0\n",
       "4  7.571429  7.466071  7.562500  7.520714  477131200.0"
      ]
     },
     "execution_count": 5,
     "metadata": {},
     "output_type": "execute_result"
    }
   ],
   "source": [
    "df = df.drop(['Date', 'Adj Close'], axis=1)\n",
    "df.head()"
   ]
  },
  {
   "cell_type": "code",
   "execution_count": 6,
   "id": "e0998c93",
   "metadata": {
    "id": "e0998c93"
   },
   "outputs": [],
   "source": [
    "ma100 = df.Close.rolling(100).mean()\n",
    "ma200 = df.Close.rolling(200).mean()"
   ]
  },
  {
   "cell_type": "code",
   "execution_count": 7,
   "id": "b70a37f2",
   "metadata": {
    "colab": {
     "base_uri": "https://localhost:8080/",
     "height": 393
    },
    "id": "b70a37f2",
    "outputId": "3e8fef7b-840c-4874-b335-ec0adf6231a2"
   },
   "outputs": [
    {
     "data": {
      "text/plain": [
       "[<matplotlib.lines.Line2D at 0x1b9aab8c130>]"
      ]
     },
     "execution_count": 7,
     "metadata": {},
     "output_type": "execute_result"
    },
    {
     "data": {
      "image/png": "[encoded data removed]",
      "text/plain": [
       "<Figure size 864x432 with 1 Axes>"
      ]
     },
     "metadata": {
      "needs_background": "light"
     },
     "output_type": "display_data"
    }
   ],
   "source": [
    "plt.figure(figsize=(12, 6))\n",
    "plt.plot(df.Close)\n",
    "plt.plot(ma100, 'r')\n",
    "plt.plot(ma200, 'g')"
   ]
  },
  {
   "cell_type": "code",
   "execution_count": 8,
   "id": "VDR5tv_zLhD3",
   "metadata": {
    "colab": {
     "base_uri": "https://localhost:8080/"
    },
    "id": "VDR5tv_zLhD3",
    "outputId": "966beaff-0595-43b9-afa7-48cfb3daf213"
   },
   "outputs": [
    {
     "data": {
      "text/plain": [
       "(2517, 5)"
      ]
     },
     "execution_count": 8,
     "metadata": {},
     "output_type": "execute_result"
    }
   ],
   "source": [
    "df.shape"
   ]
  },
  {
   "cell_type": "code",
   "execution_count": 9,
   "id": "d0d124b1",
   "metadata": {
    "colab": {
     "base_uri": "https://localhost:8080/"
    },
    "id": "d0d124b1",
    "outputId": "a0261cf3-8fca-4096-b93c-0e0e3e01333d"
   },
   "outputs": [
    {
     "data": {
      "text/plain": [
       "((1761, 1), (756, 1))"
      ]
     },
     "execution_count": 9,
     "metadata": {},
     "output_type": "execute_result"
    }
   ],
   "source": [
    "data_training = pd.DataFrame(df['Close'][0:int(len(df)*0.70)])\n",
    "data_testing = pd.DataFrame(df['Close'][int(len(df)*0.70):int(len(df))])\n",
    "\n",
    "data_training.shape, data_testing.shape"
   ]
  },
  {
   "cell_type": "code",
   "execution_count": 10,
   "id": "341b7f3c",
   "metadata": {
    "colab": {
     "base_uri": "https://localhost:8080/",
     "height": 206
    },
    "id": "341b7f3c",
    "outputId": "23059783-6b3a-4f22-8189-ff9cbc42c27c"
   },
   "outputs": [
    {
     "data": {
      "text/html": [
       "<div>\n",
       "<style scoped>\n",
       "    .dataframe tbody tr th:only-of-type {\n",
       "        vertical-align: middle;\n",
       "    }\n",
       "\n",
       "    .dataframe tbody tr th {\n",
       "        vertical-align: top;\n",
       "    }\n",
       "\n",
       "    .dataframe thead th {\n",
       "        text-align: right;\n",
       "    }\n",
       "</style>\n",
       "<table border=\"1\" class=\"dataframe\">\n",
       "  <thead>\n",
       "    <tr style=\"text-align: right;\">\n",
       "      <th></th>\n",
       "      <th>Close</th>\n",
       "    </tr>\n",
       "  </thead>\n",
       "  <tbody>\n",
       "    <tr>\n",
       "      <th>0</th>\n",
       "      <td>7.526071</td>\n",
       "    </tr>\n",
       "    <tr>\n",
       "      <th>1</th>\n",
       "      <td>7.643214</td>\n",
       "    </tr>\n",
       "    <tr>\n",
       "      <th>2</th>\n",
       "      <td>7.656429</td>\n",
       "    </tr>\n",
       "    <tr>\n",
       "      <th>3</th>\n",
       "      <td>7.534643</td>\n",
       "    </tr>\n",
       "    <tr>\n",
       "      <th>4</th>\n",
       "      <td>7.520714</td>\n",
       "    </tr>\n",
       "  </tbody>\n",
       "</table>\n",
       "</div>"
      ],
      "text/plain": [
       "      Close\n",
       "0  7.526071\n",
       "1  7.643214\n",
       "2  7.656429\n",
       "3  7.534643\n",
       "4  7.520714"
      ]
     },
     "execution_count": 10,
     "metadata": {},
     "output_type": "execute_result"
    }
   ],
   "source": [
    "data_training.head()"
   ]
  },
  {
   "cell_type": "code",
   "execution_count": 27,
   "id": "771e0a91",
   "metadata": {
    "id": "771e0a91"
   },
   "outputs": [],
   "source": [
    "scaler = MinMaxScaler()"
   ]
  },
  {
   "cell_type": "code",
   "execution_count": 28,
   "id": "23eaac6c",
   "metadata": {},
   "outputs": [
    {
     "data": {
      "text/plain": [
       "array([[0.        ],\n",
       "       [0.11111111],\n",
       "       [0.22222222],\n",
       "       [0.33333333],\n",
       "       [0.44444444],\n",
       "       [0.55555556],\n",
       "       [0.66666667],\n",
       "       [0.77777778],\n",
       "       [0.88888889],\n",
       "       [1.        ]])"
      ]
     },
     "execution_count": 28,
     "metadata": {},
     "output_type": "execute_result"
    }
   ],
   "source": [
    "x = np.array([1, 2, 3, 4, 5, 6, 7, 8, 9, 10]).reshape(-1, 1)\n",
    "x_scaled = scaler.fit_transform(x)\n",
    "x_scaled"
   ]
  },
  {
   "cell_type": "code",
   "execution_count": 29,
   "id": "f50aaedf",
   "metadata": {},
   "outputs": [
    {
     "data": {
      "text/plain": [
       "(array([0.11111111]), array([-0.11111111]), array([1.]), array([10.]))"
      ]
     },
     "execution_count": 29,
     "metadata": {},
     "output_type": "execute_result"
    }
   ],
   "source": [
    "scaler.scale_, scaler.min_, scaler.data_min_, scaler.data_max_"
   ]
  },
  {
   "cell_type": "code",
   "execution_count": 33,
   "id": "2a2e9846",
   "metadata": {},
   "outputs": [
    {
     "data": {
      "text/plain": [
       "array([[ 1.],\n",
       "       [ 2.],\n",
       "       [ 3.],\n",
       "       [ 4.],\n",
       "       [ 5.],\n",
       "       [ 6.],\n",
       "       [ 7.],\n",
       "       [ 8.],\n",
       "       [ 9.],\n",
       "       [10.]])"
      ]
     },
     "execution_count": 33,
     "metadata": {},
     "output_type": "execute_result"
    }
   ],
   "source": [
    "x_scaled / scaler.scale_ + scaler.data_min_"
   ]
  },
  {
   "cell_type": "code",
   "execution_count": 34,
   "id": "ce1e7ce4",
   "metadata": {
    "id": "ce1e7ce4"
   },
   "outputs": [],
   "source": [
    "data_training_array = scaler.fit_transform(data_training)\n",
    "data_testing_array = scaler.transform(data_testing)"
   ]
  },
  {
   "cell_type": "markdown",
   "id": "875eb8bf",
   "metadata": {
    "id": "875eb8bf"
   },
   "source": [
    "7 7 9 10 11 9 10 12 11 13   $\\rightarrow$ 14 (window size 10일의 data로 11일째 가격 예측)  \n",
    "9 10 11 9 10 12 11 13 14 $\\rightarrow$ 12  \n",
    "10 11 9 10 12 11 13 14 12 $\\rightarrow$ 13"
   ]
  },
  {
   "cell_type": "code",
   "execution_count": 36,
   "id": "698d93e6",
   "metadata": {
    "colab": {
     "base_uri": "https://localhost:8080/"
    },
    "id": "698d93e6",
    "outputId": "d7abc84d-74ac-445d-deb4-8a367b3d5b46"
   },
   "outputs": [
    {
     "data": {
      "text/plain": [
       "((1711, 50, 1), (1711,))"
      ]
     },
     "execution_count": 36,
     "metadata": {},
     "output_type": "execute_result"
    }
   ],
   "source": [
    "X_train = []\n",
    "y_train = []\n",
    "window = 50\n",
    "\n",
    "for i in range(window, data_training.shape[0]):\n",
    "    X_train.append(data_training_array[i-window: i])\n",
    "    y_train.append(data_training_array[i, 0])\n",
    "    \n",
    "X_train, y_train = np.array(X_train), np.array(y_train)\n",
    "X_train.shape, y_train.shape"
   ]
  },
  {
   "cell_type": "code",
   "execution_count": 37,
   "id": "9be1902b",
   "metadata": {
    "colab": {
     "base_uri": "https://localhost:8080/"
    },
    "id": "9be1902b",
    "outputId": "9b09619f-6b41-4bb8-cb4d-64aee2473a27"
   },
   "outputs": [
    {
     "name": "stdout",
     "output_type": "stream",
     "text": [
      "Model: \"sequential\"\n",
      "_________________________________________________________________\n",
      " Layer (type)                Output Shape              Param #   \n",
      "=================================================================\n",
      " lstm (LSTM)                 (None, 50, 50)            10400     \n",
      "                                                                 \n",
      " dropout (Dropout)           (None, 50, 50)            0         \n",
      "                                                                 \n",
      " lstm_1 (LSTM)               (None, 50, 60)            26640     \n",
      "                                                                 \n",
      " dropout_1 (Dropout)         (None, 50, 60)            0         \n",
      "                                                                 \n",
      " lstm_2 (LSTM)               (None, 50, 80)            45120     \n",
      "                                                                 \n",
      " dropout_2 (Dropout)         (None, 50, 80)            0         \n",
      "                                                                 \n",
      " lstm_3 (LSTM)               (None, 120)               96480     \n",
      "                                                                 \n",
      " dropout_3 (Dropout)         (None, 120)               0         \n",
      "                                                                 \n",
      " dense (Dense)               (None, 1)                 121       \n",
      "                                                                 \n",
      "=================================================================\n",
      "Total params: 178,761\n",
      "Trainable params: 178,761\n",
      "Non-trainable params: 0\n",
      "_________________________________________________________________\n"
     ]
    }
   ],
   "source": [
    "model = tf.keras.Sequential()\n",
    "model.add(LSTM(units=50, return_sequences=True, input_shape=(window, 1)))\n",
    "model.add(Dropout(0.2))\n",
    "\n",
    "model.add(LSTM(units=60, return_sequences=True))\n",
    "model.add(Dropout(0.2))\n",
    "\n",
    "model.add(LSTM(units=80, return_sequences=True))\n",
    "model.add(Dropout(0.2))\n",
    "\n",
    "model.add(LSTM(units=120))\n",
    "model.add(Dropout(0.2))\n",
    "               \n",
    "model.add(Dense(units=1))\n",
    "\n",
    "model.summary()"
   ]
  },
  {
   "cell_type": "code",
   "execution_count": 38,
   "id": "6133c3f4",
   "metadata": {
    "colab": {
     "base_uri": "https://localhost:8080/",
     "height": 1000
    },
    "id": "6133c3f4",
    "outputId": "5aff069c-8f92-49e4-e1ac-2fd55f289301",
    "scrolled": true
   },
   "outputs": [
    {
     "name": "stdout",
     "output_type": "stream",
     "text": [
      "Epoch 1/50\n",
      "54/54 [==============================] - 9s 63ms/step - loss: 0.0287\n",
      "Epoch 2/50\n",
      "54/54 [==============================] - 3s 65ms/step - loss: 0.0038\n",
      "Epoch 3/50\n",
      "54/54 [==============================] - 4s 68ms/step - loss: 0.0037\n",
      "Epoch 4/50\n",
      "54/54 [==============================] - 4s 69ms/step - loss: 0.0038\n",
      "Epoch 5/50\n",
      "54/54 [==============================] - 4s 68ms/step - loss: 0.0036\n",
      "Epoch 6/50\n",
      "54/54 [==============================] - 4s 69ms/step - loss: 0.0029\n",
      "Epoch 7/50\n",
      "54/54 [==============================] - 4s 69ms/step - loss: 0.0035\n",
      "Epoch 8/50\n",
      "54/54 [==============================] - 4s 72ms/step - loss: 0.0031\n",
      "Epoch 9/50\n",
      "54/54 [==============================] - 4s 70ms/step - loss: 0.0032\n",
      "Epoch 10/50\n",
      "54/54 [==============================] - 4s 70ms/step - loss: 0.0027\n",
      "Epoch 11/50\n",
      "54/54 [==============================] - 4s 76ms/step - loss: 0.0025\n",
      "Epoch 12/50\n",
      "54/54 [==============================] - 4s 78ms/step - loss: 0.0024\n",
      "Epoch 13/50\n",
      "54/54 [==============================] - 4s 79ms/step - loss: 0.0025\n",
      "Epoch 14/50\n",
      "54/54 [==============================] - 4s 77ms/step - loss: 0.0022\n",
      "Epoch 15/50\n",
      "54/54 [==============================] - 4s 77ms/step - loss: 0.0025\n",
      "Epoch 16/50\n",
      "54/54 [==============================] - 4s 75ms/step - loss: 0.0024\n",
      "Epoch 17/50\n",
      "54/54 [==============================] - 4s 76ms/step - loss: 0.0024\n",
      "Epoch 18/50\n",
      "54/54 [==============================] - 4s 77ms/step - loss: 0.0023\n",
      "Epoch 19/50\n",
      "54/54 [==============================] - 4s 76ms/step - loss: 0.0021\n",
      "Epoch 20/50\n",
      "54/54 [==============================] - 4s 76ms/step - loss: 0.0021\n",
      "Epoch 21/50\n",
      "54/54 [==============================] - 4s 77ms/step - loss: 0.0019\n",
      "Epoch 22/50\n",
      "54/54 [==============================] - 4s 80ms/step - loss: 0.0022\n",
      "Epoch 23/50\n",
      "54/54 [==============================] - 4s 79ms/step - loss: 0.0022\n",
      "Epoch 24/50\n",
      "54/54 [==============================] - 4s 82ms/step - loss: 0.0019\n",
      "Epoch 25/50\n",
      "54/54 [==============================] - 5s 86ms/step - loss: 0.0017\n",
      "Epoch 26/50\n",
      "54/54 [==============================] - 5s 84ms/step - loss: 0.0018\n",
      "Epoch 27/50\n",
      "54/54 [==============================] - 4s 83ms/step - loss: 0.0018\n",
      "Epoch 28/50\n",
      "54/54 [==============================] - 5s 85ms/step - loss: 0.0017\n",
      "Epoch 29/50\n",
      "54/54 [==============================] - 5s 86ms/step - loss: 0.0018\n",
      "Epoch 30/50\n",
      "54/54 [==============================] - 4s 79ms/step - loss: 0.0016\n",
      "Epoch 31/50\n",
      "54/54 [==============================] - 4s 77ms/step - loss: 0.0017\n",
      "Epoch 32/50\n",
      "54/54 [==============================] - 4s 78ms/step - loss: 0.0017\n",
      "Epoch 33/50\n",
      "54/54 [==============================] - 4s 81ms/step - loss: 0.0016\n",
      "Epoch 34/50\n",
      "54/54 [==============================] - 4s 80ms/step - loss: 0.0016\n",
      "Epoch 35/50\n",
      "54/54 [==============================] - 4s 79ms/step - loss: 0.0016\n",
      "Epoch 36/50\n",
      "54/54 [==============================] - 4s 78ms/step - loss: 0.0017\n",
      "Epoch 37/50\n",
      "54/54 [==============================] - 4s 76ms/step - loss: 0.0019\n",
      "Epoch 38/50\n",
      "54/54 [==============================] - 4s 78ms/step - loss: 0.0017\n",
      "Epoch 39/50\n",
      "54/54 [==============================] - 4s 78ms/step - loss: 0.0015\n",
      "Epoch 40/50\n",
      "54/54 [==============================] - 4s 77ms/step - loss: 0.0015\n",
      "Epoch 41/50\n",
      "54/54 [==============================] - 4s 81ms/step - loss: 0.0015\n",
      "Epoch 42/50\n",
      "54/54 [==============================] - 4s 78ms/step - loss: 0.0016\n",
      "Epoch 43/50\n",
      "54/54 [==============================] - 4s 75ms/step - loss: 0.0013\n",
      "Epoch 44/50\n",
      "54/54 [==============================] - 4s 76ms/step - loss: 0.0015\n",
      "Epoch 45/50\n",
      "54/54 [==============================] - 4s 77ms/step - loss: 0.0016\n",
      "Epoch 46/50\n",
      "54/54 [==============================] - 4s 79ms/step - loss: 0.0012\n",
      "Epoch 47/50\n",
      "54/54 [==============================] - 4s 78ms/step - loss: 0.0015\n",
      "Epoch 48/50\n",
      "54/54 [==============================] - 4s 77ms/step - loss: 0.0013\n",
      "Epoch 49/50\n",
      "54/54 [==============================] - 4s 80ms/step - loss: 0.0013\n",
      "Epoch 50/50\n",
      "54/54 [==============================] - 4s 82ms/step - loss: 0.0015\n"
     ]
    }
   ],
   "source": [
    "model.compile(optimizer='adam', loss='mean_squared_error')\n",
    "\n",
    "history = model.fit(X_train, y_train, epochs=50, batch_size=32)"
   ]
  },
  {
   "cell_type": "code",
   "execution_count": 41,
   "id": "158f8aaa",
   "metadata": {},
   "outputs": [
    {
     "data": {
      "text/plain": [
       "[<matplotlib.lines.Line2D at 0x1b9bcf5f3a0>]"
      ]
     },
     "execution_count": 41,
     "metadata": {},
     "output_type": "execute_result"
    },
    {
     "data": {
      "image/png": "[encoded data removed]",
      "text/plain": [
       "<Figure size 432x288 with 1 Axes>"
      ]
     },
     "metadata": {
      "needs_background": "light"
     },
     "output_type": "display_data"
    }
   ],
   "source": [
    "plt.plot(history.history['loss'])"
   ]
  },
  {
   "cell_type": "code",
   "execution_count": null,
   "id": "52334a43",
   "metadata": {},
   "outputs": [],
   "source": [
    "model.save('keras_model.h5')"
   ]
  },
  {
   "cell_type": "code",
   "execution_count": null,
   "id": "8062cddc",
   "metadata": {},
   "outputs": [],
   "source": []
  },
  {
   "cell_type": "code",
   "execution_count": 39,
   "id": "5bd13713",
   "metadata": {
    "id": "5bd13713"
   },
   "outputs": [
    {
     "data": {
      "text/html": [
       "<div>\n",
       "<style scoped>\n",
       "    .dataframe tbody tr th:only-of-type {\n",
       "        vertical-align: middle;\n",
       "    }\n",
       "\n",
       "    .dataframe tbody tr th {\n",
       "        vertical-align: top;\n",
       "    }\n",
       "\n",
       "    .dataframe thead th {\n",
       "        text-align: right;\n",
       "    }\n",
       "</style>\n",
       "<table border=\"1\" class=\"dataframe\">\n",
       "  <thead>\n",
       "    <tr style=\"text-align: right;\">\n",
       "      <th></th>\n",
       "      <th>Close</th>\n",
       "    </tr>\n",
       "  </thead>\n",
       "  <tbody>\n",
       "    <tr>\n",
       "      <th>1761</th>\n",
       "      <td>29.182501</td>\n",
       "    </tr>\n",
       "    <tr>\n",
       "      <th>1762</th>\n",
       "      <td>28.955000</td>\n",
       "    </tr>\n",
       "    <tr>\n",
       "      <th>1763</th>\n",
       "      <td>29.037500</td>\n",
       "    </tr>\n",
       "    <tr>\n",
       "      <th>1764</th>\n",
       "      <td>29.004999</td>\n",
       "    </tr>\n",
       "    <tr>\n",
       "      <th>1765</th>\n",
       "      <td>29.152500</td>\n",
       "    </tr>\n",
       "  </tbody>\n",
       "</table>\n",
       "</div>"
      ],
      "text/plain": [
       "          Close\n",
       "1761  29.182501\n",
       "1762  28.955000\n",
       "1763  29.037500\n",
       "1764  29.004999\n",
       "1765  29.152500"
      ]
     },
     "execution_count": 39,
     "metadata": {},
     "output_type": "execute_result"
    }
   ],
   "source": [
    "data_testing.head()"
   ]
  },
  {
   "cell_type": "code",
   "execution_count": 40,
   "id": "8SMsQy_uMRlt",
   "metadata": {
    "id": "8SMsQy_uMRlt"
   },
   "outputs": [
    {
     "data": {
      "text/html": [
       "<div>\n",
       "<style scoped>\n",
       "    .dataframe tbody tr th:only-of-type {\n",
       "        vertical-align: middle;\n",
       "    }\n",
       "\n",
       "    .dataframe tbody tr th {\n",
       "        vertical-align: top;\n",
       "    }\n",
       "\n",
       "    .dataframe thead th {\n",
       "        text-align: right;\n",
       "    }\n",
       "</style>\n",
       "<table border=\"1\" class=\"dataframe\">\n",
       "  <thead>\n",
       "    <tr style=\"text-align: right;\">\n",
       "      <th></th>\n",
       "      <th>Close</th>\n",
       "    </tr>\n",
       "  </thead>\n",
       "  <tbody>\n",
       "    <tr>\n",
       "      <th>1661</th>\n",
       "      <td>27.092501</td>\n",
       "    </tr>\n",
       "    <tr>\n",
       "      <th>1662</th>\n",
       "      <td>27.202499</td>\n",
       "    </tr>\n",
       "    <tr>\n",
       "      <th>1663</th>\n",
       "      <td>27.000000</td>\n",
       "    </tr>\n",
       "    <tr>\n",
       "      <th>1664</th>\n",
       "      <td>26.982500</td>\n",
       "    </tr>\n",
       "    <tr>\n",
       "      <th>1665</th>\n",
       "      <td>27.045000</td>\n",
       "    </tr>\n",
       "    <tr>\n",
       "      <th>...</th>\n",
       "      <td>...</td>\n",
       "    </tr>\n",
       "    <tr>\n",
       "      <th>1756</th>\n",
       "      <td>29.264999</td>\n",
       "    </tr>\n",
       "    <tr>\n",
       "      <th>1757</th>\n",
       "      <td>29.072500</td>\n",
       "    </tr>\n",
       "    <tr>\n",
       "      <th>1758</th>\n",
       "      <td>29.129999</td>\n",
       "    </tr>\n",
       "    <tr>\n",
       "      <th>1759</th>\n",
       "      <td>29.315001</td>\n",
       "    </tr>\n",
       "    <tr>\n",
       "      <th>1760</th>\n",
       "      <td>29.190001</td>\n",
       "    </tr>\n",
       "  </tbody>\n",
       "</table>\n",
       "<p>100 rows × 1 columns</p>\n",
       "</div>"
      ],
      "text/plain": [
       "          Close\n",
       "1661  27.092501\n",
       "1662  27.202499\n",
       "1663  27.000000\n",
       "1664  26.982500\n",
       "1665  27.045000\n",
       "...         ...\n",
       "1756  29.264999\n",
       "1757  29.072500\n",
       "1758  29.129999\n",
       "1759  29.315001\n",
       "1760  29.190001\n",
       "\n",
       "[100 rows x 1 columns]"
      ]
     },
     "execution_count": 40,
     "metadata": {},
     "output_type": "execute_result"
    }
   ],
   "source": [
    "data_training.tail(100)"
   ]
  },
  {
   "cell_type": "code",
   "execution_count": null,
   "id": "4a2d14c3",
   "metadata": {
    "id": "4a2d14c3"
   },
   "outputs": [],
   "source": [
    "past_window_days = data_training.tail(window)"
   ]
  },
  {
   "cell_type": "code",
   "execution_count": null,
   "id": "01978ea4",
   "metadata": {
    "id": "01978ea4"
   },
   "outputs": [],
   "source": [
    "final_df = past_window_days.append(data_testing, ignore_index=True)\n",
    "final_df.head()"
   ]
  },
  {
   "cell_type": "code",
   "execution_count": null,
   "id": "5DwZ9FPdMX14",
   "metadata": {
    "id": "5DwZ9FPdMX14"
   },
   "outputs": [],
   "source": [
    "input_data = scaler.fit_transform(final_df)\n",
    "input_data.shape"
   ]
  },
  {
   "cell_type": "code",
   "execution_count": null,
   "id": "nWOnNSS9MXyn",
   "metadata": {
    "id": "nWOnNSS9MXyn"
   },
   "outputs": [],
   "source": [
    "X_test = []\n",
    "y_test = []\n",
    "for i in range(window, input_data.shape[0]):\n",
    "    X_test.append(input_data[i-window: i])\n",
    "    y_test.append(input_data[i, 0])\n",
    "\n",
    "X_test, y_test = np.array(X_test), np.array(y_test)\n",
    "X_test.shape, y_test.shape"
   ]
  },
  {
   "cell_type": "code",
   "execution_count": null,
   "id": "LKpXX_mtMXlT",
   "metadata": {
    "id": "LKpXX_mtMXlT"
   },
   "outputs": [],
   "source": [
    "y_predicted = model.predict(X_test)\n",
    "y_predicted.shape"
   ]
  },
  {
   "cell_type": "code",
   "execution_count": 35,
   "id": "vFmCjnreMXhi",
   "metadata": {
    "colab": {
     "base_uri": "https://localhost:8080/"
    },
    "id": "vFmCjnreMXhi",
    "outputId": "5a95a65c-6361-45fe-bd5d-1e3059ed7cbc"
   },
   "outputs": [
    {
     "data": {
      "text/plain": [
       "array([0.02099517])"
      ]
     },
     "execution_count": 35,
     "metadata": {},
     "output_type": "execute_result"
    }
   ],
   "source": [
    "scaler.scale_"
   ]
  },
  {
   "cell_type": "code",
   "execution_count": 36,
   "id": "E3mx_Tx6MXdw",
   "metadata": {
    "id": "E3mx_Tx6MXdw"
   },
   "outputs": [],
   "source": [
    "scale_factor = 1/scaler.scale_\n",
    "y_predicted = y_predicted * scale_factor\n",
    "y_test = y_test * scale_factor"
   ]
  },
  {
   "cell_type": "code",
   "execution_count": 37,
   "id": "IiMDxtUbMXaI",
   "metadata": {
    "colab": {
     "base_uri": "https://localhost:8080/",
     "height": 388
    },
    "id": "IiMDxtUbMXaI",
    "outputId": "e3c350d1-e938-4155-cd53-45456251a392"
   },
   "outputs": [
    {
     "data": {
      "image/png": "[encoded data removed]",
      "text/plain": [
       "<Figure size 864x432 with 1 Axes>"
      ]
     },
     "metadata": {
      "needs_background": "light"
     },
     "output_type": "display_data"
    }
   ],
   "source": [
    "plt.figure(figsize=(12, 6))\n",
    "plt.plot(y_test, 'b', label='Original Price')\n",
    "plt.plot(y_predicted, 'r', label='Predicted Price')\n",
    "plt.xlabel('Time')\n",
    "plt.ylabel('Price')\n",
    "plt.legend()\n",
    "plt.show()"
   ]
  },
  {
   "cell_type": "code",
   "execution_count": null,
   "id": "pda74R6eMXWJ",
   "metadata": {
    "id": "pda74R6eMXWJ"
   },
   "outputs": [],
   "source": []
  },
  {
   "cell_type": "code",
   "execution_count": null,
   "id": "IQsd0fLSMXM-",
   "metadata": {
    "id": "IQsd0fLSMXM-"
   },
   "outputs": [],
   "source": []
  },
  {
   "cell_type": "markdown",
   "id": "thorough-collectible",
   "metadata": {
    "id": "thorough-collectible"
   },
   "source": [
    "LSTM layer로 하려고 하는 것은 지난 window-size 일(즉, t-window에서 t-1까지)의 역사적 가격을 사용하여 시간 t의 가격을 예측하는 것입니다. 정확한 가격이 아닌 추세를 파악하기 위해 노력할 것임을 명심하십시오."
   ]
  },
  {
   "cell_type": "markdown",
   "id": "european-darkness",
   "metadata": {
    "id": "european-darkness"
   },
   "source": [
    "- training dataset 생성"
   ]
  },
  {
   "cell_type": "code",
   "execution_count": null,
   "id": "falling-subcommittee",
   "metadata": {
    "id": "falling-subcommittee"
   },
   "outputs": [],
   "source": [
    "df.shape"
   ]
  },
  {
   "cell_type": "code",
   "execution_count": null,
   "id": "animated-request",
   "metadata": {
    "id": "animated-request"
   },
   "outputs": [],
   "source": [
    "hist = []\n",
    "target = []\n",
    "\n",
    "window = 3\n",
    "close = aapl['Close'].values\n",
    "\n",
    "for i in range(len(close) - window):\n",
    "    x = close[i:i+window]\n",
    "    y = close[i+window]\n",
    "    hist.append(x)\n",
    "    target.append(y)"
   ]
  },
  {
   "cell_type": "code",
   "execution_count": null,
   "id": "99322634",
   "metadata": {
    "id": "99322634"
   },
   "outputs": [],
   "source": [
    "close[:10]"
   ]
  },
  {
   "cell_type": "code",
   "execution_count": null,
   "id": "72e84850",
   "metadata": {
    "id": "72e84850"
   },
   "outputs": [],
   "source": [
    "hist[:5]"
   ]
  },
  {
   "cell_type": "code",
   "execution_count": null,
   "id": "6047fb7a",
   "metadata": {
    "id": "6047fb7a"
   },
   "outputs": [],
   "source": [
    "target[:5]"
   ]
  },
  {
   "cell_type": "markdown",
   "id": "accomplished-phenomenon",
   "metadata": {
    "id": "accomplished-phenomenon"
   },
   "source": [
    "** train data가 잘 만들어 졌는지 확인하는 Tip** \n",
    "\n",
    "- hist의 각 element는 window개 timestep의 list입니다. 1씩 증가하기 때문에 hist의 **두 번째 element의 마지막 항목**은 target의 **첫 번째 element**와 같아야 합니다. 또한 **마지막 element의 마지막 항목**은 target의 마지막 2번째 element와 같아야 합니다."
   ]
  },
  {
   "cell_type": "code",
   "execution_count": null,
   "id": "cognitive-shuttle",
   "metadata": {
    "id": "cognitive-shuttle"
   },
   "outputs": [],
   "source": [
    "hist[1][-1] == target[0]"
   ]
  },
  {
   "cell_type": "code",
   "execution_count": null,
   "id": "18b106e2",
   "metadata": {
    "id": "18b106e2"
   },
   "outputs": [],
   "source": [
    "hist[-1][-1] == target[-2]"
   ]
  },
  {
   "cell_type": "markdown",
   "id": "b8338499",
   "metadata": {
    "id": "b8338499"
   },
   "source": [
    "hist와 target을 numpy matrix format으로 변경"
   ]
  },
  {
   "cell_type": "code",
   "execution_count": null,
   "id": "retained-throw",
   "metadata": {
    "id": "retained-throw"
   },
   "outputs": [],
   "source": [
    "hist = np.array(hist)\n",
    "target = np.array(target)\n",
    "target = target.reshape(-1, 1)\n",
    "\n",
    "print(hist.shape)\n",
    "print(target.shape)"
   ]
  },
  {
   "cell_type": "code",
   "execution_count": null,
   "id": "hungarian-champagne",
   "metadata": {
    "id": "hungarian-champagne"
   },
   "outputs": [],
   "source": [
    "len(hist) - 100"
   ]
  },
  {
   "cell_type": "markdown",
   "id": "continued-alpha",
   "metadata": {
    "id": "continued-alpha"
   },
   "source": [
    "`len(hist) - 100`일의 데이터로 모델을 학습시키고 다음 100일의 데이터로 테스트하는 방식으로 데이터를 분할합니다.\n",
    "### train/test split"
   ]
  },
  {
   "cell_type": "code",
   "execution_count": null,
   "id": "tired-easter",
   "metadata": {
    "id": "tired-easter"
   },
   "outputs": [],
   "source": [
    "split = len(hist) - 100\n",
    "X_train = hist[:split]\n",
    "X_test = hist[split:]\n",
    "y_train = target[:split]\n",
    "y_test = target[split:]"
   ]
  },
  {
   "cell_type": "code",
   "execution_count": null,
   "id": "ba0be369",
   "metadata": {
    "id": "ba0be369"
   },
   "outputs": [],
   "source": [
    "X_train = X_train.reshape(-1, window, 1)\n",
    "X_tes = X_test.reshape(-1, window, 1)\n",
    "\n",
    "X_train.shape, X_test.shape"
   ]
  },
  {
   "cell_type": "markdown",
   "id": "working-diana",
   "metadata": {
    "id": "working-diana"
   },
   "source": [
    "- model 생성 및 fitting"
   ]
  },
  {
   "cell_type": "code",
   "execution_count": null,
   "id": "continent-consistency",
   "metadata": {
    "id": "continent-consistency"
   },
   "outputs": [],
   "source": [
    "model = tf.keras.Sequential()\n",
    "model.add(LSTM(units=64, return_sequences=True, input_shape=(window, 1)))\n",
    "model.add(LSTM(units=32, return_sequences=True))\n",
    "model.add(LSTM(units=16))\n",
    "model.add(Dense(units=1))\n",
    "model.add(Lambda(lambda x: x * 100))\n",
    "\n",
    "model.summary()"
   ]
  },
  {
   "cell_type": "code",
   "execution_count": null,
   "id": "generic-stress",
   "metadata": {
    "id": "generic-stress"
   },
   "outputs": [],
   "source": [
    "model.compile(optimizer='adam', loss='mean_squared_error', metrics=['mae'])"
   ]
  },
  {
   "cell_type": "code",
   "execution_count": null,
   "id": "taken-grave",
   "metadata": {
    "id": "taken-grave",
    "scrolled": true
   },
   "outputs": [],
   "source": [
    "history = model.fit(X_train, y_train, epochs=50, batch_size=32, validation_data=(X_test, y_test))"
   ]
  },
  {
   "cell_type": "code",
   "execution_count": null,
   "id": "closing-specification",
   "metadata": {
    "id": "closing-specification"
   },
   "outputs": [],
   "source": [
    "plt.plot(history.history['loss'])\n",
    "plt.plot(history.history['val_loss'])\n",
    "plt.legend(['Training Loss', 'Validation Loss'])\n",
    "plt.xlabel('Epoch')\n",
    "plt.ylabel('Loss')\n",
    "plt.show();"
   ]
  },
  {
   "cell_type": "markdown",
   "id": "ranging-incentive",
   "metadata": {
    "id": "ranging-incentive"
   },
   "source": [
    "앞으로 100일 동안의 주가 추이를 예측해 보도록 하겠습니다. 우리의 목표는 실제 가격이 아니라 추세를 예측하는 것임을 기억하십시오."
   ]
  },
  {
   "cell_type": "code",
   "execution_count": null,
   "id": "controlling-desperate",
   "metadata": {
    "id": "controlling-desperate"
   },
   "outputs": [],
   "source": [
    "pred = model.predict(X_test)\n",
    "\n",
    "plt.figure(figsize=(12,6))\n",
    "plt.plot(np.concatenate((y_train, y_test)), label='True')\n",
    "plt.plot(np.concatenate((y_train, pred)), label='Predicted')\n",
    "plt.title('Apple Stock Price Prediction')\n",
    "plt.legend()\n",
    "plt.show()"
   ]
  },
  {
   "cell_type": "markdown",
   "id": "0ffe87a8",
   "metadata": {
    "id": "0ffe87a8"
   },
   "source": [
    "예측 부분만 확대하여 시각화"
   ]
  },
  {
   "cell_type": "code",
   "execution_count": null,
   "id": "c5bc75ee",
   "metadata": {
    "id": "c5bc75ee"
   },
   "outputs": [],
   "source": [
    "plt.figure(figsize=(8,4))\n",
    "plt.plot(y_test, label='True')\n",
    "plt.plot(pred, label='Predicted')\n",
    "plt.title('Apple Stock Price Prediction')\n",
    "plt.legend()\n",
    "plt.show()"
   ]
  },
  {
   "cell_type": "markdown",
   "id": "accompanied-walker",
   "metadata": {
    "id": "accompanied-walker"
   },
   "source": [
    "## 다양한 window_size tuning 을 하여 보다 정확한 예측 시도"
   ]
  },
  {
   "cell_type": "code",
   "execution_count": null,
   "id": "knowing-secretary",
   "metadata": {
    "id": "knowing-secretary"
   },
   "outputs": [],
   "source": []
  }
 ],
 "metadata": {
  "accelerator": "GPU",
  "colab": {
   "name": "112_Stock Price Prediction_LSTM-india bank.ipynb",
   "provenance": []
  },
  "gpuClass": "standard",
  "kernelspec": {
   "display_name": "Python 3 (ipykernel)",
   "language": "python",
   "name": "python3"
  },
  "language_info": {
   "codemirror_mode": {
    "name": "ipython",
    "version": 3
   },
   "file_extension": ".py",
   "mimetype": "text/x-python",
   "name": "python",
   "nbconvert_exporter": "python",
   "pygments_lexer": "ipython3",
   "version": "3.8.13"
  }
 },
 "nbformat": 4,
 "nbformat_minor": 5
}
