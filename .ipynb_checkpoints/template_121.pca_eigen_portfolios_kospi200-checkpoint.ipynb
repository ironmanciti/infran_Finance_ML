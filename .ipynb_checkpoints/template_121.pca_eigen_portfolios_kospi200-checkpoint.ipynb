{
 "cells": [
  {
   "cell_type": "markdown",
   "metadata": {},
   "source": [
    "## PCA를 통한 주식 시장 분석 \n",
    "\n",
    "### KOSPI200 종목 data 를 sklearn.decomposition 을 통해 PCA 분석\n",
    "\n",
    "- PCA를 일일 주식 수익률에 적용할 때 첫 번째 주성분은 시장 요인(beta)에 근사합니다."
   ]
  },
  {
   "cell_type": "code",
   "execution_count": 1,
   "metadata": {},
   "outputs": [],
   "source": [
    "import os\n",
    "import os.path\n",
    "import numpy as np\n",
    "import datetime\n",
    "import matplotlib.pyplot as plt\n",
    "import pandas as pd\n",
    "import pickle\n",
    "import FinanceDataReader as fdr\n",
    "from pykrx import stock\n",
    "from sklearn.decomposition import PCA\n",
    "import korean"
   ]
  },
  {
   "cell_type": "code",
   "execution_count": 2,
   "metadata": {},
   "outputs": [],
   "source": [
    "# 코스피200 ticker 및 지수 가져오기\n",
    "with open('./data/kospi200tickers.pickle', 'rb') as f:\n",
    "    tickers = pickle.load(f)   "
   ]
  },
  {
   "cell_type": "markdown",
   "metadata": {},
   "source": [
    "- `{ticker: name}` dictionary  작성"
   ]
  },
  {
   "cell_type": "code",
   "execution_count": 3,
   "metadata": {},
   "outputs": [],
   "source": [
    "ticker_to_name = {}\n",
    "\n",
    "for ticker in tickers:\n",
    "    ticker_to_name[ticker[0]] = ticker[1]"
   ]
  },
  {
   "cell_type": "markdown",
   "metadata": {},
   "source": [
    "2020-01-01 ~ 2020-12-31 기간 KOSPI200 종목의 주가 정보 수집"
   ]
  },
  {
   "cell_type": "code",
   "execution_count": 4,
   "metadata": {},
   "outputs": [
    {
     "name": "stdout",
     "output_type": "stream",
     "text": [
      "(248, 200)\n",
      "CPU times: total: 1.27 s\n",
      "Wall time: 26.7 s\n"
     ]
    },
    {
     "data": {
      "text/html": [
       "<div>\n",
       "<style scoped>\n",
       "    .dataframe tbody tr th:only-of-type {\n",
       "        vertical-align: middle;\n",
       "    }\n",
       "\n",
       "    .dataframe tbody tr th {\n",
       "        vertical-align: top;\n",
       "    }\n",
       "\n",
       "    .dataframe thead th {\n",
       "        text-align: right;\n",
       "    }\n",
       "</style>\n",
       "<table border=\"1\" class=\"dataframe\">\n",
       "  <thead>\n",
       "    <tr style=\"text-align: right;\">\n",
       "      <th></th>\n",
       "      <th>삼성전자</th>\n",
       "      <th>SK하이닉스</th>\n",
       "      <th>NAVER</th>\n",
       "      <th>삼성바이오로직스</th>\n",
       "      <th>카카오</th>\n",
       "      <th>LG화학</th>\n",
       "      <th>삼성SDI</th>\n",
       "      <th>현대차</th>\n",
       "      <th>기아</th>\n",
       "      <th>카카오뱅크</th>\n",
       "      <th>...</th>\n",
       "      <th>동원F&amp;B</th>\n",
       "      <th>LX홀딩스</th>\n",
       "      <th>넥센타이어</th>\n",
       "      <th>쿠쿠홀딩스</th>\n",
       "      <th>SNT모티브</th>\n",
       "      <th>삼양식품</th>\n",
       "      <th>현대두산인프라코어</th>\n",
       "      <th>롯데하이마트</th>\n",
       "      <th>일양약품</th>\n",
       "      <th>LX하우시스</th>\n",
       "    </tr>\n",
       "  </thead>\n",
       "  <tbody>\n",
       "    <tr>\n",
       "      <th>2020-01-02 00:00:00</th>\n",
       "      <td>55200</td>\n",
       "      <td>94700</td>\n",
       "      <td>182500</td>\n",
       "      <td>423485</td>\n",
       "      <td>30609</td>\n",
       "      <td>314000</td>\n",
       "      <td>232000</td>\n",
       "      <td>118000</td>\n",
       "      <td>42500</td>\n",
       "      <td>NaN</td>\n",
       "      <td>...</td>\n",
       "      <td>223500</td>\n",
       "      <td>NaN</td>\n",
       "      <td>8900</td>\n",
       "      <td>20700</td>\n",
       "      <td>43600</td>\n",
       "      <td>89100</td>\n",
       "      <td>4655</td>\n",
       "      <td>30600</td>\n",
       "      <td>22850</td>\n",
       "      <td>54900</td>\n",
       "    </tr>\n",
       "    <tr>\n",
       "      <th>2020-01-03 00:00:00</th>\n",
       "      <td>55500</td>\n",
       "      <td>94500</td>\n",
       "      <td>181500</td>\n",
       "      <td>417061</td>\n",
       "      <td>30609</td>\n",
       "      <td>311000</td>\n",
       "      <td>229000</td>\n",
       "      <td>116000</td>\n",
       "      <td>42000</td>\n",
       "      <td>NaN</td>\n",
       "      <td>...</td>\n",
       "      <td>222500</td>\n",
       "      <td>NaN</td>\n",
       "      <td>8950</td>\n",
       "      <td>20900</td>\n",
       "      <td>43550</td>\n",
       "      <td>92600</td>\n",
       "      <td>4646</td>\n",
       "      <td>30400</td>\n",
       "      <td>22650</td>\n",
       "      <td>55500</td>\n",
       "    </tr>\n",
       "    <tr>\n",
       "      <th>2020-01-06 00:00:00</th>\n",
       "      <td>55500</td>\n",
       "      <td>94300</td>\n",
       "      <td>180500</td>\n",
       "      <td>407178</td>\n",
       "      <td>31010</td>\n",
       "      <td>307000</td>\n",
       "      <td>230000</td>\n",
       "      <td>116000</td>\n",
       "      <td>41900</td>\n",
       "      <td>NaN</td>\n",
       "      <td>...</td>\n",
       "      <td>218000</td>\n",
       "      <td>NaN</td>\n",
       "      <td>8890</td>\n",
       "      <td>20500</td>\n",
       "      <td>42400</td>\n",
       "      <td>92400</td>\n",
       "      <td>4494</td>\n",
       "      <td>29500</td>\n",
       "      <td>21850</td>\n",
       "      <td>54600</td>\n",
       "    </tr>\n",
       "    <tr>\n",
       "      <th>2020-01-07 00:00:00</th>\n",
       "      <td>55800</td>\n",
       "      <td>94000</td>\n",
       "      <td>187000</td>\n",
       "      <td>414096</td>\n",
       "      <td>32114</td>\n",
       "      <td>311000</td>\n",
       "      <td>231500</td>\n",
       "      <td>115500</td>\n",
       "      <td>42050</td>\n",
       "      <td>NaN</td>\n",
       "      <td>...</td>\n",
       "      <td>220000</td>\n",
       "      <td>NaN</td>\n",
       "      <td>8790</td>\n",
       "      <td>20600</td>\n",
       "      <td>42650</td>\n",
       "      <td>98000</td>\n",
       "      <td>4460</td>\n",
       "      <td>30100</td>\n",
       "      <td>22000</td>\n",
       "      <td>55900</td>\n",
       "    </tr>\n",
       "    <tr>\n",
       "      <th>2020-01-08 00:00:00</th>\n",
       "      <td>56800</td>\n",
       "      <td>97400</td>\n",
       "      <td>183000</td>\n",
       "      <td>403719</td>\n",
       "      <td>32014</td>\n",
       "      <td>302000</td>\n",
       "      <td>229000</td>\n",
       "      <td>112000</td>\n",
       "      <td>41300</td>\n",
       "      <td>NaN</td>\n",
       "      <td>...</td>\n",
       "      <td>219500</td>\n",
       "      <td>NaN</td>\n",
       "      <td>8560</td>\n",
       "      <td>20700</td>\n",
       "      <td>40800</td>\n",
       "      <td>97400</td>\n",
       "      <td>4266</td>\n",
       "      <td>28600</td>\n",
       "      <td>20650</td>\n",
       "      <td>53900</td>\n",
       "    </tr>\n",
       "  </tbody>\n",
       "</table>\n",
       "<p>5 rows × 200 columns</p>\n",
       "</div>"
      ],
      "text/plain": [
       "                      삼성전자  SK하이닉스   NAVER  삼성바이오로직스    카카오    LG화학   삼성SDI  \\\n",
       "2020-01-02 00:00:00  55200   94700  182500    423485  30609  314000  232000   \n",
       "2020-01-03 00:00:00  55500   94500  181500    417061  30609  311000  229000   \n",
       "2020-01-06 00:00:00  55500   94300  180500    407178  31010  307000  230000   \n",
       "2020-01-07 00:00:00  55800   94000  187000    414096  32114  311000  231500   \n",
       "2020-01-08 00:00:00  56800   97400  183000    403719  32014  302000  229000   \n",
       "\n",
       "                        현대차     기아  카카오뱅크  ...   동원F&B  LX홀딩스  넥센타이어  쿠쿠홀딩스  \\\n",
       "2020-01-02 00:00:00  118000  42500    NaN  ...  223500    NaN   8900  20700   \n",
       "2020-01-03 00:00:00  116000  42000    NaN  ...  222500    NaN   8950  20900   \n",
       "2020-01-06 00:00:00  116000  41900    NaN  ...  218000    NaN   8890  20500   \n",
       "2020-01-07 00:00:00  115500  42050    NaN  ...  220000    NaN   8790  20600   \n",
       "2020-01-08 00:00:00  112000  41300    NaN  ...  219500    NaN   8560  20700   \n",
       "\n",
       "                     SNT모티브   삼양식품  현대두산인프라코어  롯데하이마트   일양약품  LX하우시스  \n",
       "2020-01-02 00:00:00   43600  89100       4655   30600  22850   54900  \n",
       "2020-01-03 00:00:00   43550  92600       4646   30400  22650   55500  \n",
       "2020-01-06 00:00:00   42400  92400       4494   29500  21850   54600  \n",
       "2020-01-07 00:00:00   42650  98000       4460   30100  22000   55900  \n",
       "2020-01-08 00:00:00   40800  97400       4266   28600  20650   53900  \n",
       "\n",
       "[5 rows x 200 columns]"
      ]
     },
     "execution_count": 4,
     "metadata": {},
     "output_type": "execute_result"
    }
   ],
   "source": [
    "%%time\n",
    "main_df = pd.DataFrame()\n",
    "start = '2020-01-01'\n",
    "end = '2021-01-01'\n",
    "\n",
    "for ticker in tickers:\n",
    "    df = fdr.DataReader(ticker[0], start=start, end=end)\n",
    "    df.rename(columns={'Close': ticker[1]}, inplace=True)\n",
    "    main_df =  pd.concat([main_df, df[ticker[1]]], axis=1)\n",
    "            \n",
    "print(main_df.shape)\n",
    "main_df.head()"
   ]
  },
  {
   "cell_type": "markdown",
   "metadata": {},
   "source": [
    "### null data cleansing  \n",
    "- start 일 이후 상장한 종목이 있으므로 이전 날짜는 back fill 로 채움 \n",
    "- 전체가 NaN (기간 중 상장 않은 종목)인 종목은 drop"
   ]
  },
  {
   "cell_type": "code",
   "execution_count": 5,
   "metadata": {},
   "outputs": [
    {
     "data": {
      "text/html": [
       "<div>\n",
       "<style scoped>\n",
       "    .dataframe tbody tr th:only-of-type {\n",
       "        vertical-align: middle;\n",
       "    }\n",
       "\n",
       "    .dataframe tbody tr th {\n",
       "        vertical-align: top;\n",
       "    }\n",
       "\n",
       "    .dataframe thead th {\n",
       "        text-align: right;\n",
       "    }\n",
       "</style>\n",
       "<table border=\"1\" class=\"dataframe\">\n",
       "  <thead>\n",
       "    <tr style=\"text-align: right;\">\n",
       "      <th></th>\n",
       "      <th>카카오뱅크</th>\n",
       "      <th>크래프톤</th>\n",
       "      <th>SK바이오사이언스</th>\n",
       "      <th>하이브</th>\n",
       "      <th>SK아이이테크놀로지</th>\n",
       "      <th>SK바이오팜</th>\n",
       "      <th>DL이앤씨</th>\n",
       "      <th>LX홀딩스</th>\n",
       "    </tr>\n",
       "  </thead>\n",
       "  <tbody>\n",
       "    <tr>\n",
       "      <th>2020-01-02</th>\n",
       "      <td>NaN</td>\n",
       "      <td>NaN</td>\n",
       "      <td>NaN</td>\n",
       "      <td>NaN</td>\n",
       "      <td>NaN</td>\n",
       "      <td>NaN</td>\n",
       "      <td>NaN</td>\n",
       "      <td>NaN</td>\n",
       "    </tr>\n",
       "    <tr>\n",
       "      <th>2020-01-03</th>\n",
       "      <td>NaN</td>\n",
       "      <td>NaN</td>\n",
       "      <td>NaN</td>\n",
       "      <td>NaN</td>\n",
       "      <td>NaN</td>\n",
       "      <td>NaN</td>\n",
       "      <td>NaN</td>\n",
       "      <td>NaN</td>\n",
       "    </tr>\n",
       "    <tr>\n",
       "      <th>2020-01-06</th>\n",
       "      <td>NaN</td>\n",
       "      <td>NaN</td>\n",
       "      <td>NaN</td>\n",
       "      <td>NaN</td>\n",
       "      <td>NaN</td>\n",
       "      <td>NaN</td>\n",
       "      <td>NaN</td>\n",
       "      <td>NaN</td>\n",
       "    </tr>\n",
       "    <tr>\n",
       "      <th>2020-01-07</th>\n",
       "      <td>NaN</td>\n",
       "      <td>NaN</td>\n",
       "      <td>NaN</td>\n",
       "      <td>NaN</td>\n",
       "      <td>NaN</td>\n",
       "      <td>NaN</td>\n",
       "      <td>NaN</td>\n",
       "      <td>NaN</td>\n",
       "    </tr>\n",
       "    <tr>\n",
       "      <th>2020-01-08</th>\n",
       "      <td>NaN</td>\n",
       "      <td>NaN</td>\n",
       "      <td>NaN</td>\n",
       "      <td>NaN</td>\n",
       "      <td>NaN</td>\n",
       "      <td>NaN</td>\n",
       "      <td>NaN</td>\n",
       "      <td>NaN</td>\n",
       "    </tr>\n",
       "    <tr>\n",
       "      <th>...</th>\n",
       "      <td>...</td>\n",
       "      <td>...</td>\n",
       "      <td>...</td>\n",
       "      <td>...</td>\n",
       "      <td>...</td>\n",
       "      <td>...</td>\n",
       "      <td>...</td>\n",
       "      <td>...</td>\n",
       "    </tr>\n",
       "    <tr>\n",
       "      <th>2020-12-23</th>\n",
       "      <td>NaN</td>\n",
       "      <td>NaN</td>\n",
       "      <td>NaN</td>\n",
       "      <td>151470.0</td>\n",
       "      <td>NaN</td>\n",
       "      <td>171000.0</td>\n",
       "      <td>NaN</td>\n",
       "      <td>NaN</td>\n",
       "    </tr>\n",
       "    <tr>\n",
       "      <th>2020-12-24</th>\n",
       "      <td>NaN</td>\n",
       "      <td>NaN</td>\n",
       "      <td>NaN</td>\n",
       "      <td>156420.0</td>\n",
       "      <td>NaN</td>\n",
       "      <td>171000.0</td>\n",
       "      <td>NaN</td>\n",
       "      <td>NaN</td>\n",
       "    </tr>\n",
       "    <tr>\n",
       "      <th>2020-12-28</th>\n",
       "      <td>NaN</td>\n",
       "      <td>NaN</td>\n",
       "      <td>NaN</td>\n",
       "      <td>154935.0</td>\n",
       "      <td>NaN</td>\n",
       "      <td>167500.0</td>\n",
       "      <td>NaN</td>\n",
       "      <td>NaN</td>\n",
       "    </tr>\n",
       "    <tr>\n",
       "      <th>2020-12-29</th>\n",
       "      <td>NaN</td>\n",
       "      <td>NaN</td>\n",
       "      <td>NaN</td>\n",
       "      <td>156915.0</td>\n",
       "      <td>NaN</td>\n",
       "      <td>168000.0</td>\n",
       "      <td>NaN</td>\n",
       "      <td>NaN</td>\n",
       "    </tr>\n",
       "    <tr>\n",
       "      <th>2020-12-30</th>\n",
       "      <td>NaN</td>\n",
       "      <td>NaN</td>\n",
       "      <td>NaN</td>\n",
       "      <td>158400.0</td>\n",
       "      <td>NaN</td>\n",
       "      <td>169000.0</td>\n",
       "      <td>NaN</td>\n",
       "      <td>NaN</td>\n",
       "    </tr>\n",
       "  </tbody>\n",
       "</table>\n",
       "<p>248 rows × 8 columns</p>\n",
       "</div>"
      ],
      "text/plain": [
       "            카카오뱅크  크래프톤  SK바이오사이언스       하이브  SK아이이테크놀로지    SK바이오팜  DL이앤씨  \\\n",
       "2020-01-02    NaN   NaN        NaN       NaN         NaN       NaN    NaN   \n",
       "2020-01-03    NaN   NaN        NaN       NaN         NaN       NaN    NaN   \n",
       "2020-01-06    NaN   NaN        NaN       NaN         NaN       NaN    NaN   \n",
       "2020-01-07    NaN   NaN        NaN       NaN         NaN       NaN    NaN   \n",
       "2020-01-08    NaN   NaN        NaN       NaN         NaN       NaN    NaN   \n",
       "...           ...   ...        ...       ...         ...       ...    ...   \n",
       "2020-12-23    NaN   NaN        NaN  151470.0         NaN  171000.0    NaN   \n",
       "2020-12-24    NaN   NaN        NaN  156420.0         NaN  171000.0    NaN   \n",
       "2020-12-28    NaN   NaN        NaN  154935.0         NaN  167500.0    NaN   \n",
       "2020-12-29    NaN   NaN        NaN  156915.0         NaN  168000.0    NaN   \n",
       "2020-12-30    NaN   NaN        NaN  158400.0         NaN  169000.0    NaN   \n",
       "\n",
       "            LX홀딩스  \n",
       "2020-01-02    NaN  \n",
       "2020-01-03    NaN  \n",
       "2020-01-06    NaN  \n",
       "2020-01-07    NaN  \n",
       "2020-01-08    NaN  \n",
       "...           ...  \n",
       "2020-12-23    NaN  \n",
       "2020-12-24    NaN  \n",
       "2020-12-28    NaN  \n",
       "2020-12-29    NaN  \n",
       "2020-12-30    NaN  \n",
       "\n",
       "[248 rows x 8 columns]"
      ]
     },
     "execution_count": 5,
     "metadata": {},
     "output_type": "execute_result"
    }
   ],
   "source": [
    "main_df.loc[:, main_df.isnull().sum() > 0]"
   ]
  },
  {
   "cell_type": "code",
   "execution_count": null,
   "metadata": {},
   "outputs": [],
   "source": [
    "prices"
   ]
  },
  {
   "cell_type": "markdown",
   "metadata": {},
   "source": [
    "전체가 NaN인 종목은 drop"
   ]
  },
  {
   "cell_type": "markdown",
   "metadata": {},
   "source": [
    "## Asset의 daily Return(일일 수익률) 계산 \n",
    "\n",
    "- 주가 크기가 서로 다르므로 log 함수 적용 \n",
    "- log 를 적용했으므로 pct_change() 대신 diff() 적용"
   ]
  },
  {
   "cell_type": "markdown",
   "metadata": {},
   "source": [
    "- 누적 수익률 계산  \n",
    "- log 수익률이므로 prod() 대신 cumsum()으로 더해줌  \n",
    "- 원래의 값으로 복원하려면 np.exp() 적용"
   ]
  },
  {
   "cell_type": "markdown",
   "metadata": {},
   "source": [
    "위의 수치는 2020년  이후 KOSPI200 지수 500개 종목의 일일 수익률과 누적 수익률을 보여줍니다. 원시 데이터의 양이 상당히 많아 보일 수 있으므로 PCA를 통해 일일 수익률의 첫 번째 주성분을 계산하여 처리해 보겠습니다.\n",
    "\n",
    "아래 그림은 기본적으로 200개 주식 각각에 대한 값을 포함하는 차원 200의 벡터인 첫 번째 주성분의 값을 보여줍니다."
   ]
  },
  {
   "cell_type": "markdown",
   "metadata": {},
   "source": [
    "첫 번째 주성분은 대부분의 분산을 설명하는 입력 데이터의 선형 조합을 나타내고, 주식 수익률의 주요 동인은 전체 시장 요인이므로, 첫 번째 주성분(즉, 입력 데이터의 선형 결합)에 비례하여 현금을 할당해 주식 포트폴리오를 구성하면 KOSPI200의 수익률을 대략적으로 복제할 수 있음을 의미합니다."
   ]
  },
  {
   "cell_type": "markdown",
   "metadata": {},
   "source": [
    "첫번째 주성분 비율로 구성한 200개 종목 portfolio 의 daily log return"
   ]
  },
  {
   "cell_type": "markdown",
   "metadata": {},
   "source": [
    "my_portfolio의 누적 수익률"
   ]
  },
  {
   "cell_type": "markdown",
   "metadata": {},
   "source": [
    "아래 그림은 PCA 첫번째 주성분 portfolio가 KOSPI200을 거의 비슷하게 복제함을 보여줍니다."
   ]
  },
  {
   "cell_type": "markdown",
   "metadata": {},
   "source": [
    "## PCA로 COVID19의 종목별 영향 분석\n",
    "\n",
    "PCA를 사용하면 사전 지식 없이 COVID19 대유행의 영향을 가장 많이 받거나 적게 받은 비즈니스를 함께 클러스터링할 수 있습니다.\n",
    "\n",
    "2020년은 COVID19 대유행으로 인해 주식 시장에 격변의 시기였습니다. PCA를 사용하여 이 대유행이 개별 주식에 어떤 영향을 미쳤는지 분석할 수 있습니다.\n",
    "\n",
    "\n",
    "첫 번째 주성분을 살펴보고 아래와 같이 PCA 가중치가 가장 크거나 가장 작은 종목을 선택합니다."
   ]
  },
  {
   "cell_type": "markdown",
   "metadata": {},
   "source": [
    "pca 가 가장 negative한 종목들"
   ]
  },
  {
   "cell_type": "markdown",
   "metadata": {},
   "source": [
    "pca가 가장 덜 negative한 종목들"
   ]
  },
  {
   "cell_type": "markdown",
   "metadata": {},
   "source": [
    "pca가 가장 negative한 종목(negative beta, 시장 영향을 많이 받은 종목)과 덜 negative한 종목(시장 영향을 적게 받은 종목) 시각화"
   ]
  },
  {
   "cell_type": "markdown",
   "metadata": {},
   "source": [
    "우리는 PCA 가중치에 따라 상위 및 하위 10개 기업을 매수한 포트폴리오를 구성할 수 있습니다. 아래 그림에서 볼 수 있듯이 이 하위 10 종목 포트폴리오는 KOSPI200 지수보다 더 손실을 본 반면, 상위 10 종목 포트폴리오는 팬데믹으로 인해 실제로 수혜를 입은 회사에 투자했기 때문에 시장보다 훨씬 더 나은 성과를 거두었을 것입니다."
   ]
  }
 ],
 "metadata": {
  "anaconda-cloud": {},
  "coursera": {
   "course_slug": "machine-learning-in-finance"
  },
  "kernelspec": {
   "display_name": "Python 3 (ipykernel)",
   "language": "python",
   "name": "python3"
  },
  "language_info": {
   "codemirror_mode": {
    "name": "ipython",
    "version": 3
   },
   "file_extension": ".py",
   "mimetype": "text/x-python",
   "name": "python",
   "nbconvert_exporter": "python",
   "pygments_lexer": "ipython3",
   "version": "3.9.12"
  }
 },
 "nbformat": 4,
 "nbformat_minor": 1
}
