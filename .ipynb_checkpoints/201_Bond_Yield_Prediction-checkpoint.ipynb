{
 "cells": [
  {
   "cell_type": "markdown",
   "id": "2b603b48-7ee7-4cc3-9489-01c284b89795",
   "metadata": {},
   "source": [
    "# 채권 수익률 예측 Machine Learning Model\n",
    "\n",
    "채권 가격을 예측하는 머신 러닝 모델을 작성하려면 먼저 채권 가격에 영향을 미치는 변수들을 수집하고, 이를 기반으로 모델을 학습시켜야 합니다. 일반적으로 채권 가격은 **이자율**, **만기 기간**, **신용 등급**, **쿠폰 금리**, **유동성** 등 다양한 요인에 의해 결정됩니다. 이 예제에서는 간단하게 경제 지표와 소비자 물가 지수를 이용하여 채권 수익률을 예측하는 회귀 모델을 구축하겠습니다.\n",
    "\n",
    "아래 예제에서는 머신 러닝 회귀 모델 중 하나인 `RandomForestRegressor`를 사용하겠습니다. 또한, Python의 `scikit-learn`과 `pandas` 라이브러리를 사용하여 데이터를 전처리하고 모델을 학습시킵니다.\n",
    "\n",
    "### 예제 코드: 미국 10년 만기 국채 수익률 예측\n",
    "\n",
    "1. **데이터 수집**:\n",
    "   - 미국 10년 만기 국채 수익률 (10Y Treasury Yield)을 가져옵니다. \n",
    "   - S&P 500 지수와 소비자 물가지수(CPI) 데이터를 가져와 경제 지표로 활용합니다. \n",
    "   - 여기서 `10Y_Treasury_Yield`는 금리에 해당하며, `SP500`와 `CPI`는 경기를 반영하는 추가 변수로 사용됩니다. \n",
    "<br>\n",
    "<br>\n",
    "3. **모델 학습**:\n",
    "   - 예측 변수(`X`)로 S&P 500 지수, CPI를 사용하고, 타깃 변수(`y`)로 채권 수익률을 설정합니다."
   ]
  },
  {
   "cell_type": "code",
   "execution_count": 1,
   "id": "70ecfde7-4bac-4c3d-9d38-7e9b53fe1dea",
   "metadata": {},
   "outputs": [],
   "source": [
    "import pandas as pd\n",
    "import numpy as np\n",
    "from pandas_datareader import data as pdr\n",
    "import yfinance as yf\n",
    "from sklearn.model_selection import train_test_split\n",
    "from sklearn.ensemble import RandomForestRegressor\n",
    "from sklearn.metrics import mean_squared_error, r2_score\n",
    "import datetime"
   ]
  },
  {
   "cell_type": "code",
   "execution_count": 2,
   "id": "62463e18-b44d-459e-ae39-d8415580810b",
   "metadata": {},
   "outputs": [
    {
     "name": "stdout",
     "output_type": "stream",
     "text": [
      "(3949,)\n"
     ]
    },
    {
     "data": {
      "text/plain": [
       "DATE\n",
       "2010-01-01     NaN\n",
       "2010-01-04    3.85\n",
       "2010-01-05    3.77\n",
       "2010-01-06    3.85\n",
       "2010-01-07    3.85\n",
       "Name: DGS10, dtype: float64"
      ]
     },
     "execution_count": 2,
     "metadata": {},
     "output_type": "execute_result"
    }
   ],
   "source": [
    "# 데이터 수집 기간 설정\n",
    "start_date = \"2010-01-01\"\n",
    "end_date = datetime.datetime.today().strftime(\"%Y-%m-%d\")  # 현재 날짜를 YYYY-MM-DD 형식으로 설정\n",
    "\n",
    "\n",
    "# 미국 10년 만기 국채 수익률 데이터 가져오기 (FRED 데이터)\n",
    "treasury_yield = pdr.get_data_fred(\"DGS10\", start=start_date, end=end_date)['DGS10']\n",
    "print(treasury_yield.shape)\n",
    "treasury_yield.head()"
   ]
  },
  {
   "cell_type": "code",
   "execution_count": 3,
   "id": "75b56ee7-e0a9-4f83-b500-06309eecf488",
   "metadata": {},
   "outputs": [
    {
     "name": "stdout",
     "output_type": "stream",
     "text": [
      "YF.download() has changed argument auto_adjust default to True\n"
     ]
    },
    {
     "name": "stderr",
     "output_type": "stream",
     "text": [
      "[*********************100%***********************]  1 of 1 completed"
     ]
    },
    {
     "name": "stdout",
     "output_type": "stream",
     "text": [
      "(3807,)\n"
     ]
    },
    {
     "name": "stderr",
     "output_type": "stream",
     "text": [
      "\n"
     ]
    },
    {
     "data": {
      "text/plain": [
       "Date\n",
       "2010-01-04    1132.989990\n",
       "2010-01-05    1136.520020\n",
       "2010-01-06    1137.140015\n",
       "2010-01-07    1141.689941\n",
       "2010-01-08    1144.979980\n",
       "Name: Close, dtype: float64"
      ]
     },
     "execution_count": 3,
     "metadata": {},
     "output_type": "execute_result"
    }
   ],
   "source": [
    "# S&P 500 데이터 가져오기 (경기 지표로 사용)\n",
    "sp500 = yf.download(\"^GSPC\", start=start_date, end=end_date, multi_level_index=False)['Close']\n",
    "print(sp500.shape)\n",
    "sp500.head()"
   ]
  },
  {
   "cell_type": "code",
   "execution_count": 4,
   "id": "8bd6fa63-8f56-4543-bd56-0a1e1cf79189",
   "metadata": {},
   "outputs": [
    {
     "name": "stdout",
     "output_type": "stream",
     "text": [
      "(5480,)\n"
     ]
    },
    {
     "data": {
      "text/plain": [
       "DATE\n",
       "2010-01-01    217.488000\n",
       "2010-01-02    217.481323\n",
       "2010-01-03    217.474645\n",
       "2010-01-04    217.467968\n",
       "2010-01-05    217.461290\n",
       "Freq: D, Name: CPIAUCSL, dtype: float64"
      ]
     },
     "execution_count": 4,
     "metadata": {},
     "output_type": "execute_result"
    }
   ],
   "source": [
    "# 기타 경제 지표 예시로 소비자 물가지수 (CPI) 가져오기\n",
    "cpi = pdr.get_data_fred(\"CPIAUCSL\", start=start_date, end=end_date)['CPIAUCSL']\n",
    "\n",
    "cpi = cpi.resample('D').interpolate(method='linear')\n",
    "\n",
    "print(cpi.shape)\n",
    "cpi.head()"
   ]
  },
  {
   "cell_type": "code",
   "execution_count": 5,
   "id": "a898b644-80a2-49bf-ba54-897afe2bc540",
   "metadata": {},
   "outputs": [
    {
     "name": "stdout",
     "output_type": "stream",
     "text": [
      "(3746, 3)\n"
     ]
    },
    {
     "data": {
      "text/html": [
       "<div>\n",
       "<style scoped>\n",
       "    .dataframe tbody tr th:only-of-type {\n",
       "        vertical-align: middle;\n",
       "    }\n",
       "\n",
       "    .dataframe tbody tr th {\n",
       "        vertical-align: top;\n",
       "    }\n",
       "\n",
       "    .dataframe thead th {\n",
       "        text-align: right;\n",
       "    }\n",
       "</style>\n",
       "<table border=\"1\" class=\"dataframe\">\n",
       "  <thead>\n",
       "    <tr style=\"text-align: right;\">\n",
       "      <th></th>\n",
       "      <th>10Y_Treasury_Yield</th>\n",
       "      <th>SP500</th>\n",
       "      <th>CPI</th>\n",
       "    </tr>\n",
       "  </thead>\n",
       "  <tbody>\n",
       "    <tr>\n",
       "      <th>2010-01-04</th>\n",
       "      <td>3.85</td>\n",
       "      <td>1132.989990</td>\n",
       "      <td>217.467968</td>\n",
       "    </tr>\n",
       "    <tr>\n",
       "      <th>2010-01-05</th>\n",
       "      <td>3.77</td>\n",
       "      <td>1136.520020</td>\n",
       "      <td>217.461290</td>\n",
       "    </tr>\n",
       "    <tr>\n",
       "      <th>2010-01-06</th>\n",
       "      <td>3.85</td>\n",
       "      <td>1137.140015</td>\n",
       "      <td>217.454613</td>\n",
       "    </tr>\n",
       "    <tr>\n",
       "      <th>2010-01-07</th>\n",
       "      <td>3.85</td>\n",
       "      <td>1141.689941</td>\n",
       "      <td>217.447935</td>\n",
       "    </tr>\n",
       "    <tr>\n",
       "      <th>2010-01-08</th>\n",
       "      <td>3.83</td>\n",
       "      <td>1144.979980</td>\n",
       "      <td>217.441258</td>\n",
       "    </tr>\n",
       "  </tbody>\n",
       "</table>\n",
       "</div>"
      ],
      "text/plain": [
       "            10Y_Treasury_Yield        SP500         CPI\n",
       "2010-01-04                3.85  1132.989990  217.467968\n",
       "2010-01-05                3.77  1136.520020  217.461290\n",
       "2010-01-06                3.85  1137.140015  217.454613\n",
       "2010-01-07                3.85  1141.689941  217.447935\n",
       "2010-01-08                3.83  1144.979980  217.441258"
      ]
     },
     "execution_count": 5,
     "metadata": {},
     "output_type": "execute_result"
    }
   ],
   "source": [
    "# 데이터 합치기\n",
    "data = pd.concat([treasury_yield, sp500, cpi], axis=1)\n",
    "data.columns = ['10Y_Treasury_Yield', 'SP500', 'CPI']\n",
    "data.dropna(inplace=True)  # 결측치 제거\n",
    "\n",
    "print(data.shape)\n",
    "data.head()"
   ]
  },
  {
   "cell_type": "code",
   "execution_count": 6,
   "id": "c684575c-e619-4d58-8ac3-4255f2942ce5",
   "metadata": {},
   "outputs": [
    {
     "data": {
      "text/plain": [
       "((2996, 2), (750, 2), (2996,), (750,))"
      ]
     },
     "execution_count": 6,
     "metadata": {},
     "output_type": "execute_result"
    }
   ],
   "source": [
    "# 타겟 변수 설정: 10년 만기 국채 수익률 (10Y Treasury Yield)\n",
    "y = data['10Y_Treasury_Yield']\n",
    "\n",
    "# 예측 변수로 '10Y_Treasury_Yield'를 제외한 다른 경제 지표들 사용\n",
    "X = data[['SP500', 'CPI']]\n",
    "\n",
    "# 학습 데이터와 테스트 데이터로 분리\n",
    "X_train, X_test, y_train, y_test = train_test_split(X, y, test_size=0.2, random_state=42)\n",
    "X_train.shape, X_test.shape, y_train.shape, y_test.shape"
   ]
  },
  {
   "cell_type": "code",
   "execution_count": 7,
   "id": "c91e0ee2-d0f0-48fb-a535-44df97250e23",
   "metadata": {},
   "outputs": [
    {
     "data": {
      "text/plain": [
       "(750,)"
      ]
     },
     "execution_count": 7,
     "metadata": {},
     "output_type": "execute_result"
    }
   ],
   "source": [
    "import warnings\n",
    "warnings.filterwarnings('ignore')\n",
    "\n",
    "# 랜덤 포레스트 회귀 모델 학습\n",
    "model = RandomForestRegressor(n_estimators=100, random_state=42)\n",
    "model.fit(X_train, y_train)\n",
    "\n",
    "# 예측\n",
    "y_pred = model.predict(X_test)\n",
    "y_pred.shape"
   ]
  },
  {
   "cell_type": "code",
   "execution_count": 8,
   "id": "81abe0c5-563d-4353-81b1-7ee9fdf3248e",
   "metadata": {},
   "outputs": [
    {
     "name": "stdout",
     "output_type": "stream",
     "text": [
      "Mean Squared Error: 0.02027627562666669\n",
      "R^2 Score: 0.9768689903887398\n",
      "            Actual  Predicted\n",
      "2023-08-15    4.21     4.2193\n",
      "2014-06-19    2.64     2.5117\n",
      "2011-05-27    3.07     3.1433\n",
      "2024-12-10    4.22     4.2340\n",
      "2023-10-06    4.78     4.7219\n"
     ]
    }
   ],
   "source": [
    "# 모델 평가\n",
    "mse = mean_squared_error(y_test, y_pred)\n",
    "r2 = r2_score(y_test, y_pred)\n",
    "\n",
    "print(f\"Mean Squared Error: {mse}\")\n",
    "print(f\"R^2 Score: {r2}\")\n",
    "\n",
    "# 예측 결과 일부 출력\n",
    "results = pd.DataFrame({\"Actual\": y_test, \"Predicted\": y_pred})\n",
    "print(results.head())"
   ]
  },
  {
   "cell_type": "code",
   "execution_count": 9,
   "id": "a9b0b208-221a-4dcc-a948-719f4d09ebdf",
   "metadata": {},
   "outputs": [
    {
     "data": {
      "image/png": "[encoded data removed]",
      "text/plain": [
       "<Figure size 640x480 with 1 Axes>"
      ]
     },
     "metadata": {},
     "output_type": "display_data"
    }
   ],
   "source": [
    "import matplotlib.pyplot as plt\n",
    "\n",
    "plt.scatter(y_test, y_pred, label='Yield Prediction')\n",
    "plt.plot(y_test, y_test, 'r', label='True Yield')\n",
    "plt.xlabel('True yield')\n",
    "plt.ylabel('Predicted yield')\n",
    "plt.legend()\n",
    "plt.show()"
   ]
  },
  {
   "cell_type": "code",
   "execution_count": 10,
   "id": "aab6549f-caa5-4710-bce9-92de55eef060",
   "metadata": {},
   "outputs": [
    {
     "name": "stdout",
     "output_type": "stream",
     "text": [
      "Price            Close    High          Low    Open      Volume\n",
      "Ticker           ^GSPC   ^GSPC        ^GSPC   ^GSPC       ^GSPC\n",
      "Date                                                           \n",
      "2025-02-20  6117.52002  6134.5  6084.589844  6134.5  2957558000\n"
     ]
    }
   ],
   "source": [
    "sp500_latest = yf.download(\"^GSPC\", period=\"1d\", progress=False)\n",
    "print(sp500_latest)"
   ]
  },
  {
   "cell_type": "code",
   "execution_count": 11,
   "id": "53f2da30-e699-4da9-96cc-6404f614afc4",
   "metadata": {},
   "outputs": [
    {
     "name": "stdout",
     "output_type": "stream",
     "text": [
      "Predicted 10-Year Treasury Yield for 2025-02-21: 4.56%\n"
     ]
    }
   ],
   "source": [
    "# 오늘 날짜 데이터 수집\n",
    "today = datetime.datetime.today().strftime(\"%Y-%m-%d\")\n",
    "sp500_today = yf.download(\"^GSPC\", period=\"1d\", progress=False, multi_level_index=False)['Close'].iloc[-1]\n",
    "cpi_latest = cpi.iloc[-1]  # 가장 최근의 CPI 데이터 사용\n",
    "\n",
    "# 오늘 데이터로 예측\n",
    "today_data = pd.DataFrame({'SP500': [sp500_today], 'CPI': [cpi_latest]})\n",
    "predicted_yield = model.predict(today_data)[0]\n",
    "\n",
    "print(f\"Predicted 10-Year Treasury Yield for {today}: {predicted_yield:.2f}%\")"
   ]
  },
  {
   "cell_type": "code",
   "execution_count": 12,
   "id": "c03af174-a265-40c8-8ae6-2d897cf4c9e5",
   "metadata": {},
   "outputs": [
    {
     "data": {
      "text/plain": [
       "DATE\n",
       "2025-02-13    4.52\n",
       "2025-02-14    4.47\n",
       "2025-02-17     NaN\n",
       "2025-02-18    4.55\n",
       "2025-02-19    4.53\n",
       "Name: DGS10, dtype: float64"
      ]
     },
     "execution_count": 12,
     "metadata": {},
     "output_type": "execute_result"
    }
   ],
   "source": [
    "treasury_yield.tail()"
   ]
  },
  {
   "cell_type": "markdown",
   "id": "335641cb-32c2-4e55-8708-4b29a5d23ac6",
   "metadata": {},
   "source": [
    "\n",
    "### 해석 방법:\n",
    "\n",
    "1. **오늘의 실제 시장 수익률이 모델 예측 수익률보다 높을 때**:\n",
    "   - 채권 수익률이 **고평가**되었다고 볼 수 있습니다.\n",
    "   - 이는 시장이 채권의 위험을 더 크게 평가하고 있다는 뜻으로 해석될 수 있습니다.\n",
    "   - 이 경우, 채권 가격은 상대적으로 낮게 거래되고 있을 가능성이 있습니다.\n",
    "\n",
    "2. **오늘의 실제 시장 수익률이 모델 예측 수익률보다 낮을 때**:\n",
    "   - 채권 수익률이 **저평가**되었다고 볼 수 있습니다.\n",
    "   - 이는 시장이 채권의 위험을 더 낮게 평가하고 있다는 뜻으로 해석될 수 있습니다.\n",
    "   - 이 경우, 채권 가격은 상대적으로 높게 거래되고 있을 가능성이 있습니다.\n",
    "\n",
    "---\n",
    "\n",
    "### 왜 이런 해석이 가능한가?\n",
    "\n",
    "- **채권 가격과 수익률의 관계**: 채권 가격과 수익률은 반비례 관계에 있습니다. 시장 수익률이 높다면 채권 가격은 낮아지고, 수익률이 낮다면 채권 가격은 높아집니다.\n",
    "- **모델의 역할**: 모델은 과거 데이터와 경제 지표를 기반으로 \"합리적인 수익률\"을 예측합니다. 따라서 실제 시장 수익률이 모델 수익률보다 높다면, 시장이 그만큼 위험을 더 반영하고 있는 것으로 볼 수 있습니다.\n",
    "\n",
    "---\n",
    "\n",
    "### 예제 시나리오:\n",
    "- **모델 예측 수익률**: 3.5%\n",
    "- **오늘의 시장 수익률**: 4.0%\n",
    "  - 실제 시장 수익률이 더 높으므로, **채권 수익률이 고평가**되었음을 의미합니다.\n",
    "  - 이 경우, 투자자들은 채권을 저평가된 것으로 간주하고 매수 기회를 찾을 수 있습니다.\n",
    "\n",
    "반대로, 시장 수익률이 3.0%라면 채권은 **저평가**된 것으로 간주할 수 있습니다.\n",
    "\n",
    "---\n",
    "\n",
    "### 결론:\n",
    "- **모델 예측 vs 실제 시장 수익률** 비교는 투자 판단에 중요한 참고 지표가 됩니다.\n",
    "- 다만, 시장 수익률이 높거나 낮은 이유에는 금리 변화, 유동성, 위험 선호도 등 다양한 요인이 포함되므로, 이러한 외부 요인도 함께 고려해야 합니다."
   ]
  },
  {
   "cell_type": "code",
   "execution_count": null,
   "id": "a93127df-18de-41a6-a5f7-fa6c56f7a991",
   "metadata": {},
   "outputs": [],
   "source": []
  }
 ],
 "metadata": {
  "kernelspec": {
   "display_name": "Python 3 (ipykernel)",
   "language": "python",
   "name": "python3"
  },
  "language_info": {
   "codemirror_mode": {
    "name": "ipython",
    "version": 3
   },
   "file_extension": ".py",
   "mimetype": "text/x-python",
   "name": "python",
   "nbconvert_exporter": "python",
   "pygments_lexer": "ipython3",
   "version": "3.9.21"
  }
 },
 "nbformat": 4,
 "nbformat_minor": 5
}
