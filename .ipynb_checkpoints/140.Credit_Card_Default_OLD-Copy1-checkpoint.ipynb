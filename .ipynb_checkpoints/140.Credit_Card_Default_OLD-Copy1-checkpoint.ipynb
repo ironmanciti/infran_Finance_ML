{
 "cells": [
  {
   "cell_type": "markdown",
   "metadata": {},
   "source": [
    "#  Machine Learning을 활용한 Credit Card Default 예측\n",
    "\n",
    "### Dataset 구성\n",
    "- limit_bal : credit 카드 한도  \n",
    "- payment_status_{month}: 이전 6개월 중 해당 월의 payment status  \n",
    "- bill_statement_{month}: 이전 6개월 중 해당 월의 청구 금액  \n",
    "- previous_payment_{month} : 이전 6개월 중 해당 월의 결제 금액"
   ]
  },
  {
   "cell_type": "code",
   "execution_count": 1,
   "metadata": {},
   "outputs": [],
   "source": [
    "import pandas as pd\n",
    "import matplotlib.pyplot as plt\n",
    "import seaborn as sns\n",
    "import numpy as np\n",
    "import plotly.express as px\n",
    "\n",
    "#한글 폰트 사용\n",
    "import platform\n",
    "from matplotlib import font_manager\n",
    " \n",
    "if platform.system() == \"Darwin\":  #Mac\n",
    "    plt.rc('font', family='AppleGothic')\n",
    "else:\n",
    "    font_path = 'C:/Windows/Fonts/malgun.ttf' # For Windows \n",
    "    font_name = font_manager.FontProperties(fname=font_path).get_name()  \n",
    "    plt.rc('font', family=font_name)                           \n",
    "\n",
    "plt.rcParams['axes.unicode_minus'] = False  #한글사용시 마이너스 사인 깨짐 방지"
   ]
  },
  {
   "cell_type": "code",
   "execution_count": 2,
   "metadata": {},
   "outputs": [
    {
     "name": "stdout",
     "output_type": "stream",
     "text": [
      "(30000, 24)\n"
     ]
    },
    {
     "data": {
      "text/html": [
       "<div>\n",
       "<style scoped>\n",
       "    .dataframe tbody tr th:only-of-type {\n",
       "        vertical-align: middle;\n",
       "    }\n",
       "\n",
       "    .dataframe tbody tr th {\n",
       "        vertical-align: top;\n",
       "    }\n",
       "\n",
       "    .dataframe thead th {\n",
       "        text-align: right;\n",
       "    }\n",
       "</style>\n",
       "<table border=\"1\" class=\"dataframe\">\n",
       "  <thead>\n",
       "    <tr style=\"text-align: right;\">\n",
       "      <th></th>\n",
       "      <th>limit_bal</th>\n",
       "      <th>sex</th>\n",
       "      <th>education</th>\n",
       "      <th>marriage</th>\n",
       "      <th>age</th>\n",
       "      <th>payment_status_sep</th>\n",
       "      <th>payment_status_aug</th>\n",
       "      <th>payment_status_jul</th>\n",
       "      <th>payment_status_jun</th>\n",
       "      <th>payment_status_may</th>\n",
       "      <th>...</th>\n",
       "      <th>bill_statement_jun</th>\n",
       "      <th>bill_statement_may</th>\n",
       "      <th>bill_statement_apr</th>\n",
       "      <th>previous_payment_sep</th>\n",
       "      <th>previous_payment_aug</th>\n",
       "      <th>previous_payment_jul</th>\n",
       "      <th>previous_payment_jun</th>\n",
       "      <th>previous_payment_may</th>\n",
       "      <th>previous_payment_apr</th>\n",
       "      <th>default_payment_next_month</th>\n",
       "    </tr>\n",
       "  </thead>\n",
       "  <tbody>\n",
       "    <tr>\n",
       "      <th>0</th>\n",
       "      <td>20000</td>\n",
       "      <td>Female</td>\n",
       "      <td>University</td>\n",
       "      <td>Married</td>\n",
       "      <td>24.0</td>\n",
       "      <td>Payment delayed 2 months</td>\n",
       "      <td>Payment delayed 2 months</td>\n",
       "      <td>Payed duly</td>\n",
       "      <td>Payed duly</td>\n",
       "      <td>Unknown</td>\n",
       "      <td>...</td>\n",
       "      <td>0</td>\n",
       "      <td>0</td>\n",
       "      <td>0</td>\n",
       "      <td>0</td>\n",
       "      <td>689</td>\n",
       "      <td>0</td>\n",
       "      <td>0</td>\n",
       "      <td>0</td>\n",
       "      <td>0</td>\n",
       "      <td>1</td>\n",
       "    </tr>\n",
       "    <tr>\n",
       "      <th>1</th>\n",
       "      <td>120000</td>\n",
       "      <td>Female</td>\n",
       "      <td>University</td>\n",
       "      <td>Single</td>\n",
       "      <td>26.0</td>\n",
       "      <td>Payed duly</td>\n",
       "      <td>Payment delayed 2 months</td>\n",
       "      <td>Unknown</td>\n",
       "      <td>Unknown</td>\n",
       "      <td>Unknown</td>\n",
       "      <td>...</td>\n",
       "      <td>3272</td>\n",
       "      <td>3455</td>\n",
       "      <td>3261</td>\n",
       "      <td>0</td>\n",
       "      <td>1000</td>\n",
       "      <td>1000</td>\n",
       "      <td>1000</td>\n",
       "      <td>0</td>\n",
       "      <td>2000</td>\n",
       "      <td>1</td>\n",
       "    </tr>\n",
       "    <tr>\n",
       "      <th>2</th>\n",
       "      <td>90000</td>\n",
       "      <td>Female</td>\n",
       "      <td>University</td>\n",
       "      <td>Single</td>\n",
       "      <td>34.0</td>\n",
       "      <td>Unknown</td>\n",
       "      <td>Unknown</td>\n",
       "      <td>Unknown</td>\n",
       "      <td>Unknown</td>\n",
       "      <td>Unknown</td>\n",
       "      <td>...</td>\n",
       "      <td>14331</td>\n",
       "      <td>14948</td>\n",
       "      <td>15549</td>\n",
       "      <td>1518</td>\n",
       "      <td>1500</td>\n",
       "      <td>1000</td>\n",
       "      <td>1000</td>\n",
       "      <td>1000</td>\n",
       "      <td>5000</td>\n",
       "      <td>0</td>\n",
       "    </tr>\n",
       "    <tr>\n",
       "      <th>3</th>\n",
       "      <td>50000</td>\n",
       "      <td>Female</td>\n",
       "      <td>University</td>\n",
       "      <td>Married</td>\n",
       "      <td>37.0</td>\n",
       "      <td>Unknown</td>\n",
       "      <td>Unknown</td>\n",
       "      <td>Unknown</td>\n",
       "      <td>Unknown</td>\n",
       "      <td>Unknown</td>\n",
       "      <td>...</td>\n",
       "      <td>28314</td>\n",
       "      <td>28959</td>\n",
       "      <td>29547</td>\n",
       "      <td>2000</td>\n",
       "      <td>2019</td>\n",
       "      <td>1200</td>\n",
       "      <td>1100</td>\n",
       "      <td>1069</td>\n",
       "      <td>1000</td>\n",
       "      <td>0</td>\n",
       "    </tr>\n",
       "    <tr>\n",
       "      <th>4</th>\n",
       "      <td>50000</td>\n",
       "      <td>Male</td>\n",
       "      <td>University</td>\n",
       "      <td>Married</td>\n",
       "      <td>57.0</td>\n",
       "      <td>Payed duly</td>\n",
       "      <td>Unknown</td>\n",
       "      <td>Payed duly</td>\n",
       "      <td>Unknown</td>\n",
       "      <td>Unknown</td>\n",
       "      <td>...</td>\n",
       "      <td>20940</td>\n",
       "      <td>19146</td>\n",
       "      <td>19131</td>\n",
       "      <td>2000</td>\n",
       "      <td>36681</td>\n",
       "      <td>10000</td>\n",
       "      <td>9000</td>\n",
       "      <td>689</td>\n",
       "      <td>679</td>\n",
       "      <td>0</td>\n",
       "    </tr>\n",
       "  </tbody>\n",
       "</table>\n",
       "<p>5 rows × 24 columns</p>\n",
       "</div>"
      ],
      "text/plain": [
       "   limit_bal     sex   education marriage   age        payment_status_sep  \\\n",
       "0      20000  Female  University  Married  24.0  Payment delayed 2 months   \n",
       "1     120000  Female  University   Single  26.0                Payed duly   \n",
       "2      90000  Female  University   Single  34.0                   Unknown   \n",
       "3      50000  Female  University  Married  37.0                   Unknown   \n",
       "4      50000    Male  University  Married  57.0                Payed duly   \n",
       "\n",
       "         payment_status_aug payment_status_jul payment_status_jun  \\\n",
       "0  Payment delayed 2 months         Payed duly         Payed duly   \n",
       "1  Payment delayed 2 months            Unknown            Unknown   \n",
       "2                   Unknown            Unknown            Unknown   \n",
       "3                   Unknown            Unknown            Unknown   \n",
       "4                   Unknown         Payed duly            Unknown   \n",
       "\n",
       "  payment_status_may  ... bill_statement_jun  bill_statement_may  \\\n",
       "0            Unknown  ...                  0                   0   \n",
       "1            Unknown  ...               3272                3455   \n",
       "2            Unknown  ...              14331               14948   \n",
       "3            Unknown  ...              28314               28959   \n",
       "4            Unknown  ...              20940               19146   \n",
       "\n",
       "   bill_statement_apr  previous_payment_sep  previous_payment_aug  \\\n",
       "0                   0                     0                   689   \n",
       "1                3261                     0                  1000   \n",
       "2               15549                  1518                  1500   \n",
       "3               29547                  2000                  2019   \n",
       "4               19131                  2000                 36681   \n",
       "\n",
       "   previous_payment_jul  previous_payment_jun  previous_payment_may  \\\n",
       "0                     0                     0                     0   \n",
       "1                  1000                  1000                     0   \n",
       "2                  1000                  1000                  1000   \n",
       "3                  1200                  1100                  1069   \n",
       "4                 10000                  9000                   689   \n",
       "\n",
       "   previous_payment_apr  default_payment_next_month  \n",
       "0                     0                           1  \n",
       "1                  2000                           1  \n",
       "2                  5000                           0  \n",
       "3                  1000                           0  \n",
       "4                   679                           0  \n",
       "\n",
       "[5 rows x 24 columns]"
      ]
     },
     "execution_count": 2,
     "metadata": {},
     "output_type": "execute_result"
    }
   ],
   "source": [
    "df = pd.read_csv('data/credit_card_default.csv', index_col=0, na_values='')\n",
    "print(df.shape)\n",
    "df.head()"
   ]
  },
  {
   "cell_type": "code",
   "execution_count": 3,
   "metadata": {},
   "outputs": [
    {
     "data": {
      "text/plain": [
       "limit_bal                       int64\n",
       "sex                            object\n",
       "education                      object\n",
       "marriage                       object\n",
       "age                           float64\n",
       "payment_status_sep             object\n",
       "payment_status_aug             object\n",
       "payment_status_jul             object\n",
       "payment_status_jun             object\n",
       "payment_status_may             object\n",
       "payment_status_apr             object\n",
       "bill_statement_sep              int64\n",
       "bill_statement_aug              int64\n",
       "bill_statement_jul              int64\n",
       "bill_statement_jun              int64\n",
       "bill_statement_may              int64\n",
       "bill_statement_apr              int64\n",
       "previous_payment_sep            int64\n",
       "previous_payment_aug            int64\n",
       "previous_payment_jul            int64\n",
       "previous_payment_jun            int64\n",
       "previous_payment_may            int64\n",
       "previous_payment_apr            int64\n",
       "default_payment_next_month      int64\n",
       "dtype: object"
      ]
     },
     "execution_count": 3,
     "metadata": {},
     "output_type": "execute_result"
    }
   ],
   "source": [
    "df.dtypes"
   ]
  },
  {
   "cell_type": "markdown",
   "metadata": {},
   "source": [
    "### Target 변수의 분포"
   ]
  },
  {
   "cell_type": "code",
   "execution_count": 4,
   "metadata": {},
   "outputs": [
    {
     "data": {
      "text/plain": [
       "0    23364\n",
       "1     6636\n",
       "Name: default_payment_next_month, dtype: int64"
      ]
     },
     "execution_count": 4,
     "metadata": {},
     "output_type": "execute_result"
    }
   ],
   "source": [
    "df['default_payment_next_month'].value_counts()"
   ]
  },
  {
   "cell_type": "code",
   "execution_count": 5,
   "metadata": {},
   "outputs": [
    {
     "data": {
      "text/plain": [
       "<AxesSubplot:xlabel='default_payment_next_month', ylabel='count'>"
      ]
     },
     "execution_count": 5,
     "metadata": {},
     "output_type": "execute_result"
    },
    {
     "data": {
      "image/png": "[encoded data removed]",
      "text/plain": [
       "<Figure size 432x288 with 1 Axes>"
      ]
     },
     "metadata": {
      "needs_background": "light"
     },
     "output_type": "display_data"
    }
   ],
   "source": [
    "sns.countplot(x=\"default_payment_next_month\", data=df)"
   ]
  },
  {
   "cell_type": "markdown",
   "metadata": {},
   "source": [
    "## Exploratory Data Analysis"
   ]
  },
  {
   "cell_type": "code",
   "execution_count": 6,
   "metadata": {},
   "outputs": [
    {
     "data": {
      "text/html": [
       "<div>\n",
       "<style scoped>\n",
       "    .dataframe tbody tr th:only-of-type {\n",
       "        vertical-align: middle;\n",
       "    }\n",
       "\n",
       "    .dataframe tbody tr th {\n",
       "        vertical-align: top;\n",
       "    }\n",
       "\n",
       "    .dataframe thead th {\n",
       "        text-align: right;\n",
       "    }\n",
       "</style>\n",
       "<table border=\"1\" class=\"dataframe\">\n",
       "  <thead>\n",
       "    <tr style=\"text-align: right;\">\n",
       "      <th></th>\n",
       "      <th>count</th>\n",
       "      <th>mean</th>\n",
       "      <th>std</th>\n",
       "      <th>min</th>\n",
       "      <th>25%</th>\n",
       "      <th>50%</th>\n",
       "      <th>75%</th>\n",
       "      <th>max</th>\n",
       "    </tr>\n",
       "  </thead>\n",
       "  <tbody>\n",
       "    <tr>\n",
       "      <th>limit_bal</th>\n",
       "      <td>30000.0</td>\n",
       "      <td>167484.32</td>\n",
       "      <td>129747.66</td>\n",
       "      <td>10000.0</td>\n",
       "      <td>50000.00</td>\n",
       "      <td>140000.0</td>\n",
       "      <td>240000.00</td>\n",
       "      <td>1000000.0</td>\n",
       "    </tr>\n",
       "    <tr>\n",
       "      <th>age</th>\n",
       "      <td>29850.0</td>\n",
       "      <td>35.49</td>\n",
       "      <td>9.22</td>\n",
       "      <td>21.0</td>\n",
       "      <td>28.00</td>\n",
       "      <td>34.0</td>\n",
       "      <td>41.00</td>\n",
       "      <td>79.0</td>\n",
       "    </tr>\n",
       "    <tr>\n",
       "      <th>bill_statement_sep</th>\n",
       "      <td>30000.0</td>\n",
       "      <td>51223.33</td>\n",
       "      <td>73635.86</td>\n",
       "      <td>-165580.0</td>\n",
       "      <td>3558.75</td>\n",
       "      <td>22381.5</td>\n",
       "      <td>67091.00</td>\n",
       "      <td>964511.0</td>\n",
       "    </tr>\n",
       "    <tr>\n",
       "      <th>bill_statement_aug</th>\n",
       "      <td>30000.0</td>\n",
       "      <td>49179.08</td>\n",
       "      <td>71173.77</td>\n",
       "      <td>-69777.0</td>\n",
       "      <td>2984.75</td>\n",
       "      <td>21200.0</td>\n",
       "      <td>64006.25</td>\n",
       "      <td>983931.0</td>\n",
       "    </tr>\n",
       "    <tr>\n",
       "      <th>bill_statement_jul</th>\n",
       "      <td>30000.0</td>\n",
       "      <td>47013.15</td>\n",
       "      <td>69349.39</td>\n",
       "      <td>-157264.0</td>\n",
       "      <td>2666.25</td>\n",
       "      <td>20088.5</td>\n",
       "      <td>60164.75</td>\n",
       "      <td>1664089.0</td>\n",
       "    </tr>\n",
       "    <tr>\n",
       "      <th>bill_statement_jun</th>\n",
       "      <td>30000.0</td>\n",
       "      <td>43262.95</td>\n",
       "      <td>64332.86</td>\n",
       "      <td>-170000.0</td>\n",
       "      <td>2326.75</td>\n",
       "      <td>19052.0</td>\n",
       "      <td>54506.00</td>\n",
       "      <td>891586.0</td>\n",
       "    </tr>\n",
       "    <tr>\n",
       "      <th>bill_statement_may</th>\n",
       "      <td>30000.0</td>\n",
       "      <td>40311.40</td>\n",
       "      <td>60797.16</td>\n",
       "      <td>-81334.0</td>\n",
       "      <td>1763.00</td>\n",
       "      <td>18104.5</td>\n",
       "      <td>50190.50</td>\n",
       "      <td>927171.0</td>\n",
       "    </tr>\n",
       "    <tr>\n",
       "      <th>bill_statement_apr</th>\n",
       "      <td>30000.0</td>\n",
       "      <td>38871.76</td>\n",
       "      <td>59554.11</td>\n",
       "      <td>-339603.0</td>\n",
       "      <td>1256.00</td>\n",
       "      <td>17071.0</td>\n",
       "      <td>49198.25</td>\n",
       "      <td>961664.0</td>\n",
       "    </tr>\n",
       "    <tr>\n",
       "      <th>previous_payment_sep</th>\n",
       "      <td>30000.0</td>\n",
       "      <td>5663.58</td>\n",
       "      <td>16563.28</td>\n",
       "      <td>0.0</td>\n",
       "      <td>1000.00</td>\n",
       "      <td>2100.0</td>\n",
       "      <td>5006.00</td>\n",
       "      <td>873552.0</td>\n",
       "    </tr>\n",
       "    <tr>\n",
       "      <th>previous_payment_aug</th>\n",
       "      <td>30000.0</td>\n",
       "      <td>5921.16</td>\n",
       "      <td>23040.87</td>\n",
       "      <td>0.0</td>\n",
       "      <td>833.00</td>\n",
       "      <td>2009.0</td>\n",
       "      <td>5000.00</td>\n",
       "      <td>1684259.0</td>\n",
       "    </tr>\n",
       "    <tr>\n",
       "      <th>previous_payment_jul</th>\n",
       "      <td>30000.0</td>\n",
       "      <td>5225.68</td>\n",
       "      <td>17606.96</td>\n",
       "      <td>0.0</td>\n",
       "      <td>390.00</td>\n",
       "      <td>1800.0</td>\n",
       "      <td>4505.00</td>\n",
       "      <td>896040.0</td>\n",
       "    </tr>\n",
       "    <tr>\n",
       "      <th>previous_payment_jun</th>\n",
       "      <td>30000.0</td>\n",
       "      <td>4826.08</td>\n",
       "      <td>15666.16</td>\n",
       "      <td>0.0</td>\n",
       "      <td>296.00</td>\n",
       "      <td>1500.0</td>\n",
       "      <td>4013.25</td>\n",
       "      <td>621000.0</td>\n",
       "    </tr>\n",
       "    <tr>\n",
       "      <th>previous_payment_may</th>\n",
       "      <td>30000.0</td>\n",
       "      <td>4799.39</td>\n",
       "      <td>15278.31</td>\n",
       "      <td>0.0</td>\n",
       "      <td>252.50</td>\n",
       "      <td>1500.0</td>\n",
       "      <td>4031.50</td>\n",
       "      <td>426529.0</td>\n",
       "    </tr>\n",
       "    <tr>\n",
       "      <th>previous_payment_apr</th>\n",
       "      <td>30000.0</td>\n",
       "      <td>5215.50</td>\n",
       "      <td>17777.47</td>\n",
       "      <td>0.0</td>\n",
       "      <td>117.75</td>\n",
       "      <td>1500.0</td>\n",
       "      <td>4000.00</td>\n",
       "      <td>528666.0</td>\n",
       "    </tr>\n",
       "    <tr>\n",
       "      <th>default_payment_next_month</th>\n",
       "      <td>30000.0</td>\n",
       "      <td>0.22</td>\n",
       "      <td>0.42</td>\n",
       "      <td>0.0</td>\n",
       "      <td>0.00</td>\n",
       "      <td>0.0</td>\n",
       "      <td>0.00</td>\n",
       "      <td>1.0</td>\n",
       "    </tr>\n",
       "  </tbody>\n",
       "</table>\n",
       "</div>"
      ],
      "text/plain": [
       "                              count       mean        std       min       25%  \\\n",
       "limit_bal                   30000.0  167484.32  129747.66   10000.0  50000.00   \n",
       "age                         29850.0      35.49       9.22      21.0     28.00   \n",
       "bill_statement_sep          30000.0   51223.33   73635.86 -165580.0   3558.75   \n",
       "bill_statement_aug          30000.0   49179.08   71173.77  -69777.0   2984.75   \n",
       "bill_statement_jul          30000.0   47013.15   69349.39 -157264.0   2666.25   \n",
       "bill_statement_jun          30000.0   43262.95   64332.86 -170000.0   2326.75   \n",
       "bill_statement_may          30000.0   40311.40   60797.16  -81334.0   1763.00   \n",
       "bill_statement_apr          30000.0   38871.76   59554.11 -339603.0   1256.00   \n",
       "previous_payment_sep        30000.0    5663.58   16563.28       0.0   1000.00   \n",
       "previous_payment_aug        30000.0    5921.16   23040.87       0.0    833.00   \n",
       "previous_payment_jul        30000.0    5225.68   17606.96       0.0    390.00   \n",
       "previous_payment_jun        30000.0    4826.08   15666.16       0.0    296.00   \n",
       "previous_payment_may        30000.0    4799.39   15278.31       0.0    252.50   \n",
       "previous_payment_apr        30000.0    5215.50   17777.47       0.0    117.75   \n",
       "default_payment_next_month  30000.0       0.22       0.42       0.0      0.00   \n",
       "\n",
       "                                 50%        75%        max  \n",
       "limit_bal                   140000.0  240000.00  1000000.0  \n",
       "age                             34.0      41.00       79.0  \n",
       "bill_statement_sep           22381.5   67091.00   964511.0  \n",
       "bill_statement_aug           21200.0   64006.25   983931.0  \n",
       "bill_statement_jul           20088.5   60164.75  1664089.0  \n",
       "bill_statement_jun           19052.0   54506.00   891586.0  \n",
       "bill_statement_may           18104.5   50190.50   927171.0  \n",
       "bill_statement_apr           17071.0   49198.25   961664.0  \n",
       "previous_payment_sep          2100.0    5006.00   873552.0  \n",
       "previous_payment_aug          2009.0    5000.00  1684259.0  \n",
       "previous_payment_jul          1800.0    4505.00   896040.0  \n",
       "previous_payment_jun          1500.0    4013.25   621000.0  \n",
       "previous_payment_may          1500.0    4031.50   426529.0  \n",
       "previous_payment_apr          1500.0    4000.00   528666.0  \n",
       "default_payment_next_month       0.0       0.00        1.0  "
      ]
     },
     "execution_count": 6,
     "metadata": {},
     "output_type": "execute_result"
    }
   ],
   "source": [
    "df.describe().transpose().round(2)"
   ]
  },
  {
   "cell_type": "code",
   "execution_count": 7,
   "metadata": {},
   "outputs": [
    {
     "data": {
      "text/html": [
       "<div>\n",
       "<style scoped>\n",
       "    .dataframe tbody tr th:only-of-type {\n",
       "        vertical-align: middle;\n",
       "    }\n",
       "\n",
       "    .dataframe tbody tr th {\n",
       "        vertical-align: top;\n",
       "    }\n",
       "\n",
       "    .dataframe thead th {\n",
       "        text-align: right;\n",
       "    }\n",
       "</style>\n",
       "<table border=\"1\" class=\"dataframe\">\n",
       "  <thead>\n",
       "    <tr style=\"text-align: right;\">\n",
       "      <th></th>\n",
       "      <th>count</th>\n",
       "      <th>unique</th>\n",
       "      <th>top</th>\n",
       "      <th>freq</th>\n",
       "    </tr>\n",
       "  </thead>\n",
       "  <tbody>\n",
       "    <tr>\n",
       "      <th>sex</th>\n",
       "      <td>29850</td>\n",
       "      <td>2</td>\n",
       "      <td>Female</td>\n",
       "      <td>18027</td>\n",
       "    </tr>\n",
       "    <tr>\n",
       "      <th>education</th>\n",
       "      <td>29850</td>\n",
       "      <td>4</td>\n",
       "      <td>University</td>\n",
       "      <td>13960</td>\n",
       "    </tr>\n",
       "    <tr>\n",
       "      <th>marriage</th>\n",
       "      <td>29850</td>\n",
       "      <td>3</td>\n",
       "      <td>Single</td>\n",
       "      <td>15891</td>\n",
       "    </tr>\n",
       "    <tr>\n",
       "      <th>payment_status_sep</th>\n",
       "      <td>30000</td>\n",
       "      <td>10</td>\n",
       "      <td>Unknown</td>\n",
       "      <td>17496</td>\n",
       "    </tr>\n",
       "    <tr>\n",
       "      <th>payment_status_aug</th>\n",
       "      <td>30000</td>\n",
       "      <td>10</td>\n",
       "      <td>Unknown</td>\n",
       "      <td>19512</td>\n",
       "    </tr>\n",
       "    <tr>\n",
       "      <th>payment_status_jul</th>\n",
       "      <td>30000</td>\n",
       "      <td>10</td>\n",
       "      <td>Unknown</td>\n",
       "      <td>19849</td>\n",
       "    </tr>\n",
       "    <tr>\n",
       "      <th>payment_status_jun</th>\n",
       "      <td>30000</td>\n",
       "      <td>10</td>\n",
       "      <td>Unknown</td>\n",
       "      <td>20803</td>\n",
       "    </tr>\n",
       "    <tr>\n",
       "      <th>payment_status_may</th>\n",
       "      <td>30000</td>\n",
       "      <td>9</td>\n",
       "      <td>Unknown</td>\n",
       "      <td>21493</td>\n",
       "    </tr>\n",
       "    <tr>\n",
       "      <th>payment_status_apr</th>\n",
       "      <td>30000</td>\n",
       "      <td>9</td>\n",
       "      <td>Unknown</td>\n",
       "      <td>21181</td>\n",
       "    </tr>\n",
       "  </tbody>\n",
       "</table>\n",
       "</div>"
      ],
      "text/plain": [
       "                    count unique         top   freq\n",
       "sex                 29850      2      Female  18027\n",
       "education           29850      4  University  13960\n",
       "marriage            29850      3      Single  15891\n",
       "payment_status_sep  30000     10     Unknown  17496\n",
       "payment_status_aug  30000     10     Unknown  19512\n",
       "payment_status_jul  30000     10     Unknown  19849\n",
       "payment_status_jun  30000     10     Unknown  20803\n",
       "payment_status_may  30000      9     Unknown  21493\n",
       "payment_status_apr  30000      9     Unknown  21181"
      ]
     },
     "execution_count": 7,
     "metadata": {},
     "output_type": "execute_result"
    }
   ],
   "source": [
    "df.describe(include='object').transpose()"
   ]
  },
  {
   "cell_type": "markdown",
   "metadata": {},
   "source": [
    "### 연령 분포를 플로팅"
   ]
  },
  {
   "cell_type": "code",
   "execution_count": 8,
   "metadata": {},
   "outputs": [
    {
     "data": {
      "image/png": "[encoded data removed]",
      "text/plain": [
       "<Figure size 432x288 with 1 Axes>"
      ]
     },
     "metadata": {
      "needs_background": "light"
     },
     "output_type": "display_data"
    }
   ],
   "source": [
    "ax = sns.histplot(data=df, x=\"age\", kde=True, bins=20)\n",
    "ax.set_title('연령 분포');"
   ]
  },
  {
   "cell_type": "code",
   "execution_count": 9,
   "metadata": {},
   "outputs": [
    {
     "data": {
      "image/png": "[encoded data removed]",
      "text/plain": [
       "<Figure size 432x288 with 1 Axes>"
      ]
     },
     "metadata": {
      "needs_background": "light"
     },
     "output_type": "display_data"
    }
   ],
   "source": [
    "ax = sns.kdeplot(x='age', hue='sex', data=df)\n",
    "ax.set_title('성별 연령 분포');"
   ]
  },
  {
   "cell_type": "markdown",
   "metadata": {},
   "source": [
    "### feature(숫자)와 target 간의 상관 관계"
   ]
  },
  {
   "cell_type": "code",
   "execution_count": 11,
   "metadata": {},
   "outputs": [
    {
     "data": {
      "text/html": [
       "<div>\n",
       "<style scoped>\n",
       "    .dataframe tbody tr th:only-of-type {\n",
       "        vertical-align: middle;\n",
       "    }\n",
       "\n",
       "    .dataframe tbody tr th {\n",
       "        vertical-align: top;\n",
       "    }\n",
       "\n",
       "    .dataframe thead th {\n",
       "        text-align: right;\n",
       "    }\n",
       "</style>\n",
       "<table border=\"1\" class=\"dataframe\">\n",
       "  <thead>\n",
       "    <tr style=\"text-align: right;\">\n",
       "      <th></th>\n",
       "      <th>default_payment_next_month</th>\n",
       "    </tr>\n",
       "  </thead>\n",
       "  <tbody>\n",
       "    <tr>\n",
       "      <th>limit_bal</th>\n",
       "      <td>-0.153520</td>\n",
       "    </tr>\n",
       "    <tr>\n",
       "      <th>age</th>\n",
       "      <td>0.014491</td>\n",
       "    </tr>\n",
       "    <tr>\n",
       "      <th>bill_statement_sep</th>\n",
       "      <td>-0.019644</td>\n",
       "    </tr>\n",
       "    <tr>\n",
       "      <th>bill_statement_aug</th>\n",
       "      <td>-0.014193</td>\n",
       "    </tr>\n",
       "    <tr>\n",
       "      <th>bill_statement_jul</th>\n",
       "      <td>-0.014076</td>\n",
       "    </tr>\n",
       "    <tr>\n",
       "      <th>bill_statement_jun</th>\n",
       "      <td>-0.010156</td>\n",
       "    </tr>\n",
       "    <tr>\n",
       "      <th>bill_statement_may</th>\n",
       "      <td>-0.006760</td>\n",
       "    </tr>\n",
       "    <tr>\n",
       "      <th>bill_statement_apr</th>\n",
       "      <td>-0.005372</td>\n",
       "    </tr>\n",
       "    <tr>\n",
       "      <th>previous_payment_sep</th>\n",
       "      <td>-0.072929</td>\n",
       "    </tr>\n",
       "    <tr>\n",
       "      <th>previous_payment_aug</th>\n",
       "      <td>-0.058579</td>\n",
       "    </tr>\n",
       "    <tr>\n",
       "      <th>previous_payment_jul</th>\n",
       "      <td>-0.056250</td>\n",
       "    </tr>\n",
       "    <tr>\n",
       "      <th>previous_payment_jun</th>\n",
       "      <td>-0.056827</td>\n",
       "    </tr>\n",
       "    <tr>\n",
       "      <th>previous_payment_may</th>\n",
       "      <td>-0.055124</td>\n",
       "    </tr>\n",
       "    <tr>\n",
       "      <th>previous_payment_apr</th>\n",
       "      <td>-0.053183</td>\n",
       "    </tr>\n",
       "    <tr>\n",
       "      <th>default_payment_next_month</th>\n",
       "      <td>1.000000</td>\n",
       "    </tr>\n",
       "  </tbody>\n",
       "</table>\n",
       "</div>"
      ],
      "text/plain": [
       "                            default_payment_next_month\n",
       "limit_bal                                    -0.153520\n",
       "age                                           0.014491\n",
       "bill_statement_sep                           -0.019644\n",
       "bill_statement_aug                           -0.014193\n",
       "bill_statement_jul                           -0.014076\n",
       "bill_statement_jun                           -0.010156\n",
       "bill_statement_may                           -0.006760\n",
       "bill_statement_apr                           -0.005372\n",
       "previous_payment_sep                         -0.072929\n",
       "previous_payment_aug                         -0.058579\n",
       "previous_payment_jul                         -0.056250\n",
       "previous_payment_jun                         -0.056827\n",
       "previous_payment_may                         -0.055124\n",
       "previous_payment_apr                         -0.053183\n",
       "default_payment_next_month                    1.000000"
      ]
     },
     "execution_count": 11,
     "metadata": {},
     "output_type": "execute_result"
    }
   ],
   "source": [
    "df.select_dtypes(include='number').corr()[['default_payment_next_month']]"
   ]
  },
  {
   "cell_type": "markdown",
   "metadata": {},
   "source": [
    "### 성별 및 교육 수준별 신용카드 사용 한도 분포를 플롯합니다."
   ]
  },
  {
   "cell_type": "code",
   "execution_count": 12,
   "metadata": {},
   "outputs": [
    {
     "data": {
      "image/png": "[encoded data removed]",
      "text/plain": [
       "<Figure size 432x288 with 1 Axes>"
      ]
     },
     "metadata": {
      "needs_background": "light"
     },
     "output_type": "display_data"
    }
   ],
   "source": [
    "plt.figure(figsize=(6, 4))\n",
    "ax = sns.violinplot(x='education', y='limit_bal', \n",
    "                   hue='sex', split=True, data=df)\n",
    "ax.set_title('교육 수준 별 한도 분포', \n",
    "            fontsize=16)\n",
    "\n",
    "plt.tight_layout()\n",
    "plt.show()"
   ]
  },
  {
   "cell_type": "markdown",
   "metadata": {},
   "source": [
    "### target variable 의  성별 및 학력별  분포"
   ]
  },
  {
   "cell_type": "code",
   "execution_count": 13,
   "metadata": {},
   "outputs": [
    {
     "data": {
      "image/png": "[encoded data removed]",
      "text/plain": [
       "<Figure size 432x288 with 1 Axes>"
      ]
     },
     "metadata": {
      "needs_background": "light"
     },
     "output_type": "display_data"
    }
   ],
   "source": [
    "ax = sns.countplot(x='default_payment_next_month', hue='sex', \n",
    "                  data=df, orient='h')\n",
    "ax.set_title('Target 변수의 성별 분포', fontsize=16)\n",
    "\n",
    "plt.tight_layout()\n",
    "plt.show()"
   ]
  },
  {
   "cell_type": "markdown",
   "metadata": {},
   "source": [
    "### 교육 수준별 채무 불이행 비율"
   ]
  },
  {
   "cell_type": "code",
   "execution_count": 14,
   "metadata": {},
   "outputs": [
    {
     "data": {
      "image/png": "[encoded data removed]",
      "text/plain": [
       "<Figure size 432x288 with 1 Axes>"
      ]
     },
     "metadata": {
      "needs_background": "light"
     },
     "output_type": "display_data"
    }
   ],
   "source": [
    "ax = df.groupby('education')['default_payment_next_month'] \\\n",
    "       .value_counts(normalize=True) \\\n",
    "       .unstack() \\\n",
    "       .plot(kind='bar', stacked='True', figsize=(6, 4))\n",
    "ax.set_title('교육 수준별 채무 불이행 비율', \n",
    "            fontsize=16)\n",
    "ax.legend(title='Default', bbox_to_anchor=(1,1)) \n",
    "\n",
    "plt.tight_layout()\n",
    "plt.show()"
   ]
  },
  {
   "cell_type": "code",
   "execution_count": 15,
   "metadata": {},
   "outputs": [],
   "source": [
    "from sklearn.model_selection import train_test_split"
   ]
  },
  {
   "cell_type": "code",
   "execution_count": 16,
   "metadata": {},
   "outputs": [],
   "source": [
    "X = df.copy()\n",
    "y = X.pop('default_payment_next_month')"
   ]
  },
  {
   "cell_type": "markdown",
   "metadata": {},
   "source": [
    "## Dealing with missing values"
   ]
  },
  {
   "cell_type": "code",
   "execution_count": 17,
   "metadata": {},
   "outputs": [],
   "source": [
    "from sklearn.impute import SimpleImputer"
   ]
  },
  {
   "cell_type": "code",
   "execution_count": 18,
   "metadata": {},
   "outputs": [
    {
     "data": {
      "text/plain": [
       "limit_bal                 0\n",
       "sex                     150\n",
       "education               150\n",
       "marriage                150\n",
       "age                     150\n",
       "payment_status_sep        0\n",
       "payment_status_aug        0\n",
       "payment_status_jul        0\n",
       "payment_status_jun        0\n",
       "payment_status_may        0\n",
       "payment_status_apr        0\n",
       "bill_statement_sep        0\n",
       "bill_statement_aug        0\n",
       "bill_statement_jul        0\n",
       "bill_statement_jun        0\n",
       "bill_statement_may        0\n",
       "bill_statement_apr        0\n",
       "previous_payment_sep      0\n",
       "previous_payment_aug      0\n",
       "previous_payment_jul      0\n",
       "previous_payment_jun      0\n",
       "previous_payment_may      0\n",
       "previous_payment_apr      0\n",
       "dtype: int64"
      ]
     },
     "execution_count": 18,
     "metadata": {},
     "output_type": "execute_result"
    }
   ],
   "source": [
    "X.isnull().sum()"
   ]
  },
  {
   "cell_type": "markdown",
   "metadata": {},
   "source": [
    "- `age`는 median 으로 채운다"
   ]
  },
  {
   "cell_type": "code",
   "execution_count": 19,
   "metadata": {},
   "outputs": [],
   "source": [
    "X.loc[X['age'].isnull(), 'age'] = X['age'].median()"
   ]
  },
  {
   "cell_type": "markdown",
   "metadata": {},
   "source": [
    "- categorical feature는 sklearn 의 SimpleImputer를 이용하여 filling"
   ]
  },
  {
   "cell_type": "code",
   "execution_count": 20,
   "metadata": {},
   "outputs": [],
   "source": [
    "CAT_FEATURES = ['sex', 'education', 'marriage']\n",
    "\n",
    "for col in CAT_FEATURES:\n",
    "    cat_imputer = SimpleImputer(strategy='most_frequent')\n",
    "    cat_imputer.fit(X[[col]])\n",
    "    X.loc[:, col] = cat_imputer.transform(X[[col]])"
   ]
  },
  {
   "cell_type": "code",
   "execution_count": 21,
   "metadata": {},
   "outputs": [
    {
     "data": {
      "text/plain": [
       "limit_bal               0\n",
       "sex                     0\n",
       "education               0\n",
       "marriage                0\n",
       "age                     0\n",
       "payment_status_sep      0\n",
       "payment_status_aug      0\n",
       "payment_status_jul      0\n",
       "payment_status_jun      0\n",
       "payment_status_may      0\n",
       "payment_status_apr      0\n",
       "bill_statement_sep      0\n",
       "bill_statement_aug      0\n",
       "bill_statement_jul      0\n",
       "bill_statement_jun      0\n",
       "bill_statement_may      0\n",
       "bill_statement_apr      0\n",
       "previous_payment_sep    0\n",
       "previous_payment_aug    0\n",
       "previous_payment_jul    0\n",
       "previous_payment_jun    0\n",
       "previous_payment_may    0\n",
       "previous_payment_apr    0\n",
       "dtype: int64"
      ]
     },
     "execution_count": 21,
     "metadata": {},
     "output_type": "execute_result"
    }
   ],
   "source": [
    "X.isnull().sum()"
   ]
  },
  {
   "cell_type": "markdown",
   "metadata": {},
   "source": [
    "## Encoding Categorical Variables"
   ]
  },
  {
   "cell_type": "markdown",
   "metadata": {},
   "source": [
    "- `education`은 등급이 유지되는 것이 좋으므로 sklearn의  LabelEncoder를 사용하여 encoding"
   ]
  },
  {
   "cell_type": "code",
   "execution_count": 22,
   "metadata": {},
   "outputs": [
    {
     "data": {
      "text/plain": [
       "University         14110\n",
       "Graduate school    10537\n",
       "High school         4886\n",
       "Others               467\n",
       "Name: education, dtype: int64"
      ]
     },
     "execution_count": 22,
     "metadata": {},
     "output_type": "execute_result"
    }
   ],
   "source": [
    "X['education'].value_counts()"
   ]
  },
  {
   "cell_type": "code",
   "execution_count": 23,
   "metadata": {},
   "outputs": [],
   "source": [
    "from sklearn.preprocessing import LabelEncoder\n",
    "\n",
    "label_enc = LabelEncoder()\n",
    "label_enc.fit(X['education'])\n",
    "X.loc[:,'education'] = label_enc.transform(X['education'])"
   ]
  },
  {
   "cell_type": "markdown",
   "metadata": {},
   "source": [
    "- 나머지 categorical feature들은 `pd.get_dummies`를 이용하여 `one-hot-encoding`"
   ]
  },
  {
   "cell_type": "code",
   "execution_count": 24,
   "metadata": {},
   "outputs": [
    {
     "data": {
      "text/plain": [
       "['sex',\n",
       " 'marriage',\n",
       " 'payment_status_sep',\n",
       " 'payment_status_aug',\n",
       " 'payment_status_jul',\n",
       " 'payment_status_jun',\n",
       " 'payment_status_may',\n",
       " 'payment_status_apr']"
      ]
     },
     "execution_count": 24,
     "metadata": {},
     "output_type": "execute_result"
    }
   ],
   "source": [
    "cat_columns = list(df.dtypes[df.dtypes == 'object'].index)\n",
    "cat_columns.remove('education')\n",
    "cat_columns"
   ]
  },
  {
   "cell_type": "code",
   "execution_count": 25,
   "metadata": {},
   "outputs": [
    {
     "data": {
      "text/html": [
       "<div>\n",
       "<style scoped>\n",
       "    .dataframe tbody tr th:only-of-type {\n",
       "        vertical-align: middle;\n",
       "    }\n",
       "\n",
       "    .dataframe tbody tr th {\n",
       "        vertical-align: top;\n",
       "    }\n",
       "\n",
       "    .dataframe thead th {\n",
       "        text-align: right;\n",
       "    }\n",
       "</style>\n",
       "<table border=\"1\" class=\"dataframe\">\n",
       "  <thead>\n",
       "    <tr style=\"text-align: right;\">\n",
       "      <th></th>\n",
       "      <th>limit_bal</th>\n",
       "      <th>education</th>\n",
       "      <th>age</th>\n",
       "      <th>bill_statement_sep</th>\n",
       "      <th>bill_statement_aug</th>\n",
       "      <th>bill_statement_jul</th>\n",
       "      <th>bill_statement_jun</th>\n",
       "      <th>bill_statement_may</th>\n",
       "      <th>bill_statement_apr</th>\n",
       "      <th>previous_payment_sep</th>\n",
       "      <th>...</th>\n",
       "      <th>payment_status_may_Unknown</th>\n",
       "      <th>payment_status_apr_Payed duly</th>\n",
       "      <th>payment_status_apr_Payment delayed 2 months</th>\n",
       "      <th>payment_status_apr_Payment delayed 3 months</th>\n",
       "      <th>payment_status_apr_Payment delayed 4 months</th>\n",
       "      <th>payment_status_apr_Payment delayed 5 months</th>\n",
       "      <th>payment_status_apr_Payment delayed 6 months</th>\n",
       "      <th>payment_status_apr_Payment delayed 7 months</th>\n",
       "      <th>payment_status_apr_Payment delayed 8 months</th>\n",
       "      <th>payment_status_apr_Unknown</th>\n",
       "    </tr>\n",
       "  </thead>\n",
       "  <tbody>\n",
       "    <tr>\n",
       "      <th>0</th>\n",
       "      <td>20000</td>\n",
       "      <td>3</td>\n",
       "      <td>24.0</td>\n",
       "      <td>3913</td>\n",
       "      <td>3102</td>\n",
       "      <td>689</td>\n",
       "      <td>0</td>\n",
       "      <td>0</td>\n",
       "      <td>0</td>\n",
       "      <td>0</td>\n",
       "      <td>...</td>\n",
       "      <td>1</td>\n",
       "      <td>0</td>\n",
       "      <td>0</td>\n",
       "      <td>0</td>\n",
       "      <td>0</td>\n",
       "      <td>0</td>\n",
       "      <td>0</td>\n",
       "      <td>0</td>\n",
       "      <td>0</td>\n",
       "      <td>1</td>\n",
       "    </tr>\n",
       "    <tr>\n",
       "      <th>1</th>\n",
       "      <td>120000</td>\n",
       "      <td>3</td>\n",
       "      <td>26.0</td>\n",
       "      <td>2682</td>\n",
       "      <td>1725</td>\n",
       "      <td>2682</td>\n",
       "      <td>3272</td>\n",
       "      <td>3455</td>\n",
       "      <td>3261</td>\n",
       "      <td>0</td>\n",
       "      <td>...</td>\n",
       "      <td>1</td>\n",
       "      <td>0</td>\n",
       "      <td>1</td>\n",
       "      <td>0</td>\n",
       "      <td>0</td>\n",
       "      <td>0</td>\n",
       "      <td>0</td>\n",
       "      <td>0</td>\n",
       "      <td>0</td>\n",
       "      <td>0</td>\n",
       "    </tr>\n",
       "    <tr>\n",
       "      <th>2</th>\n",
       "      <td>90000</td>\n",
       "      <td>3</td>\n",
       "      <td>34.0</td>\n",
       "      <td>29239</td>\n",
       "      <td>14027</td>\n",
       "      <td>13559</td>\n",
       "      <td>14331</td>\n",
       "      <td>14948</td>\n",
       "      <td>15549</td>\n",
       "      <td>1518</td>\n",
       "      <td>...</td>\n",
       "      <td>1</td>\n",
       "      <td>0</td>\n",
       "      <td>0</td>\n",
       "      <td>0</td>\n",
       "      <td>0</td>\n",
       "      <td>0</td>\n",
       "      <td>0</td>\n",
       "      <td>0</td>\n",
       "      <td>0</td>\n",
       "      <td>1</td>\n",
       "    </tr>\n",
       "    <tr>\n",
       "      <th>3</th>\n",
       "      <td>50000</td>\n",
       "      <td>3</td>\n",
       "      <td>37.0</td>\n",
       "      <td>46990</td>\n",
       "      <td>48233</td>\n",
       "      <td>49291</td>\n",
       "      <td>28314</td>\n",
       "      <td>28959</td>\n",
       "      <td>29547</td>\n",
       "      <td>2000</td>\n",
       "      <td>...</td>\n",
       "      <td>1</td>\n",
       "      <td>0</td>\n",
       "      <td>0</td>\n",
       "      <td>0</td>\n",
       "      <td>0</td>\n",
       "      <td>0</td>\n",
       "      <td>0</td>\n",
       "      <td>0</td>\n",
       "      <td>0</td>\n",
       "      <td>1</td>\n",
       "    </tr>\n",
       "    <tr>\n",
       "      <th>4</th>\n",
       "      <td>50000</td>\n",
       "      <td>3</td>\n",
       "      <td>57.0</td>\n",
       "      <td>8617</td>\n",
       "      <td>5670</td>\n",
       "      <td>35835</td>\n",
       "      <td>20940</td>\n",
       "      <td>19146</td>\n",
       "      <td>19131</td>\n",
       "      <td>2000</td>\n",
       "      <td>...</td>\n",
       "      <td>1</td>\n",
       "      <td>0</td>\n",
       "      <td>0</td>\n",
       "      <td>0</td>\n",
       "      <td>0</td>\n",
       "      <td>0</td>\n",
       "      <td>0</td>\n",
       "      <td>0</td>\n",
       "      <td>0</td>\n",
       "      <td>1</td>\n",
       "    </tr>\n",
       "  </tbody>\n",
       "</table>\n",
       "<p>5 rows × 78 columns</p>\n",
       "</div>"
      ],
      "text/plain": [
       "   limit_bal  education   age  bill_statement_sep  bill_statement_aug  \\\n",
       "0      20000          3  24.0                3913                3102   \n",
       "1     120000          3  26.0                2682                1725   \n",
       "2      90000          3  34.0               29239               14027   \n",
       "3      50000          3  37.0               46990               48233   \n",
       "4      50000          3  57.0                8617                5670   \n",
       "\n",
       "   bill_statement_jul  bill_statement_jun  bill_statement_may  \\\n",
       "0                 689                   0                   0   \n",
       "1                2682                3272                3455   \n",
       "2               13559               14331               14948   \n",
       "3               49291               28314               28959   \n",
       "4               35835               20940               19146   \n",
       "\n",
       "   bill_statement_apr  previous_payment_sep  ...  payment_status_may_Unknown  \\\n",
       "0                   0                     0  ...                           1   \n",
       "1                3261                     0  ...                           1   \n",
       "2               15549                  1518  ...                           1   \n",
       "3               29547                  2000  ...                           1   \n",
       "4               19131                  2000  ...                           1   \n",
       "\n",
       "   payment_status_apr_Payed duly  payment_status_apr_Payment delayed 2 months  \\\n",
       "0                              0                                            0   \n",
       "1                              0                                            1   \n",
       "2                              0                                            0   \n",
       "3                              0                                            0   \n",
       "4                              0                                            0   \n",
       "\n",
       "   payment_status_apr_Payment delayed 3 months  \\\n",
       "0                                            0   \n",
       "1                                            0   \n",
       "2                                            0   \n",
       "3                                            0   \n",
       "4                                            0   \n",
       "\n",
       "   payment_status_apr_Payment delayed 4 months  \\\n",
       "0                                            0   \n",
       "1                                            0   \n",
       "2                                            0   \n",
       "3                                            0   \n",
       "4                                            0   \n",
       "\n",
       "   payment_status_apr_Payment delayed 5 months  \\\n",
       "0                                            0   \n",
       "1                                            0   \n",
       "2                                            0   \n",
       "3                                            0   \n",
       "4                                            0   \n",
       "\n",
       "   payment_status_apr_Payment delayed 6 months  \\\n",
       "0                                            0   \n",
       "1                                            0   \n",
       "2                                            0   \n",
       "3                                            0   \n",
       "4                                            0   \n",
       "\n",
       "   payment_status_apr_Payment delayed 7 months  \\\n",
       "0                                            0   \n",
       "1                                            0   \n",
       "2                                            0   \n",
       "3                                            0   \n",
       "4                                            0   \n",
       "\n",
       "   payment_status_apr_Payment delayed 8 months  payment_status_apr_Unknown  \n",
       "0                                            0                           1  \n",
       "1                                            0                           0  \n",
       "2                                            0                           1  \n",
       "3                                            0                           1  \n",
       "4                                            0                           1  \n",
       "\n",
       "[5 rows x 78 columns]"
      ]
     },
     "execution_count": 25,
     "metadata": {},
     "output_type": "execute_result"
    }
   ],
   "source": [
    "X = pd.get_dummies(X, columns=cat_columns)\n",
    "X.head()"
   ]
  },
  {
   "cell_type": "markdown",
   "metadata": {},
   "source": [
    "### 편향된 target이므로 층화 추출법으로 train/test 분리"
   ]
  },
  {
   "cell_type": "code",
   "execution_count": 26,
   "metadata": {},
   "outputs": [
    {
     "data": {
      "text/plain": [
       "((24000, 78), (6000, 78), (24000,), (6000,))"
      ]
     },
     "execution_count": 26,
     "metadata": {},
     "output_type": "execute_result"
    }
   ],
   "source": [
    "X_train, X_test, y_train, y_test = train_test_split(X, y, \n",
    "                                                   test_size=0.2, \n",
    "                                                   stratify=y, \n",
    "                                                   random_state=42)\n",
    "\n",
    "X_train.shape, X_test.shape, y_train.shape, y_test.shape"
   ]
  },
  {
   "cell_type": "markdown",
   "metadata": {},
   "source": [
    "### target의 비율이 train과 test set에 유지되었는지 확인"
   ]
  },
  {
   "cell_type": "code",
   "execution_count": 27,
   "metadata": {},
   "outputs": [
    {
     "data": {
      "text/plain": [
       "0    0.778792\n",
       "1    0.221208\n",
       "Name: default_payment_next_month, dtype: float64"
      ]
     },
     "execution_count": 27,
     "metadata": {},
     "output_type": "execute_result"
    }
   ],
   "source": [
    "y_train.value_counts(normalize=True)"
   ]
  },
  {
   "cell_type": "code",
   "execution_count": 28,
   "metadata": {},
   "outputs": [
    {
     "data": {
      "text/plain": [
       "0    0.778833\n",
       "1    0.221167\n",
       "Name: default_payment_next_month, dtype: float64"
      ]
     },
     "execution_count": 28,
     "metadata": {},
     "output_type": "execute_result"
    }
   ],
   "source": [
    "y_test.value_counts(normalize=True)"
   ]
  },
  {
   "cell_type": "markdown",
   "metadata": {},
   "source": [
    "## RandomForeset classifier model 생성 및 예측"
   ]
  },
  {
   "cell_type": "code",
   "execution_count": 29,
   "metadata": {},
   "outputs": [],
   "source": [
    "from sklearn.ensemble import RandomForestClassifier\n",
    "from sklearn.metrics import confusion_matrix, accuracy_score, \\\n",
    "                            precision_score, recall_score\n",
    "\n",
    "from io import StringIO\n",
    "import seaborn as sns\n",
    "from ipywidgets import Image"
   ]
  },
  {
   "cell_type": "markdown",
   "metadata": {},
   "source": [
    "2. Create the instance of the model, fit it to the training data and create prediction:"
   ]
  },
  {
   "cell_type": "code",
   "execution_count": 30,
   "metadata": {},
   "outputs": [],
   "source": [
    "clf = RandomForestClassifier(n_estimators=100, random_state=42)\n",
    "clf.fit(X_train, y_train)\n",
    "y_pred = clf.predict(X_test)"
   ]
  },
  {
   "cell_type": "markdown",
   "metadata": {},
   "source": [
    "- Evaluate the results:"
   ]
  },
  {
   "cell_type": "code",
   "execution_count": 31,
   "metadata": {},
   "outputs": [
    {
     "name": "stdout",
     "output_type": "stream",
     "text": [
      "accuracy: 0.8133333333333334\n",
      "precision: 0.6370860927152318\n",
      "recall: 0.3624717407686511\n"
     ]
    }
   ],
   "source": [
    "print(\"accuracy:\", accuracy_score(y_test, y_pred))\n",
    "print(\"precision:\", precision_score(y_test, y_pred))\n",
    "print(\"recall:\", recall_score(y_test, y_pred))"
   ]
  },
  {
   "cell_type": "code",
   "execution_count": 32,
   "metadata": {},
   "outputs": [
    {
     "data": {
      "image/png": "[encoded data removed]",
      "text/plain": [
       "<Figure size 432x288 with 2 Axes>"
      ]
     },
     "metadata": {
      "needs_background": "light"
     },
     "output_type": "display_data"
    }
   ],
   "source": [
    "cm = confusion_matrix(y_test, y_pred)\n",
    "\n",
    "ax = sns.heatmap(cm, annot=True, fmt='d')\n",
    "ax.set_xticklabels(['No Default', 'Default'])\n",
    "ax.set_yticklabels(['No Default', 'Default'])\n",
    "plt.show()"
   ]
  },
  {
   "cell_type": "markdown",
   "metadata": {},
   "source": [
    "- recall 을 높이기 위해 threshold 조정"
   ]
  },
  {
   "cell_type": "code",
   "execution_count": 33,
   "metadata": {},
   "outputs": [
    {
     "data": {
      "text/plain": [
       "array([False,  True, False, ..., False, False, False])"
      ]
     },
     "execution_count": 33,
     "metadata": {},
     "output_type": "execute_result"
    }
   ],
   "source": [
    "y_proba = clf.predict_proba(X_test)\n",
    "y_pred = y_proba[:, 1] > 0.3\n",
    "y_pred"
   ]
  },
  {
   "cell_type": "code",
   "execution_count": 34,
   "metadata": {},
   "outputs": [
    {
     "name": "stdout",
     "output_type": "stream",
     "text": [
      "accuracy: 0.7786666666666666\n",
      "precision: 0.49965205288796105\n",
      "recall: 0.5410700828937453\n"
     ]
    }
   ],
   "source": [
    "print(\"accuracy:\", accuracy_score(y_test, y_pred))\n",
    "print(\"precision:\", precision_score(y_test, y_pred))\n",
    "print(\"recall:\", recall_score(y_test, y_pred))"
   ]
  },
  {
   "cell_type": "code",
   "execution_count": 35,
   "metadata": {},
   "outputs": [
    {
     "data": {
      "image/png": "[encoded data removed]",
      "text/plain": [
       "<Figure size 432x288 with 2 Axes>"
      ]
     },
     "metadata": {
      "needs_background": "light"
     },
     "output_type": "display_data"
    }
   ],
   "source": [
    "cm = confusion_matrix(y_test, y_pred)\n",
    "\n",
    "ax = sns.heatmap(cm, annot=True, fmt='d')\n",
    "ax.set_xticklabels(['No Default', 'Default'])\n",
    "ax.set_yticklabels(['No Default', 'Default'])\n",
    "plt.show()"
   ]
  },
  {
   "cell_type": "code",
   "execution_count": null,
   "metadata": {},
   "outputs": [],
   "source": []
  }
 ],
 "metadata": {
  "kernelspec": {
   "display_name": "Python 3 (ipykernel)",
   "language": "python",
   "name": "python3"
  },
  "language_info": {
   "codemirror_mode": {
    "name": "ipython",
    "version": 3
   },
   "file_extension": ".py",
   "mimetype": "text/x-python",
   "name": "python",
   "nbconvert_exporter": "python",
   "pygments_lexer": "ipython3",
   "version": "3.8.13"
  }
 },
 "nbformat": 4,
 "nbformat_minor": 4
}
