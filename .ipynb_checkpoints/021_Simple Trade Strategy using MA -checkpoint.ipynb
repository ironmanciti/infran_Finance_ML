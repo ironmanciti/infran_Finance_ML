{
 "cells": [
  {
   "cell_type": "markdown",
   "metadata": {},
   "source": [
    "# 이동평균선을 이용한 Simple trading strategy \n",
    "\n",
    "- fast signal (단기 이동평균) 이 slow signal (장기 이동평균)위에 있으면 1 주 보유, 아래에 있으면 0 주 보유 전략  \n",
    "- 종가에 매수, 매도 한다고 가정. 거래비용 없다고 가정.\n",
    "\n",
    "- MA10 >= MA50 : 1 주 보유 (매수 or hold), MA10 < MA50 : 0 주 보유 (매도 or no action)  \n",
    " \n",
    "- Daily Profit 계산\n",
    "\n",
    "- 누적 수익 계산"
   ]
  },
  {
   "cell_type": "code",
   "execution_count": 4,
   "metadata": {},
   "outputs": [],
   "source": [
    "import pandas as pd\n",
    "import numpy as np\n",
    "import matplotlib.pyplot as plt\n",
    "import yfinance as yf\n",
    "import FinanceDataReader as fdr\n",
    "\n",
    "short = 10\n",
    "long = 50  # 100, 200"
   ]
  },
  {
   "cell_type": "code",
   "execution_count": 5,
   "metadata": {},
   "outputs": [
    {
     "data": {
      "text/html": [
       "<div>\n",
       "<style scoped>\n",
       "    .dataframe tbody tr th:only-of-type {\n",
       "        vertical-align: middle;\n",
       "    }\n",
       "\n",
       "    .dataframe tbody tr th {\n",
       "        vertical-align: top;\n",
       "    }\n",
       "\n",
       "    .dataframe thead th {\n",
       "        text-align: right;\n",
       "    }\n",
       "</style>\n",
       "<table border=\"1\" class=\"dataframe\">\n",
       "  <thead>\n",
       "    <tr style=\"text-align: right;\">\n",
       "      <th></th>\n",
       "      <th>Open</th>\n",
       "      <th>High</th>\n",
       "      <th>Low</th>\n",
       "      <th>Close</th>\n",
       "      <th>Adj Close</th>\n",
       "      <th>Volume</th>\n",
       "    </tr>\n",
       "    <tr>\n",
       "      <th>Date</th>\n",
       "      <th></th>\n",
       "      <th></th>\n",
       "      <th></th>\n",
       "      <th></th>\n",
       "      <th></th>\n",
       "      <th></th>\n",
       "    </tr>\n",
       "  </thead>\n",
       "  <tbody>\n",
       "    <tr>\n",
       "      <th>1986-03-13</th>\n",
       "      <td>0.088542</td>\n",
       "      <td>0.101563</td>\n",
       "      <td>0.088542</td>\n",
       "      <td>0.097222</td>\n",
       "      <td>0.060809</td>\n",
       "      <td>1031788800</td>\n",
       "    </tr>\n",
       "    <tr>\n",
       "      <th>1986-03-14</th>\n",
       "      <td>0.097222</td>\n",
       "      <td>0.102431</td>\n",
       "      <td>0.097222</td>\n",
       "      <td>0.100694</td>\n",
       "      <td>0.062980</td>\n",
       "      <td>308160000</td>\n",
       "    </tr>\n",
       "    <tr>\n",
       "      <th>1986-03-17</th>\n",
       "      <td>0.100694</td>\n",
       "      <td>0.103299</td>\n",
       "      <td>0.100694</td>\n",
       "      <td>0.102431</td>\n",
       "      <td>0.064067</td>\n",
       "      <td>133171200</td>\n",
       "    </tr>\n",
       "    <tr>\n",
       "      <th>1986-03-18</th>\n",
       "      <td>0.102431</td>\n",
       "      <td>0.103299</td>\n",
       "      <td>0.098958</td>\n",
       "      <td>0.099826</td>\n",
       "      <td>0.062437</td>\n",
       "      <td>67766400</td>\n",
       "    </tr>\n",
       "    <tr>\n",
       "      <th>1986-03-19</th>\n",
       "      <td>0.099826</td>\n",
       "      <td>0.100694</td>\n",
       "      <td>0.097222</td>\n",
       "      <td>0.098090</td>\n",
       "      <td>0.061351</td>\n",
       "      <td>47894400</td>\n",
       "    </tr>\n",
       "  </tbody>\n",
       "</table>\n",
       "</div>"
      ],
      "text/plain": [
       "                Open      High       Low     Close  Adj Close      Volume\n",
       "Date                                                                     \n",
       "1986-03-13  0.088542  0.101563  0.088542  0.097222   0.060809  1031788800\n",
       "1986-03-14  0.097222  0.102431  0.097222  0.100694   0.062980   308160000\n",
       "1986-03-17  0.100694  0.103299  0.100694  0.102431   0.064067   133171200\n",
       "1986-03-18  0.102431  0.103299  0.098958  0.099826   0.062437    67766400\n",
       "1986-03-19  0.099826  0.100694  0.097222  0.098090   0.061351    47894400"
      ]
     },
     "execution_count": 5,
     "metadata": {},
     "output_type": "execute_result"
    }
   ],
   "source": [
    "ms = fdr.DataReader(\"MSFT\")  #Microsoft\n",
    "ms.head()"
   ]
  },
  {
   "cell_type": "code",
   "execution_count": 6,
   "metadata": {},
   "outputs": [],
   "source": [
    "ms.drop(['High', 'Low', 'Open', 'Volume', 'Close'], axis=1, inplace=True)"
   ]
  },
  {
   "cell_type": "code",
   "execution_count": 7,
   "metadata": {},
   "outputs": [
    {
     "data": {
      "text/html": [
       "<div>\n",
       "<style scoped>\n",
       "    .dataframe tbody tr th:only-of-type {\n",
       "        vertical-align: middle;\n",
       "    }\n",
       "\n",
       "    .dataframe tbody tr th {\n",
       "        vertical-align: top;\n",
       "    }\n",
       "\n",
       "    .dataframe thead th {\n",
       "        text-align: right;\n",
       "    }\n",
       "</style>\n",
       "<table border=\"1\" class=\"dataframe\">\n",
       "  <thead>\n",
       "    <tr style=\"text-align: right;\">\n",
       "      <th></th>\n",
       "      <th>Adj Close</th>\n",
       "      <th>MA_SHORT</th>\n",
       "      <th>MA_LONG</th>\n",
       "      <th>Shares</th>\n",
       "    </tr>\n",
       "    <tr>\n",
       "      <th>Date</th>\n",
       "      <th></th>\n",
       "      <th></th>\n",
       "      <th></th>\n",
       "      <th></th>\n",
       "    </tr>\n",
       "  </thead>\n",
       "  <tbody>\n",
       "    <tr>\n",
       "      <th>1986-03-13</th>\n",
       "      <td>0.060809</td>\n",
       "      <td>NaN</td>\n",
       "      <td>NaN</td>\n",
       "      <td>0</td>\n",
       "    </tr>\n",
       "    <tr>\n",
       "      <th>1986-03-14</th>\n",
       "      <td>0.062980</td>\n",
       "      <td>NaN</td>\n",
       "      <td>NaN</td>\n",
       "      <td>0</td>\n",
       "    </tr>\n",
       "    <tr>\n",
       "      <th>1986-03-17</th>\n",
       "      <td>0.064067</td>\n",
       "      <td>NaN</td>\n",
       "      <td>NaN</td>\n",
       "      <td>0</td>\n",
       "    </tr>\n",
       "    <tr>\n",
       "      <th>1986-03-18</th>\n",
       "      <td>0.062437</td>\n",
       "      <td>NaN</td>\n",
       "      <td>NaN</td>\n",
       "      <td>0</td>\n",
       "    </tr>\n",
       "    <tr>\n",
       "      <th>1986-03-19</th>\n",
       "      <td>0.061351</td>\n",
       "      <td>NaN</td>\n",
       "      <td>NaN</td>\n",
       "      <td>0</td>\n",
       "    </tr>\n",
       "  </tbody>\n",
       "</table>\n",
       "</div>"
      ],
      "text/plain": [
       "            Adj Close  MA_SHORT  MA_LONG  Shares\n",
       "Date                                            \n",
       "1986-03-13   0.060809       NaN      NaN       0\n",
       "1986-03-14   0.062980       NaN      NaN       0\n",
       "1986-03-17   0.064067       NaN      NaN       0\n",
       "1986-03-18   0.062437       NaN      NaN       0\n",
       "1986-03-19   0.061351       NaN      NaN       0"
      ]
     },
     "execution_count": 7,
     "metadata": {},
     "output_type": "execute_result"
    }
   ],
   "source": [
    "ms['MA_SHORT'] = ms['Adj Close'].rolling(short).mean()\n",
    "ms['MA_LONG'] = ms['Adj Close'].rolling(long).mean()\n",
    "ms['Shares'] = [1 if ms.loc[day, 'MA_SHORT'] >= ms.loc[day, 'MA_LONG'] \n",
    "                else 0 for day in ms.index]\n",
    "ms.head()"
   ]
  },
  {
   "cell_type": "code",
   "execution_count": 8,
   "metadata": {},
   "outputs": [
    {
     "data": {
      "text/html": [
       "<div>\n",
       "<style scoped>\n",
       "    .dataframe tbody tr th:only-of-type {\n",
       "        vertical-align: middle;\n",
       "    }\n",
       "\n",
       "    .dataframe tbody tr th {\n",
       "        vertical-align: top;\n",
       "    }\n",
       "\n",
       "    .dataframe thead th {\n",
       "        text-align: right;\n",
       "    }\n",
       "</style>\n",
       "<table border=\"1\" class=\"dataframe\">\n",
       "  <thead>\n",
       "    <tr style=\"text-align: right;\">\n",
       "      <th></th>\n",
       "      <th>Adj Close</th>\n",
       "      <th>MA_SHORT</th>\n",
       "      <th>MA_LONG</th>\n",
       "      <th>Shares</th>\n",
       "    </tr>\n",
       "    <tr>\n",
       "      <th>Date</th>\n",
       "      <th></th>\n",
       "      <th></th>\n",
       "      <th></th>\n",
       "      <th></th>\n",
       "    </tr>\n",
       "  </thead>\n",
       "  <tbody>\n",
       "    <tr>\n",
       "      <th>2022-12-21</th>\n",
       "      <td>244.429993</td>\n",
       "      <td>247.984999</td>\n",
       "      <td>239.978447</td>\n",
       "      <td>1</td>\n",
       "    </tr>\n",
       "    <tr>\n",
       "      <th>2022-12-22</th>\n",
       "      <td>238.190002</td>\n",
       "      <td>247.064000</td>\n",
       "      <td>240.239935</td>\n",
       "      <td>1</td>\n",
       "    </tr>\n",
       "    <tr>\n",
       "      <th>2022-12-23</th>\n",
       "      <td>238.729996</td>\n",
       "      <td>246.395000</td>\n",
       "      <td>240.342900</td>\n",
       "      <td>1</td>\n",
       "    </tr>\n",
       "    <tr>\n",
       "      <th>2022-12-27</th>\n",
       "      <td>236.960007</td>\n",
       "      <td>244.840001</td>\n",
       "      <td>240.523746</td>\n",
       "      <td>1</td>\n",
       "    </tr>\n",
       "    <tr>\n",
       "      <th>2022-12-28</th>\n",
       "      <td>234.529999</td>\n",
       "      <td>242.601000</td>\n",
       "      <td>240.477097</td>\n",
       "      <td>1</td>\n",
       "    </tr>\n",
       "  </tbody>\n",
       "</table>\n",
       "</div>"
      ],
      "text/plain": [
       "             Adj Close    MA_SHORT     MA_LONG  Shares\n",
       "Date                                                  \n",
       "2022-12-21  244.429993  247.984999  239.978447       1\n",
       "2022-12-22  238.190002  247.064000  240.239935       1\n",
       "2022-12-23  238.729996  246.395000  240.342900       1\n",
       "2022-12-27  236.960007  244.840001  240.523746       1\n",
       "2022-12-28  234.529999  242.601000  240.477097       1"
      ]
     },
     "execution_count": 8,
     "metadata": {},
     "output_type": "execute_result"
    }
   ],
   "source": [
    "ms.tail()"
   ]
  },
  {
   "cell_type": "code",
   "execution_count": 9,
   "metadata": {},
   "outputs": [
    {
     "data": {
      "text/html": [
       "<div>\n",
       "<style scoped>\n",
       "    .dataframe tbody tr th:only-of-type {\n",
       "        vertical-align: middle;\n",
       "    }\n",
       "\n",
       "    .dataframe tbody tr th {\n",
       "        vertical-align: top;\n",
       "    }\n",
       "\n",
       "    .dataframe thead th {\n",
       "        text-align: right;\n",
       "    }\n",
       "</style>\n",
       "<table border=\"1\" class=\"dataframe\">\n",
       "  <thead>\n",
       "    <tr style=\"text-align: right;\">\n",
       "      <th></th>\n",
       "      <th>Adj Close</th>\n",
       "      <th>MA_SHORT</th>\n",
       "      <th>MA_LONG</th>\n",
       "      <th>Shares</th>\n",
       "      <th>NextDay Close</th>\n",
       "    </tr>\n",
       "    <tr>\n",
       "      <th>Date</th>\n",
       "      <th></th>\n",
       "      <th></th>\n",
       "      <th></th>\n",
       "      <th></th>\n",
       "      <th></th>\n",
       "    </tr>\n",
       "  </thead>\n",
       "  <tbody>\n",
       "    <tr>\n",
       "      <th>1986-03-13</th>\n",
       "      <td>0.060809</td>\n",
       "      <td>NaN</td>\n",
       "      <td>NaN</td>\n",
       "      <td>0</td>\n",
       "      <td>0.062980</td>\n",
       "    </tr>\n",
       "    <tr>\n",
       "      <th>1986-03-14</th>\n",
       "      <td>0.062980</td>\n",
       "      <td>NaN</td>\n",
       "      <td>NaN</td>\n",
       "      <td>0</td>\n",
       "      <td>0.064067</td>\n",
       "    </tr>\n",
       "    <tr>\n",
       "      <th>1986-03-17</th>\n",
       "      <td>0.064067</td>\n",
       "      <td>NaN</td>\n",
       "      <td>NaN</td>\n",
       "      <td>0</td>\n",
       "      <td>0.062437</td>\n",
       "    </tr>\n",
       "    <tr>\n",
       "      <th>1986-03-18</th>\n",
       "      <td>0.062437</td>\n",
       "      <td>NaN</td>\n",
       "      <td>NaN</td>\n",
       "      <td>0</td>\n",
       "      <td>0.061351</td>\n",
       "    </tr>\n",
       "    <tr>\n",
       "      <th>1986-03-19</th>\n",
       "      <td>0.061351</td>\n",
       "      <td>NaN</td>\n",
       "      <td>NaN</td>\n",
       "      <td>0</td>\n",
       "      <td>0.059723</td>\n",
       "    </tr>\n",
       "  </tbody>\n",
       "</table>\n",
       "</div>"
      ],
      "text/plain": [
       "            Adj Close  MA_SHORT  MA_LONG  Shares  NextDay Close\n",
       "Date                                                           \n",
       "1986-03-13   0.060809       NaN      NaN       0       0.062980\n",
       "1986-03-14   0.062980       NaN      NaN       0       0.064067\n",
       "1986-03-17   0.064067       NaN      NaN       0       0.062437\n",
       "1986-03-18   0.062437       NaN      NaN       0       0.061351\n",
       "1986-03-19   0.061351       NaN      NaN       0       0.059723"
      ]
     },
     "execution_count": 9,
     "metadata": {},
     "output_type": "execute_result"
    }
   ],
   "source": [
    "ms['NextDay Close'] = ms['Adj Close'].shift(-1)\n",
    "ms.head()"
   ]
  },
  {
   "cell_type": "code",
   "execution_count": 10,
   "metadata": {},
   "outputs": [
    {
     "data": {
      "text/plain": [
       "Text(0.5, 1.0, 'short = 10, long = 50')"
      ]
     },
     "execution_count": 10,
     "metadata": {},
     "output_type": "execute_result"
    },
    {
     "data": {
      "image/png": "[encoded data removed]",
      "text/plain": [
       "<Figure size 864x432 with 1 Axes>"
      ]
     },
     "metadata": {
      "needs_background": "light"
     },
     "output_type": "display_data"
    }
   ],
   "source": [
    "ms[['MA_SHORT', 'MA_LONG']].plot(figsize=(12, 6))\n",
    "plt.title(f\"short = {short}, long = {long}\")"
   ]
  },
  {
   "cell_type": "markdown",
   "metadata": {},
   "source": [
    "## Daily Profit"
   ]
  },
  {
   "cell_type": "code",
   "execution_count": 11,
   "metadata": {},
   "outputs": [
    {
     "data": {
      "text/html": [
       "<div>\n",
       "<style scoped>\n",
       "    .dataframe tbody tr th:only-of-type {\n",
       "        vertical-align: middle;\n",
       "    }\n",
       "\n",
       "    .dataframe tbody tr th {\n",
       "        vertical-align: top;\n",
       "    }\n",
       "\n",
       "    .dataframe thead th {\n",
       "        text-align: right;\n",
       "    }\n",
       "</style>\n",
       "<table border=\"1\" class=\"dataframe\">\n",
       "  <thead>\n",
       "    <tr style=\"text-align: right;\">\n",
       "      <th></th>\n",
       "      <th>Adj Close</th>\n",
       "      <th>MA_SHORT</th>\n",
       "      <th>MA_LONG</th>\n",
       "      <th>Shares</th>\n",
       "      <th>NextDay Close</th>\n",
       "      <th>Profit</th>\n",
       "    </tr>\n",
       "    <tr>\n",
       "      <th>Date</th>\n",
       "      <th></th>\n",
       "      <th></th>\n",
       "      <th></th>\n",
       "      <th></th>\n",
       "      <th></th>\n",
       "      <th></th>\n",
       "    </tr>\n",
       "  </thead>\n",
       "  <tbody>\n",
       "    <tr>\n",
       "      <th>1986-08-05</th>\n",
       "      <td>0.060809</td>\n",
       "      <td>0.063903</td>\n",
       "      <td>0.066933</td>\n",
       "      <td>0</td>\n",
       "      <td>0.060266</td>\n",
       "      <td>0.0</td>\n",
       "    </tr>\n",
       "    <tr>\n",
       "      <th>1986-08-06</th>\n",
       "      <td>0.060266</td>\n",
       "      <td>0.063415</td>\n",
       "      <td>0.066748</td>\n",
       "      <td>0</td>\n",
       "      <td>0.059723</td>\n",
       "      <td>0.0</td>\n",
       "    </tr>\n",
       "    <tr>\n",
       "      <th>1986-08-07</th>\n",
       "      <td>0.059723</td>\n",
       "      <td>0.062655</td>\n",
       "      <td>0.066510</td>\n",
       "      <td>0</td>\n",
       "      <td>0.060266</td>\n",
       "      <td>0.0</td>\n",
       "    </tr>\n",
       "    <tr>\n",
       "      <th>1986-08-08</th>\n",
       "      <td>0.060266</td>\n",
       "      <td>0.061895</td>\n",
       "      <td>0.066249</td>\n",
       "      <td>0</td>\n",
       "      <td>0.062437</td>\n",
       "      <td>0.0</td>\n",
       "    </tr>\n",
       "    <tr>\n",
       "      <th>1986-08-11</th>\n",
       "      <td>0.062437</td>\n",
       "      <td>0.061514</td>\n",
       "      <td>0.065977</td>\n",
       "      <td>0</td>\n",
       "      <td>0.064067</td>\n",
       "      <td>0.0</td>\n",
       "    </tr>\n",
       "  </tbody>\n",
       "</table>\n",
       "</div>"
      ],
      "text/plain": [
       "            Adj Close  MA_SHORT   MA_LONG  Shares  NextDay Close  Profit\n",
       "Date                                                                    \n",
       "1986-08-05   0.060809  0.063903  0.066933       0       0.060266     0.0\n",
       "1986-08-06   0.060266  0.063415  0.066748       0       0.059723     0.0\n",
       "1986-08-07   0.059723  0.062655  0.066510       0       0.060266     0.0\n",
       "1986-08-08   0.060266  0.061895  0.066249       0       0.062437     0.0\n",
       "1986-08-11   0.062437  0.061514  0.065977       0       0.064067     0.0"
      ]
     },
     "execution_count": 11,
     "metadata": {},
     "output_type": "execute_result"
    }
   ],
   "source": [
    "# Daily Profit 계산\n",
    "ms['Profit'] = [ms.loc[day, 'NextDay Close'] - ms.loc[day, 'Adj Close'] \n",
    "                if ms.loc[day, 'Shares'] == 1 else 0 for day in ms.index]\n",
    "\n",
    "ms.iloc[100:105]"
   ]
  },
  {
   "cell_type": "code",
   "execution_count": 12,
   "metadata": {},
   "outputs": [
    {
     "data": {
      "text/plain": [
       "(-14.06178300000002, 14.809996999999981, 0.010337754367047662)"
      ]
     },
     "execution_count": 12,
     "metadata": {},
     "output_type": "execute_result"
    }
   ],
   "source": [
    "ms['Profit'].min(), ms['Profit'].max(), ms['Profit'].mean()"
   ]
  },
  {
   "cell_type": "code",
   "execution_count": 13,
   "metadata": {},
   "outputs": [
    {
     "data": {
      "text/plain": [
       "<matplotlib.lines.Line2D at 0x13d3f379250>"
      ]
     },
     "execution_count": 13,
     "metadata": {},
     "output_type": "execute_result"
    },
    {
     "data": {
      "image/png": "[encoded data removed]",
      "text/plain": [
       "<Figure size 432x288 with 1 Axes>"
      ]
     },
     "metadata": {
      "needs_background": "light"
     },
     "output_type": "display_data"
    }
   ],
   "source": [
    "# red line 위쪽은 make money 아래는 lose money\n",
    "ms['Profit'].plot()\n",
    "plt.axhline(y=0, color='r')  "
   ]
  },
  {
   "cell_type": "markdown",
   "metadata": {},
   "source": [
    "## 누적 수익"
   ]
  },
  {
   "cell_type": "code",
   "execution_count": 14,
   "metadata": {},
   "outputs": [
    {
     "data": {
      "text/html": [
       "<div>\n",
       "<style scoped>\n",
       "    .dataframe tbody tr th:only-of-type {\n",
       "        vertical-align: middle;\n",
       "    }\n",
       "\n",
       "    .dataframe tbody tr th {\n",
       "        vertical-align: top;\n",
       "    }\n",
       "\n",
       "    .dataframe thead th {\n",
       "        text-align: right;\n",
       "    }\n",
       "</style>\n",
       "<table border=\"1\" class=\"dataframe\">\n",
       "  <thead>\n",
       "    <tr style=\"text-align: right;\">\n",
       "      <th></th>\n",
       "      <th>Adj Close</th>\n",
       "      <th>MA_SHORT</th>\n",
       "      <th>MA_LONG</th>\n",
       "      <th>Shares</th>\n",
       "      <th>NextDay Close</th>\n",
       "      <th>Profit</th>\n",
       "      <th>wealth</th>\n",
       "    </tr>\n",
       "    <tr>\n",
       "      <th>Date</th>\n",
       "      <th></th>\n",
       "      <th></th>\n",
       "      <th></th>\n",
       "      <th></th>\n",
       "      <th></th>\n",
       "      <th></th>\n",
       "      <th></th>\n",
       "    </tr>\n",
       "  </thead>\n",
       "  <tbody>\n",
       "    <tr>\n",
       "      <th>2022-12-21</th>\n",
       "      <td>244.429993</td>\n",
       "      <td>247.984999</td>\n",
       "      <td>239.978447</td>\n",
       "      <td>1</td>\n",
       "      <td>238.190002</td>\n",
       "      <td>-6.239991</td>\n",
       "      <td>99.532337</td>\n",
       "    </tr>\n",
       "    <tr>\n",
       "      <th>2022-12-22</th>\n",
       "      <td>238.190002</td>\n",
       "      <td>247.064000</td>\n",
       "      <td>240.239935</td>\n",
       "      <td>1</td>\n",
       "      <td>238.729996</td>\n",
       "      <td>0.539994</td>\n",
       "      <td>100.072331</td>\n",
       "    </tr>\n",
       "    <tr>\n",
       "      <th>2022-12-23</th>\n",
       "      <td>238.729996</td>\n",
       "      <td>246.395000</td>\n",
       "      <td>240.342900</td>\n",
       "      <td>1</td>\n",
       "      <td>236.960007</td>\n",
       "      <td>-1.769989</td>\n",
       "      <td>98.302342</td>\n",
       "    </tr>\n",
       "    <tr>\n",
       "      <th>2022-12-27</th>\n",
       "      <td>236.960007</td>\n",
       "      <td>244.840001</td>\n",
       "      <td>240.523746</td>\n",
       "      <td>1</td>\n",
       "      <td>234.529999</td>\n",
       "      <td>-2.430008</td>\n",
       "      <td>95.872334</td>\n",
       "    </tr>\n",
       "    <tr>\n",
       "      <th>2022-12-28</th>\n",
       "      <td>234.529999</td>\n",
       "      <td>242.601000</td>\n",
       "      <td>240.477097</td>\n",
       "      <td>1</td>\n",
       "      <td>NaN</td>\n",
       "      <td>NaN</td>\n",
       "      <td>NaN</td>\n",
       "    </tr>\n",
       "  </tbody>\n",
       "</table>\n",
       "</div>"
      ],
      "text/plain": [
       "             Adj Close    MA_SHORT     MA_LONG  Shares  NextDay Close  \\\n",
       "Date                                                                    \n",
       "2022-12-21  244.429993  247.984999  239.978447       1     238.190002   \n",
       "2022-12-22  238.190002  247.064000  240.239935       1     238.729996   \n",
       "2022-12-23  238.729996  246.395000  240.342900       1     236.960007   \n",
       "2022-12-27  236.960007  244.840001  240.523746       1     234.529999   \n",
       "2022-12-28  234.529999  242.601000  240.477097       1            NaN   \n",
       "\n",
       "              Profit      wealth  \n",
       "Date                              \n",
       "2022-12-21 -6.239991   99.532337  \n",
       "2022-12-22  0.539994  100.072331  \n",
       "2022-12-23 -1.769989   98.302342  \n",
       "2022-12-27 -2.430008   95.872334  \n",
       "2022-12-28       NaN         NaN  "
      ]
     },
     "execution_count": 14,
     "metadata": {},
     "output_type": "execute_result"
    }
   ],
   "source": [
    "ms['wealth'] = ms['Profit'].cumsum()\n",
    "ms.tail()"
   ]
  },
  {
   "cell_type": "code",
   "execution_count": 15,
   "metadata": {},
   "outputs": [
    {
     "name": "stdout",
     "output_type": "stream",
     "text": [
      "MA_SHORT >= MA_LONG : 1 주 보유 (매수 or hold), MA_SHORT < MA_LONG : 0 주 보유 \n",
      "이 전략으로 13440일 동안 1주 매매로 얻은 수익 : 95.87 \n"
     ]
    },
    {
     "data": {
      "image/png": "[encoded data removed]",
      "text/plain": [
       "<Figure size 1152x720 with 1 Axes>"
      ]
     },
     "metadata": {
      "needs_background": "light"
     },
     "output_type": "display_data"
    }
   ],
   "source": [
    "n_days = len(pd.date_range(ms.index[0], ms.index[-1]))\n",
    "\n",
    "print('MA_SHORT >= MA_LONG : 1 주 보유 (매수 or hold), MA_SHORT < MA_LONG : 0 주 보유 ')\n",
    "print(f\"이 전략으로 {n_days}일 동안 1주 매매로 얻은 수익 : {ms.loc[ms.index[-2], 'wealth']:.2f} \")\n",
    "\n",
    "ms[['Adj Close', 'MA_SHORT', 'MA_LONG', 'wealth']].plot(figsize=(16, 10))\n",
    "plt.title(f\"short = {short}, long = {long}\")\n",
    "plt.grid()"
   ]
  },
  {
   "cell_type": "code",
   "execution_count": null,
   "metadata": {},
   "outputs": [],
   "source": []
  }
 ],
 "metadata": {
  "kernelspec": {
   "display_name": "Python 3 (ipykernel)",
   "language": "python",
   "name": "python3"
  },
  "language_info": {
   "codemirror_mode": {
    "name": "ipython",
    "version": 3
   },
   "file_extension": ".py",
   "mimetype": "text/x-python",
   "name": "python",
   "nbconvert_exporter": "python",
   "pygments_lexer": "ipython3",
   "version": "3.9.12"
  }
 },
 "nbformat": 4,
 "nbformat_minor": 2
}
