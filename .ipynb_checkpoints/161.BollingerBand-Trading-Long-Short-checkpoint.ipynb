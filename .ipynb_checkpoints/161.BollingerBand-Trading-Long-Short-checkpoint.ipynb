{
 "cells": [
  {
   "cell_type": "markdown",
   "metadata": {},
   "source": [
    "# Bollinger Band 매매 전략\n",
    "\n",
    "- SMA (Simple Moving Average)를 중심으로 상하 2 sigma line (수정 가능) 사이의 구간  \n",
    "\n",
    "- Standard deviation 은 변동성(volatility)의 척도이므로, 시장의 변동성이 커지면 band가 넓어지고, 변동성이 작아지면 band 가 축소된다.  \n",
    "\n",
    "    - 상한선=MA(TP, n) + 2 ∗ sigma(TP, n)\n",
    "    - 하한선=MA(TP, n) − 2 ∗ sigma(TP, n)\n",
    "    - n: n일 이동평균, TP(Typical Price): (고가+저가+종가)/3,  m: 보통 2\n",
    "    \n",
    "    \n",
    "- 밴드폭의 변화와 밴드 이탈 여부 등 주가의 변동성으로 미래 주가를 예측  \n",
    "\n",
    "    - 전일 주가가 전일 하단 밴드보다 높고 현재 주가가 당일 하단 밴드보다 낮으면(price가 lower Bollinger Band를 하향 돌파) 매수  \n",
    "\n",
    "    - 전일 주가가 전일 상단 밴드보다 낮고 현재 주가가 당일 상단 밴드보다 높으면(price가 upper Bollinger Band를 상향 돌파) 매도 \n",
    "    \n",
    "<img src=\"https://coinpick.com/files/attach/images/1688/692/001/8c933572b744e0517a90826aba364cbf.PNG\" />"
   ]
  },
  {
   "cell_type": "code",
   "execution_count": 35,
   "metadata": {},
   "outputs": [],
   "source": [
    "import pandas as pd \n",
    "import matplotlib.pyplot as plt \n",
    "import requests\n",
    "import math\n",
    "from termcolor import colored as cl \n",
    "import numpy as np\n",
    "import yfinance as yf\n",
    "import datetime\n",
    "\n",
    "plt.rcParams['figure.figsize'] = (10, 5)"
   ]
  },
  {
   "cell_type": "code",
   "execution_count": 36,
   "metadata": {},
   "outputs": [],
   "source": [
    "window = 20\n",
    "m = 2\n",
    "ticker = '018260.KS'  #'005930.KS' #'018260.KS'"
   ]
  },
  {
   "cell_type": "code",
   "execution_count": 37,
   "metadata": {},
   "outputs": [
    {
     "data": {
      "text/html": [
       "<div>\n",
       "<style scoped>\n",
       "    .dataframe tbody tr th:only-of-type {\n",
       "        vertical-align: middle;\n",
       "    }\n",
       "\n",
       "    .dataframe tbody tr th {\n",
       "        vertical-align: top;\n",
       "    }\n",
       "\n",
       "    .dataframe thead th {\n",
       "        text-align: right;\n",
       "    }\n",
       "</style>\n",
       "<table border=\"1\" class=\"dataframe\">\n",
       "  <thead>\n",
       "    <tr style=\"text-align: right;\">\n",
       "      <th></th>\n",
       "      <th>Open</th>\n",
       "      <th>High</th>\n",
       "      <th>Low</th>\n",
       "      <th>Close</th>\n",
       "    </tr>\n",
       "    <tr>\n",
       "      <th>Date</th>\n",
       "      <th></th>\n",
       "      <th></th>\n",
       "      <th></th>\n",
       "      <th></th>\n",
       "    </tr>\n",
       "  </thead>\n",
       "  <tbody>\n",
       "    <tr>\n",
       "      <th>2022-06-20</th>\n",
       "      <td>137000.0</td>\n",
       "      <td>137000.0</td>\n",
       "      <td>132000.0</td>\n",
       "      <td>134000.0</td>\n",
       "    </tr>\n",
       "    <tr>\n",
       "      <th>2022-06-21</th>\n",
       "      <td>135500.0</td>\n",
       "      <td>136500.0</td>\n",
       "      <td>133000.0</td>\n",
       "      <td>135500.0</td>\n",
       "    </tr>\n",
       "    <tr>\n",
       "      <th>2022-06-22</th>\n",
       "      <td>135500.0</td>\n",
       "      <td>136500.0</td>\n",
       "      <td>130000.0</td>\n",
       "      <td>130500.0</td>\n",
       "    </tr>\n",
       "    <tr>\n",
       "      <th>2022-06-23</th>\n",
       "      <td>130500.0</td>\n",
       "      <td>132500.0</td>\n",
       "      <td>128500.0</td>\n",
       "      <td>129000.0</td>\n",
       "    </tr>\n",
       "    <tr>\n",
       "      <th>2022-06-24</th>\n",
       "      <td>129000.0</td>\n",
       "      <td>132000.0</td>\n",
       "      <td>129000.0</td>\n",
       "      <td>130500.0</td>\n",
       "    </tr>\n",
       "  </tbody>\n",
       "</table>\n",
       "</div>"
      ],
      "text/plain": [
       "                Open      High       Low     Close\n",
       "Date                                              \n",
       "2022-06-20  137000.0  137000.0  132000.0  134000.0\n",
       "2022-06-21  135500.0  136500.0  133000.0  135500.0\n",
       "2022-06-22  135500.0  136500.0  130000.0  130500.0\n",
       "2022-06-23  130500.0  132500.0  128500.0  129000.0\n",
       "2022-06-24  129000.0  132000.0  129000.0  130500.0"
      ]
     },
     "execution_count": 37,
     "metadata": {},
     "output_type": "execute_result"
    }
   ],
   "source": [
    "start = datetime.datetime(2014, 7, 1) # 강세장\n",
    "end = datetime.datetime(2022, 7, 1)\n",
    "\n",
    "# start = datetime.datetime(2018, 1, 1)   #약세장\n",
    "# end = datetime.datetime(2019, 1, 1)\n",
    "\n",
    "# start = datetime.datetime(2017, 6, 1)   #횡보장\n",
    "# end = datetime.datetime(2019, 6, 1)\n",
    "\n",
    "stock = yf.Ticker(ticker) \n",
    "stock = stock.history(start=start, end=end)\n",
    "stock.drop(['Volume', 'Dividends', 'Stock Splits'], axis=1, inplace=True)\n",
    "stock.tail()"
   ]
  },
  {
   "cell_type": "markdown",
   "metadata": {},
   "source": [
    "- 볼린저 밴드 작성"
   ]
  },
  {
   "cell_type": "code",
   "execution_count": 38,
   "metadata": {},
   "outputs": [
    {
     "data": {
      "text/html": [
       "<div>\n",
       "<style scoped>\n",
       "    .dataframe tbody tr th:only-of-type {\n",
       "        vertical-align: middle;\n",
       "    }\n",
       "\n",
       "    .dataframe tbody tr th {\n",
       "        vertical-align: top;\n",
       "    }\n",
       "\n",
       "    .dataframe thead th {\n",
       "        text-align: right;\n",
       "    }\n",
       "</style>\n",
       "<table border=\"1\" class=\"dataframe\">\n",
       "  <thead>\n",
       "    <tr style=\"text-align: right;\">\n",
       "      <th></th>\n",
       "      <th>Open</th>\n",
       "      <th>High</th>\n",
       "      <th>Low</th>\n",
       "      <th>Close</th>\n",
       "      <th>sma_20</th>\n",
       "      <th>upper_bb</th>\n",
       "      <th>lower_bb</th>\n",
       "    </tr>\n",
       "    <tr>\n",
       "      <th>Date</th>\n",
       "      <th></th>\n",
       "      <th></th>\n",
       "      <th></th>\n",
       "      <th></th>\n",
       "      <th></th>\n",
       "      <th></th>\n",
       "      <th></th>\n",
       "    </tr>\n",
       "  </thead>\n",
       "  <tbody>\n",
       "    <tr>\n",
       "      <th>2022-06-20</th>\n",
       "      <td>137000.0</td>\n",
       "      <td>137000.0</td>\n",
       "      <td>132000.0</td>\n",
       "      <td>134000.0</td>\n",
       "      <td>143075.0</td>\n",
       "      <td>153412.845647</td>\n",
       "      <td>132737.154353</td>\n",
       "    </tr>\n",
       "    <tr>\n",
       "      <th>2022-06-21</th>\n",
       "      <td>135500.0</td>\n",
       "      <td>136500.0</td>\n",
       "      <td>133000.0</td>\n",
       "      <td>135500.0</td>\n",
       "      <td>142525.0</td>\n",
       "      <td>153258.494060</td>\n",
       "      <td>131791.505940</td>\n",
       "    </tr>\n",
       "    <tr>\n",
       "      <th>2022-06-22</th>\n",
       "      <td>135500.0</td>\n",
       "      <td>136500.0</td>\n",
       "      <td>130000.0</td>\n",
       "      <td>130500.0</td>\n",
       "      <td>141700.0</td>\n",
       "      <td>153471.508869</td>\n",
       "      <td>129928.491131</td>\n",
       "    </tr>\n",
       "    <tr>\n",
       "      <th>2022-06-23</th>\n",
       "      <td>130500.0</td>\n",
       "      <td>132500.0</td>\n",
       "      <td>128500.0</td>\n",
       "      <td>129000.0</td>\n",
       "      <td>140850.0</td>\n",
       "      <td>153718.157354</td>\n",
       "      <td>127981.842646</td>\n",
       "    </tr>\n",
       "    <tr>\n",
       "      <th>2022-06-24</th>\n",
       "      <td>129000.0</td>\n",
       "      <td>132000.0</td>\n",
       "      <td>129000.0</td>\n",
       "      <td>130500.0</td>\n",
       "      <td>140025.0</td>\n",
       "      <td>153340.898689</td>\n",
       "      <td>126709.101311</td>\n",
       "    </tr>\n",
       "  </tbody>\n",
       "</table>\n",
       "</div>"
      ],
      "text/plain": [
       "                Open      High       Low     Close    sma_20       upper_bb  \\\n",
       "Date                                                                          \n",
       "2022-06-20  137000.0  137000.0  132000.0  134000.0  143075.0  153412.845647   \n",
       "2022-06-21  135500.0  136500.0  133000.0  135500.0  142525.0  153258.494060   \n",
       "2022-06-22  135500.0  136500.0  130000.0  130500.0  141700.0  153471.508869   \n",
       "2022-06-23  130500.0  132500.0  128500.0  129000.0  140850.0  153718.157354   \n",
       "2022-06-24  129000.0  132000.0  129000.0  130500.0  140025.0  153340.898689   \n",
       "\n",
       "                 lower_bb  \n",
       "Date                       \n",
       "2022-06-20  132737.154353  \n",
       "2022-06-21  131791.505940  \n",
       "2022-06-22  129928.491131  \n",
       "2022-06-23  127981.842646  \n",
       "2022-06-24  126709.101311  "
      ]
     },
     "execution_count": 38,
     "metadata": {},
     "output_type": "execute_result"
    }
   ],
   "source": [
    "stock['sma_20'] = stock['Close'].rolling(window=window).mean()\n",
    "\n",
    "std = stock['Close'].rolling(window).std()  # 변동성\n",
    "# Upper / Lower Band\n",
    "stock['upper_bb'] = stock['sma_20'] + m * std\n",
    "stock['lower_bb'] = stock['sma_20'] - m * std\n",
    "\n",
    "stock.tail()"
   ]
  },
  {
   "cell_type": "code",
   "execution_count": 39,
   "metadata": {},
   "outputs": [
    {
     "data": {
      "text/plain": [
       "<matplotlib.legend.Legend at 0x2925909fe20>"
      ]
     },
     "execution_count": 39,
     "metadata": {},
     "output_type": "execute_result"
    },
    {
     "data": {
      "image/png": "[encoded data removed]",
      "text/plain": [
       "<Figure size 720x360 with 1 Axes>"
      ]
     },
     "metadata": {
      "needs_background": "light"
     },
     "output_type": "display_data"
    }
   ],
   "source": [
    "ax = stock[['Close', 'sma_20', 'upper_bb', 'lower_bb']].plot()\n",
    "ax.set_ylabel(\"Price\")\n",
    "ax.legend()"
   ]
  },
  {
   "cell_type": "markdown",
   "metadata": {},
   "source": [
    "### 매매 전략 작성"
   ]
  },
  {
   "cell_type": "code",
   "execution_count": 40,
   "metadata": {},
   "outputs": [],
   "source": [
    "buy_price = []   # 매수가 저장\n",
    "sell_price = []   # 매도가 저장\n",
    "bb_signal = []   # 매수/매도한 상태 저장\n",
    "signal = 0         # 0: no action, 1:buy, -1: sell\n",
    "\n",
    "close = stock['Close']\n",
    "lower_bb = stock['lower_bb']\n",
    "upper_bb = stock['upper_bb']"
   ]
  },
  {
   "cell_type": "code",
   "execution_count": 41,
   "metadata": {
    "scrolled": false
   },
   "outputs": [],
   "source": [
    "for i in range(len(close)):\n",
    "    #전일 주가가 전일 하단 밴드보다 높고 현재 주가가 당일 하단 밴드보다 낮으면\n",
    "    if close[i-1] > lower_bb[i-1] and close[i] < lower_bb[i]:\n",
    "        if signal != 1:\n",
    "            buy_price.append(close[i])  #현재 매수한 상태가 아니면 현재가로 매수\n",
    "            sell_price.append(np.nan)\n",
    "            signal = 1   # 매수\\\n",
    "            bb_signal.append(signal)  #매수한 상태 저장\n",
    "        else:\n",
    "            buy_price.append(np.nan)\n",
    "            sell_price.append(np.nan)\n",
    "            bb_signal.append(0)    # no action\n",
    "    #전일 주가가 전일 상단 밴드보다 낮고 현재 주가가 당일 상단 밴드보다 높으면\n",
    "    elif close[i-1] < upper_bb[i-1] and close[i] > upper_bb[i]:\n",
    "        if signal != -1:\n",
    "            buy_price.append(np.nan)   \n",
    "            sell_price.append(close[i])   #현재 매도한 상태가 아니면 현재가로 매도\n",
    "            signal = -1   #매도\n",
    "            bb_signal.append(signal)  #매도한 상태  저장\n",
    "        else:\n",
    "            buy_price.append(np.nan)\n",
    "            sell_price.append(np.nan)\n",
    "            bb_signal.append(0)    # no action\n",
    "    else:\n",
    "        buy_price.append(np.nan)\n",
    "        sell_price.append(np.nan)\n",
    "        bb_signal.append(0)   "
   ]
  },
  {
   "cell_type": "code",
   "execution_count": 42,
   "metadata": {},
   "outputs": [
    {
     "data": {
      "text/plain": [
       "(1923, 1923, 1923, 1923)"
      ]
     },
     "execution_count": 42,
     "metadata": {},
     "output_type": "execute_result"
    }
   ],
   "source": [
    "len(stock), len(buy_price), len(sell_price), len(bb_signal)"
   ]
  },
  {
   "cell_type": "markdown",
   "metadata": {},
   "source": [
    "- 매수, 매도 signal 시각화"
   ]
  },
  {
   "cell_type": "code",
   "execution_count": 43,
   "metadata": {},
   "outputs": [
    {
     "data": {
      "image/png": "[encoded data removed]",
      "text/plain": [
       "<Figure size 720x360 with 1 Axes>"
      ]
     },
     "metadata": {
      "needs_background": "light"
     },
     "output_type": "display_data"
    }
   ],
   "source": [
    "stock[['Close', 'sma_20', 'upper_bb', 'lower_bb']].plot()\n",
    "plt.scatter(stock.index, buy_price, marker='^', color='green', label='BUY', s=200, edgecolor='k')\n",
    "plt.scatter(stock.index, sell_price, marker='v', color='red', label='SELL', s=200, edgecolor='k')\n",
    "plt.title(\"BB Strategy Trading Signals\")\n",
    "plt.ylabel(\"Price\")\n",
    "plt.legend()\n",
    "plt.show()"
   ]
  },
  {
   "cell_type": "code",
   "execution_count": 44,
   "metadata": {},
   "outputs": [
    {
     "data": {
      "text/html": [
       "<div>\n",
       "<style scoped>\n",
       "    .dataframe tbody tr th:only-of-type {\n",
       "        vertical-align: middle;\n",
       "    }\n",
       "\n",
       "    .dataframe tbody tr th {\n",
       "        vertical-align: top;\n",
       "    }\n",
       "\n",
       "    .dataframe thead th {\n",
       "        text-align: right;\n",
       "    }\n",
       "</style>\n",
       "<table border=\"1\" class=\"dataframe\">\n",
       "  <thead>\n",
       "    <tr style=\"text-align: right;\">\n",
       "      <th></th>\n",
       "      <th>Close</th>\n",
       "      <th>upper_bb</th>\n",
       "      <th>lower_bb</th>\n",
       "      <th>buysell_signal</th>\n",
       "      <th>bb_position</th>\n",
       "    </tr>\n",
       "  </thead>\n",
       "  <tbody>\n",
       "    <tr>\n",
       "      <th>1918</th>\n",
       "      <td>134000.0</td>\n",
       "      <td>153412.845647</td>\n",
       "      <td>132737.154353</td>\n",
       "      <td>0</td>\n",
       "      <td>1</td>\n",
       "    </tr>\n",
       "    <tr>\n",
       "      <th>1919</th>\n",
       "      <td>135500.0</td>\n",
       "      <td>153258.494060</td>\n",
       "      <td>131791.505940</td>\n",
       "      <td>0</td>\n",
       "      <td>1</td>\n",
       "    </tr>\n",
       "    <tr>\n",
       "      <th>1920</th>\n",
       "      <td>130500.0</td>\n",
       "      <td>153471.508869</td>\n",
       "      <td>129928.491131</td>\n",
       "      <td>0</td>\n",
       "      <td>1</td>\n",
       "    </tr>\n",
       "    <tr>\n",
       "      <th>1921</th>\n",
       "      <td>129000.0</td>\n",
       "      <td>153718.157354</td>\n",
       "      <td>127981.842646</td>\n",
       "      <td>0</td>\n",
       "      <td>1</td>\n",
       "    </tr>\n",
       "    <tr>\n",
       "      <th>1922</th>\n",
       "      <td>130500.0</td>\n",
       "      <td>153340.898689</td>\n",
       "      <td>126709.101311</td>\n",
       "      <td>0</td>\n",
       "      <td>1</td>\n",
       "    </tr>\n",
       "  </tbody>\n",
       "</table>\n",
       "</div>"
      ],
      "text/plain": [
       "         Close       upper_bb       lower_bb  buysell_signal  bb_position\n",
       "1918  134000.0  153412.845647  132737.154353               0            1\n",
       "1919  135500.0  153258.494060  131791.505940               0            1\n",
       "1920  130500.0  153471.508869  129928.491131               0            1\n",
       "1921  129000.0  153718.157354  127981.842646               0            1\n",
       "1922  130500.0  153340.898689  126709.101311               0            1"
      ]
     },
     "execution_count": 44,
     "metadata": {},
     "output_type": "execute_result"
    }
   ],
   "source": [
    "position = len(bb_signal) * [0]  #아무것도 안한 상태로 시작\n",
    "\n",
    "for i in range(len(bb_signal)):\n",
    "    if bb_signal[i] == 1:\n",
    "        position[i] = 1   #매수한 상태로 변경\n",
    "        last_buy = close[i]\n",
    "    elif bb_signal[i] == -1:\n",
    "        position[i] = -1   #매도한 상태로 변경\n",
    "        last_sell = close[i]\n",
    "    else:\n",
    "        position[i] = position[i-1]   #이전 상태 유지\n",
    "        \n",
    "buysell_signal = pd.DataFrame(bb_signal).rename(columns={0: 'buysell_signal'}).set_index(stock.index)\n",
    "current_position = pd.DataFrame(position).rename(columns={0: 'bb_position'}).set_index(stock.index)\n",
    "\n",
    "frames = [close, upper_bb, lower_bb, buysell_signal, current_position]\n",
    "strategy = pd.concat(frames, join='inner', axis=1)\n",
    "strategy = strategy.reset_index().drop('Date', axis=1)\n",
    "strategy.tail()"
   ]
  },
  {
   "cell_type": "code",
   "execution_count": 45,
   "metadata": {
    "scrolled": true
   },
   "outputs": [],
   "source": [
    "pd.set_option('display.max_rows', 500)"
   ]
  },
  {
   "cell_type": "markdown",
   "metadata": {},
   "source": [
    "## 위 전략에 따라 1주씩 매수/매도 했을 경우의 수익률 back testing"
   ]
  },
  {
   "cell_type": "markdown",
   "metadata": {},
   "source": [
    "- daily log return 계산"
   ]
  },
  {
   "cell_type": "code",
   "execution_count": 46,
   "metadata": {
    "scrolled": true
   },
   "outputs": [
    {
     "data": {
      "text/html": [
       "<div>\n",
       "<style scoped>\n",
       "    .dataframe tbody tr th:only-of-type {\n",
       "        vertical-align: middle;\n",
       "    }\n",
       "\n",
       "    .dataframe tbody tr th {\n",
       "        vertical-align: top;\n",
       "    }\n",
       "\n",
       "    .dataframe thead th {\n",
       "        text-align: right;\n",
       "    }\n",
       "</style>\n",
       "<table border=\"1\" class=\"dataframe\">\n",
       "  <thead>\n",
       "    <tr style=\"text-align: right;\">\n",
       "      <th></th>\n",
       "      <th>Close</th>\n",
       "      <th>upper_bb</th>\n",
       "      <th>lower_bb</th>\n",
       "      <th>buysell_signal</th>\n",
       "      <th>bb_position</th>\n",
       "      <th>log return</th>\n",
       "    </tr>\n",
       "  </thead>\n",
       "  <tbody>\n",
       "    <tr>\n",
       "      <th>0</th>\n",
       "      <td>221740.468750</td>\n",
       "      <td>NaN</td>\n",
       "      <td>NaN</td>\n",
       "      <td>0</td>\n",
       "      <td>0</td>\n",
       "      <td>NaN</td>\n",
       "    </tr>\n",
       "    <tr>\n",
       "      <th>1</th>\n",
       "      <td>277175.593750</td>\n",
       "      <td>NaN</td>\n",
       "      <td>NaN</td>\n",
       "      <td>0</td>\n",
       "      <td>0</td>\n",
       "      <td>0.223144</td>\n",
       "    </tr>\n",
       "    <tr>\n",
       "      <th>2</th>\n",
       "      <td>274380.562500</td>\n",
       "      <td>NaN</td>\n",
       "      <td>NaN</td>\n",
       "      <td>0</td>\n",
       "      <td>0</td>\n",
       "      <td>-0.010135</td>\n",
       "    </tr>\n",
       "    <tr>\n",
       "      <th>3</th>\n",
       "      <td>270187.968750</td>\n",
       "      <td>NaN</td>\n",
       "      <td>NaN</td>\n",
       "      <td>0</td>\n",
       "      <td>0</td>\n",
       "      <td>-0.015398</td>\n",
       "    </tr>\n",
       "    <tr>\n",
       "      <th>4</th>\n",
       "      <td>260871.140625</td>\n",
       "      <td>NaN</td>\n",
       "      <td>NaN</td>\n",
       "      <td>0</td>\n",
       "      <td>0</td>\n",
       "      <td>-0.035091</td>\n",
       "    </tr>\n",
       "    <tr>\n",
       "      <th>...</th>\n",
       "      <td>...</td>\n",
       "      <td>...</td>\n",
       "      <td>...</td>\n",
       "      <td>...</td>\n",
       "      <td>...</td>\n",
       "      <td>...</td>\n",
       "    </tr>\n",
       "    <tr>\n",
       "      <th>1918</th>\n",
       "      <td>134000.000000</td>\n",
       "      <td>153412.845647</td>\n",
       "      <td>132737.154353</td>\n",
       "      <td>0</td>\n",
       "      <td>1</td>\n",
       "      <td>-0.018485</td>\n",
       "    </tr>\n",
       "    <tr>\n",
       "      <th>1919</th>\n",
       "      <td>135500.000000</td>\n",
       "      <td>153258.494060</td>\n",
       "      <td>131791.505940</td>\n",
       "      <td>0</td>\n",
       "      <td>1</td>\n",
       "      <td>0.011132</td>\n",
       "    </tr>\n",
       "    <tr>\n",
       "      <th>1920</th>\n",
       "      <td>130500.000000</td>\n",
       "      <td>153471.508869</td>\n",
       "      <td>129928.491131</td>\n",
       "      <td>0</td>\n",
       "      <td>1</td>\n",
       "      <td>-0.037598</td>\n",
       "    </tr>\n",
       "    <tr>\n",
       "      <th>1921</th>\n",
       "      <td>129000.000000</td>\n",
       "      <td>153718.157354</td>\n",
       "      <td>127981.842646</td>\n",
       "      <td>0</td>\n",
       "      <td>1</td>\n",
       "      <td>-0.011561</td>\n",
       "    </tr>\n",
       "    <tr>\n",
       "      <th>1922</th>\n",
       "      <td>130500.000000</td>\n",
       "      <td>153340.898689</td>\n",
       "      <td>126709.101311</td>\n",
       "      <td>0</td>\n",
       "      <td>1</td>\n",
       "      <td>0.011561</td>\n",
       "    </tr>\n",
       "  </tbody>\n",
       "</table>\n",
       "<p>1923 rows × 6 columns</p>\n",
       "</div>"
      ],
      "text/plain": [
       "              Close       upper_bb       lower_bb  buysell_signal  \\\n",
       "0     221740.468750            NaN            NaN               0   \n",
       "1     277175.593750            NaN            NaN               0   \n",
       "2     274380.562500            NaN            NaN               0   \n",
       "3     270187.968750            NaN            NaN               0   \n",
       "4     260871.140625            NaN            NaN               0   \n",
       "...             ...            ...            ...             ...   \n",
       "1918  134000.000000  153412.845647  132737.154353               0   \n",
       "1919  135500.000000  153258.494060  131791.505940               0   \n",
       "1920  130500.000000  153471.508869  129928.491131               0   \n",
       "1921  129000.000000  153718.157354  127981.842646               0   \n",
       "1922  130500.000000  153340.898689  126709.101311               0   \n",
       "\n",
       "      bb_position  log return  \n",
       "0               0         NaN  \n",
       "1               0    0.223144  \n",
       "2               0   -0.010135  \n",
       "3               0   -0.015398  \n",
       "4               0   -0.035091  \n",
       "...           ...         ...  \n",
       "1918            1   -0.018485  \n",
       "1919            1    0.011132  \n",
       "1920            1   -0.037598  \n",
       "1921            1   -0.011561  \n",
       "1922            1    0.011561  \n",
       "\n",
       "[1923 rows x 6 columns]"
      ]
     },
     "execution_count": 46,
     "metadata": {},
     "output_type": "execute_result"
    }
   ],
   "source": [
    "strategy['log return'] = np.log(strategy['Close']) -  np.log(strategy[ 'Close'].shift(1))\n",
    "strategy"
   ]
  },
  {
   "cell_type": "code",
   "execution_count": 47,
   "metadata": {},
   "outputs": [
    {
     "data": {
      "text/html": [
       "<div>\n",
       "<style scoped>\n",
       "    .dataframe tbody tr th:only-of-type {\n",
       "        vertical-align: middle;\n",
       "    }\n",
       "\n",
       "    .dataframe tbody tr th {\n",
       "        vertical-align: top;\n",
       "    }\n",
       "\n",
       "    .dataframe thead th {\n",
       "        text-align: right;\n",
       "    }\n",
       "</style>\n",
       "<table border=\"1\" class=\"dataframe\">\n",
       "  <thead>\n",
       "    <tr style=\"text-align: right;\">\n",
       "      <th></th>\n",
       "      <th>Close</th>\n",
       "      <th>upper_bb</th>\n",
       "      <th>lower_bb</th>\n",
       "      <th>buysell_signal</th>\n",
       "      <th>bb_position</th>\n",
       "      <th>log return</th>\n",
       "      <th>bb_return</th>\n",
       "    </tr>\n",
       "  </thead>\n",
       "  <tbody>\n",
       "    <tr>\n",
       "      <th>1918</th>\n",
       "      <td>134000.0</td>\n",
       "      <td>153412.845647</td>\n",
       "      <td>132737.154353</td>\n",
       "      <td>0</td>\n",
       "      <td>1</td>\n",
       "      <td>-0.018485</td>\n",
       "      <td>-0.018485</td>\n",
       "    </tr>\n",
       "    <tr>\n",
       "      <th>1919</th>\n",
       "      <td>135500.0</td>\n",
       "      <td>153258.494060</td>\n",
       "      <td>131791.505940</td>\n",
       "      <td>0</td>\n",
       "      <td>1</td>\n",
       "      <td>0.011132</td>\n",
       "      <td>0.011132</td>\n",
       "    </tr>\n",
       "    <tr>\n",
       "      <th>1920</th>\n",
       "      <td>130500.0</td>\n",
       "      <td>153471.508869</td>\n",
       "      <td>129928.491131</td>\n",
       "      <td>0</td>\n",
       "      <td>1</td>\n",
       "      <td>-0.037598</td>\n",
       "      <td>-0.037598</td>\n",
       "    </tr>\n",
       "    <tr>\n",
       "      <th>1921</th>\n",
       "      <td>129000.0</td>\n",
       "      <td>153718.157354</td>\n",
       "      <td>127981.842646</td>\n",
       "      <td>0</td>\n",
       "      <td>1</td>\n",
       "      <td>-0.011561</td>\n",
       "      <td>-0.011561</td>\n",
       "    </tr>\n",
       "    <tr>\n",
       "      <th>1922</th>\n",
       "      <td>130500.0</td>\n",
       "      <td>153340.898689</td>\n",
       "      <td>126709.101311</td>\n",
       "      <td>0</td>\n",
       "      <td>1</td>\n",
       "      <td>0.011561</td>\n",
       "      <td>0.011561</td>\n",
       "    </tr>\n",
       "  </tbody>\n",
       "</table>\n",
       "</div>"
      ],
      "text/plain": [
       "         Close       upper_bb       lower_bb  buysell_signal  bb_position  \\\n",
       "1918  134000.0  153412.845647  132737.154353               0            1   \n",
       "1919  135500.0  153258.494060  131791.505940               0            1   \n",
       "1920  130500.0  153471.508869  129928.491131               0            1   \n",
       "1921  129000.0  153718.157354  127981.842646               0            1   \n",
       "1922  130500.0  153340.898689  126709.101311               0            1   \n",
       "\n",
       "      log return  bb_return  \n",
       "1918   -0.018485  -0.018485  \n",
       "1919    0.011132   0.011132  \n",
       "1920   -0.037598  -0.037598  \n",
       "1921   -0.011561  -0.011561  \n",
       "1922    0.011561   0.011561  "
      ]
     },
     "execution_count": 47,
     "metadata": {},
     "output_type": "execute_result"
    }
   ],
   "source": [
    "strategy['bb_return'] = strategy['bb_position'] * strategy['log return']\n",
    "strategy.tail()"
   ]
  },
  {
   "cell_type": "code",
   "execution_count": 48,
   "metadata": {},
   "outputs": [],
   "source": [
    "def tmp(x):\n",
    "    if x['bb_position'] == -1:\n",
    "        return x['bb_return'] * -1\n",
    "    else:\n",
    "        return x['bb_return']"
   ]
  },
  {
   "cell_type": "code",
   "execution_count": 49,
   "metadata": {},
   "outputs": [],
   "source": [
    "strategy['bb_return'] = strategy.apply(tmp, axis=1)"
   ]
  },
  {
   "cell_type": "code",
   "execution_count": 50,
   "metadata": {},
   "outputs": [
    {
     "name": "stdout",
     "output_type": "stream",
     "text": [
      "Bolinger Band 전략으로 2014-07-01 ~ 2022-07-01  018260.KS 투자시 수익률: -87.50%\n"
     ]
    }
   ],
   "source": [
    "print(f\"Bolinger Band 전략으로 {start.date()} ~ {end.date()}  {ticker} 투자시 수익률: {strategy['bb_return'].sum()*100:.2f}%\")"
   ]
  },
  {
   "cell_type": "code",
   "execution_count": 51,
   "metadata": {},
   "outputs": [
    {
     "name": "stdout",
     "output_type": "stream",
     "text": [
      "Buy and Hold 전략으로 2014-07-01 ~ 2022-07-01  018260.KS 투자시 수익률: -53.01%\n"
     ]
    }
   ],
   "source": [
    "print(f\"Buy and Hold 전략으로 {start.date()} ~ {end.date()}  {ticker} 투자시 수익률: {strategy['log return'].sum()*100:.2f}%\")"
   ]
  },
  {
   "cell_type": "code",
   "execution_count": null,
   "metadata": {},
   "outputs": [],
   "source": []
  },
  {
   "cell_type": "code",
   "execution_count": null,
   "metadata": {},
   "outputs": [],
   "source": []
  }
 ],
 "metadata": {
  "kernelspec": {
   "display_name": "Python 3 (ipykernel)",
   "language": "python",
   "name": "python3"
  },
  "language_info": {
   "codemirror_mode": {
    "name": "ipython",
    "version": 3
   },
   "file_extension": ".py",
   "mimetype": "text/x-python",
   "name": "python",
   "nbconvert_exporter": "python",
   "pygments_lexer": "ipython3",
   "version": "3.8.13"
  }
 },
 "nbformat": 4,
 "nbformat_minor": 2
}
