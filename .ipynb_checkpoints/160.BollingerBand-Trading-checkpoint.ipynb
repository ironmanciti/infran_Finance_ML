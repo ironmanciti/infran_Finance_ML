{
 "cells": [
  {
   "cell_type": "markdown",
   "metadata": {},
   "source": [
    "# Bollinger Band 매매 전략\n",
    "\n",
    "- SMA (Simple Moving Average)를 중심으로 상하 2 sigma line (수정 가능) 사이의 구간  \n",
    "\n",
    "- Standard deviation 은 변동성(volatility)의 척도이므로, 시장의 변동성이 커지면 band가 넓어지고, 변동성이 작아지면 band 가 축소된다.  \n",
    "\n",
    "    - 상한선=MA(TP, n) + 2 ∗ sigma(TP, n)\n",
    "    - 하한선=MA(TP, n) − 2 ∗ sigma(TP, n)\n",
    "    - n: n일 이동평균, TP(Typical Price): (고가+저가+종가)/3,  m: 보통 2\n",
    "    \n",
    "    \n",
    "- 밴드폭의 변화와 밴드 이탈 여부 등 주가의 변동성으로 미래 주가를 예측  \n",
    "\n",
    "    - 전일 주가가 전일 하단 밴드보다 높고 현재 주가가 당일 하단 밴드보다 낮으면(price가 lower Bollinger Band를 하향 돌파) 매수  \n",
    "\n",
    "    - 전일 주가가 전일 상단 밴드보다 낮고 현재 주가가 당일 상단 밴드보다 높으면(price가 upper Bollinger Band를 상향 돌파) 매도 \n",
    "    \n",
    "<img src=\"https://coinpick.com/files/attach/images/1688/692/001/8c933572b744e0517a90826aba364cbf.PNG\" />"
   ]
  },
  {
   "cell_type": "code",
   "execution_count": 1,
   "metadata": {},
   "outputs": [],
   "source": [
    "import pandas as pd \n",
    "import matplotlib.pyplot as plt \n",
    "import requests\n",
    "import math\n",
    "from termcolor import colored as cl \n",
    "import numpy as np\n",
    "import yfinance as yf\n",
    "import datetime\n",
    "\n",
    "plt.rcParams['figure.figsize'] = (10, 5)"
   ]
  },
  {
   "cell_type": "code",
   "execution_count": 2,
   "metadata": {},
   "outputs": [],
   "source": [
    "window = 20\n",
    "m = 2\n",
    "ticker =  'AAPL' #'018260.KS'"
   ]
  },
  {
   "cell_type": "code",
   "execution_count": 3,
   "metadata": {},
   "outputs": [
    {
     "data": {
      "text/html": [
       "<div>\n",
       "<style scoped>\n",
       "    .dataframe tbody tr th:only-of-type {\n",
       "        vertical-align: middle;\n",
       "    }\n",
       "\n",
       "    .dataframe tbody tr th {\n",
       "        vertical-align: top;\n",
       "    }\n",
       "\n",
       "    .dataframe thead th {\n",
       "        text-align: right;\n",
       "    }\n",
       "</style>\n",
       "<table border=\"1\" class=\"dataframe\">\n",
       "  <thead>\n",
       "    <tr style=\"text-align: right;\">\n",
       "      <th></th>\n",
       "      <th>Open</th>\n",
       "      <th>High</th>\n",
       "      <th>Low</th>\n",
       "      <th>Close</th>\n",
       "    </tr>\n",
       "    <tr>\n",
       "      <th>Date</th>\n",
       "      <th></th>\n",
       "      <th></th>\n",
       "      <th></th>\n",
       "      <th></th>\n",
       "    </tr>\n",
       "  </thead>\n",
       "  <tbody>\n",
       "    <tr>\n",
       "      <th>2015-06-24</th>\n",
       "      <td>28.947911</td>\n",
       "      <td>29.537293</td>\n",
       "      <td>28.927432</td>\n",
       "      <td>29.152716</td>\n",
       "    </tr>\n",
       "    <tr>\n",
       "      <th>2015-06-25</th>\n",
       "      <td>29.323381</td>\n",
       "      <td>29.400750</td>\n",
       "      <td>29.013899</td>\n",
       "      <td>29.013899</td>\n",
       "    </tr>\n",
       "    <tr>\n",
       "      <th>2015-06-26</th>\n",
       "      <td>29.052582</td>\n",
       "      <td>29.125401</td>\n",
       "      <td>28.788613</td>\n",
       "      <td>28.843227</td>\n",
       "    </tr>\n",
       "    <tr>\n",
       "      <th>2015-06-29</th>\n",
       "      <td>28.549682</td>\n",
       "      <td>28.779518</td>\n",
       "      <td>28.326674</td>\n",
       "      <td>28.338051</td>\n",
       "    </tr>\n",
       "    <tr>\n",
       "      <th>2015-06-30</th>\n",
       "      <td>28.574707</td>\n",
       "      <td>28.699866</td>\n",
       "      <td>28.413139</td>\n",
       "      <td>28.542849</td>\n",
       "    </tr>\n",
       "  </tbody>\n",
       "</table>\n",
       "</div>"
      ],
      "text/plain": [
       "                 Open       High        Low      Close\n",
       "Date                                                  \n",
       "2015-06-24  28.947911  29.537293  28.927432  29.152716\n",
       "2015-06-25  29.323381  29.400750  29.013899  29.013899\n",
       "2015-06-26  29.052582  29.125401  28.788613  28.843227\n",
       "2015-06-29  28.549682  28.779518  28.326674  28.338051\n",
       "2015-06-30  28.574707  28.699866  28.413139  28.542849"
      ]
     },
     "execution_count": 3,
     "metadata": {},
     "output_type": "execute_result"
    }
   ],
   "source": [
    "start = datetime.datetime(2014, 7, 1)\n",
    "end = datetime.datetime(2015, 7, 1)\n",
    "stock = yf.Ticker(ticker) \n",
    "stock = stock.history(start=start, end=end)\n",
    "stock.drop(['Volume', 'Dividends', 'Stock Splits'], axis=1, inplace=True)\n",
    "stock.tail()"
   ]
  },
  {
   "cell_type": "markdown",
   "metadata": {},
   "source": [
    "- 볼린저 밴드 작성"
   ]
  },
  {
   "cell_type": "code",
   "execution_count": 4,
   "metadata": {},
   "outputs": [
    {
     "data": {
      "text/html": [
       "<div>\n",
       "<style scoped>\n",
       "    .dataframe tbody tr th:only-of-type {\n",
       "        vertical-align: middle;\n",
       "    }\n",
       "\n",
       "    .dataframe tbody tr th {\n",
       "        vertical-align: top;\n",
       "    }\n",
       "\n",
       "    .dataframe thead th {\n",
       "        text-align: right;\n",
       "    }\n",
       "</style>\n",
       "<table border=\"1\" class=\"dataframe\">\n",
       "  <thead>\n",
       "    <tr style=\"text-align: right;\">\n",
       "      <th></th>\n",
       "      <th>Open</th>\n",
       "      <th>High</th>\n",
       "      <th>Low</th>\n",
       "      <th>Close</th>\n",
       "      <th>sma_20</th>\n",
       "      <th>upper_bb</th>\n",
       "      <th>lower_bb</th>\n",
       "    </tr>\n",
       "    <tr>\n",
       "      <th>Date</th>\n",
       "      <th></th>\n",
       "      <th></th>\n",
       "      <th></th>\n",
       "      <th></th>\n",
       "      <th></th>\n",
       "      <th></th>\n",
       "      <th></th>\n",
       "    </tr>\n",
       "  </thead>\n",
       "  <tbody>\n",
       "    <tr>\n",
       "      <th>2015-06-24</th>\n",
       "      <td>28.947911</td>\n",
       "      <td>29.537293</td>\n",
       "      <td>28.927432</td>\n",
       "      <td>29.152716</td>\n",
       "      <td>29.236908</td>\n",
       "      <td>29.889146</td>\n",
       "      <td>28.584670</td>\n",
       "    </tr>\n",
       "    <tr>\n",
       "      <th>2015-06-25</th>\n",
       "      <td>29.323381</td>\n",
       "      <td>29.400750</td>\n",
       "      <td>29.013899</td>\n",
       "      <td>29.013899</td>\n",
       "      <td>29.188210</td>\n",
       "      <td>29.742447</td>\n",
       "      <td>28.633973</td>\n",
       "    </tr>\n",
       "    <tr>\n",
       "      <th>2015-06-26</th>\n",
       "      <td>29.052582</td>\n",
       "      <td>29.125401</td>\n",
       "      <td>28.788613</td>\n",
       "      <td>28.843227</td>\n",
       "      <td>29.148046</td>\n",
       "      <td>29.678349</td>\n",
       "      <td>28.617742</td>\n",
       "    </tr>\n",
       "    <tr>\n",
       "      <th>2015-06-29</th>\n",
       "      <td>28.549682</td>\n",
       "      <td>28.779518</td>\n",
       "      <td>28.326674</td>\n",
       "      <td>28.338051</td>\n",
       "      <td>29.079664</td>\n",
       "      <td>29.657758</td>\n",
       "      <td>28.501570</td>\n",
       "    </tr>\n",
       "    <tr>\n",
       "      <th>2015-06-30</th>\n",
       "      <td>28.574707</td>\n",
       "      <td>28.699866</td>\n",
       "      <td>28.413139</td>\n",
       "      <td>28.542849</td>\n",
       "      <td>29.028121</td>\n",
       "      <td>29.604566</td>\n",
       "      <td>28.451676</td>\n",
       "    </tr>\n",
       "  </tbody>\n",
       "</table>\n",
       "</div>"
      ],
      "text/plain": [
       "                 Open       High        Low      Close     sma_20   upper_bb  \\\n",
       "Date                                                                           \n",
       "2015-06-24  28.947911  29.537293  28.927432  29.152716  29.236908  29.889146   \n",
       "2015-06-25  29.323381  29.400750  29.013899  29.013899  29.188210  29.742447   \n",
       "2015-06-26  29.052582  29.125401  28.788613  28.843227  29.148046  29.678349   \n",
       "2015-06-29  28.549682  28.779518  28.326674  28.338051  29.079664  29.657758   \n",
       "2015-06-30  28.574707  28.699866  28.413139  28.542849  29.028121  29.604566   \n",
       "\n",
       "             lower_bb  \n",
       "Date                   \n",
       "2015-06-24  28.584670  \n",
       "2015-06-25  28.633973  \n",
       "2015-06-26  28.617742  \n",
       "2015-06-29  28.501570  \n",
       "2015-06-30  28.451676  "
      ]
     },
     "execution_count": 4,
     "metadata": {},
     "output_type": "execute_result"
    }
   ],
   "source": [
    "stock['sma_20'] = stock['Close'].rolling(window=window).mean()\n",
    "\n",
    "std = stock['Close'].rolling(window).std()  # 변동성\n",
    "# Upper / Lower Band\n",
    "stock['upper_bb'] = stock['sma_20'] + m * std\n",
    "stock['lower_bb'] = stock['sma_20'] - m * std\n",
    "\n",
    "stock.tail()"
   ]
  },
  {
   "cell_type": "code",
   "execution_count": 5,
   "metadata": {},
   "outputs": [
    {
     "data": {
      "text/plain": [
       "<matplotlib.legend.Legend at 0x1c13c00a4c0>"
      ]
     },
     "execution_count": 5,
     "metadata": {},
     "output_type": "execute_result"
    },
    {
     "data": {
      "image/png": "[encoded data removed]",
      "text/plain": [
       "<Figure size 720x360 with 1 Axes>"
      ]
     },
     "metadata": {
      "needs_background": "light"
     },
     "output_type": "display_data"
    }
   ],
   "source": [
    "ax = stock[['Close', 'sma_20', 'upper_bb', 'lower_bb']].plot()\n",
    "ax.set_ylabel(\"Price\")\n",
    "ax.legend()"
   ]
  },
  {
   "cell_type": "markdown",
   "metadata": {},
   "source": [
    "### 매매 전략 작성"
   ]
  },
  {
   "cell_type": "code",
   "execution_count": 6,
   "metadata": {},
   "outputs": [],
   "source": [
    "buy_price = []   # 매수가 저장\n",
    "sell_price = []   # 매도가 저장\n",
    "bb_signal = []   # 매수/매도한 상태 저장\n",
    "signal = 0         # 0: no action, 1:buy, -1: sell\n",
    "\n",
    "close = stock['Close']\n",
    "lower_bb = stock['lower_bb']\n",
    "upper_bb = stock['upper_bb']"
   ]
  },
  {
   "cell_type": "code",
   "execution_count": 7,
   "metadata": {},
   "outputs": [],
   "source": [
    "for i in range(len(close)):\n",
    "    #전일 주가가 전일 하단 밴드보다 높고 현재 주가가 당일 하단 밴드보다 낮으면\n",
    "    if close[i-1] > lower_bb[i-1] and close[i] < lower_bb[i]:\n",
    "        if signal != 1:\n",
    "            buy_price.append(close[i])  #현재 매수한 상태가 아니면 현재가로 매수\n",
    "            sell_price.append(np.nan)\n",
    "            signal = 1   # 매수\n",
    "            bb_signal.append(signal)  #매수한 상태 저장\n",
    "        else:\n",
    "            buy_price.append(np.nan)\n",
    "            sell_price.append(np.nan)\n",
    "            bb_signal.append(0)    # no action\n",
    "    #전일 주가가 전일 상단 밴드보다 낮고 현재 주가가 당일 상단 밴드보다 높으면\n",
    "    elif close[i-1] < upper_bb[i-1] and close[i] > upper_bb[i]:\n",
    "        if signal != -1:\n",
    "            buy_price.append(np.nan)   \n",
    "            sell_price.append(close[i])   #현재 매도한 상태가 아니면 현재가로 매도\n",
    "            signal = -1   #매도\n",
    "            bb_signal.append(signal)  #매도한 상태  저장\n",
    "        else:\n",
    "            buy_price.append(np.nan)\n",
    "            sell_price.append(np.nan)\n",
    "            bb_signal.append(0)    # no action\n",
    "    else:\n",
    "        buy_price.append(np.nan)\n",
    "        sell_price.append(np.nan)\n",
    "        bb_signal.append(0)   # no action"
   ]
  },
  {
   "cell_type": "code",
   "execution_count": 8,
   "metadata": {},
   "outputs": [
    {
     "data": {
      "text/plain": [
       "(253, 253, 253, 253)"
      ]
     },
     "execution_count": 8,
     "metadata": {},
     "output_type": "execute_result"
    }
   ],
   "source": [
    "len(stock), len(buy_price), len(sell_price), len(bb_signal)"
   ]
  },
  {
   "cell_type": "markdown",
   "metadata": {},
   "source": [
    "- 매수, 매도 signal 시각화"
   ]
  },
  {
   "cell_type": "code",
   "execution_count": 9,
   "metadata": {},
   "outputs": [
    {
     "data": {
      "image/png": "[encoded data removed]",
      "text/plain": [
       "<Figure size 720x360 with 1 Axes>"
      ]
     },
     "metadata": {
      "needs_background": "light"
     },
     "output_type": "display_data"
    }
   ],
   "source": [
    "stock[['Close', 'sma_20', 'upper_bb', 'lower_bb']].plot()\n",
    "plt.scatter(stock.index, buy_price, marker='^', color='green', label='BUY', s=200, edgecolor='k')\n",
    "plt.scatter(stock.index, sell_price, marker='v', color='red', label='SELL', s=200, edgecolor='k')\n",
    "plt.title(\"BB Strategy Trading Signals\")\n",
    "plt.ylabel(\"Price\")\n",
    "plt.legend()\n",
    "plt.show()"
   ]
  },
  {
   "cell_type": "code",
   "execution_count": 10,
   "metadata": {},
   "outputs": [
    {
     "data": {
      "text/html": [
       "<div>\n",
       "<style scoped>\n",
       "    .dataframe tbody tr th:only-of-type {\n",
       "        vertical-align: middle;\n",
       "    }\n",
       "\n",
       "    .dataframe tbody tr th {\n",
       "        vertical-align: top;\n",
       "    }\n",
       "\n",
       "    .dataframe thead th {\n",
       "        text-align: right;\n",
       "    }\n",
       "</style>\n",
       "<table border=\"1\" class=\"dataframe\">\n",
       "  <thead>\n",
       "    <tr style=\"text-align: right;\">\n",
       "      <th></th>\n",
       "      <th>Close</th>\n",
       "      <th>upper_bb</th>\n",
       "      <th>lower_bb</th>\n",
       "      <th>buysell_signal</th>\n",
       "      <th>bb_position</th>\n",
       "    </tr>\n",
       "  </thead>\n",
       "  <tbody>\n",
       "    <tr>\n",
       "      <th>248</th>\n",
       "      <td>29.152716</td>\n",
       "      <td>29.889146</td>\n",
       "      <td>28.584670</td>\n",
       "      <td>0</td>\n",
       "      <td>0</td>\n",
       "    </tr>\n",
       "    <tr>\n",
       "      <th>249</th>\n",
       "      <td>29.013899</td>\n",
       "      <td>29.742447</td>\n",
       "      <td>28.633973</td>\n",
       "      <td>0</td>\n",
       "      <td>0</td>\n",
       "    </tr>\n",
       "    <tr>\n",
       "      <th>250</th>\n",
       "      <td>28.843227</td>\n",
       "      <td>29.678349</td>\n",
       "      <td>28.617742</td>\n",
       "      <td>0</td>\n",
       "      <td>0</td>\n",
       "    </tr>\n",
       "    <tr>\n",
       "      <th>251</th>\n",
       "      <td>28.338051</td>\n",
       "      <td>29.657758</td>\n",
       "      <td>28.501570</td>\n",
       "      <td>1</td>\n",
       "      <td>1</td>\n",
       "    </tr>\n",
       "    <tr>\n",
       "      <th>252</th>\n",
       "      <td>28.542849</td>\n",
       "      <td>29.604566</td>\n",
       "      <td>28.451676</td>\n",
       "      <td>0</td>\n",
       "      <td>1</td>\n",
       "    </tr>\n",
       "  </tbody>\n",
       "</table>\n",
       "</div>"
      ],
      "text/plain": [
       "         Close   upper_bb   lower_bb  buysell_signal  bb_position\n",
       "248  29.152716  29.889146  28.584670               0            0\n",
       "249  29.013899  29.742447  28.633973               0            0\n",
       "250  28.843227  29.678349  28.617742               0            0\n",
       "251  28.338051  29.657758  28.501570               1            1\n",
       "252  28.542849  29.604566  28.451676               0            1"
      ]
     },
     "execution_count": 10,
     "metadata": {},
     "output_type": "execute_result"
    }
   ],
   "source": [
    "position = len(bb_signal) * [0]  #매수 안한 상태로 시작\n",
    "\n",
    "for i in range(len(bb_signal)):\n",
    "    if bb_signal[i] == 1:\n",
    "        position[i] = 1   #매수한 상태로 변경\n",
    "    elif bb_signal[i] == -1:\n",
    "        position[i] = 0   #매도한 상태로 변경\n",
    "    else:\n",
    "        position[i] = position[i-1]   #이전 상태 유지\n",
    "        \n",
    "buysell_signal = pd.DataFrame(bb_signal).rename(columns={0: 'buysell_signal'}).set_index(stock.index)\n",
    "current_position = pd.DataFrame(position).rename(columns={0: 'bb_position'}).set_index(stock.index)\n",
    "\n",
    "frames = [close, upper_bb, lower_bb, buysell_signal, current_position]\n",
    "strategy = pd.concat(frames, join='inner', axis=1)\n",
    "strategy = strategy.reset_index().drop('Date', axis=1)\n",
    "strategy.tail()"
   ]
  },
  {
   "cell_type": "code",
   "execution_count": 11,
   "metadata": {
    "scrolled": true
   },
   "outputs": [],
   "source": [
    "#pd.set_option('display.max_rows', 500)"
   ]
  },
  {
   "cell_type": "markdown",
   "metadata": {},
   "source": [
    "## 위 전략에 따라 1주씩 매수/매도 했을 경우의 수익률 back testing"
   ]
  },
  {
   "cell_type": "markdown",
   "metadata": {},
   "source": [
    "- daily log return 계산"
   ]
  },
  {
   "cell_type": "code",
   "execution_count": 12,
   "metadata": {
    "scrolled": true
   },
   "outputs": [
    {
     "data": {
      "text/html": [
       "<div>\n",
       "<style scoped>\n",
       "    .dataframe tbody tr th:only-of-type {\n",
       "        vertical-align: middle;\n",
       "    }\n",
       "\n",
       "    .dataframe tbody tr th {\n",
       "        vertical-align: top;\n",
       "    }\n",
       "\n",
       "    .dataframe thead th {\n",
       "        text-align: right;\n",
       "    }\n",
       "</style>\n",
       "<table border=\"1\" class=\"dataframe\">\n",
       "  <thead>\n",
       "    <tr style=\"text-align: right;\">\n",
       "      <th></th>\n",
       "      <th>Close</th>\n",
       "      <th>upper_bb</th>\n",
       "      <th>lower_bb</th>\n",
       "      <th>buysell_signal</th>\n",
       "      <th>bb_position</th>\n",
       "      <th>log return</th>\n",
       "    </tr>\n",
       "  </thead>\n",
       "  <tbody>\n",
       "    <tr>\n",
       "      <th>248</th>\n",
       "      <td>29.152716</td>\n",
       "      <td>29.889146</td>\n",
       "      <td>28.584670</td>\n",
       "      <td>0</td>\n",
       "      <td>0</td>\n",
       "      <td>0.008466</td>\n",
       "    </tr>\n",
       "    <tr>\n",
       "      <th>249</th>\n",
       "      <td>29.013899</td>\n",
       "      <td>29.742447</td>\n",
       "      <td>28.633973</td>\n",
       "      <td>0</td>\n",
       "      <td>0</td>\n",
       "      <td>-0.004773</td>\n",
       "    </tr>\n",
       "    <tr>\n",
       "      <th>250</th>\n",
       "      <td>28.843227</td>\n",
       "      <td>29.678349</td>\n",
       "      <td>28.617742</td>\n",
       "      <td>0</td>\n",
       "      <td>0</td>\n",
       "      <td>-0.005900</td>\n",
       "    </tr>\n",
       "    <tr>\n",
       "      <th>251</th>\n",
       "      <td>28.338051</td>\n",
       "      <td>29.657758</td>\n",
       "      <td>28.501570</td>\n",
       "      <td>1</td>\n",
       "      <td>1</td>\n",
       "      <td>-0.017670</td>\n",
       "    </tr>\n",
       "    <tr>\n",
       "      <th>252</th>\n",
       "      <td>28.542849</td>\n",
       "      <td>29.604566</td>\n",
       "      <td>28.451676</td>\n",
       "      <td>0</td>\n",
       "      <td>1</td>\n",
       "      <td>0.007201</td>\n",
       "    </tr>\n",
       "  </tbody>\n",
       "</table>\n",
       "</div>"
      ],
      "text/plain": [
       "         Close   upper_bb   lower_bb  buysell_signal  bb_position  log return\n",
       "248  29.152716  29.889146  28.584670               0            0    0.008466\n",
       "249  29.013899  29.742447  28.633973               0            0   -0.004773\n",
       "250  28.843227  29.678349  28.617742               0            0   -0.005900\n",
       "251  28.338051  29.657758  28.501570               1            1   -0.017670\n",
       "252  28.542849  29.604566  28.451676               0            1    0.007201"
      ]
     },
     "execution_count": 12,
     "metadata": {},
     "output_type": "execute_result"
    }
   ],
   "source": [
    "strategy['log return'] = np.log(strategy['Close']) -  np.log(strategy[ 'Close'].shift(1))\n",
    "strategy.tail()"
   ]
  },
  {
   "cell_type": "code",
   "execution_count": 13,
   "metadata": {},
   "outputs": [
    {
     "data": {
      "text/html": [
       "<div>\n",
       "<style scoped>\n",
       "    .dataframe tbody tr th:only-of-type {\n",
       "        vertical-align: middle;\n",
       "    }\n",
       "\n",
       "    .dataframe tbody tr th {\n",
       "        vertical-align: top;\n",
       "    }\n",
       "\n",
       "    .dataframe thead th {\n",
       "        text-align: right;\n",
       "    }\n",
       "</style>\n",
       "<table border=\"1\" class=\"dataframe\">\n",
       "  <thead>\n",
       "    <tr style=\"text-align: right;\">\n",
       "      <th></th>\n",
       "      <th>Close</th>\n",
       "      <th>upper_bb</th>\n",
       "      <th>lower_bb</th>\n",
       "      <th>buysell_signal</th>\n",
       "      <th>bb_position</th>\n",
       "      <th>log return</th>\n",
       "      <th>bb_return</th>\n",
       "    </tr>\n",
       "  </thead>\n",
       "  <tbody>\n",
       "    <tr>\n",
       "      <th>248</th>\n",
       "      <td>29.152716</td>\n",
       "      <td>29.889146</td>\n",
       "      <td>28.584670</td>\n",
       "      <td>0</td>\n",
       "      <td>0</td>\n",
       "      <td>0.008466</td>\n",
       "      <td>0.000000</td>\n",
       "    </tr>\n",
       "    <tr>\n",
       "      <th>249</th>\n",
       "      <td>29.013899</td>\n",
       "      <td>29.742447</td>\n",
       "      <td>28.633973</td>\n",
       "      <td>0</td>\n",
       "      <td>0</td>\n",
       "      <td>-0.004773</td>\n",
       "      <td>-0.000000</td>\n",
       "    </tr>\n",
       "    <tr>\n",
       "      <th>250</th>\n",
       "      <td>28.843227</td>\n",
       "      <td>29.678349</td>\n",
       "      <td>28.617742</td>\n",
       "      <td>0</td>\n",
       "      <td>0</td>\n",
       "      <td>-0.005900</td>\n",
       "      <td>-0.000000</td>\n",
       "    </tr>\n",
       "    <tr>\n",
       "      <th>251</th>\n",
       "      <td>28.338051</td>\n",
       "      <td>29.657758</td>\n",
       "      <td>28.501570</td>\n",
       "      <td>1</td>\n",
       "      <td>1</td>\n",
       "      <td>-0.017670</td>\n",
       "      <td>-0.017670</td>\n",
       "    </tr>\n",
       "    <tr>\n",
       "      <th>252</th>\n",
       "      <td>28.542849</td>\n",
       "      <td>29.604566</td>\n",
       "      <td>28.451676</td>\n",
       "      <td>0</td>\n",
       "      <td>1</td>\n",
       "      <td>0.007201</td>\n",
       "      <td>0.007201</td>\n",
       "    </tr>\n",
       "  </tbody>\n",
       "</table>\n",
       "</div>"
      ],
      "text/plain": [
       "         Close   upper_bb   lower_bb  buysell_signal  bb_position  log return  \\\n",
       "248  29.152716  29.889146  28.584670               0            0    0.008466   \n",
       "249  29.013899  29.742447  28.633973               0            0   -0.004773   \n",
       "250  28.843227  29.678349  28.617742               0            0   -0.005900   \n",
       "251  28.338051  29.657758  28.501570               1            1   -0.017670   \n",
       "252  28.542849  29.604566  28.451676               0            1    0.007201   \n",
       "\n",
       "     bb_return  \n",
       "248   0.000000  \n",
       "249  -0.000000  \n",
       "250  -0.000000  \n",
       "251  -0.017670  \n",
       "252   0.007201  "
      ]
     },
     "execution_count": 13,
     "metadata": {},
     "output_type": "execute_result"
    }
   ],
   "source": [
    "strategy['bb_return'] = strategy['bb_position'] * strategy['log return']\n",
    "strategy.tail()"
   ]
  },
  {
   "cell_type": "code",
   "execution_count": 14,
   "metadata": {},
   "outputs": [
    {
     "name": "stdout",
     "output_type": "stream",
     "text": [
      "Bolinger Band 전략으로 2014-07-01 ~ 2015-07-01  AAPL 투자시 수익률: 4.16%\n"
     ]
    }
   ],
   "source": [
    "print(f\"Bolinger Band 전략으로 {start.date()} ~ {end.date()}  {ticker} 투자시 수익률: {strategy['bb_return'].sum()*100:.2f}%\")"
   ]
  },
  {
   "cell_type": "code",
   "execution_count": 15,
   "metadata": {},
   "outputs": [
    {
     "name": "stdout",
     "output_type": "stream",
     "text": [
      "Buy and Hold 전략으로 2014-07-01 ~ 2015-07-01  AAPL 투자시 수익률: 31.73%\n"
     ]
    }
   ],
   "source": [
    "print(f\"Buy and Hold 전략으로 {start.date()} ~ {end.date()}  {ticker} 투자시 수익률: {strategy['log return'].sum()*100:.2f}%\")"
   ]
  },
  {
   "cell_type": "code",
   "execution_count": null,
   "metadata": {},
   "outputs": [],
   "source": []
  }
 ],
 "metadata": {
  "kernelspec": {
   "display_name": "Python 3 (ipykernel)",
   "language": "python",
   "name": "python3"
  },
  "language_info": {
   "codemirror_mode": {
    "name": "ipython",
    "version": 3
   },
   "file_extension": ".py",
   "mimetype": "text/x-python",
   "name": "python",
   "nbconvert_exporter": "python",
   "pygments_lexer": "ipython3",
   "version": "3.8.13"
  }
 },
 "nbformat": 4,
 "nbformat_minor": 2
}
