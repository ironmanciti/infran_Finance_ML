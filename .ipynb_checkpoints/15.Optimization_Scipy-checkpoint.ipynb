{
 "cells": [
  {
   "cell_type": "markdown",
   "metadata": {},
   "source": [
    "# Optimization using Scipy\n",
    "\n",
    "- 기능 - 목적함수의 최소값 찾기  \n",
    "- 포트폴리오의 주식 구성 비율 최적화\n",
    "- Scipy 함수\n",
    "    - minimize(objective, x0, method='SLSQP', bounds=bounds, constraints=cons)\n",
    "    - objective - 목적함수 \n",
    "    - x0 - initial value\n",
    "    - 'SLSQP' - Sequential Least Squares Programming \n",
    "    - return 값의 주요 속성\n",
    "        - x - optimization 의 해\n",
    "        - fun - 목적함수의 값"
   ]
  },
  {
   "cell_type": "code",
   "execution_count": 35,
   "metadata": {},
   "outputs": [],
   "source": [
    "from scipy.optimize import minimize\n",
    "import numpy as np\n",
    "import matplotlib.pyplot as plt"
   ]
  },
  {
   "cell_type": "markdown",
   "metadata": {},
   "source": [
    "## $y = (x - 1.5)^2 + 0.5$ 를 최소로하는 x 와 그 때의 y 값"
   ]
  },
  {
   "cell_type": "code",
   "execution_count": 36,
   "metadata": {},
   "outputs": [
    {
     "name": "stdout",
     "output_type": "stream",
     "text": [
      "Optimization terminated successfully.    (Exit mode 0)\n",
      "            Current function value: 0.5\n",
      "            Iterations: 2\n",
      "            Function evaluations: 7\n",
      "            Gradient evaluations: 2\n"
     ]
    }
   ],
   "source": [
    "def f(x):\n",
    "    return (x - 1.5)**2 + 0.5\n",
    "\n",
    "x0 = 0\n",
    "result = minimize(f, x0, method='SLSQP', options={'disp': True})"
   ]
  },
  {
   "cell_type": "code",
   "execution_count": 37,
   "metadata": {
    "scrolled": true
   },
   "outputs": [
    {
     "data": {
      "text/plain": [
       "Text(0.5, 1.0, 'Minima of objective function')"
      ]
     },
     "execution_count": 37,
     "metadata": {},
     "output_type": "execute_result"
    },
    {
     "data": {
      "image/png": "[encoded data removed]",
      "text/plain": [
       "<Figure size 432x288 with 1 Axes>"
      ]
     },
     "metadata": {
      "needs_background": "light"
     },
     "output_type": "display_data"
    }
   ],
   "source": [
    "x = np.linspace(0.5, 2.5, 21)\n",
    "y = f(x)\n",
    "plt.plot(x, y)\n",
    "plt.plot(result.x, f(result.x), 'ro')\n",
    "plt.title('Minima of objective function')"
   ]
  },
  {
   "cell_type": "markdown",
   "metadata": {},
   "source": [
    "## $x_1 * x_4 * (x_1 + x_2 + x_3) + x_3$ 을 최소로 하는 $x_1, x_2, x_3, x_4$ 의 조합\n",
    "\n",
    "<img src=\"optimize1.png\" width=\"200\">"
   ]
  },
  {
   "cell_type": "code",
   "execution_count": 38,
   "metadata": {},
   "outputs": [],
   "source": [
    "def objective(x):\n",
    "    x1 = x[0]\n",
    "    x2 = x[1]\n",
    "    x3 = x[2]\n",
    "    x4 = x[3]\n",
    "    return x1 * x4 * (x1 + x2 + x3) + x3\n",
    "\n",
    "def constraint1(x):\n",
    "    return x[0] * x[1] * x[2] * x[3] - 25\n",
    "\n",
    "def constraint2(x):\n",
    "    return x[0]**2 + x[1]**2 + x[2]**2 + x[3]**2 - 40\n",
    "\n",
    "x0 = (1, 5, 5, 1)\n",
    "\n",
    "b = (1.0, 5.0)\n",
    "bounds = (b, b, b, b)\n",
    "con1 = {'type': 'ineq', 'fun': constraint1}\n",
    "con2 = {'type': 'eq', 'fun': constraint2}\n",
    "\n",
    "cons = [con1, con2]"
   ]
  },
  {
   "cell_type": "code",
   "execution_count": 39,
   "metadata": {},
   "outputs": [],
   "source": [
    "result = minimize(objective, x0, method='SLSQP', bounds=bounds, constraints=cons)"
   ]
  },
  {
   "cell_type": "code",
   "execution_count": 40,
   "metadata": {},
   "outputs": [
    {
     "data": {
      "text/plain": [
       "     fun: 17.01401724556073\n",
       "     jac: array([14.57227039,  1.37940764,  2.37940764,  9.56415081])\n",
       " message: 'Optimization terminated successfully.'\n",
       "    nfev: 30\n",
       "     nit: 5\n",
       "    njev: 5\n",
       "  status: 0\n",
       " success: True\n",
       "       x: array([1.        , 4.74299607, 3.82115466, 1.37940764])"
      ]
     },
     "execution_count": 40,
     "metadata": {},
     "output_type": "execute_result"
    }
   ],
   "source": [
    "result"
   ]
  },
  {
   "cell_type": "code",
   "execution_count": 41,
   "metadata": {},
   "outputs": [
    {
     "data": {
      "text/plain": [
       "17.01401724556073"
      ]
     },
     "execution_count": 41,
     "metadata": {},
     "output_type": "execute_result"
    }
   ],
   "source": [
    "# objective function 의 optimize 된 값\n",
    "result.fun"
   ]
  },
  {
   "cell_type": "code",
   "execution_count": 42,
   "metadata": {},
   "outputs": [
    {
     "data": {
      "text/plain": [
       "array([1.        , 4.74299607, 3.82115466, 1.37940764])"
      ]
     },
     "execution_count": 42,
     "metadata": {},
     "output_type": "execute_result"
    }
   ],
   "source": [
    "# objective function 을 minimize 하는 x values\n",
    "result.x"
   ]
  },
  {
   "cell_type": "code",
   "execution_count": 43,
   "metadata": {},
   "outputs": [
    {
     "name": "stdout",
     "output_type": "stream",
     "text": [
      "x1 = 1.0\n",
      "x2 = 4.742996065636972\n",
      "x3 = 3.8211546642483363\n",
      "x4 = 1.3794076394141688\n"
     ]
    }
   ],
   "source": [
    "print(\"x1 = {}\".format(result.x[0]))\n",
    "print(\"x2 = {}\".format(result.x[1]))\n",
    "print(\"x3 = {}\".format(result.x[2]))\n",
    "print(\"x4 = {}\".format(result.x[3]))"
   ]
  },
  {
   "cell_type": "code",
   "execution_count": null,
   "metadata": {},
   "outputs": [],
   "source": []
  }
 ],
 "metadata": {
  "kernelspec": {
   "display_name": "Python 3",
   "language": "python",
   "name": "python3"
  },
  "language_info": {
   "codemirror_mode": {
    "name": "ipython",
    "version": 3
   },
   "file_extension": ".py",
   "mimetype": "text/x-python",
   "name": "python",
   "nbconvert_exporter": "python",
   "pygments_lexer": "ipython3",
   "version": "3.7.10"
  }
 },
 "nbformat": 4,
 "nbformat_minor": 2
}
