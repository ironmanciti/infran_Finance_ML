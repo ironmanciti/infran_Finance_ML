{
 "cells": [
  {
   "cell_type": "markdown",
   "metadata": {
    "id": "lJq7hpZ-7_tP"
   },
   "source": [
    "# 901. Candle Image classification"
   ]
  },
  {
   "cell_type": "markdown",
   "metadata": {
    "id": "ze_wpPrL7_tR"
   },
   "source": [
    "## Introduction\n",
    "\n",
    "`image_dataset_from_directory` 유틸리티를 사용하여 데이터 세트를 생성합니다."
   ]
  },
  {
   "cell_type": "code",
   "execution_count": 1,
   "metadata": {
    "colab": {
     "base_uri": "https://localhost:8080/"
    },
    "id": "v-2yS02iBkBo",
    "outputId": "9ae104d5-e57f-4f16-a707-c4100fcc11ed"
   },
   "outputs": [
    {
     "name": "stdout",
     "output_type": "stream",
     "text": [
      "\u001b[?25l\r",
      "\u001b[K     |███                             | 10 kB 18.7 MB/s eta 0:00:01\r",
      "\u001b[K     |██████                          | 20 kB 21.9 MB/s eta 0:00:01\r",
      "\u001b[K     |█████████                       | 30 kB 25.6 MB/s eta 0:00:01\r",
      "\u001b[K     |████████████                    | 40 kB 22.8 MB/s eta 0:00:01\r",
      "\u001b[K     |███████████████                 | 51 kB 9.4 MB/s eta 0:00:01\r",
      "\u001b[K     |██████████████████              | 61 kB 9.9 MB/s eta 0:00:01\r",
      "\u001b[K     |█████████████████████           | 71 kB 8.4 MB/s eta 0:00:01\r",
      "\u001b[K     |████████████████████████        | 81 kB 9.3 MB/s eta 0:00:01\r",
      "\u001b[K     |███████████████████████████     | 92 kB 7.7 MB/s eta 0:00:01\r",
      "\u001b[K     |██████████████████████████████  | 102 kB 8.4 MB/s eta 0:00:01\r",
      "\u001b[K     |████████████████████████████████| 109 kB 8.4 MB/s \n",
      "\u001b[?25h"
     ]
    }
   ],
   "source": [
    "!pip install -q -U tf-hub-nightly"
   ]
  },
  {
   "cell_type": "code",
   "execution_count": 2,
   "metadata": {
    "id": "5oF6WxUt7_tS"
   },
   "outputs": [],
   "source": [
    "import tensorflow as tf\n",
    "import tensorflow_hub as hub\n",
    "from tensorflow.keras.applications.mobilenet import decode_predictions\n",
    "from tensorflow.keras.applications.mobilenet import preprocess_input\n",
    "from tensorflow.keras.preprocessing.image import ImageDataGenerator\n",
    "from tensorflow.keras.models import Sequential\n",
    "from tensorflow.keras import layers\n",
    "import numpy as np\n",
    "import matplotlib.pyplot as plt\n",
    "import time\n",
    "import os"
   ]
  },
  {
   "cell_type": "markdown",
   "metadata": {
    "id": "oP_dMlk77_tT"
   },
   "source": [
    "## Load the data: the Ups vs Downs dataset"
   ]
  },
  {
   "cell_type": "code",
   "execution_count": 3,
   "metadata": {
    "colab": {
     "base_uri": "https://localhost:8080/"
    },
    "id": "IJTDgxcrVPB8",
    "outputId": "0271504d-b5b5-4d36-c8c9-4f3fca0d17f0"
   },
   "outputs": [
    {
     "name": "stdout",
     "output_type": "stream",
     "text": [
      "Mounted at /content/gdrive/\n"
     ]
    }
   ],
   "source": [
    "from google.colab import drive \n",
    "\n",
    "drive.mount('/content/gdrive/')"
   ]
  },
  {
   "cell_type": "code",
   "execution_count": 4,
   "metadata": {
    "colab": {
     "base_uri": "https://localhost:8080/"
    },
    "id": "kkGX97ftcV7H",
    "outputId": "340d2c50-613e-4b36-c803-a7b5d36ea9ca"
   },
   "outputs": [
    {
     "name": "stdout",
     "output_type": "stream",
     "text": [
      "961 936 1826\n",
      "322 318 606\n",
      "66 71 137\n"
     ]
    }
   ],
   "source": [
    "print(len(os.listdir(\"/content/gdrive/MyDrive/candles/train/downs\")),\n",
    "    len(os.listdir(\"/content/gdrive/MyDrive/candles/train/ups\")),\n",
    "    len(os.listdir(\"/content/gdrive/MyDrive/candles/train/flats\")))\n",
    "\n",
    "print(len(os.listdir(\"/content/gdrive/MyDrive/candles/val/downs\")),\n",
    "    len(os.listdir(\"/content/gdrive/MyDrive/candles/val/ups\")),\n",
    "    len(os.listdir(\"/content/gdrive/MyDrive/candles/val/flats\")))\n",
    "\n",
    "print(len(os.listdir(\"/content/gdrive/MyDrive/candles/test/downs\")),\n",
    "    len(os.listdir(\"/content/gdrive/MyDrive/candles/test/ups\")),\n",
    "    len(os.listdir(\"/content/gdrive/MyDrive/candles/test/flats\")))"
   ]
  },
  {
   "cell_type": "markdown",
   "metadata": {
    "id": "xScoc1n27_tX"
   },
   "source": [
    "## Generate a `Dataset`\n"
   ]
  },
  {
   "cell_type": "code",
   "execution_count": 5,
   "metadata": {
    "colab": {
     "base_uri": "https://localhost:8080/"
    },
    "id": "1uSQFI527_tX",
    "outputId": "4fc0ef58-9807-4272-e788-686936b63574"
   },
   "outputs": [
    {
     "name": "stdout",
     "output_type": "stream",
     "text": [
      "Found 3723 images belonging to 3 classes.\n",
      "Found 1246 images belonging to 3 classes.\n",
      "Found 274 images belonging to 3 classes.\n"
     ]
    }
   ],
   "source": [
    "image_generator = ImageDataGenerator(\n",
    "            preprocessing_function=preprocess_input)\n",
    "\n",
    "train_data = image_generator.flow_from_directory(\"/content/gdrive/MyDrive/candles/train\", \n",
    "                    target_size=(224, 224), batch_size = 32, shuffle = True)\n",
    "val_data = image_generator.flow_from_directory(\"/content/gdrive/MyDrive/candles/val\", \n",
    "                    target_size=(224, 224), batch_size = 32, shuffle = False)\n",
    "test_data = image_generator.flow_from_directory(\"/content/gdrive/MyDrive/candles/test\", \n",
    "                    target_size=(224, 224), batch_size = 32, shuffle = False)"
   ]
  },
  {
   "cell_type": "code",
   "execution_count": 6,
   "metadata": {
    "colab": {
     "base_uri": "https://localhost:8080/"
    },
    "id": "ntOXZ-gne8dB",
    "outputId": "f47df281-f05e-403f-d027-7451dd2197c2"
   },
   "outputs": [
    {
     "name": "stdout",
     "output_type": "stream",
     "text": [
      "Image batch shape:  (32, 224, 224, 3)\n",
      "Label batch shape:  (32, 3)\n",
      "Label class 수:  3\n",
      "Class Index :  {'downs': 0, 'flats': 1, 'ups': 2}\n"
     ]
    }
   ],
   "source": [
    "input_batch, label_batch = next(train_data)\n",
    "\n",
    "print(\"Image batch shape: \", input_batch.shape)\n",
    "print(\"Label batch shape: \", label_batch.shape)\n",
    "print(\"Label class 수: \", train_data.num_classes)\n",
    "print(\"Class Index : \", train_data.class_indices)"
   ]
  },
  {
   "cell_type": "markdown",
   "metadata": {
    "id": "kusT0MbU7_tY"
   },
   "source": [
    "## Visualize the data"
   ]
  },
  {
   "cell_type": "code",
   "execution_count": 7,
   "metadata": {
    "colab": {
     "base_uri": "https://localhost:8080/"
    },
    "id": "T7I2iF0AfUBP",
    "outputId": "f7884f74-2b4e-491f-f0e3-6f7275d5546e"
   },
   "outputs": [
    {
     "data": {
      "text/plain": [
       "{0: 'downs', 1: 'flats', 2: 'ups'}"
      ]
     },
     "execution_count": 7,
     "metadata": {},
     "output_type": "execute_result"
    }
   ],
   "source": [
    "class_names = {v:k for k,v in train_data.class_indices.items()}\n",
    "class_names"
   ]
  },
  {
   "cell_type": "code",
   "execution_count": 8,
   "metadata": {
    "colab": {
     "base_uri": "https://localhost:8080/",
     "height": 123
    },
    "id": "yzRIVtQo7_tY",
    "outputId": "234fd53b-d0b6-408c-84ff-4d35f189bed3"
   },
   "outputs": [
    {
     "data": {
      "image/png": "[encoded data removed]",
      "text/plain": [
       "<Figure size 1152x576 with 10 Axes>"
      ]
     },
     "metadata": {
      "needs_background": "light"
     },
     "output_type": "display_data"
    }
   ],
   "source": [
    "fig = plt.figure(figsize=(16, 8))\n",
    "\n",
    "for i in range(10):\n",
    "    sp = fig.add_subplot(1, 10, i+1)\n",
    "    img = ((input_batch[i]+1)*127.5).astype(np.uint8)\n",
    "    idx  = np.argmax(label_batch[i])\n",
    "    sp.imshow(img)\n",
    "    sp.set_title(class_names[idx])\n",
    "    sp.axis('off')"
   ]
  },
  {
   "cell_type": "markdown",
   "metadata": {
    "id": "ArWABOuv7_ta"
   },
   "source": [
    "## Build a model"
   ]
  },
  {
   "cell_type": "code",
   "execution_count": 54,
   "metadata": {
    "colab": {
     "base_uri": "https://localhost:8080/"
    },
    "id": "r3qHyB9Lfx_O",
    "outputId": "53200620-c1c3-4ca0-837a-e212e045311c"
   },
   "outputs": [
    {
     "name": "stdout",
     "output_type": "stream",
     "text": [
      "(32, 1280)\n"
     ]
    }
   ],
   "source": [
    "extractor_url = \"https://tfhub.dev/google/tf2-preview/mobilenet_v2/feature_vector/2\"\n",
    "extractor_layer = hub.KerasLayer(extractor_url, input_shape=(224, 224, 3))\n",
    "feature_batch = extractor_layer(input_batch)\n",
    "print(feature_batch.shape)"
   ]
  },
  {
   "cell_type": "code",
   "execution_count": 55,
   "metadata": {
    "colab": {
     "base_uri": "https://localhost:8080/"
    },
    "id": "KQQRfdKyaQtg",
    "outputId": "060431db-7001-44c0-b13a-84134df146f3"
   },
   "outputs": [
    {
     "name": "stdout",
     "output_type": "stream",
     "text": [
      "Model: \"sequential_2\"\n",
      "_________________________________________________________________\n",
      " Layer (type)                Output Shape              Param #   \n",
      "=================================================================\n",
      " keras_layer_2 (KerasLayer)  (None, 1280)              2257984   \n",
      "                                                                 \n",
      " dense_2 (Dense)             (None, 3)                 3843      \n",
      "                                                                 \n",
      "=================================================================\n",
      "Total params: 2,261,827\n",
      "Trainable params: 2,227,715\n",
      "Non-trainable params: 34,112\n",
      "_________________________________________________________________\n"
     ]
    }
   ],
   "source": [
    "extractor_layer.trainable = True\n",
    "\n",
    "model = Sequential([\n",
    "    extractor_layer,\n",
    "    layers.Dense(256, activation='relu'),\n",
    "    layers.Dropout(0.2),\n",
    "    layers.Dense(train_data.num_classes, activation='softmax')\n",
    "])\n",
    "\n",
    "model.summary()"
   ]
  },
  {
   "cell_type": "code",
   "execution_count": 56,
   "metadata": {
    "colab": {
     "base_uri": "https://localhost:8080/"
    },
    "id": "RHhC7ROugDw0",
    "outputId": "26673621-9819-4f6e-e809-cb5c44df6224"
   },
   "outputs": [
    {
     "data": {
      "text/plain": [
       "(<KerasTensor: shape=(None, 224, 224, 3) dtype=float32 (created by layer 'keras_layer_2_input')>,\n",
       " <KerasTensor: shape=(None, 3) dtype=float32 (created by layer 'dense_2')>)"
      ]
     },
     "execution_count": 56,
     "metadata": {},
     "output_type": "execute_result"
    }
   ],
   "source": [
    "model.input, model.output"
   ]
  },
  {
   "cell_type": "markdown",
   "metadata": {
    "id": "FxZ6l7P77_tb"
   },
   "source": [
    "## Train the model\n"
   ]
  },
  {
   "cell_type": "code",
   "execution_count": 57,
   "metadata": {
    "id": "ohMUoethgKpT"
   },
   "outputs": [],
   "source": [
    "model.compile(optimizer=tf.keras.optimizers.Adam(0.0001), \n",
    "              loss='categorical_crossentropy', metrics=['accuracy'])"
   ]
  },
  {
   "cell_type": "code",
   "execution_count": 58,
   "metadata": {
    "colab": {
     "base_uri": "https://localhost:8080/"
    },
    "id": "EDXvbO3L7_tb",
    "outputId": "b867d1fd-a505-4ad7-e0cd-e7915caf47fc"
   },
   "outputs": [
    {
     "name": "stdout",
     "output_type": "stream",
     "text": [
      "Epoch 1/20\n",
      "117/117 [==============================] - 32s 214ms/step - loss: 1.1490 - accuracy: 0.4832 - val_loss: 1.1698 - val_accuracy: 0.4711\n",
      "Epoch 2/20\n",
      "117/117 [==============================] - 24s 208ms/step - loss: 0.7539 - accuracy: 0.7182 - val_loss: 0.9618 - val_accuracy: 0.6083\n",
      "Epoch 3/20\n",
      "117/117 [==============================] - 24s 208ms/step - loss: 0.4274 - accuracy: 0.8660 - val_loss: 0.8833 - val_accuracy: 0.6501\n",
      "Epoch 4/20\n",
      "117/117 [==============================] - 24s 207ms/step - loss: 0.2209 - accuracy: 0.9600 - val_loss: 1.4296 - val_accuracy: 0.5955\n",
      "Epoch 5/20\n",
      "117/117 [==============================] - 24s 208ms/step - loss: 0.1382 - accuracy: 0.9871 - val_loss: 1.0550 - val_accuracy: 0.6758\n",
      "Epoch 6/20\n",
      "117/117 [==============================] - 24s 207ms/step - loss: 0.1231 - accuracy: 0.9925 - val_loss: 3.4950 - val_accuracy: 0.3892\n",
      "Epoch 7/20\n",
      "117/117 [==============================] - 24s 207ms/step - loss: 0.1314 - accuracy: 0.9842 - val_loss: 1.3763 - val_accuracy: 0.6493\n",
      "Epoch 8/20\n",
      "117/117 [==============================] - 24s 207ms/step - loss: 0.1375 - accuracy: 0.9842 - val_loss: 1.3130 - val_accuracy: 0.6308\n",
      "Epoch 9/20\n",
      "117/117 [==============================] - 24s 207ms/step - loss: 0.1565 - accuracy: 0.9753 - val_loss: 1.1583 - val_accuracy: 0.6878\n",
      "Epoch 10/20\n",
      "117/117 [==============================] - 24s 208ms/step - loss: 0.1569 - accuracy: 0.9715 - val_loss: 1.3031 - val_accuracy: 0.6645\n",
      "Epoch 11/20\n",
      "117/117 [==============================] - 24s 208ms/step - loss: 0.1478 - accuracy: 0.9742 - val_loss: 3.4914 - val_accuracy: 0.5152\n",
      "Epoch 12/20\n",
      "117/117 [==============================] - 24s 201ms/step - loss: 0.1396 - accuracy: 0.9780 - val_loss: 3.4973 - val_accuracy: 0.5104\n",
      "Epoch 13/20\n",
      "117/117 [==============================] - 24s 207ms/step - loss: 0.1342 - accuracy: 0.9801 - val_loss: 3.5057 - val_accuracy: 0.5433\n",
      "Epoch 14/20\n",
      "117/117 [==============================] - 24s 207ms/step - loss: 0.1304 - accuracy: 0.9823 - val_loss: 2.1362 - val_accuracy: 0.6059\n",
      "Epoch 15/20\n",
      "117/117 [==============================] - 24s 200ms/step - loss: 0.1118 - accuracy: 0.9890 - val_loss: 1.2820 - val_accuracy: 0.7103\n",
      "Epoch 16/20\n",
      "117/117 [==============================] - 24s 206ms/step - loss: 0.1059 - accuracy: 0.9922 - val_loss: 2.2549 - val_accuracy: 0.5754\n",
      "Epoch 17/20\n",
      "117/117 [==============================] - 24s 206ms/step - loss: 0.0975 - accuracy: 0.9960 - val_loss: 1.8727 - val_accuracy: 0.6413\n",
      "Epoch 18/20\n",
      "117/117 [==============================] - 24s 206ms/step - loss: 0.1104 - accuracy: 0.9901 - val_loss: 2.5590 - val_accuracy: 0.5530\n",
      "Epoch 19/20\n",
      "117/117 [==============================] - 24s 206ms/step - loss: 0.1306 - accuracy: 0.9842 - val_loss: 2.0564 - val_accuracy: 0.6164\n",
      "Epoch 20/20\n",
      "117/117 [==============================] - 24s 206ms/step - loss: 0.1324 - accuracy: 0.9828 - val_loss: 2.1581 - val_accuracy: 0.6019\n",
      "Time Elapsed : 8.22 mins\n"
     ]
    }
   ],
   "source": [
    "s = time.time()\n",
    "history = model.fit(train_data, epochs=20, validation_data=val_data)\n",
    "print(f\"Time Elapsed : {(time.time()-s)/60:.2f} mins\")"
   ]
  },
  {
   "cell_type": "code",
   "execution_count": 59,
   "metadata": {
    "colab": {
     "base_uri": "https://localhost:8080/",
     "height": 282
    },
    "id": "MHOslrzKlmki",
    "outputId": "0e64bc0f-b601-45fd-b447-d3cb717a34f0"
   },
   "outputs": [
    {
     "data": {
      "text/plain": [
       "[<matplotlib.lines.Line2D at 0x7f7cc00f0550>]"
      ]
     },
     "execution_count": 59,
     "metadata": {},
     "output_type": "execute_result"
    },
    {
     "data": {
      "image/png": "[encoded data removed]",
      "text/plain": [
       "<Figure size 864x288 with 2 Axes>"
      ]
     },
     "metadata": {
      "needs_background": "light"
     },
     "output_type": "display_data"
    }
   ],
   "source": [
    "plt.figure(figsize=(12, 4))\n",
    "plt.subplot(1, 2, 1)\n",
    "plt.plot(history.history[\"accuracy\"])\n",
    "plt.plot(history.history[\"val_accuracy\"])\n",
    "plt.subplot(1, 2, 2)\n",
    "plt.plot(history.history[\"loss\"])\n",
    "plt.plot(history.history[\"val_loss\"])"
   ]
  },
  {
   "cell_type": "code",
   "execution_count": 60,
   "metadata": {
    "colab": {
     "base_uri": "https://localhost:8080/",
     "height": 70
    },
    "id": "fSNjuW3eRXrT",
    "outputId": "b3c306a4-8ce0-4c3a-8276-01a3e352168e"
   },
   "outputs": [
    {
     "name": "stdout",
     "output_type": "stream",
     "text": [
      "INFO:tensorflow:Assets written to: /content/gdrive/MyDrive/saved_models/1637014810/assets\n"
     ]
    },
    {
     "name": "stderr",
     "output_type": "stream",
     "text": [
      "INFO:tensorflow:Assets written to: /content/gdrive/MyDrive/saved_models/1637014810/assets\n"
     ]
    },
    {
     "data": {
      "application/vnd.google.colaboratory.intrinsic+json": {
       "type": "string"
      },
      "text/plain": [
       "'/content/gdrive/MyDrive/saved_models/1637014810'"
      ]
     },
     "execution_count": 60,
     "metadata": {},
     "output_type": "execute_result"
    }
   ],
   "source": [
    "t = time.time()\n",
    "\n",
    "export_path = \"/content/gdrive/MyDrive/saved_models/{}\".format(int(t))\n",
    "model.save(export_path, save_format='tf')\n",
    "\n",
    "export_path"
   ]
  },
  {
   "cell_type": "code",
   "execution_count": 61,
   "metadata": {
    "id": "AFdAR2tZDrI_"
   },
   "outputs": [],
   "source": [
    "reloaded = tf.keras.models.load_model(export_path)"
   ]
  },
  {
   "cell_type": "code",
   "execution_count": 62,
   "metadata": {
    "colab": {
     "base_uri": "https://localhost:8080/"
    },
    "id": "EBjiIjqKdfIX",
    "outputId": "c41e89c2-ec5c-42e1-9bdf-b9c438317ea4"
   },
   "outputs": [
    {
     "name": "stdout",
     "output_type": "stream",
     "text": [
      "9/9 [==============================] - 2s 133ms/step - loss: 2.1886 - accuracy: 0.6460\n"
     ]
    },
    {
     "data": {
      "text/plain": [
       "[2.188607931137085, 0.6459854245185852]"
      ]
     },
     "execution_count": 62,
     "metadata": {},
     "output_type": "execute_result"
    }
   ],
   "source": [
    "reloaded.evaluate(test_data, verbose=1)"
   ]
  },
  {
   "cell_type": "code",
   "execution_count": 63,
   "metadata": {
    "colab": {
     "base_uri": "https://localhost:8080/"
    },
    "id": "XGqg9HYjgbrM",
    "outputId": "0114332d-d9df-48ac-ffc2-931dde2c1dd0"
   },
   "outputs": [
    {
     "data": {
      "text/plain": [
       "array([1, 1, 0, 1, 0, 0, 1, 0, 0, 2, 1, 1, 0, 2, 0, 1, 2, 1, 0, 0, 2, 0,\n",
       "       2, 0, 2, 1, 1, 1, 1, 2, 1, 1])"
      ]
     },
     "execution_count": 63,
     "metadata": {},
     "output_type": "execute_result"
    }
   ],
   "source": [
    "y_pred = reloaded.predict(input_batch)\n",
    "y_pred = np.argmax(y_pred, axis=-1)\n",
    "y_pred"
   ]
  },
  {
   "cell_type": "code",
   "execution_count": 64,
   "metadata": {
    "colab": {
     "base_uri": "https://localhost:8080/"
    },
    "id": "XGLYpZj7ZJ1b",
    "outputId": "a187ec36-9efb-4c9c-ca7b-837e96a1aa0b"
   },
   "outputs": [
    {
     "data": {
      "text/plain": [
       "array([1, 1, 0, 1, 0, 1, 1, 1, 2, 2, 2, 1, 0, 2, 1, 1, 2, 1, 1, 0, 2, 1,\n",
       "       2, 1, 2, 1, 1, 1, 1, 2, 1, 1])"
      ]
     },
     "execution_count": 64,
     "metadata": {},
     "output_type": "execute_result"
    }
   ],
   "source": [
    "y_true = np.argmax(label_batch, axis=-1)\n",
    "y_true"
   ]
  },
  {
   "cell_type": "code",
   "execution_count": 65,
   "metadata": {
    "colab": {
     "base_uri": "https://localhost:8080/",
     "height": 35
    },
    "id": "CKpguYH_gf1c",
    "outputId": "514898ae-a0e8-4c32-d03c-db9aeac9c450"
   },
   "outputs": [
    {
     "data": {
      "application/vnd.google.colaboratory.intrinsic+json": {
       "type": "string"
      },
      "text/plain": [
       "'75.00 %'"
      ]
     },
     "execution_count": 65,
     "metadata": {},
     "output_type": "execute_result"
    }
   ],
   "source": [
    "f\"{sum(y_pred == y_true) / len(y_pred) * 100:.2f} %\""
   ]
  },
  {
   "cell_type": "code",
   "execution_count": 66,
   "metadata": {
    "colab": {
     "base_uri": "https://localhost:8080/",
     "height": 425
    },
    "id": "0LVOF4n4nRxb",
    "outputId": "517d676c-ab22-45d3-ae80-78cf226ebcd7"
   },
   "outputs": [
    {
     "data": {
      "text/plain": [
       "Text(0.5, 1.0, \"{0: 'downs', 1: 'flats', 2: 'ups'}\")"
      ]
     },
     "execution_count": 66,
     "metadata": {},
     "output_type": "execute_result"
    },
    {
     "data": {
      "image/png": "[encoded data removed]",
      "text/plain": [
       "<Figure size 504x432 with 2 Axes>"
      ]
     },
     "metadata": {
      "needs_background": "light"
     },
     "output_type": "display_data"
    }
   ],
   "source": [
    "import seaborn as sns\n",
    "from sklearn.metrics import confusion_matrix\n",
    "\n",
    "plt.figure(figsize=(7,6))\n",
    "\n",
    "ax = sns.heatmap(confusion_matrix(y_true, y_pred), annot=True, fmt='d')\n",
    "\n",
    "ax.set_xticklabels(['downs', 'flats', 'ups'], fontsize=12)\n",
    "ax.set_yticklabels(['downs', 'flats', 'ups'], fontsize=12)\n",
    "plt.xlabel(\"predicted class\")\n",
    "plt.ylabel(\"true class\")\n",
    "plt.title(class_names)"
   ]
  },
  {
   "cell_type": "code",
   "execution_count": null,
   "metadata": {
    "id": "kD4oHEBWqD-b"
   },
   "outputs": [],
   "source": []
  }
 ],
 "metadata": {
  "accelerator": "GPU",
  "colab": {
   "collapsed_sections": [],
   "machine_shape": "hm",
   "name": "901_candle_image_classification.ipynb",
   "provenance": []
  },
  "kernelspec": {
   "display_name": "Python 3",
   "language": "python",
   "name": "python3"
  },
  "language_info": {
   "codemirror_mode": {
    "name": "ipython",
    "version": 3
   },
   "file_extension": ".py",
   "mimetype": "text/x-python",
   "name": "python",
   "nbconvert_exporter": "python",
   "pygments_lexer": "ipython3",
   "version": "3.7.10"
  }
 },
 "nbformat": 4,
 "nbformat_minor": 1
}
