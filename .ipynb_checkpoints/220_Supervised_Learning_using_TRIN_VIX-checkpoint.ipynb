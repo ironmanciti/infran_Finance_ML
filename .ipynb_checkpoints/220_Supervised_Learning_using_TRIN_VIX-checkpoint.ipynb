{
 "cells": [
  {
   "cell_type": "markdown",
   "metadata": {
    "id": "dhhDPE1Oc3PW"
   },
   "source": [
    "# 주가의 등락을 예측\n",
    "- 다양한 지표(VIX, TRIN)를 feature로 이용하여 주가 예측 "
   ]
  },
  {
   "cell_type": "code",
   "execution_count": 1,
   "metadata": {
    "id": "jxcSL1B5c_9V"
   },
   "outputs": [],
   "source": [
    "!pip install -q quandl\n",
    "!pip install -q yfinance"
   ]
  },
  {
   "cell_type": "code",
   "execution_count": 2,
   "metadata": {
    "id": "ZN0olOPfc3Pa"
   },
   "outputs": [],
   "source": [
    "import pandas as pd\n",
    "import quandl\n",
    "import matplotlib.pyplot as plt\n",
    "import numpy as np\n",
    "import math\n",
    "import datetime\n",
    "import yfinance as yf\n",
    "import tensorflow as tf\n",
    "from tensorflow.keras.models import Sequential\n",
    "from tensorflow.keras.layers import Dense, LSTM, Bidirectional\n",
    "from sklearn.model_selection import train_test_split\n",
    "from sklearn.preprocessing import StandardScaler\n",
    "from sklearn.metrics import accuracy_score\n",
    "import warnings\n",
    "warnings.filterwarnings('ignore')"
   ]
  },
  {
   "cell_type": "code",
   "execution_count": 3,
   "metadata": {
    "id": "YHQmNAlec3Pb"
   },
   "outputs": [],
   "source": [
    "QUANDL_KEY = \"U_Gp39gZutpHmaFgC65Y\"\n",
    "quandl.ApiConfig.api_key = QUANDL_KEY"
   ]
  },
  {
   "cell_type": "code",
   "execution_count": 4,
   "metadata": {
    "id": "qFEBtDlWc3Pc"
   },
   "outputs": [],
   "source": [
    "start_date = datetime.datetime(2010,1,1)\n",
    "\n",
    "#S&P500 지수\n",
    "Data1 = yf.Ticker('^GSPC').history(start=start_date)\n",
    "\n",
    "# 하락 및 상승 종목의 수\n",
    "declining = quandl.get(\"URC/NYSE_DEC\", start_date=start_date)\n",
    "advancing = quandl.get(\"URC/NYSE_ADV\", start_date=start_date)\n",
    "# 하락 및 상승 거래량\n",
    "dec_vol = quandl.get(\"URC/NYSE_DEC_VOL\", start_date=start_date)\n",
    "adv_vol = quandl.get(\"URC/NYSE_ADV_VOL\", start_date=start_date)"
   ]
  },
  {
   "cell_type": "code",
   "execution_count": 5,
   "metadata": {
    "colab": {
     "base_uri": "https://localhost:8080/",
     "height": 237
    },
    "id": "xT54LvY8c3Pc",
    "outputId": "94229688-c4b9-416f-95e9-4911fb56109c"
   },
   "outputs": [
    {
     "data": {
      "text/html": [
       "<div>\n",
       "<style scoped>\n",
       "    .dataframe tbody tr th:only-of-type {\n",
       "        vertical-align: middle;\n",
       "    }\n",
       "\n",
       "    .dataframe tbody tr th {\n",
       "        vertical-align: top;\n",
       "    }\n",
       "\n",
       "    .dataframe thead th {\n",
       "        text-align: right;\n",
       "    }\n",
       "</style>\n",
       "<table border=\"1\" class=\"dataframe\">\n",
       "  <thead>\n",
       "    <tr style=\"text-align: right;\">\n",
       "      <th></th>\n",
       "      <th>Open</th>\n",
       "      <th>High</th>\n",
       "      <th>Low</th>\n",
       "      <th>Close</th>\n",
       "      <th>Volume</th>\n",
       "      <th>Dividends</th>\n",
       "      <th>Stock Splits</th>\n",
       "    </tr>\n",
       "    <tr>\n",
       "      <th>Date</th>\n",
       "      <th></th>\n",
       "      <th></th>\n",
       "      <th></th>\n",
       "      <th></th>\n",
       "      <th></th>\n",
       "      <th></th>\n",
       "      <th></th>\n",
       "    </tr>\n",
       "  </thead>\n",
       "  <tbody>\n",
       "    <tr>\n",
       "      <th>2010-01-04</th>\n",
       "      <td>1116.560059</td>\n",
       "      <td>1133.869995</td>\n",
       "      <td>1116.560059</td>\n",
       "      <td>1132.989990</td>\n",
       "      <td>3991400000</td>\n",
       "      <td>0</td>\n",
       "      <td>0</td>\n",
       "    </tr>\n",
       "    <tr>\n",
       "      <th>2010-01-05</th>\n",
       "      <td>1132.660034</td>\n",
       "      <td>1136.630005</td>\n",
       "      <td>1129.660034</td>\n",
       "      <td>1136.520020</td>\n",
       "      <td>2491020000</td>\n",
       "      <td>0</td>\n",
       "      <td>0</td>\n",
       "    </tr>\n",
       "    <tr>\n",
       "      <th>2010-01-06</th>\n",
       "      <td>1135.709961</td>\n",
       "      <td>1139.189941</td>\n",
       "      <td>1133.949951</td>\n",
       "      <td>1137.140015</td>\n",
       "      <td>4972660000</td>\n",
       "      <td>0</td>\n",
       "      <td>0</td>\n",
       "    </tr>\n",
       "    <tr>\n",
       "      <th>2010-01-07</th>\n",
       "      <td>1136.270020</td>\n",
       "      <td>1142.459961</td>\n",
       "      <td>1131.319946</td>\n",
       "      <td>1141.689941</td>\n",
       "      <td>5270680000</td>\n",
       "      <td>0</td>\n",
       "      <td>0</td>\n",
       "    </tr>\n",
       "    <tr>\n",
       "      <th>2010-01-08</th>\n",
       "      <td>1140.520020</td>\n",
       "      <td>1145.390015</td>\n",
       "      <td>1136.219971</td>\n",
       "      <td>1144.979980</td>\n",
       "      <td>4389590000</td>\n",
       "      <td>0</td>\n",
       "      <td>0</td>\n",
       "    </tr>\n",
       "  </tbody>\n",
       "</table>\n",
       "</div>"
      ],
      "text/plain": [
       "                   Open         High  ...  Dividends  Stock Splits\n",
       "Date                                  ...                         \n",
       "2010-01-04  1116.560059  1133.869995  ...          0             0\n",
       "2010-01-05  1132.660034  1136.630005  ...          0             0\n",
       "2010-01-06  1135.709961  1139.189941  ...          0             0\n",
       "2010-01-07  1136.270020  1142.459961  ...          0             0\n",
       "2010-01-08  1140.520020  1145.390015  ...          0             0\n",
       "\n",
       "[5 rows x 7 columns]"
      ]
     },
     "execution_count": 5,
     "metadata": {},
     "output_type": "execute_result"
    }
   ],
   "source": [
    "Data1.head()"
   ]
  },
  {
   "cell_type": "code",
   "execution_count": 6,
   "metadata": {
    "colab": {
     "base_uri": "https://localhost:8080/"
    },
    "id": "ztOivS6_c3Pd",
    "outputId": "e39ad0b2-42e8-4a89-c885-5fef283c88a3"
   },
   "outputs": [
    {
     "data": {
      "text/plain": [
       "(Timestamp('2010-01-04 00:00:00'), Timestamp('2020-02-14 00:00:00'))"
      ]
     },
     "execution_count": 6,
     "metadata": {},
     "output_type": "execute_result"
    }
   ],
   "source": [
    "start = adv_vol.index[0] \n",
    "end = adv_vol.index[-1]\n",
    "start, end"
   ]
  },
  {
   "cell_type": "code",
   "execution_count": 7,
   "metadata": {
    "id": "b33WXktUc3Pe"
   },
   "outputs": [],
   "source": [
    "Data1 = Data1[start:end]"
   ]
  },
  {
   "cell_type": "markdown",
   "metadata": {
    "id": "gi2Gi2zrc3Pe"
   },
   "source": [
    "### merge all together"
   ]
  },
  {
   "cell_type": "code",
   "execution_count": 8,
   "metadata": {
    "colab": {
     "base_uri": "https://localhost:8080/",
     "height": 255
    },
    "id": "hOOH9NqKc3Pf",
    "outputId": "e10cea4b-1a7f-4be1-b634-67680f245dd0"
   },
   "outputs": [
    {
     "name": "stdout",
     "output_type": "stream",
     "text": [
      "(2547, 5)\n"
     ]
    },
    {
     "data": {
      "text/html": [
       "<div>\n",
       "<style scoped>\n",
       "    .dataframe tbody tr th:only-of-type {\n",
       "        vertical-align: middle;\n",
       "    }\n",
       "\n",
       "    .dataframe tbody tr th {\n",
       "        vertical-align: top;\n",
       "    }\n",
       "\n",
       "    .dataframe thead th {\n",
       "        text-align: right;\n",
       "    }\n",
       "</style>\n",
       "<table border=\"1\" class=\"dataframe\">\n",
       "  <thead>\n",
       "    <tr style=\"text-align: right;\">\n",
       "      <th></th>\n",
       "      <th>Close</th>\n",
       "      <th>declining</th>\n",
       "      <th>advancing</th>\n",
       "      <th>dec_vol</th>\n",
       "      <th>adv_vol</th>\n",
       "    </tr>\n",
       "    <tr>\n",
       "      <th>Date</th>\n",
       "      <th></th>\n",
       "      <th></th>\n",
       "      <th></th>\n",
       "      <th></th>\n",
       "      <th></th>\n",
       "    </tr>\n",
       "  </thead>\n",
       "  <tbody>\n",
       "    <tr>\n",
       "      <th>2010-01-04</th>\n",
       "      <td>1132.989990</td>\n",
       "      <td>601.0</td>\n",
       "      <td>2471.0</td>\n",
       "      <td>135095000.0</td>\n",
       "      <td>873860812.0</td>\n",
       "    </tr>\n",
       "    <tr>\n",
       "      <th>2010-01-05</th>\n",
       "      <td>1136.520020</td>\n",
       "      <td>1210.0</td>\n",
       "      <td>1857.0</td>\n",
       "      <td>361557000.0</td>\n",
       "      <td>824074000.0</td>\n",
       "    </tr>\n",
       "    <tr>\n",
       "      <th>2010-01-06</th>\n",
       "      <td>1137.140015</td>\n",
       "      <td>1219.0</td>\n",
       "      <td>1825.0</td>\n",
       "      <td>368212000.0</td>\n",
       "      <td>728822000.0</td>\n",
       "    </tr>\n",
       "    <tr>\n",
       "      <th>2010-01-07</th>\n",
       "      <td>1141.689941</td>\n",
       "      <td>1186.0</td>\n",
       "      <td>1882.0</td>\n",
       "      <td>375260900.0</td>\n",
       "      <td>811935214.0</td>\n",
       "    </tr>\n",
       "    <tr>\n",
       "      <th>2010-01-08</th>\n",
       "      <td>1144.979980</td>\n",
       "      <td>1183.0</td>\n",
       "      <td>1858.0</td>\n",
       "      <td>474519000.0</td>\n",
       "      <td>511977000.0</td>\n",
       "    </tr>\n",
       "  </tbody>\n",
       "</table>\n",
       "</div>"
      ],
      "text/plain": [
       "                  Close  declining  advancing      dec_vol      adv_vol\n",
       "Date                                                                   \n",
       "2010-01-04  1132.989990      601.0     2471.0  135095000.0  873860812.0\n",
       "2010-01-05  1136.520020     1210.0     1857.0  361557000.0  824074000.0\n",
       "2010-01-06  1137.140015     1219.0     1825.0  368212000.0  728822000.0\n",
       "2010-01-07  1141.689941     1186.0     1882.0  375260900.0  811935214.0\n",
       "2010-01-08  1144.979980     1183.0     1858.0  474519000.0  511977000.0"
      ]
     },
     "execution_count": 8,
     "metadata": {},
     "output_type": "execute_result"
    }
   ],
   "source": [
    "Data = pd.DataFrame()\n",
    "Data['Close'] = Data1['Close']\n",
    "Data['declining'] = declining['Numbers of Stocks'] #하락 종목 수\n",
    "Data['advancing'] = advancing['Numbers of Stocks'] #상승 종목 수\n",
    "Data['dec_vol'] = dec_vol['Numbers of Stocks']  #하락 거래량\n",
    "Data['adv_vol'] = adv_vol['Numbers of Stocks']  #상승 거래량\n",
    "\n",
    "print(Data.shape)\n",
    "Data.head()"
   ]
  },
  {
   "cell_type": "code",
   "execution_count": 9,
   "metadata": {
    "colab": {
     "base_uri": "https://localhost:8080/"
    },
    "id": "I3kr0icdc3Pg",
    "outputId": "5782c700-13bc-45cc-a856-4ec2a6040a08"
   },
   "outputs": [
    {
     "data": {
      "text/plain": [
       "Close        0\n",
       "declining    0\n",
       "advancing    0\n",
       "dec_vol      0\n",
       "adv_vol      0\n",
       "dtype: int64"
      ]
     },
     "execution_count": 9,
     "metadata": {},
     "output_type": "execute_result"
    }
   ],
   "source": [
    "Data.isnull().sum()  #NaN check"
   ]
  },
  {
   "cell_type": "markdown",
   "metadata": {
    "id": "a9DFg1W8Uci7"
   },
   "source": [
    "\bVIX - 시카고 옵션 거래소 변동성 지수"
   ]
  },
  {
   "cell_type": "code",
   "execution_count": 10,
   "metadata": {
    "colab": {
     "base_uri": "https://localhost:8080/",
     "height": 237
    },
    "id": "ftuAa7KGc3Pg",
    "outputId": "d3e4c276-b51b-4176-88d9-519974c0f754"
   },
   "outputs": [
    {
     "data": {
      "text/html": [
       "<div>\n",
       "<style scoped>\n",
       "    .dataframe tbody tr th:only-of-type {\n",
       "        vertical-align: middle;\n",
       "    }\n",
       "\n",
       "    .dataframe tbody tr th {\n",
       "        vertical-align: top;\n",
       "    }\n",
       "\n",
       "    .dataframe thead th {\n",
       "        text-align: right;\n",
       "    }\n",
       "</style>\n",
       "<table border=\"1\" class=\"dataframe\">\n",
       "  <thead>\n",
       "    <tr style=\"text-align: right;\">\n",
       "      <th></th>\n",
       "      <th>Open</th>\n",
       "      <th>High</th>\n",
       "      <th>Low</th>\n",
       "      <th>Close</th>\n",
       "      <th>Volume</th>\n",
       "      <th>Dividends</th>\n",
       "      <th>Stock Splits</th>\n",
       "    </tr>\n",
       "    <tr>\n",
       "      <th>Date</th>\n",
       "      <th></th>\n",
       "      <th></th>\n",
       "      <th></th>\n",
       "      <th></th>\n",
       "      <th></th>\n",
       "      <th></th>\n",
       "      <th></th>\n",
       "    </tr>\n",
       "  </thead>\n",
       "  <tbody>\n",
       "    <tr>\n",
       "      <th>2010-01-04</th>\n",
       "      <td>21.680000</td>\n",
       "      <td>21.680000</td>\n",
       "      <td>20.030001</td>\n",
       "      <td>20.040001</td>\n",
       "      <td>0</td>\n",
       "      <td>0</td>\n",
       "      <td>0</td>\n",
       "    </tr>\n",
       "    <tr>\n",
       "      <th>2010-01-05</th>\n",
       "      <td>20.049999</td>\n",
       "      <td>20.129999</td>\n",
       "      <td>19.340000</td>\n",
       "      <td>19.350000</td>\n",
       "      <td>0</td>\n",
       "      <td>0</td>\n",
       "      <td>0</td>\n",
       "    </tr>\n",
       "    <tr>\n",
       "      <th>2010-01-06</th>\n",
       "      <td>19.590000</td>\n",
       "      <td>19.680000</td>\n",
       "      <td>18.770000</td>\n",
       "      <td>19.160000</td>\n",
       "      <td>0</td>\n",
       "      <td>0</td>\n",
       "      <td>0</td>\n",
       "    </tr>\n",
       "    <tr>\n",
       "      <th>2010-01-07</th>\n",
       "      <td>19.680000</td>\n",
       "      <td>19.709999</td>\n",
       "      <td>18.700001</td>\n",
       "      <td>19.059999</td>\n",
       "      <td>0</td>\n",
       "      <td>0</td>\n",
       "      <td>0</td>\n",
       "    </tr>\n",
       "    <tr>\n",
       "      <th>2010-01-08</th>\n",
       "      <td>19.270000</td>\n",
       "      <td>19.270000</td>\n",
       "      <td>18.110001</td>\n",
       "      <td>18.129999</td>\n",
       "      <td>0</td>\n",
       "      <td>0</td>\n",
       "      <td>0</td>\n",
       "    </tr>\n",
       "  </tbody>\n",
       "</table>\n",
       "</div>"
      ],
      "text/plain": [
       "                 Open       High        Low  ...  Volume  Dividends  Stock Splits\n",
       "Date                                         ...                                 \n",
       "2010-01-04  21.680000  21.680000  20.030001  ...       0          0             0\n",
       "2010-01-05  20.049999  20.129999  19.340000  ...       0          0             0\n",
       "2010-01-06  19.590000  19.680000  18.770000  ...       0          0             0\n",
       "2010-01-07  19.680000  19.709999  18.700001  ...       0          0             0\n",
       "2010-01-08  19.270000  19.270000  18.110001  ...       0          0             0\n",
       "\n",
       "[5 rows x 7 columns]"
      ]
     },
     "execution_count": 10,
     "metadata": {},
     "output_type": "execute_result"
    }
   ],
   "source": [
    "Data2 = yf.Ticker('^VIX').history(start=start_date)\n",
    "Data2 = Data2[start:end]\n",
    "Data2.head()"
   ]
  },
  {
   "cell_type": "code",
   "execution_count": 11,
   "metadata": {
    "id": "tfAiTS79c3Ph"
   },
   "outputs": [],
   "source": [
    "Data['VIX'] = Data2['Close']\n",
    "\n",
    "# 상승 및 하락 주식의 수와 볼륨을 사용하여 TRIN 값을 계산\n",
    "AD_ratio = Data['advancing'] / Data['declining']\n",
    "AD_vol_ratio = Data['adv_vol'].divide(Data['dec_vol'])\n",
    "\n",
    "TRIN = AD_ratio / AD_vol_ratio\n",
    "\n",
    "Data['TRIN'] = TRIN\n",
    "Data['TRIN'] = Data['TRIN'].apply(lambda x: math.log(x))"
   ]
  },
  {
   "cell_type": "code",
   "execution_count": 12,
   "metadata": {
    "colab": {
     "base_uri": "https://localhost:8080/",
     "height": 237
    },
    "id": "w7qikg7kc3Pi",
    "outputId": "fcce4fb4-ac98-4e12-c93c-c3d97c5edd02"
   },
   "outputs": [
    {
     "data": {
      "text/html": [
       "<div>\n",
       "<style scoped>\n",
       "    .dataframe tbody tr th:only-of-type {\n",
       "        vertical-align: middle;\n",
       "    }\n",
       "\n",
       "    .dataframe tbody tr th {\n",
       "        vertical-align: top;\n",
       "    }\n",
       "\n",
       "    .dataframe thead th {\n",
       "        text-align: right;\n",
       "    }\n",
       "</style>\n",
       "<table border=\"1\" class=\"dataframe\">\n",
       "  <thead>\n",
       "    <tr style=\"text-align: right;\">\n",
       "      <th></th>\n",
       "      <th>Close</th>\n",
       "      <th>declining</th>\n",
       "      <th>advancing</th>\n",
       "      <th>dec_vol</th>\n",
       "      <th>adv_vol</th>\n",
       "      <th>VIX</th>\n",
       "      <th>TRIN</th>\n",
       "    </tr>\n",
       "    <tr>\n",
       "      <th>Date</th>\n",
       "      <th></th>\n",
       "      <th></th>\n",
       "      <th></th>\n",
       "      <th></th>\n",
       "      <th></th>\n",
       "      <th></th>\n",
       "      <th></th>\n",
       "    </tr>\n",
       "  </thead>\n",
       "  <tbody>\n",
       "    <tr>\n",
       "      <th>2010-01-04</th>\n",
       "      <td>1132.989990</td>\n",
       "      <td>601.0</td>\n",
       "      <td>2471.0</td>\n",
       "      <td>135095000.0</td>\n",
       "      <td>873860812.0</td>\n",
       "      <td>20.040001</td>\n",
       "      <td>-0.453160</td>\n",
       "    </tr>\n",
       "    <tr>\n",
       "      <th>2010-01-05</th>\n",
       "      <td>1136.520020</td>\n",
       "      <td>1210.0</td>\n",
       "      <td>1857.0</td>\n",
       "      <td>361557000.0</td>\n",
       "      <td>824074000.0</td>\n",
       "      <td>19.350000</td>\n",
       "      <td>-0.395499</td>\n",
       "    </tr>\n",
       "    <tr>\n",
       "      <th>2010-01-06</th>\n",
       "      <td>1137.140015</td>\n",
       "      <td>1219.0</td>\n",
       "      <td>1825.0</td>\n",
       "      <td>368212000.0</td>\n",
       "      <td>728822000.0</td>\n",
       "      <td>19.160000</td>\n",
       "      <td>-0.279222</td>\n",
       "    </tr>\n",
       "    <tr>\n",
       "      <th>2010-01-07</th>\n",
       "      <td>1141.689941</td>\n",
       "      <td>1186.0</td>\n",
       "      <td>1882.0</td>\n",
       "      <td>375260900.0</td>\n",
       "      <td>811935214.0</td>\n",
       "      <td>19.059999</td>\n",
       "      <td>-0.310050</td>\n",
       "    </tr>\n",
       "    <tr>\n",
       "      <th>2010-01-08</th>\n",
       "      <td>1144.979980</td>\n",
       "      <td>1183.0</td>\n",
       "      <td>1858.0</td>\n",
       "      <td>474519000.0</td>\n",
       "      <td>511977000.0</td>\n",
       "      <td>18.129999</td>\n",
       "      <td>0.375469</td>\n",
       "    </tr>\n",
       "  </tbody>\n",
       "</table>\n",
       "</div>"
      ],
      "text/plain": [
       "                  Close  declining  advancing  ...      adv_vol        VIX      TRIN\n",
       "Date                                           ...                                  \n",
       "2010-01-04  1132.989990      601.0     2471.0  ...  873860812.0  20.040001 -0.453160\n",
       "2010-01-05  1136.520020     1210.0     1857.0  ...  824074000.0  19.350000 -0.395499\n",
       "2010-01-06  1137.140015     1219.0     1825.0  ...  728822000.0  19.160000 -0.279222\n",
       "2010-01-07  1141.689941     1186.0     1882.0  ...  811935214.0  19.059999 -0.310050\n",
       "2010-01-08  1144.979980     1183.0     1858.0  ...  511977000.0  18.129999  0.375469\n",
       "\n",
       "[5 rows x 7 columns]"
      ]
     },
     "execution_count": 12,
     "metadata": {},
     "output_type": "execute_result"
    }
   ],
   "source": [
    "Data.head()"
   ]
  },
  {
   "cell_type": "code",
   "execution_count": 13,
   "metadata": {
    "colab": {
     "base_uri": "https://localhost:8080/"
    },
    "id": "U-pbej_Jc3Pi",
    "outputId": "39055de1-908d-44cc-c8cc-612900ff836d"
   },
   "outputs": [
    {
     "data": {
      "text/plain": [
       "Close        0\n",
       "declining    0\n",
       "advancing    0\n",
       "dec_vol      0\n",
       "adv_vol      0\n",
       "VIX          0\n",
       "TRIN         5\n",
       "dtype: int64"
      ]
     },
     "execution_count": 13,
     "metadata": {},
     "output_type": "execute_result"
    }
   ],
   "source": [
    "Data.isnull().sum()"
   ]
  },
  {
   "cell_type": "code",
   "execution_count": 14,
   "metadata": {
    "id": "0JWR3OUbc3Pj"
   },
   "outputs": [],
   "source": [
    "Data = Data.dropna()"
   ]
  },
  {
   "cell_type": "code",
   "execution_count": 15,
   "metadata": {
    "id": "6WpYQBD3c3Pj"
   },
   "outputs": [],
   "source": [
    "ma1 = 5\n",
    "ma2 = 15\n",
    "ma3 = 40\n",
    "\n",
    "# 이동평균 계산\n",
    "Data['Return'] = Data['Close'].pct_change()\n",
    "Data['MA'+str(ma1)] = Data['Return'].rolling(ma1).mean()\n",
    "Data['MA'+str(ma2)] = Data['Return'].rolling(ma2).mean()\n",
    "Data['MA'+str(ma3)] = Data['Return'].rolling(ma3).mean()"
   ]
  },
  {
   "cell_type": "code",
   "execution_count": 16,
   "metadata": {
    "id": "kj-C2pGvPzhU"
   },
   "outputs": [],
   "source": [
    "#예측값 - window_size 다음 날의 가격 예측\n",
    "# Data['Target'] = Data['Close'].shift(-1)"
   ]
  },
  {
   "cell_type": "code",
   "execution_count": 17,
   "metadata": {
    "colab": {
     "base_uri": "https://localhost:8080/",
     "height": 620
    },
    "id": "dVjyGkzUc3Pk",
    "outputId": "d9829a21-5cc9-48fb-9f45-6bccf3f10216",
    "scrolled": false
   },
   "outputs": [
    {
     "data": {
      "text/html": [
       "<div>\n",
       "<style scoped>\n",
       "    .dataframe tbody tr th:only-of-type {\n",
       "        vertical-align: middle;\n",
       "    }\n",
       "\n",
       "    .dataframe tbody tr th {\n",
       "        vertical-align: top;\n",
       "    }\n",
       "\n",
       "    .dataframe thead th {\n",
       "        text-align: right;\n",
       "    }\n",
       "</style>\n",
       "<table border=\"1\" class=\"dataframe\">\n",
       "  <thead>\n",
       "    <tr style=\"text-align: right;\">\n",
       "      <th></th>\n",
       "      <th>Close</th>\n",
       "      <th>declining</th>\n",
       "      <th>advancing</th>\n",
       "      <th>dec_vol</th>\n",
       "      <th>adv_vol</th>\n",
       "      <th>VIX</th>\n",
       "      <th>TRIN</th>\n",
       "      <th>Return</th>\n",
       "      <th>MA5</th>\n",
       "      <th>MA15</th>\n",
       "      <th>MA40</th>\n",
       "    </tr>\n",
       "    <tr>\n",
       "      <th>Date</th>\n",
       "      <th></th>\n",
       "      <th></th>\n",
       "      <th></th>\n",
       "      <th></th>\n",
       "      <th></th>\n",
       "      <th></th>\n",
       "      <th></th>\n",
       "      <th></th>\n",
       "      <th></th>\n",
       "      <th></th>\n",
       "      <th></th>\n",
       "    </tr>\n",
       "  </thead>\n",
       "  <tbody>\n",
       "    <tr>\n",
       "      <th>2010-01-04</th>\n",
       "      <td>1132.989990</td>\n",
       "      <td>601.0</td>\n",
       "      <td>2471.0</td>\n",
       "      <td>1.350950e+08</td>\n",
       "      <td>873860812.0</td>\n",
       "      <td>20.040001</td>\n",
       "      <td>-0.453160</td>\n",
       "      <td>NaN</td>\n",
       "      <td>NaN</td>\n",
       "      <td>NaN</td>\n",
       "      <td>NaN</td>\n",
       "    </tr>\n",
       "    <tr>\n",
       "      <th>2010-01-05</th>\n",
       "      <td>1136.520020</td>\n",
       "      <td>1210.0</td>\n",
       "      <td>1857.0</td>\n",
       "      <td>3.615570e+08</td>\n",
       "      <td>824074000.0</td>\n",
       "      <td>19.350000</td>\n",
       "      <td>-0.395499</td>\n",
       "      <td>0.003116</td>\n",
       "      <td>NaN</td>\n",
       "      <td>NaN</td>\n",
       "      <td>NaN</td>\n",
       "    </tr>\n",
       "    <tr>\n",
       "      <th>2010-01-06</th>\n",
       "      <td>1137.140015</td>\n",
       "      <td>1219.0</td>\n",
       "      <td>1825.0</td>\n",
       "      <td>3.682120e+08</td>\n",
       "      <td>728822000.0</td>\n",
       "      <td>19.160000</td>\n",
       "      <td>-0.279222</td>\n",
       "      <td>0.000546</td>\n",
       "      <td>NaN</td>\n",
       "      <td>NaN</td>\n",
       "      <td>NaN</td>\n",
       "    </tr>\n",
       "    <tr>\n",
       "      <th>2010-01-07</th>\n",
       "      <td>1141.689941</td>\n",
       "      <td>1186.0</td>\n",
       "      <td>1882.0</td>\n",
       "      <td>3.752609e+08</td>\n",
       "      <td>811935214.0</td>\n",
       "      <td>19.059999</td>\n",
       "      <td>-0.310050</td>\n",
       "      <td>0.004001</td>\n",
       "      <td>NaN</td>\n",
       "      <td>NaN</td>\n",
       "      <td>NaN</td>\n",
       "    </tr>\n",
       "    <tr>\n",
       "      <th>2010-01-08</th>\n",
       "      <td>1144.979980</td>\n",
       "      <td>1183.0</td>\n",
       "      <td>1858.0</td>\n",
       "      <td>4.745190e+08</td>\n",
       "      <td>511977000.0</td>\n",
       "      <td>18.129999</td>\n",
       "      <td>0.375469</td>\n",
       "      <td>0.002882</td>\n",
       "      <td>NaN</td>\n",
       "      <td>NaN</td>\n",
       "      <td>NaN</td>\n",
       "    </tr>\n",
       "    <tr>\n",
       "      <th>2010-01-11</th>\n",
       "      <td>1146.979980</td>\n",
       "      <td>1261.0</td>\n",
       "      <td>1786.0</td>\n",
       "      <td>3.797370e+08</td>\n",
       "      <td>572499000.0</td>\n",
       "      <td>17.549999</td>\n",
       "      <td>-0.062459</td>\n",
       "      <td>0.001747</td>\n",
       "      <td>0.002458</td>\n",
       "      <td>NaN</td>\n",
       "      <td>NaN</td>\n",
       "    </tr>\n",
       "    <tr>\n",
       "      <th>2010-01-12</th>\n",
       "      <td>1136.219971</td>\n",
       "      <td>2203.0</td>\n",
       "      <td>861.0</td>\n",
       "      <td>8.887521e+08</td>\n",
       "      <td>199613000.0</td>\n",
       "      <td>18.250000</td>\n",
       "      <td>0.553957</td>\n",
       "      <td>-0.009381</td>\n",
       "      <td>-0.000041</td>\n",
       "      <td>NaN</td>\n",
       "      <td>NaN</td>\n",
       "    </tr>\n",
       "    <tr>\n",
       "      <th>2010-01-13</th>\n",
       "      <td>1145.680054</td>\n",
       "      <td>824.0</td>\n",
       "      <td>2234.0</td>\n",
       "      <td>2.563597e+08</td>\n",
       "      <td>706026000.0</td>\n",
       "      <td>17.850000</td>\n",
       "      <td>-0.015692</td>\n",
       "      <td>0.008326</td>\n",
       "      <td>0.001515</td>\n",
       "      <td>NaN</td>\n",
       "      <td>NaN</td>\n",
       "    </tr>\n",
       "    <tr>\n",
       "      <th>2010-01-14</th>\n",
       "      <td>1148.459961</td>\n",
       "      <td>1300.0</td>\n",
       "      <td>1723.0</td>\n",
       "      <td>3.900672e+08</td>\n",
       "      <td>486215000.0</td>\n",
       "      <td>17.629999</td>\n",
       "      <td>0.061371</td>\n",
       "      <td>0.002426</td>\n",
       "      <td>0.001200</td>\n",
       "      <td>NaN</td>\n",
       "      <td>NaN</td>\n",
       "    </tr>\n",
       "    <tr>\n",
       "      <th>2010-01-15</th>\n",
       "      <td>1136.030029</td>\n",
       "      <td>2134.0</td>\n",
       "      <td>936.0</td>\n",
       "      <td>1.153806e+09</td>\n",
       "      <td>246422905.0</td>\n",
       "      <td>17.910000</td>\n",
       "      <td>0.719634</td>\n",
       "      <td>-0.010823</td>\n",
       "      <td>-0.001541</td>\n",
       "      <td>NaN</td>\n",
       "      <td>NaN</td>\n",
       "    </tr>\n",
       "  </tbody>\n",
       "</table>\n",
       "</div>"
      ],
      "text/plain": [
       "                  Close  declining  advancing  ...       MA5  MA15  MA40\n",
       "Date                                           ...                      \n",
       "2010-01-04  1132.989990      601.0     2471.0  ...       NaN   NaN   NaN\n",
       "2010-01-05  1136.520020     1210.0     1857.0  ...       NaN   NaN   NaN\n",
       "2010-01-06  1137.140015     1219.0     1825.0  ...       NaN   NaN   NaN\n",
       "2010-01-07  1141.689941     1186.0     1882.0  ...       NaN   NaN   NaN\n",
       "2010-01-08  1144.979980     1183.0     1858.0  ...       NaN   NaN   NaN\n",
       "2010-01-11  1146.979980     1261.0     1786.0  ...  0.002458   NaN   NaN\n",
       "2010-01-12  1136.219971     2203.0      861.0  ... -0.000041   NaN   NaN\n",
       "2010-01-13  1145.680054      824.0     2234.0  ...  0.001515   NaN   NaN\n",
       "2010-01-14  1148.459961     1300.0     1723.0  ...  0.001200   NaN   NaN\n",
       "2010-01-15  1136.030029     2134.0      936.0  ... -0.001541   NaN   NaN\n",
       "\n",
       "[10 rows x 11 columns]"
      ]
     },
     "execution_count": 17,
     "metadata": {},
     "output_type": "execute_result"
    }
   ],
   "source": [
    "Data.head(10)"
   ]
  },
  {
   "cell_type": "code",
   "execution_count": 18,
   "metadata": {
    "id": "niqvl8FIc3Pl"
   },
   "outputs": [],
   "source": [
    "ml_data = Data.dropna()"
   ]
  },
  {
   "cell_type": "code",
   "execution_count": 19,
   "metadata": {
    "colab": {
     "base_uri": "https://localhost:8080/"
    },
    "id": "Ydk418gFmmI3",
    "outputId": "56decf6f-bc05-4a5e-c173-76fc4571e199"
   },
   "outputs": [
    {
     "data": {
      "text/plain": [
       "500"
      ]
     },
     "execution_count": 19,
     "metadata": {},
     "output_type": "execute_result"
    }
   ],
   "source": [
    "val_len = round(len(ml_data) * 0.2)\n",
    "val_len"
   ]
  },
  {
   "cell_type": "code",
   "execution_count": 20,
   "metadata": {
    "colab": {
     "base_uri": "https://localhost:8080/",
     "height": 325
    },
    "id": "euYxqoLC8jrm",
    "outputId": "47739083-1a08-479e-df1c-0fa64dbbd33f"
   },
   "outputs": [
    {
     "data": {
      "text/html": [
       "<div>\n",
       "<style scoped>\n",
       "    .dataframe tbody tr th:only-of-type {\n",
       "        vertical-align: middle;\n",
       "    }\n",
       "\n",
       "    .dataframe tbody tr th {\n",
       "        vertical-align: top;\n",
       "    }\n",
       "\n",
       "    .dataframe thead th {\n",
       "        text-align: right;\n",
       "    }\n",
       "</style>\n",
       "<table border=\"1\" class=\"dataframe\">\n",
       "  <thead>\n",
       "    <tr style=\"text-align: right;\">\n",
       "      <th></th>\n",
       "      <th>Close</th>\n",
       "      <th>declining</th>\n",
       "      <th>advancing</th>\n",
       "      <th>dec_vol</th>\n",
       "      <th>adv_vol</th>\n",
       "      <th>VIX</th>\n",
       "      <th>TRIN</th>\n",
       "      <th>Return</th>\n",
       "      <th>MA5</th>\n",
       "      <th>MA15</th>\n",
       "      <th>MA40</th>\n",
       "    </tr>\n",
       "    <tr>\n",
       "      <th>Date</th>\n",
       "      <th></th>\n",
       "      <th></th>\n",
       "      <th></th>\n",
       "      <th></th>\n",
       "      <th></th>\n",
       "      <th></th>\n",
       "      <th></th>\n",
       "      <th></th>\n",
       "      <th></th>\n",
       "      <th></th>\n",
       "      <th></th>\n",
       "    </tr>\n",
       "  </thead>\n",
       "  <tbody>\n",
       "    <tr>\n",
       "      <th>2010-03-03</th>\n",
       "      <td>0.333759</td>\n",
       "      <td>0.454486</td>\n",
       "      <td>0.551197</td>\n",
       "      <td>0.062899</td>\n",
       "      <td>0.104934</td>\n",
       "      <td>0.392292</td>\n",
       "      <td>-0.013086</td>\n",
       "      <td>0.008654</td>\n",
       "      <td>0.144677</td>\n",
       "      <td>0.332295</td>\n",
       "      <td>-0.059905</td>\n",
       "    </tr>\n",
       "    <tr>\n",
       "      <th>2010-03-04</th>\n",
       "      <td>0.335006</td>\n",
       "      <td>0.410923</td>\n",
       "      <td>0.598404</td>\n",
       "      <td>0.055846</td>\n",
       "      <td>0.124795</td>\n",
       "      <td>0.390000</td>\n",
       "      <td>-0.044648</td>\n",
       "      <td>0.075334</td>\n",
       "      <td>0.213422</td>\n",
       "      <td>0.376837</td>\n",
       "      <td>-0.056362</td>\n",
       "    </tr>\n",
       "    <tr>\n",
       "      <th>2010-03-05</th>\n",
       "      <td>0.339698</td>\n",
       "      <td>0.158648</td>\n",
       "      <td>0.863364</td>\n",
       "      <td>0.011572</td>\n",
       "      <td>0.205014</td>\n",
       "      <td>0.362917</td>\n",
       "      <td>-0.261777</td>\n",
       "      <td>0.282445</td>\n",
       "      <td>0.362349</td>\n",
       "      <td>0.409129</td>\n",
       "      <td>0.020505</td>\n",
       "    </tr>\n",
       "    <tr>\n",
       "      <th>2010-03-08</th>\n",
       "      <td>0.339639</td>\n",
       "      <td>0.421977</td>\n",
       "      <td>0.593750</td>\n",
       "      <td>0.061929</td>\n",
       "      <td>0.106937</td>\n",
       "      <td>0.370625</td>\n",
       "      <td>0.019864</td>\n",
       "      <td>-0.003541</td>\n",
       "      <td>0.240224</td>\n",
       "      <td>0.428300</td>\n",
       "      <td>-0.003345</td>\n",
       "    </tr>\n",
       "    <tr>\n",
       "      <th>2010-03-09</th>\n",
       "      <td>0.340221</td>\n",
       "      <td>0.431730</td>\n",
       "      <td>0.581782</td>\n",
       "      <td>0.065108</td>\n",
       "      <td>0.147045</td>\n",
       "      <td>0.373333</td>\n",
       "      <td>-0.070105</td>\n",
       "      <td>0.034535</td>\n",
       "      <td>0.232925</td>\n",
       "      <td>0.306748</td>\n",
       "      <td>-0.010020</td>\n",
       "    </tr>\n",
       "  </tbody>\n",
       "</table>\n",
       "</div>"
      ],
      "text/plain": [
       "               Close  declining  advancing  ...       MA5      MA15      MA40\n",
       "Date                                        ...                              \n",
       "2010-03-03  0.333759   0.454486   0.551197  ...  0.144677  0.332295 -0.059905\n",
       "2010-03-04  0.335006   0.410923   0.598404  ...  0.213422  0.376837 -0.056362\n",
       "2010-03-05  0.339698   0.158648   0.863364  ...  0.362349  0.409129  0.020505\n",
       "2010-03-08  0.339639   0.421977   0.593750  ...  0.240224  0.428300 -0.003345\n",
       "2010-03-09  0.340221   0.431730   0.581782  ...  0.232925  0.306748 -0.010020\n",
       "\n",
       "[5 rows x 11 columns]"
      ]
     },
     "execution_count": 20,
     "metadata": {},
     "output_type": "execute_result"
    }
   ],
   "source": [
    "# scaling\n",
    "ml_data = ml_data.apply(lambda x: x/x.max())\n",
    "ml_data.head()"
   ]
  },
  {
   "cell_type": "code",
   "execution_count": 21,
   "metadata": {
    "colab": {
     "base_uri": "https://localhost:8080/"
    },
    "id": "FlW2Ou_dc3Pl",
    "outputId": "69f0f1b6-bd9d-4352-9723-d5f8fc1b443b"
   },
   "outputs": [
    {
     "name": "stdout",
     "output_type": "stream",
     "text": [
      "(2002, 11)\n",
      "(500, 11)\n"
     ]
    }
   ],
   "source": [
    "ml_train = ml_data[:-val_len]\n",
    "ml_test = ml_data[-val_len:]\n",
    "\n",
    "print(ml_train.shape)\n",
    "print(ml_test.shape)"
   ]
  },
  {
   "cell_type": "code",
   "execution_count": 22,
   "metadata": {
    "id": "28wyIUgqc3Pl"
   },
   "outputs": [],
   "source": [
    "batch_size = 1\n",
    "window_size = 3\n",
    "\n",
    "def windowed_dataset(series, window_size, batch_size):\n",
    "    ds = tf.data.Dataset.from_tensor_slices(series)\n",
    "    ds = ds.window(window_size+1, shift=1, drop_remainder=True)\n",
    "    ds = ds.flat_map(lambda w: w.batch(window_size+1))\n",
    "    ds = ds.shuffle(10000).map(lambda w: (w[:-1], w[-1,0]))\n",
    "    ds = ds.batch(batch_size).prefetch(1)\n",
    "    return ds"
   ]
  },
  {
   "cell_type": "code",
   "execution_count": 23,
   "metadata": {
    "colab": {
     "base_uri": "https://localhost:8080/"
    },
    "id": "vQKZJZJyc3Pm",
    "outputId": "62e6ae50-1158-486f-b294-83ab3bb109bd"
   },
   "outputs": [
    {
     "data": {
      "text/plain": [
       "<PrefetchDataset shapes: ((None, None, 11), (None,)), types: (tf.float64, tf.float64)>"
      ]
     },
     "execution_count": 23,
     "metadata": {},
     "output_type": "execute_result"
    }
   ],
   "source": [
    "train_ds = windowed_dataset(ml_train, window_size, batch_size)\n",
    "train_ds"
   ]
  },
  {
   "cell_type": "code",
   "execution_count": 24,
   "metadata": {
    "colab": {
     "base_uri": "https://localhost:8080/"
    },
    "id": "ZpUAwq-Mknce",
    "outputId": "76c0b12a-db33-4b81-8fe7-48b36ff4a3a7"
   },
   "outputs": [
    {
     "data": {
      "text/plain": [
       "<PrefetchDataset shapes: ((None, None, 11), (None,)), types: (tf.float64, tf.float64)>"
      ]
     },
     "execution_count": 24,
     "metadata": {},
     "output_type": "execute_result"
    }
   ],
   "source": [
    "test_ds = windowed_dataset(ml_test, window_size, batch_size)\n",
    "test_ds"
   ]
  },
  {
   "cell_type": "code",
   "execution_count": 25,
   "metadata": {
    "id": "sx_pJ-a9b1r9"
   },
   "outputs": [],
   "source": [
    "# for input, target in test_ds:\n",
    "#     print(target)\n",
    "#     print(input)\n",
    "#     break"
   ]
  },
  {
   "cell_type": "code",
   "execution_count": 26,
   "metadata": {
    "id": "q0Aoojawc3Pm"
   },
   "outputs": [],
   "source": [
    "model = Sequential([\n",
    "    LSTM(16, input_shape=[window_size, 11]),\n",
    "    Dense(32, activation='relu'),\n",
    "    Dense(1)\n",
    "])"
   ]
  },
  {
   "cell_type": "code",
   "execution_count": 27,
   "metadata": {
    "colab": {
     "base_uri": "https://localhost:8080/"
    },
    "id": "jxyVcbmkc3Pm",
    "outputId": "0b4bb0d1-679e-4bf9-aca2-982bec2caea3",
    "scrolled": false
   },
   "outputs": [
    {
     "name": "stdout",
     "output_type": "stream",
     "text": [
      "Model: \"sequential\"\n",
      "_________________________________________________________________\n",
      " Layer (type)                Output Shape              Param #   \n",
      "=================================================================\n",
      " lstm (LSTM)                 (None, 16)                1792      \n",
      "                                                                 \n",
      " dense (Dense)               (None, 32)                544       \n",
      "                                                                 \n",
      " dense_1 (Dense)             (None, 1)                 33        \n",
      "                                                                 \n",
      "=================================================================\n",
      "Total params: 2,369\n",
      "Trainable params: 2,369\n",
      "Non-trainable params: 0\n",
      "_________________________________________________________________\n"
     ]
    }
   ],
   "source": [
    "model.summary()"
   ]
  },
  {
   "cell_type": "code",
   "execution_count": 28,
   "metadata": {
    "id": "EdGZ1iwnc3Pm"
   },
   "outputs": [],
   "source": [
    "model.compile(loss='mse', optimizer='adam', metrics=['mae'])"
   ]
  },
  {
   "cell_type": "code",
   "execution_count": null,
   "metadata": {
    "colab": {
     "base_uri": "https://localhost:8080/"
    },
    "id": "pgIB-8C1c3Pm",
    "outputId": "e9e139a2-bf6c-43b0-99c8-2d9b2909f95d"
   },
   "outputs": [],
   "source": [
    "history = model.fit(train_ds, epochs=30, verbose=1, validation_data=test_ds)"
   ]
  },
  {
   "cell_type": "code",
   "execution_count": null,
   "metadata": {
    "colab": {
     "base_uri": "https://localhost:8080/"
    },
    "id": "Pau6z_mwc3Pn",
    "outputId": "9c7fdd94-3562-4094-c2e6-ae1e620484ac"
   },
   "outputs": [],
   "source": [
    "prediction = model.predict(test_ds)\n",
    "prediction"
   ]
  },
  {
   "cell_type": "code",
   "execution_count": 31,
   "metadata": {
    "colab": {
     "base_uri": "https://localhost:8080/"
    },
    "id": "LNSTnTsC-sFm",
    "outputId": "feb7fec3-fd70-42ad-8e30-1af4fd732275"
   },
   "outputs": [
    {
     "data": {
      "text/plain": [
       "(497, 1)"
      ]
     },
     "execution_count": 31,
     "metadata": {},
     "output_type": "execute_result"
    }
   ],
   "source": [
    "prediction.shape"
   ]
  },
  {
   "cell_type": "code",
   "execution_count": 32,
   "metadata": {
    "colab": {
     "base_uri": "https://localhost:8080/"
    },
    "id": "5gc2N7xn-3sg",
    "outputId": "28ad6844-fe64-45b5-c639-7d9192532ef7"
   },
   "outputs": [
    {
     "data": {
      "text/plain": [
       "(497,)"
      ]
     },
     "execution_count": 32,
     "metadata": {},
     "output_type": "execute_result"
    }
   ],
   "source": [
    "ml_test.iloc[window_size:, 0].shape"
   ]
  },
  {
   "cell_type": "code",
   "execution_count": null,
   "metadata": {
    "colab": {
     "base_uri": "https://localhost:8080/"
    },
    "id": "phsIfI4Vc3Po",
    "outputId": "45c7a9a5-77ff-4146-b529-72c665a632ec"
   },
   "outputs": [],
   "source": [
    "original = ml_test.iloc[window_size:, 0].values\n",
    "original"
   ]
  },
  {
   "cell_type": "code",
   "execution_count": 34,
   "metadata": {
    "colab": {
     "base_uri": "https://localhost:8080/"
    },
    "id": "MB1JF31zc3Po",
    "outputId": "ea5e00f2-0f7d-4a44-f25b-79ed06ee8d44"
   },
   "outputs": [
    {
     "data": {
      "text/plain": [
       "-1.0612136345894227"
      ]
     },
     "execution_count": 34,
     "metadata": {},
     "output_type": "execute_result"
    }
   ],
   "source": [
    "from sklearn.metrics import r2_score\n",
    "r2_score(original, prediction)"
   ]
  },
  {
   "cell_type": "code",
   "execution_count": 35,
   "metadata": {
    "colab": {
     "base_uri": "https://localhost:8080/",
     "height": 391
    },
    "id": "tIKXSBvGRIw9",
    "outputId": "04d6eed4-7f5c-48ab-ed1d-f00c183736f1"
   },
   "outputs": [
    {
     "data": {
      "text/plain": [
       "<matplotlib.legend.Legend at 0x7faae0fc9550>"
      ]
     },
     "execution_count": 35,
     "metadata": {},
     "output_type": "execute_result"
    },
    {
     "data": {
      "image/png": "[encoded data removed]",
      "text/plain": [
       "<Figure size 576x432 with 1 Axes>"
      ]
     },
     "metadata": {
      "needs_background": "light"
     },
     "output_type": "display_data"
    }
   ],
   "source": [
    "plt.figure(figsize=(8, 6))\n",
    "plt.plot(prediction, label=\"Predicted Price\")\n",
    "plt.plot(original, label=\"True Price\")\n",
    "plt.legend()"
   ]
  },
  {
   "cell_type": "code",
   "execution_count": 36,
   "metadata": {
    "colab": {
     "base_uri": "https://localhost:8080/"
    },
    "id": "cppJ9HdyRSUx",
    "outputId": "9756b2dd-b57b-4577-ebd7-5ce062cc41a9"
   },
   "outputs": [
    {
     "data": {
      "text/plain": [
       "array([[0.82571566],\n",
       "       [0.7674352 ],\n",
       "       [0.8242173 ],\n",
       "       [0.7876389 ],\n",
       "       [0.9165752 ],\n",
       "       [0.8567792 ],\n",
       "       [0.8580025 ],\n",
       "       [0.91659075],\n",
       "       [0.9566402 ],\n",
       "       [0.82914114]], dtype=float32)"
      ]
     },
     "execution_count": 36,
     "metadata": {},
     "output_type": "execute_result"
    }
   ],
   "source": [
    "prediction[:10]"
   ]
  },
  {
   "cell_type": "code",
   "execution_count": 37,
   "metadata": {
    "colab": {
     "base_uri": "https://localhost:8080/"
    },
    "id": "H27AWGDlejc5",
    "outputId": "e98b8140-3fd6-4d67-944c-7a47a5346389"
   },
   "outputs": [
    {
     "data": {
      "text/plain": [
       "array([0.81507952, 0.81031832, 0.8058644 , 0.80664895, 0.81957823,\n",
       "       0.82921402, 0.81867729, 0.80959342, 0.79880607, 0.8028573 ])"
      ]
     },
     "execution_count": 37,
     "metadata": {},
     "output_type": "execute_result"
    }
   ],
   "source": [
    "original[:10]"
   ]
  },
  {
   "cell_type": "code",
   "execution_count": 37,
   "metadata": {
    "id": "f2ZH1HveeoF2"
   },
   "outputs": [],
   "source": []
  }
 ],
 "metadata": {
  "accelerator": "GPU",
  "colab": {
   "collapsed_sections": [],
   "name": "180_Supervised_Learning_using_TRIN_VIX.ipynb",
   "provenance": []
  },
  "kernelspec": {
   "display_name": "Python 3",
   "language": "python",
   "name": "python3"
  },
  "language_info": {
   "codemirror_mode": {
    "name": "ipython",
    "version": 3
   },
   "file_extension": ".py",
   "mimetype": "text/x-python",
   "name": "python",
   "nbconvert_exporter": "python",
   "pygments_lexer": "ipython3",
   "version": "3.7.10"
  }
 },
 "nbformat": 4,
 "nbformat_minor": 1
}
