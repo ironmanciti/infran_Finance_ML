{
 "cells": [
  {
   "cell_type": "markdown",
   "metadata": {},
   "source": [
    "# 종목코드 가져오기 (S&P500, KOSPI200)\n",
    "\n",
    "- beautifulsoup4 를 이용하여 scraping\n",
    "\n",
    "\n",
    "- 재사용을 위해 ticker list object 를 pickle file 로 저장"
   ]
  },
  {
   "cell_type": "code",
   "execution_count": 1,
   "metadata": {},
   "outputs": [],
   "source": [
    "import pandas as pd\n",
    "import bs4 as bs\n",
    "import requests\n",
    "import pickle\n",
    "import yfinance as yf\n",
    "import FinanceDataReader as fdr\n",
    "import re"
   ]
  },
  {
   "cell_type": "markdown",
   "metadata": {},
   "source": [
    "## S&P500 ticker 가져오기"
   ]
  },
  {
   "cell_type": "code",
   "execution_count": 2,
   "metadata": {},
   "outputs": [],
   "source": [
    "resp = requests.get(\"https://en.wikipedia.org/wiki/List_of_S%26P_500_companies\")\n",
    "soup = bs.BeautifulSoup(resp.text, 'lxml')"
   ]
  },
  {
   "cell_type": "code",
   "execution_count": 3,
   "metadata": {},
   "outputs": [],
   "source": [
    "table = soup.find('table', {'class': 'wikitable sortable'})\n",
    "\n",
    "tickers = []\n",
    "for row in table.findAll('tr')[1:]:\n",
    "    ticker = row.findAll('td')[0].text.strip()\n",
    "    name = row.findAll('td')[1].text.strip()\n",
    "    tickers.append((ticker, name))\n",
    "\n",
    "with open('./data/sp500tickers.pickle', 'wb') as f:\n",
    "    pickle.dump(tickers, f)"
   ]
  },
  {
   "cell_type": "markdown",
   "metadata": {},
   "source": [
    "**저장한 ticker list load**"
   ]
  },
  {
   "cell_type": "code",
   "execution_count": 4,
   "metadata": {},
   "outputs": [],
   "source": [
    "with open('./data/sp500tickers.pickle', 'rb') as f:\n",
    "    tickers = pickle.load(f)"
   ]
  },
  {
   "cell_type": "code",
   "execution_count": 5,
   "metadata": {},
   "outputs": [
    {
     "data": {
      "text/plain": [
       "yfinance.Ticker object <MMM>"
      ]
     },
     "execution_count": 5,
     "metadata": {},
     "output_type": "execute_result"
    }
   ],
   "source": [
    "df = yf.Ticker(tickers[0][0])\n",
    "df"
   ]
  },
  {
   "cell_type": "markdown",
   "metadata": {},
   "source": [
    "## Nasdaq-100 ticker 가져오기"
   ]
  },
  {
   "cell_type": "code",
   "execution_count": 6,
   "metadata": {},
   "outputs": [],
   "source": [
    "resp = requests.get(\"https://en.wikipedia.org/wiki/NASDAQ-100#External_links\")\n",
    "soup = bs.BeautifulSoup(resp.text, 'lxml')"
   ]
  },
  {
   "cell_type": "code",
   "execution_count": 7,
   "metadata": {},
   "outputs": [],
   "source": [
    "table = soup.find('table', {'id': 'constituents'})\n",
    "\n",
    "tickers = []\n",
    "for row in table.findAll('tr')[1:]:\n",
    "    ticker = row.findAll('td')[1].text.strip()\n",
    "    name = row.findAll('td')[0].text.strip()\n",
    "    tickers.append((ticker, name))\n",
    "\n",
    "with open('./data/nasdaq100tickers.pickle', 'wb') as f:\n",
    "    pickle.dump(tickers, f)"
   ]
  },
  {
   "cell_type": "code",
   "execution_count": 8,
   "metadata": {},
   "outputs": [
    {
     "data": {
      "text/plain": [
       "yfinance.Ticker object <ATVI>"
      ]
     },
     "execution_count": 8,
     "metadata": {},
     "output_type": "execute_result"
    }
   ],
   "source": [
    "with open('./data/nasdaq100tickers.pickle', 'rb') as f:\n",
    "    tickers = pickle.load(f)\n",
    "    \n",
    "df = yf.Ticker(tickers[0][0])\n",
    "df"
   ]
  },
  {
   "cell_type": "markdown",
   "metadata": {},
   "source": [
    "## naver 에서 KOSPI200 종목코드 가져오기"
   ]
  },
  {
   "cell_type": "code",
   "execution_count": 9,
   "metadata": {},
   "outputs": [],
   "source": [
    "BASE_URL = \"https://finance.naver.com/sise/entryJongmok.nhn?&page=\"\n",
    "tickers = []\n",
    "\n",
    "for i in range(21):\n",
    "    url = BASE_URL + str(i)\n",
    "    resp = requests.get(url)\n",
    "    soup = bs.BeautifulSoup(resp.text, 'lxml')\n",
    "    items = soup.findAll('td', {'class': 'ctg'})\n",
    "    for item in items:\n",
    "        txt = item.a.get('href')\n",
    "        k = re.search('[\\d]+', txt)\n",
    "        if k:\n",
    "            code = k.group()\n",
    "            name = item.text\n",
    "            tickers.append((code, name))\n",
    "            \n",
    "with open('./data/kospi200tickers.pickle', 'wb') as f:\n",
    "    pickle.dump(tickers, f)"
   ]
  },
  {
   "cell_type": "code",
   "execution_count": 59,
   "metadata": {},
   "outputs": [
    {
     "data": {
      "text/plain": [
       "('079430', '현대리바트')"
      ]
     },
     "execution_count": 59,
     "metadata": {},
     "output_type": "execute_result"
    }
   ],
   "source": [
    "tickers[-1]"
   ]
  },
  {
   "cell_type": "markdown",
   "metadata": {},
   "source": [
    "## FinanceDataReader 에서 종목 코드 가져오기\n",
    "```\n",
    "종목 전체 - KRX\n",
    "KOSPI - KOSPI\n",
    "KOSDAQ - KOSDAQ\n",
    "KONEX - KONEX\n",
    "\n",
    "나스닥 - NASDAQ \n",
    "뉴욕증권거래소 - NYSE\n",
    "S&P 500 - SP500\n",
    "```"
   ]
  },
  {
   "cell_type": "code",
   "execution_count": 8,
   "metadata": {},
   "outputs": [
    {
     "name": "stderr",
     "output_type": "stream",
     "text": [
      "100%|██████████| 3434/3434 [00:04<00:00, 711.73it/s]\n"
     ]
    },
    {
     "data": {
      "text/html": [
       "<div>\n",
       "<style scoped>\n",
       "    .dataframe tbody tr th:only-of-type {\n",
       "        vertical-align: middle;\n",
       "    }\n",
       "\n",
       "    .dataframe tbody tr th {\n",
       "        vertical-align: top;\n",
       "    }\n",
       "\n",
       "    .dataframe thead th {\n",
       "        text-align: right;\n",
       "    }\n",
       "</style>\n",
       "<table border=\"1\" class=\"dataframe\">\n",
       "  <thead>\n",
       "    <tr style=\"text-align: right;\">\n",
       "      <th></th>\n",
       "      <th>Symbol</th>\n",
       "      <th>Name</th>\n",
       "      <th>Industry</th>\n",
       "      <th>IndustryCode</th>\n",
       "    </tr>\n",
       "  </thead>\n",
       "  <tbody>\n",
       "    <tr>\n",
       "      <th>0</th>\n",
       "      <td>TSM</td>\n",
       "      <td>Taiwan Semiconductor Manufacturing Co Ltd ADR</td>\n",
       "      <td>반도체 및 반도체 장비</td>\n",
       "      <td>571010</td>\n",
       "    </tr>\n",
       "    <tr>\n",
       "      <th>1</th>\n",
       "      <td>JPM</td>\n",
       "      <td>JPMorgan Chase &amp; Co</td>\n",
       "      <td>은행</td>\n",
       "      <td>551010</td>\n",
       "    </tr>\n",
       "    <tr>\n",
       "      <th>2</th>\n",
       "      <td>JNJ</td>\n",
       "      <td>Johnson &amp; Johnson</td>\n",
       "      <td>제약</td>\n",
       "      <td>562010</td>\n",
       "    </tr>\n",
       "    <tr>\n",
       "      <th>3</th>\n",
       "      <td>V</td>\n",
       "      <td>Visa Inc Class A</td>\n",
       "      <td>소프트웨어 및 IT서비스</td>\n",
       "      <td>572010</td>\n",
       "    </tr>\n",
       "    <tr>\n",
       "      <th>4</th>\n",
       "      <td>UNH</td>\n",
       "      <td>UnitedHealth Group Inc</td>\n",
       "      <td>헬스케어 업체 및 서비스</td>\n",
       "      <td>561020</td>\n",
       "    </tr>\n",
       "  </tbody>\n",
       "</table>\n",
       "</div>"
      ],
      "text/plain": [
       "  Symbol                                           Name       Industry  \\\n",
       "0    TSM  Taiwan Semiconductor Manufacturing Co Ltd ADR   반도체 및 반도체 장비   \n",
       "1    JPM                            JPMorgan Chase & Co             은행   \n",
       "2    JNJ                              Johnson & Johnson             제약   \n",
       "3      V                               Visa Inc Class A  소프트웨어 및 IT서비스   \n",
       "4    UNH                         UnitedHealth Group Inc  헬스케어 업체 및 서비스   \n",
       "\n",
       "  IndustryCode  \n",
       "0       571010  \n",
       "1       551010  \n",
       "2       562010  \n",
       "3       572010  \n",
       "4       561020  "
      ]
     },
     "execution_count": 8,
     "metadata": {},
     "output_type": "execute_result"
    }
   ],
   "source": [
    "stocks = fdr.StockListing('NYSE')\n",
    "stocks.head()"
   ]
  },
  {
   "cell_type": "code",
   "execution_count": null,
   "metadata": {},
   "outputs": [],
   "source": []
  }
 ],
 "metadata": {
  "kernelspec": {
   "display_name": "Python 3",
   "language": "python",
   "name": "python3"
  },
  "language_info": {
   "codemirror_mode": {
    "name": "ipython",
    "version": 3
   },
   "file_extension": ".py",
   "mimetype": "text/x-python",
   "name": "python",
   "nbconvert_exporter": "python",
   "pygments_lexer": "ipython3",
   "version": "3.7.10"
  }
 },
 "nbformat": 4,
 "nbformat_minor": 2
}
