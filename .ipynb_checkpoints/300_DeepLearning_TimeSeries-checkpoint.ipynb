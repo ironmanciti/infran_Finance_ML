{
 "cells": [
  {
   "cell_type": "markdown",
   "metadata": {
    "id": "WUyDCq-lBSFH"
   },
   "source": [
    "# Deep Learning in Finance"
   ]
  },
  {
   "cell_type": "code",
   "execution_count": 1,
   "metadata": {
    "colab": {
     "base_uri": "https://localhost:8080/"
    },
    "id": "lLcVQEY1NSio",
    "outputId": "67bbd6e0-e8ab-463d-ef42-08a8b494a29c"
   },
   "outputs": [
    {
     "name": "stdout",
     "output_type": "stream",
     "text": [
      "Mounted at /content/gdrive\n"
     ]
    }
   ],
   "source": [
    "from google.colab import drive\n",
    "drive.mount('/content/gdrive')"
   ]
  },
  {
   "cell_type": "code",
   "execution_count": 2,
   "metadata": {
    "id": "ofggQrI6TyoR"
   },
   "outputs": [],
   "source": [
    "!cp /content/gdrive/MyDrive/project/credit_card_default.csv ."
   ]
  },
  {
   "cell_type": "code",
   "execution_count": 9,
   "metadata": {
    "id": "snE59TpWX7CL"
   },
   "outputs": [],
   "source": [
    "import matplotlib.pyplot as plt\n",
    "import warnings\n",
    "plt.style.use('seaborn')\n",
    "plt.rcParams['figure.figsize'] = [6, 2.5]\n",
    "plt.rcParams['figure.dpi'] = 100\n",
    "warnings.simplefilter(action='ignore', category=FutureWarning)"
   ]
  },
  {
   "cell_type": "markdown",
   "metadata": {
    "id": "uD-X1AeamQ0f"
   },
   "source": [
    "## Multilayer perceptrons for time series forecasting"
   ]
  },
  {
   "cell_type": "code",
   "execution_count": 4,
   "metadata": {
    "id": "xCQcey6qmY_O"
   },
   "outputs": [],
   "source": [
    "pip install -q yfinance"
   ]
  },
  {
   "cell_type": "code",
   "execution_count": 5,
   "metadata": {
    "colab": {
     "base_uri": "https://localhost:8080/",
     "height": 35
    },
    "id": "xiYuz5XSmfJ6",
    "outputId": "7ed11de8-e473-4fb9-b66b-3cf0e3b5b927"
   },
   "outputs": [
    {
     "data": {
      "application/vnd.google.colaboratory.intrinsic+json": {
       "type": "string"
      },
      "text/plain": [
       "'cuda'"
      ]
     },
     "execution_count": 5,
     "metadata": {},
     "output_type": "execute_result"
    }
   ],
   "source": [
    "import yfinance as yf\n",
    "import numpy as np\n",
    "\n",
    "import torch\n",
    "import torch.optim as optim\n",
    "import torch.nn as nn\n",
    "import torch.nn.functional as F\n",
    "from torch.utils.data import (Dataset, TensorDataset, \n",
    "                              DataLoader, Subset)\n",
    "\n",
    "from sklearn.metrics import mean_squared_error\n",
    "\n",
    "device = 'cuda' if torch.cuda.is_available() else 'cpu'\n",
    "device"
   ]
  },
  {
   "cell_type": "markdown",
   "metadata": {
    "id": "BKcV3K-Jm8n-"
   },
   "source": [
    "Define parameters:"
   ]
  },
  {
   "cell_type": "code",
   "execution_count": 6,
   "metadata": {
    "id": "vpqpSTUfm_QW"
   },
   "outputs": [],
   "source": [
    "# data\n",
    "TICKER = 'INTC'\n",
    "START_DATE = '2010-01-02'\n",
    "END_DATE = '2019-12-31'\n",
    "VALID_START = '2019-07-01'\n",
    "N_LAGS = 6\n",
    "\n",
    "# neural network \n",
    "VALID_SIZE = 12\n",
    "BATCH_SIZE = 5\n",
    "N_EPOCHS = 1000"
   ]
  },
  {
   "cell_type": "markdown",
   "metadata": {
    "id": "VZ4nL7p5nMnw"
   },
   "source": [
    "Download and prepare the data:"
   ]
  },
  {
   "cell_type": "code",
   "execution_count": 7,
   "metadata": {
    "colab": {
     "base_uri": "https://localhost:8080/"
    },
    "id": "Qc9sVEhjnQDS",
    "outputId": "bddc188d-8886-4b8e-ee01-cc5d21184ed0"
   },
   "outputs": [
    {
     "data": {
      "text/plain": [
       "(120,)"
      ]
     },
     "execution_count": 7,
     "metadata": {},
     "output_type": "execute_result"
    }
   ],
   "source": [
    "df = yf.download(TICKER, \n",
    "                 start=START_DATE, \n",
    "                 end=END_DATE,\n",
    "                 progress=False)\n",
    "\n",
    "df = df.resample('M').last()\n",
    "prices = df['Adj Close'].values\n",
    "prices.shape"
   ]
  },
  {
   "cell_type": "code",
   "execution_count": 10,
   "metadata": {
    "colab": {
     "base_uri": "https://localhost:8080/",
     "height": 289
    },
    "id": "3rLJvksindAX",
    "outputId": "938a57a8-8dc1-4306-c81e-b72abee6d1fb"
   },
   "outputs": [
    {
     "data": {
      "image/png": "[encoded data removed]",
      "text/plain": [
       "<Figure size 600x250 with 1 Axes>"
      ]
     },
     "metadata": {},
     "output_type": "display_data"
    }
   ],
   "source": [
    "fig, ax = plt.subplots()\n",
    "\n",
    "ax.plot(df.index, prices)\n",
    "ax.set(title=f\"{TICKER}'s Stock price\", \n",
    "       xlabel='Time', \n",
    "       ylabel='Price ($)');"
   ]
  },
  {
   "cell_type": "markdown",
   "metadata": {
    "id": "Xi3POLQrnuYd"
   },
   "source": [
    "시계열을 MLP용 데이터세트로 변환하는 함수를 정의"
   ]
  },
  {
   "cell_type": "code",
   "execution_count": 11,
   "metadata": {
    "id": "xD9BNE3Go5J6"
   },
   "outputs": [],
   "source": [
    "def create_input_data(series, n_lags):\n",
    "  '''\n",
    "  Parameters\n",
    "  ----------\n",
    "  series : np.array\n",
    "    The time series to be transformed\n",
    "  n_lags : int\n",
    "    The number of lagged observations to consider as features\n",
    "\n",
    "  Returns\n",
    "  -------\n",
    "  X : np.array\n",
    "    Array of features\n",
    "  y : np.array\n",
    "    Array of target\n",
    "  '''\n",
    "  X, y = [], []\n",
    "\n",
    "  for step in range(len(series) - n_lags):\n",
    "    end_step = step + n_lags\n",
    "    X.append(series[step:end_step])\n",
    "    y.append(series[end_step])\n",
    "  return np.array(X), np.array(y)"
   ]
  },
  {
   "cell_type": "markdown",
   "metadata": {
    "id": "9Pj6rBVvrZWN"
   },
   "source": [
    "시계열을 MLP에 대한 입력으로 변환"
   ]
  },
  {
   "cell_type": "code",
   "execution_count": 12,
   "metadata": {
    "colab": {
     "base_uri": "https://localhost:8080/"
    },
    "id": "8VHqZMm1rebm",
    "outputId": "b480b5b6-c379-4076-a10f-1b54d781f495"
   },
   "outputs": [
    {
     "name": "stdout",
     "output_type": "stream",
     "text": [
      "(114, 6) (114,)\n"
     ]
    },
    {
     "data": {
      "text/plain": [
       "(torch.Size([114, 6]), torch.Size([114, 1]))"
      ]
     },
     "execution_count": 12,
     "metadata": {},
     "output_type": "execute_result"
    }
   ],
   "source": [
    "X, y = create_input_data(prices, N_LAGS)\n",
    "print(X.shape, y.shape)\n",
    "\n",
    "X_tensor = torch.from_numpy(X).float()\n",
    "y_tensor = torch.from_numpy(y).float().unsqueeze(dim=1)\n",
    "X_tensor.size(), y_tensor.size()"
   ]
  },
  {
   "cell_type": "markdown",
   "metadata": {
    "id": "4eaAJd7srqp2"
   },
   "source": [
    "Create training and validation sets:"
   ]
  },
  {
   "cell_type": "code",
   "execution_count": 13,
   "metadata": {
    "id": "u9adtdHurulH"
   },
   "outputs": [],
   "source": [
    "valid_ind = len(X) - VALID_SIZE\n",
    "dataset = TensorDataset(X_tensor, y_tensor)\n",
    "\n",
    "train_dataset = Subset(dataset, list(range(valid_ind)))\n",
    "valid_dataset = Subset(dataset, list(range(valid_ind, len(X))))\n",
    "\n",
    "train_loader = DataLoader(dataset=train_dataset, batch_size=BATCH_SIZE)\n",
    "valid_loader = DataLoader(dataset=valid_dataset, batch_size=BATCH_SIZE)"
   ]
  },
  {
   "cell_type": "markdown",
   "metadata": {
    "id": "MtwJWOm8sOHG"
   },
   "source": [
    "첫 번째 배치에서 observation을 검사합니다."
   ]
  },
  {
   "cell_type": "code",
   "execution_count": 14,
   "metadata": {
    "colab": {
     "base_uri": "https://localhost:8080/"
    },
    "id": "eZ-ukInTsSbF",
    "outputId": "0dc2163e-90ed-45cb-cf65-e62a2d7e11f3"
   },
   "outputs": [
    {
     "data": {
      "text/plain": [
       "tensor([[13.5435, 14.4470, 15.6856, 16.0726, 15.1796, 13.7836],\n",
       "        [14.4470, 15.6856, 16.0726, 15.1796, 13.7836, 14.5985],\n",
       "        [15.6856, 16.0726, 15.1796, 13.7836, 14.5985, 12.6177],\n",
       "        [16.0726, 15.1796, 13.7836, 14.5985, 12.6177, 13.7102],\n",
       "        [15.1796, 13.7836, 14.5985, 12.6177, 13.7102, 14.3172]])"
      ]
     },
     "execution_count": 14,
     "metadata": {},
     "output_type": "execute_result"
    }
   ],
   "source": [
    "#input\n",
    "next(iter(train_loader))[0]"
   ]
  },
  {
   "cell_type": "code",
   "execution_count": 15,
   "metadata": {
    "colab": {
     "base_uri": "https://localhost:8080/"
    },
    "id": "AcjjhalzsXFx",
    "outputId": "8c212779-2171-4f1e-f724-d1e15932b990"
   },
   "outputs": [
    {
     "data": {
      "text/plain": [
       "tensor([[14.5985],\n",
       "        [12.6177],\n",
       "        [13.7102],\n",
       "        [14.3172],\n",
       "        [15.2281]])"
      ]
     },
     "execution_count": 15,
     "metadata": {},
     "output_type": "execute_result"
    }
   ],
   "source": [
    "#target\n",
    "next(iter(train_loader))[1]"
   ]
  },
  {
   "cell_type": "markdown",
   "metadata": {
    "id": "5z-h6E8LscNt"
   },
   "source": [
    "Check the size of the datasets:"
   ]
  },
  {
   "cell_type": "code",
   "execution_count": 16,
   "metadata": {
    "colab": {
     "base_uri": "https://localhost:8080/"
    },
    "id": "L1W3Fvpdsfax",
    "outputId": "59f8d909-7665-4030-dbd7-65a08c372912"
   },
   "outputs": [
    {
     "name": "stdout",
     "output_type": "stream",
     "text": [
      "Size - training: 102 | validation: 12\n"
     ]
    }
   ],
   "source": [
    "print(f'Size - training: {len(train_loader.dataset)} | validation: {len(valid_loader.dataset)}')"
   ]
  },
  {
   "cell_type": "markdown",
   "metadata": {
    "id": "QRnTCnvCssAk"
   },
   "source": [
    "단순 예측을 벤치마크로 사용하고 성능을 평가"
   ]
  },
  {
   "cell_type": "code",
   "execution_count": 17,
   "metadata": {
    "colab": {
     "base_uri": "https://localhost:8080/"
    },
    "id": "vagLv4LYsxPw",
    "outputId": "ad0a9e42-c8c3-4653-9152-7e19673baef5"
   },
   "outputs": [
    {
     "name": "stdout",
     "output_type": "stream",
     "text": [
      "[43.54761505 43.72392273 49.45451736 50.14553833 47.66160202 41.37680435\n",
      " 44.97519684 47.49313354 44.84375763 48.74074173 53.47009277 55.21001816]\n",
      "[43.72392273 49.45451736 50.14553833 47.66160202 41.37680435 44.97519684\n",
      " 47.49313354 44.84375763 48.74074173 53.47009277 55.21001816 56.70320511]\n",
      "Naive forecast - MSE: 12.34, RMSE: 3.51\n"
     ]
    }
   ],
   "source": [
    "naive_pred = prices[len(prices) - VALID_SIZE - 1:-1]\n",
    "y_valid = prices[len(prices) - VALID_SIZE:]\n",
    "print(naive_pred)\n",
    "print(y_valid)\n",
    "\n",
    "naive_mse = mean_squared_error(y_valid, naive_pred)\n",
    "naive_rmse = np.sqrt(naive_mse)\n",
    "print(f\"Naive forecast - MSE: {naive_mse:.2f}, RMSE: {naive_rmse:.2f}\")"
   ]
  },
  {
   "cell_type": "markdown",
   "metadata": {
    "id": "RlBmbI7NuG1s"
   },
   "source": [
    "MLP 네트워크 아키텍처 정의:"
   ]
  },
  {
   "cell_type": "code",
   "execution_count": 18,
   "metadata": {
    "id": "pwLhSnYduKPu"
   },
   "outputs": [],
   "source": [
    "class MLP(nn.Module):\n",
    "\n",
    "  def __init__(self, input_size):\n",
    "    super(MLP, self).__init__()\n",
    "    self.linear1 = nn.Linear(input_size, 8)\n",
    "    self.linear2 = nn.Linear(8, 4)\n",
    "    self.linear3 = nn.Linear(4, 1)\n",
    "    self.dropout = nn.Dropout(p=0.2)\n",
    "\n",
    "  def forward(self, x):\n",
    "    x = self.linear1(x)\n",
    "    x = F.relu(x)\n",
    "    x = self.dropout(x)\n",
    "    x = self.linear2(x)\n",
    "    x = F.relu(x)\n",
    "    x = self.dropout(x)\n",
    "    x = self.linear3(x)\n",
    "    return x"
   ]
  },
  {
   "cell_type": "code",
   "execution_count": 19,
   "metadata": {
    "id": "QDhoUlhXuvOF"
   },
   "outputs": [],
   "source": [
    "torch.manual_seed(42)\n",
    "\n",
    "model_mlp = MLP(N_LAGS).to(device) \n",
    "loss_fn = nn.MSELoss()\n",
    "optimizer = optim.Adam(model_mlp.parameters(), lr=0.001)"
   ]
  },
  {
   "cell_type": "code",
   "execution_count": 20,
   "metadata": {
    "colab": {
     "base_uri": "https://localhost:8080/"
    },
    "id": "EPDRfLKfu942",
    "outputId": "2b24e314-4582-40de-a7b9-15526aa56c8b"
   },
   "outputs": [
    {
     "data": {
      "text/plain": [
       "MLP(\n",
       "  (linear1): Linear(in_features=6, out_features=8, bias=True)\n",
       "  (linear2): Linear(in_features=8, out_features=4, bias=True)\n",
       "  (linear3): Linear(in_features=4, out_features=1, bias=True)\n",
       "  (dropout): Dropout(p=0.2, inplace=False)\n",
       ")"
      ]
     },
     "execution_count": 20,
     "metadata": {},
     "output_type": "execute_result"
    }
   ],
   "source": [
    "model_mlp"
   ]
  },
  {
   "cell_type": "markdown",
   "metadata": {
    "id": "YUofUVn-vA3u"
   },
   "source": [
    "Train the network:"
   ]
  },
  {
   "cell_type": "code",
   "execution_count": 23,
   "metadata": {
    "colab": {
     "base_uri": "https://localhost:8080/"
    },
    "id": "Wnnw8aiLyERM",
    "outputId": "7db776da-9b42-4809-d8f9-8acd092117e5"
   },
   "outputs": [
    {
     "name": "stdout",
     "output_type": "stream",
     "text": [
      "<0> - Loss - Train: 269.72 \t Valid: 532.44\n",
      "<50> - Loss - Train: 128.79 \t Valid: 65.50\n",
      "<100> - Loss - Train: 93.78 \t Valid: 96.74\n",
      "<150> - Loss - Train: 140.98 \t Valid: 73.51\n",
      "<200> - Loss - Train: 85.33 \t Valid: 93.26\n",
      "<250> - Loss - Train: 101.46 \t Valid: 108.12\n",
      "<300> - Loss - Train: 89.74 \t Valid: 93.03\n",
      "<350> - Loss - Train: 81.22 \t Valid: 110.69\n",
      "<400> - Loss - Train: 106.64 \t Valid: 105.43\n",
      "<450> - Loss - Train: 76.14 \t Valid: 127.00\n",
      "<500> - Loss - Train: 93.11 \t Valid: 150.65\n",
      "<550> - Loss - Train: 81.43 \t Valid: 131.81\n",
      "<600> - Loss - Train: 78.69 \t Valid: 101.32\n",
      "<650> - Loss - Train: 71.26 \t Valid: 88.86\n",
      "<700> - Loss - Train: 85.90 \t Valid: 109.80\n",
      "<750> - Loss - Train: 60.45 \t Valid: 95.13\n",
      "<800> - Loss - Train: 58.62 \t Valid: 95.54\n",
      "<850> - Loss - Train: 69.34 \t Valid: 120.27\n",
      "<900> - Loss - Train: 44.46 \t Valid: 124.80\n",
      "<950> - Loss - Train: 50.51 \t Valid: 93.78\n",
      "Lowest loss recorded in epoch: 52\n"
     ]
    }
   ],
   "source": [
    "PRINT_EVERY = 50\n",
    "train_losses, valid_losses = [], []\n",
    "\n",
    "for epoch in range(N_EPOCHS):\n",
    "    running_loss_train = 0\n",
    "    running_loss_valid = 0\n",
    "\n",
    "    model_mlp.train()\n",
    "\n",
    "    for x_batch, y_batch in train_loader:\n",
    "\n",
    "        optimizer.zero_grad()\n",
    "\n",
    "        x_batch = x_batch.to(device)\n",
    "        y_batch = y_batch.to(device)\n",
    "        y_hat = model_mlp(x_batch)\n",
    "\n",
    "        loss = loss_fn(y_batch, y_hat)\n",
    "        loss.backward()\n",
    "        optimizer.step()\n",
    "        running_loss_train += loss.item() * x_batch.size(0)\n",
    "\n",
    "    epoch_loss_train = running_loss_train / len(train_loader.dataset)\n",
    "    train_losses.append(epoch_loss_train)\n",
    "\n",
    "    with torch.no_grad():\n",
    "\n",
    "        model_mlp.eval()\n",
    "\n",
    "        for x_val, y_val in valid_loader:\n",
    "            x_val = x_val.to(device)\n",
    "            y_val = y_val.to(device)\n",
    "            y_hat = model_mlp(x_val)\n",
    "\n",
    "            loss = loss_fn(y_val, y_hat)\n",
    "            running_loss_valid += loss.item() * x_val.size(0)\n",
    "\n",
    "        epoch_loss_valid = running_loss_valid / len(valid_loader.dataset)\n",
    "\n",
    "        if epoch > 0 and epoch_loss_valid < min(valid_losses):\n",
    "            best_epoch = epoch\n",
    "            torch.save(model_mlp.state_dict(), './mlp_checkpoint.pth')\n",
    "\n",
    "        valid_losses.append(epoch_loss_valid)\n",
    "\n",
    "    if epoch % PRINT_EVERY == 0:\n",
    "        print(f\"<{epoch}> - Loss - Train: {epoch_loss_train:.2f} \\t Valid: {epoch_loss_valid:.2f}\")\n",
    "\n",
    "print(f'Lowest loss recorded in epoch: {best_epoch}')"
   ]
  },
  {
   "cell_type": "markdown",
   "metadata": {
    "id": "2vuXtIUK05mq"
   },
   "source": [
    "loss 시각화"
   ]
  },
  {
   "cell_type": "code",
   "execution_count": 24,
   "metadata": {
    "colab": {
     "base_uri": "https://localhost:8080/",
     "height": 289
    },
    "id": "_Rv1XO0s085T",
    "outputId": "da50b916-e81c-4526-84e0-4cc80aaef376"
   },
   "outputs": [
    {
     "data": {
      "image/png": "[encoded data removed]",
      "text/plain": [
       "<Figure size 600x250 with 1 Axes>"
      ]
     },
     "metadata": {},
     "output_type": "display_data"
    }
   ],
   "source": [
    "train_losses = np.array(train_losses)\n",
    "valid_losses = np.array(valid_losses)\n",
    "\n",
    "fig, ax = plt.subplots()\n",
    "\n",
    "ax.plot(train_losses, color='blue', label='Training loss')\n",
    "ax.plot(valid_losses, color='red', label='Validation loss')\n",
    "\n",
    "ax.set(title='Loss over epochs', \n",
    "       xlabel='Epoch', \n",
    "       ylabel='Loss')\n",
    "ax.legend()\n",
    "plt.show()"
   ]
  },
  {
   "cell_type": "markdown",
   "metadata": {
    "id": "sAgDHdXV1c4_"
   },
   "source": [
    "최상의 모델 로드(lowest validation loss)"
   ]
  },
  {
   "cell_type": "code",
   "execution_count": 25,
   "metadata": {
    "colab": {
     "base_uri": "https://localhost:8080/"
    },
    "id": "3KZvGwMU1hxd",
    "outputId": "232ca636-fbf4-46b4-ccb3-be1d4cd6bab3"
   },
   "outputs": [
    {
     "data": {
      "text/plain": [
       "<All keys matched successfully>"
      ]
     },
     "execution_count": 25,
     "metadata": {},
     "output_type": "execute_result"
    }
   ],
   "source": [
    "state_dict = torch.load('mlp_checkpoint.pth')\n",
    "model_mlp.load_state_dict(state_dict)"
   ]
  },
  {
   "cell_type": "markdown",
   "metadata": {
    "id": "mNYBdAEM1p28"
   },
   "source": [
    "predictions:"
   ]
  },
  {
   "cell_type": "code",
   "execution_count": 26,
   "metadata": {
    "id": "9oRW_AaC1ssU"
   },
   "outputs": [],
   "source": [
    "y_pred_mlp, y_valid_mlp = [], []\n",
    "\n",
    "with torch.no_grad():\n",
    "\n",
    "    model_mlp.eval()\n",
    "    for x_val, y_val in valid_loader:\n",
    "        x_val = x_val.to(device)    \n",
    "        y_pred_mlp.append(model_mlp(x_val))\n",
    "        y_valid_mlp.append(y_val)\n",
    "\n",
    "y_pred_mlp  = torch.cat(y_pred_mlp).cpu().flatten()\n",
    "y_valid_mlp = torch.cat(y_valid_mlp).numpy().flatten()"
   ]
  },
  {
   "cell_type": "markdown",
   "metadata": {
    "id": "l0UGjSMK2Hsw"
   },
   "source": [
    "predictions 평가"
   ]
  },
  {
   "cell_type": "code",
   "execution_count": 27,
   "metadata": {
    "colab": {
     "base_uri": "https://localhost:8080/",
     "height": 306
    },
    "id": "WVUrsxSQ2LGQ",
    "outputId": "92080908-c5ec-499e-d566-751edf28ed73"
   },
   "outputs": [
    {
     "name": "stdout",
     "output_type": "stream",
     "text": [
      "MLP's forecast - MSE: 50.67, RMSE: 7.12\n"
     ]
    },
    {
     "data": {
      "image/png": "[encoded data removed]",
      "text/plain": [
       "<Figure size 600x250 with 1 Axes>"
      ]
     },
     "metadata": {},
     "output_type": "display_data"
    }
   ],
   "source": [
    "mlp_mse = mean_squared_error(y_valid_mlp, y_pred_mlp)\n",
    "mlp_rmse = np.sqrt(mlp_mse)\n",
    "\n",
    "print(f\"MLP's forecast - MSE: {mlp_mse:.2f}, RMSE: {mlp_rmse:.2f}\")\n",
    "\n",
    "fig, ax = plt.subplots()\n",
    "\n",
    "ax.plot(y_valid_mlp, color='blue', label= 'True')\n",
    "ax.plot(y_pred_mlp, color='red', label='Prediction')\n",
    "\n",
    "ax.set(title=\"Multilayer Perceptron's Forecasts\", \n",
    "       xlabel='Time', \n",
    "       ylabel='Price ($)')\n",
    "ax.legend()\n",
    "plt.show()"
   ]
  },
  {
   "cell_type": "markdown",
   "metadata": {
    "id": "rML7N6A5e8Pa"
   },
   "source": [
    "## 시계열 예측을 위한 순환 신경망"
   ]
  },
  {
   "cell_type": "markdown",
   "metadata": {
    "id": "KE8k_Jvlp-9E"
   },
   "source": [
    "Define the parameters:"
   ]
  },
  {
   "cell_type": "code",
   "execution_count": 28,
   "metadata": {
    "id": "ykIPxRr2qBhL"
   },
   "outputs": [],
   "source": [
    "# neural network \n",
    "BATCH_SIZE = 16\n",
    "N_EPOCHS = 100"
   ]
  },
  {
   "cell_type": "markdown",
   "metadata": {
    "id": "ViGKeTUQtOYv"
   },
   "source": [
    "Define RNN model:"
   ]
  },
  {
   "cell_type": "code",
   "execution_count": 35,
   "metadata": {
    "id": "d4fWBKlwD_bE"
   },
   "outputs": [],
   "source": [
    "valid_ind = len(X) - VALID_SIZE\n",
    "\n",
    "X_tensor = torch.from_numpy(X).float().reshape(X.shape[0], \n",
    "                                               X.shape[1], \n",
    "                                               1)\n",
    "y_tensor = torch.from_numpy(y).float().reshape(X.shape[0], 1)\n",
    "\n",
    "dataset = TensorDataset(X_tensor, y_tensor)\n",
    "\n",
    "train_dataset = Subset(dataset, list(range(valid_ind)))\n",
    "valid_dataset = Subset(dataset, list(range(valid_ind, len(X))))\n",
    "\n",
    "train_loader = DataLoader(dataset=train_dataset, \n",
    "                          batch_size=BATCH_SIZE, \n",
    "                          shuffle=True)\n",
    "valid_loader = DataLoader(dataset=valid_dataset, \n",
    "                          batch_size=BATCH_SIZE)"
   ]
  },
  {
   "cell_type": "code",
   "execution_count": 36,
   "metadata": {
    "id": "Mk5T0SdAtRYv"
   },
   "outputs": [],
   "source": [
    "class RNN(nn.Module):\n",
    "  def __init__(self, input_size, hidden_size, n_layers, output_size):\n",
    "      super(RNN, self).__init__()\n",
    "      self.rnn = nn.RNN(input_size, hidden_size, \n",
    "                        n_layers, batch_first=True,\n",
    "                        nonlinearity='relu')\n",
    "      self.fc = nn.Linear(hidden_size, output_size)\n",
    "    \n",
    "  def forward(self, x):\n",
    "      output, _ = self.rnn(x)\n",
    "      output = self.fc(output[:,-1,:]) \n",
    "      return output"
   ]
  },
  {
   "cell_type": "code",
   "execution_count": 37,
   "metadata": {
    "id": "Wlg4Hh1Dt8vx"
   },
   "outputs": [],
   "source": [
    "model_rnn = RNN(input_size=1, hidden_size=6, \n",
    "            n_layers=1, output_size=1).to(device)\n",
    "loss_fn = nn.MSELoss()\n",
    "optimizer = optim.Adam(model_rnn.parameters(), lr=0.001)"
   ]
  },
  {
   "cell_type": "markdown",
   "metadata": {
    "id": "EzxJlvLouOOK"
   },
   "source": [
    "Train the network:"
   ]
  },
  {
   "cell_type": "code",
   "execution_count": 39,
   "metadata": {
    "colab": {
     "base_uri": "https://localhost:8080/"
    },
    "id": "IK4GMrNyuRJc",
    "outputId": "98a996cb-140b-4dd6-c9d4-08c1cc969d9e"
   },
   "outputs": [
    {
     "name": "stdout",
     "output_type": "stream",
     "text": [
      "<0> - Train. loss: 408.5068 \t Valid. loss: 49.6870\n",
      "<10> - Train. loss: 399.1783 \t Valid. loss: 48.6616\n",
      "<20> - Train. loss: 396.6519 \t Valid. loss: 48.3462\n",
      "<30> - Train. loss: 395.4598 \t Valid. loss: 48.2765\n",
      "<40> - Train. loss: 394.8439 \t Valid. loss: 48.2067\n",
      "<50> - Train. loss: 394.4502 \t Valid. loss: 48.1370\n",
      "<60> - Train. loss: 391.1835 \t Valid. loss: 48.0674\n",
      "<70> - Train. loss: 392.3653 \t Valid. loss: 47.9977\n",
      "<80> - Train. loss: 389.8796 \t Valid. loss: 47.9282\n",
      "<90> - Train. loss: 389.5205 \t Valid. loss: 47.8586\n",
      "Lowest loss recorded in epoch: 99\n"
     ]
    }
   ],
   "source": [
    "PRINT_EVERY = 10\n",
    "train_losses, valid_losses = [], []\n",
    "\n",
    "for epoch in range(N_EPOCHS):\n",
    "    running_loss_train = 0\n",
    "    running_loss_valid = 0\n",
    "\n",
    "    model_rnn.train()\n",
    "\n",
    "    for x_batch, y_batch in train_loader:\n",
    "\n",
    "        optimizer.zero_grad()\n",
    "\n",
    "        x_batch = x_batch.to(device)\n",
    "        y_batch = y_batch.to(device)\n",
    "        y_hat = model_rnn(x_batch)\n",
    "        loss = torch.sqrt(loss_fn(y_batch, y_hat))\n",
    "        loss.backward()\n",
    "        optimizer.step()\n",
    "        running_loss_train += loss.item() * x_batch.size(0)\n",
    "\n",
    "    epoch_loss_train = running_loss_train / len(train_loader)\n",
    "    train_losses.append(epoch_loss_train)\n",
    "\n",
    "    with torch.no_grad():\n",
    "        model_rnn.eval()\n",
    "        for x_val, y_val in valid_loader:\n",
    "            x_val = x_val.to(device)\n",
    "            y_val = y_val.to(device)\n",
    "            y_hat = model_rnn(x_val)\n",
    "            loss = torch.sqrt(loss_fn(y_val, y_hat))\n",
    "            running_loss_valid += loss.item() * x_val.size(0)\n",
    "\n",
    "        epoch_loss_valid = running_loss_valid / len(valid_loader.dataset)\n",
    "\n",
    "        if epoch > 0 and epoch_loss_valid < min(valid_losses):\n",
    "            best_epoch = epoch\n",
    "            torch.save(model_rnn.state_dict(), './rnn_checkpoint.pth')\n",
    "\n",
    "        valid_losses.append(epoch_loss_valid)\n",
    "\n",
    "        if epoch % PRINT_EVERY == 0:\n",
    "            print(f\"<{epoch}> - Train. loss: {epoch_loss_train:.4f} \\t Valid. loss: {epoch_loss_valid:.4f}\")\n",
    "\n",
    "print(f'Lowest loss recorded in epoch: {best_epoch}')\n",
    "\n"
   ]
  },
  {
   "cell_type": "markdown",
   "metadata": {
    "id": "1cfDk7CUyI8z"
   },
   "source": [
    "Plot the losses over epochs:"
   ]
  },
  {
   "cell_type": "code",
   "execution_count": 40,
   "metadata": {
    "colab": {
     "base_uri": "https://localhost:8080/",
     "height": 289
    },
    "id": "IOKpSuJFyMYu",
    "outputId": "8e040b2d-9028-4dbd-9ce4-6082739756cb"
   },
   "outputs": [
    {
     "data": {
      "image/png": "[encoded data removed]",
      "text/plain": [
       "<Figure size 600x250 with 1 Axes>"
      ]
     },
     "metadata": {},
     "output_type": "display_data"
    }
   ],
   "source": [
    "train_losses = np.array(train_losses)\n",
    "valid_losses = np.array(valid_losses)\n",
    "\n",
    "fig, ax = plt.subplots()\n",
    "\n",
    "ax.plot(train_losses, color='blue', label='Training loss')\n",
    "ax.plot(valid_losses, color='red', label='Validation loss')\n",
    "\n",
    "ax.set(title=\"Loss over epochs\", \n",
    "       xlabel='Epoch', \n",
    "       ylabel='Loss')\n",
    "ax.legend()\n",
    "plt.show()"
   ]
  },
  {
   "cell_type": "markdown",
   "metadata": {
    "id": "yF5DrQ59yqZk"
   },
   "source": [
    "Load the best model (with the lowest validation loss):"
   ]
  },
  {
   "cell_type": "code",
   "execution_count": 41,
   "metadata": {
    "colab": {
     "base_uri": "https://localhost:8080/"
    },
    "id": "Fw2yReDByvWS",
    "outputId": "1dfdded9-7a99-4cd6-b955-0633187b9799"
   },
   "outputs": [
    {
     "data": {
      "text/plain": [
       "<All keys matched successfully>"
      ]
     },
     "execution_count": 41,
     "metadata": {},
     "output_type": "execute_result"
    }
   ],
   "source": [
    "state_dict = torch.load('rnn_checkpoint.pth')\n",
    "model_rnn.load_state_dict(state_dict)"
   ]
  },
  {
   "cell_type": "markdown",
   "metadata": {
    "id": "LTX26D4Iy44_"
   },
   "source": [
    "Obtain the predictions:"
   ]
  },
  {
   "cell_type": "code",
   "execution_count": 46,
   "metadata": {
    "id": "pRqU94wny73m"
   },
   "outputs": [],
   "source": [
    "y_pred_rnn = []\n",
    "\n",
    "with torch.no_grad():\n",
    "\n",
    "    model_rnn.eval()\n",
    "\n",
    "    for x_val, y_val in valid_loader:\n",
    "        x_val = x_val.to(device)\n",
    "        y_hat = model_rnn(x_val)\n",
    "        y_pred_rnn.append(y_hat)\n",
    "\n",
    "y_pred_rnn = torch.cat(y_pred_rnn).cpu().flatten()"
   ]
  },
  {
   "cell_type": "markdown",
   "metadata": {
    "id": "WaTjCKk3zTse"
   },
   "source": [
    "Evaluate the predictions:"
   ]
  },
  {
   "cell_type": "code",
   "execution_count": 47,
   "metadata": {
    "colab": {
     "base_uri": "https://localhost:8080/",
     "height": 236
    },
    "id": "c99w0d-XzWeb",
    "outputId": "27cd77e6-0d60-4cff-8c78-784e3dffe9e1"
   },
   "outputs": [
    {
     "ename": "NameError",
     "evalue": "ignored",
     "output_type": "error",
     "traceback": [
      "\u001b[0;31m---------------------------------------------------------------------------\u001b[0m",
      "\u001b[0;31mNameError\u001b[0m                                 Traceback (most recent call last)",
      "\u001b[0;32m<ipython-input-47-d3831c89520c>\u001b[0m in \u001b[0;36m<module>\u001b[0;34m()\u001b[0m\n\u001b[0;32m----> 1\u001b[0;31m \u001b[0mrnn_mse\u001b[0m \u001b[0;34m=\u001b[0m \u001b[0mmean_squared_error\u001b[0m\u001b[0;34m(\u001b[0m\u001b[0my_valid\u001b[0m\u001b[0;34m,\u001b[0m \u001b[0my_pred\u001b[0m\u001b[0;34m)\u001b[0m\u001b[0;34m\u001b[0m\u001b[0;34m\u001b[0m\u001b[0m\n\u001b[0m\u001b[1;32m      2\u001b[0m \u001b[0mrnn_rmse\u001b[0m \u001b[0;34m=\u001b[0m \u001b[0mnp\u001b[0m\u001b[0;34m.\u001b[0m\u001b[0msqrt\u001b[0m\u001b[0;34m(\u001b[0m\u001b[0mrnn_mse\u001b[0m\u001b[0;34m)\u001b[0m\u001b[0;34m\u001b[0m\u001b[0;34m\u001b[0m\u001b[0m\n\u001b[1;32m      3\u001b[0m \u001b[0mprint\u001b[0m\u001b[0;34m(\u001b[0m\u001b[0;34mf\"RNN's forecast - MSE: {rnn_mse:.4f}, RMSE: {rnn_rmse:.4f}\"\u001b[0m\u001b[0;34m)\u001b[0m\u001b[0;34m\u001b[0m\u001b[0;34m\u001b[0m\u001b[0m\n\u001b[1;32m      4\u001b[0m \u001b[0;34m\u001b[0m\u001b[0m\n\u001b[1;32m      5\u001b[0m \u001b[0mfig\u001b[0m\u001b[0;34m,\u001b[0m \u001b[0max\u001b[0m \u001b[0;34m=\u001b[0m \u001b[0mplt\u001b[0m\u001b[0;34m.\u001b[0m\u001b[0msubplots\u001b[0m\u001b[0;34m(\u001b[0m\u001b[0;34m)\u001b[0m\u001b[0;34m\u001b[0m\u001b[0;34m\u001b[0m\u001b[0m\n",
      "\u001b[0;31mNameError\u001b[0m: name 'y_pred' is not defined"
     ]
    }
   ],
   "source": [
    "rnn_mse = mean_squared_error(y_valid, y_pred)\n",
    "rnn_rmse = np.sqrt(rnn_mse)\n",
    "print(f\"RNN's forecast - MSE: {rnn_mse:.4f}, RMSE: {rnn_rmse:.4f}\")\n",
    "\n",
    "fig, ax = plt.subplots()\n",
    "\n",
    "ax.plot(y_valid, color='blue', label='Actual')\n",
    "ax.plot(y_pred, color='red', label='RNN')\n",
    "ax.plot(naive_pred, color='green', label='Naïve')\n",
    "\n",
    "ax.set(title=\"RNN's Forecasts\", \n",
    "       xlabel='Time', \n",
    "       ylabel='Price ($)')\n",
    "ax.legend()\n",
    "plt.show()"
   ]
  },
  {
   "cell_type": "code",
   "execution_count": null,
   "metadata": {
    "id": "HmXJ3-feGaiB"
   },
   "outputs": [],
   "source": []
  }
 ],
 "metadata": {
  "accelerator": "GPU",
  "colab": {
   "collapsed_sections": [],
   "name": "300_DeepLearning_TimeSeries.ipynb",
   "provenance": []
  },
  "kernelspec": {
   "display_name": "Python 3",
   "language": "python",
   "name": "python3"
  },
  "language_info": {
   "codemirror_mode": {
    "name": "ipython",
    "version": 3
   },
   "file_extension": ".py",
   "mimetype": "text/x-python",
   "name": "python",
   "nbconvert_exporter": "python",
   "pygments_lexer": "ipython3",
   "version": "3.7.10"
  }
 },
 "nbformat": 4,
 "nbformat_minor": 1
}
