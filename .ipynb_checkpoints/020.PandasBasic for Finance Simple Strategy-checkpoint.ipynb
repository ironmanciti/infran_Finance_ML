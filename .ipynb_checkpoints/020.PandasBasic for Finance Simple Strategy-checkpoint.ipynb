{
 "cells": [
  {
   "cell_type": "markdown",
   "metadata": {},
   "source": [
    "# Pandas Basic Operations for Finance"
   ]
  },
  {
   "cell_type": "code",
   "execution_count": 1,
   "metadata": {},
   "outputs": [],
   "source": [
    "import pandas as pd\n",
    "import numpy as np"
   ]
  },
  {
   "cell_type": "markdown",
   "metadata": {},
   "source": [
    "## DateTimeIndex 를 가진 시계열 data 생성 및 처리\n",
    "\n",
    "- Timestamp(특정 순간) 을 index 로 하는 data 를 시계열데이터 (TimeSeries) 라고 부른다. 즉, index 가 DatetimeIndex 인 데이터\n",
    "\n",
    "- 시계열관련 class 와 생성 방법\n",
    "\n",
    "| class         |           설명          |                               생성방법 |\n",
    "|---------------|:-----------------------:|---------------------------------------:|\n",
    "| Timestamp     |     하나의 timestamp    |                 to_datetime, Timestamp |\n",
    "| DatetimeIndex | timestamp 타입의 인덱스 | to_datetime, date_range, DatetimeIndex |\n",
    "| Period        |       time period       |                                 Period |"
   ]
  },
  {
   "cell_type": "code",
   "execution_count": 2,
   "metadata": {},
   "outputs": [
    {
     "data": {
      "text/html": [
       "<div>\n",
       "<style scoped>\n",
       "    .dataframe tbody tr th:only-of-type {\n",
       "        vertical-align: middle;\n",
       "    }\n",
       "\n",
       "    .dataframe tbody tr th {\n",
       "        vertical-align: top;\n",
       "    }\n",
       "\n",
       "    .dataframe thead th {\n",
       "        text-align: right;\n",
       "    }\n",
       "</style>\n",
       "<table border=\"1\" class=\"dataframe\">\n",
       "  <thead>\n",
       "    <tr style=\"text-align: right;\">\n",
       "      <th></th>\n",
       "      <th>n1</th>\n",
       "      <th>n2</th>\n",
       "      <th>n3</th>\n",
       "      <th>n4</th>\n",
       "    </tr>\n",
       "  </thead>\n",
       "  <tbody>\n",
       "    <tr>\n",
       "      <th>0</th>\n",
       "      <td>-0.354097</td>\n",
       "      <td>-1.828443</td>\n",
       "      <td>0.582523</td>\n",
       "      <td>0.133907</td>\n",
       "    </tr>\n",
       "    <tr>\n",
       "      <th>1</th>\n",
       "      <td>-0.072807</td>\n",
       "      <td>-1.652203</td>\n",
       "      <td>1.411021</td>\n",
       "      <td>-0.739402</td>\n",
       "    </tr>\n",
       "    <tr>\n",
       "      <th>2</th>\n",
       "      <td>0.144572</td>\n",
       "      <td>0.265991</td>\n",
       "      <td>-1.290592</td>\n",
       "      <td>-0.924530</td>\n",
       "    </tr>\n",
       "    <tr>\n",
       "      <th>3</th>\n",
       "      <td>0.183131</td>\n",
       "      <td>1.277674</td>\n",
       "      <td>-0.082489</td>\n",
       "      <td>-1.300810</td>\n",
       "    </tr>\n",
       "    <tr>\n",
       "      <th>4</th>\n",
       "      <td>1.034467</td>\n",
       "      <td>-0.557459</td>\n",
       "      <td>0.584907</td>\n",
       "      <td>-1.176964</td>\n",
       "    </tr>\n",
       "  </tbody>\n",
       "</table>\n",
       "</div>"
      ],
      "text/plain": [
       "         n1        n2        n3        n4\n",
       "0 -0.354097 -1.828443  0.582523  0.133907\n",
       "1 -0.072807 -1.652203  1.411021 -0.739402\n",
       "2  0.144572  0.265991 -1.290592 -0.924530\n",
       "3  0.183131  1.277674 -0.082489 -1.300810\n",
       "4  1.034467 -0.557459  0.584907 -1.176964"
      ]
     },
     "execution_count": 2,
     "metadata": {},
     "output_type": "execute_result"
    }
   ],
   "source": [
    "a = np.random.standard_normal((12, 4))\n",
    "df = pd.DataFrame(a, columns=['n1', 'n2', 'n3', 'n4'])\n",
    "df.head()"
   ]
  },
  {
   "cell_type": "markdown",
   "metadata": {},
   "source": [
    "## date_range\n",
    "```python\n",
    "pd.date_range(start, end, periods, freq)\n",
    "```\n",
    "\n",
    "- 모든 날짜/시간을 일일히 입력할 필요없이 시작일과 종료일 또는 시작일과 기간을 입력하면 범위 내의 인덱스를 생성  \n",
    "\n",
    "- freq\n",
    "    - s: 초  \n",
    "    - T: 분  \n",
    "    - H: 시간  \n",
    "    - D: 일(day)  \n",
    "    - B: 주말이 아닌 평일 (Business Day)\n",
    "    - W: 주(일요일)  \n",
    "    - W-MON: 주(월요일)  \n",
    "    - M: 각 달(month)의 마지막 날  \n",
    "    - MS: 각 달의 첫날  \n",
    "    - Q-JAN: 각 분기의 첫달의 마지막 날  \n",
    "    - Q-DEC: 각 분기의 마지막 달의 마지막 날  "
   ]
  },
  {
   "cell_type": "code",
   "execution_count": 3,
   "metadata": {},
   "outputs": [
    {
     "data": {
      "text/plain": [
       "DatetimeIndex(['2016-09-01', '2016-09-02', '2016-09-03', '2016-09-04',\n",
       "               '2016-09-05', '2016-09-06', '2016-09-07', '2016-09-08',\n",
       "               '2016-09-09', '2016-09-10'],\n",
       "              dtype='datetime64[ns]', freq='D')"
      ]
     },
     "execution_count": 3,
     "metadata": {},
     "output_type": "execute_result"
    }
   ],
   "source": [
    "# start ~ 10일\n",
    "pd.date_range(start='2016-9-1', periods=10)"
   ]
  },
  {
   "cell_type": "code",
   "execution_count": 4,
   "metadata": {},
   "outputs": [
    {
     "data": {
      "text/plain": [
       "DatetimeIndex(['2019-05-01', '2019-05-02', '2019-05-03', '2019-05-06',\n",
       "               '2019-05-07', '2019-05-08', '2019-05-09', '2019-05-10'],\n",
       "              dtype='datetime64[ns]', freq='B')"
      ]
     },
     "execution_count": 4,
     "metadata": {},
     "output_type": "execute_result"
    }
   ],
   "source": [
    "# start~end 사이 평일\n",
    "pd.date_range('2019-5-1', '2019-5-10', freq='B')"
   ]
  },
  {
   "cell_type": "code",
   "execution_count": 5,
   "metadata": {},
   "outputs": [
    {
     "data": {
      "text/plain": [
       "DatetimeIndex(['2015-03-01 09:00:00', '2015-03-01 09:30:00',\n",
       "               '2015-03-01 10:00:00', '2015-03-01 10:30:00',\n",
       "               '2015-03-01 11:00:00', '2015-03-01 11:30:00',\n",
       "               '2015-03-01 12:00:00'],\n",
       "              dtype='datetime64[ns]', freq='30T')"
      ]
     },
     "execution_count": 5,
     "metadata": {},
     "output_type": "execute_result"
    }
   ],
   "source": [
    "# start~end 30분 간격\n",
    "pd.date_range('2015-3-1 09:00', '2015-3-1 12:00', freq='30min')"
   ]
  },
  {
   "cell_type": "code",
   "execution_count": 6,
   "metadata": {},
   "outputs": [
    {
     "data": {
      "text/plain": [
       "DatetimeIndex(['2019-01-31', '2019-02-28', '2019-03-31', '2019-04-30',\n",
       "               '2019-05-31', '2019-06-30', '2019-07-31', '2019-08-31',\n",
       "               '2019-09-30', '2019-10-31', '2019-11-30', '2019-12-31'],\n",
       "              dtype='datetime64[ns]', freq='M')"
      ]
     },
     "execution_count": 6,
     "metadata": {},
     "output_type": "execute_result"
    }
   ],
   "source": [
    "# start ~ 12 개월\n",
    "dates = pd.date_range('2019-01-01', periods=12, freq='M')\n",
    "dates"
   ]
  },
  {
   "cell_type": "code",
   "execution_count": 7,
   "metadata": {},
   "outputs": [
    {
     "data": {
      "text/html": [
       "<div>\n",
       "<style scoped>\n",
       "    .dataframe tbody tr th:only-of-type {\n",
       "        vertical-align: middle;\n",
       "    }\n",
       "\n",
       "    .dataframe tbody tr th {\n",
       "        vertical-align: top;\n",
       "    }\n",
       "\n",
       "    .dataframe thead th {\n",
       "        text-align: right;\n",
       "    }\n",
       "</style>\n",
       "<table border=\"1\" class=\"dataframe\">\n",
       "  <thead>\n",
       "    <tr style=\"text-align: right;\">\n",
       "      <th></th>\n",
       "      <th>n1</th>\n",
       "      <th>n2</th>\n",
       "      <th>n3</th>\n",
       "      <th>n4</th>\n",
       "    </tr>\n",
       "  </thead>\n",
       "  <tbody>\n",
       "    <tr>\n",
       "      <th>2019-01-31</th>\n",
       "      <td>-0.354097</td>\n",
       "      <td>-1.828443</td>\n",
       "      <td>0.582523</td>\n",
       "      <td>0.133907</td>\n",
       "    </tr>\n",
       "    <tr>\n",
       "      <th>2019-02-28</th>\n",
       "      <td>-0.072807</td>\n",
       "      <td>-1.652203</td>\n",
       "      <td>1.411021</td>\n",
       "      <td>-0.739402</td>\n",
       "    </tr>\n",
       "    <tr>\n",
       "      <th>2019-03-31</th>\n",
       "      <td>0.144572</td>\n",
       "      <td>0.265991</td>\n",
       "      <td>-1.290592</td>\n",
       "      <td>-0.924530</td>\n",
       "    </tr>\n",
       "    <tr>\n",
       "      <th>2019-04-30</th>\n",
       "      <td>0.183131</td>\n",
       "      <td>1.277674</td>\n",
       "      <td>-0.082489</td>\n",
       "      <td>-1.300810</td>\n",
       "    </tr>\n",
       "    <tr>\n",
       "      <th>2019-05-31</th>\n",
       "      <td>1.034467</td>\n",
       "      <td>-0.557459</td>\n",
       "      <td>0.584907</td>\n",
       "      <td>-1.176964</td>\n",
       "    </tr>\n",
       "  </tbody>\n",
       "</table>\n",
       "</div>"
      ],
      "text/plain": [
       "                  n1        n2        n3        n4\n",
       "2019-01-31 -0.354097 -1.828443  0.582523  0.133907\n",
       "2019-02-28 -0.072807 -1.652203  1.411021 -0.739402\n",
       "2019-03-31  0.144572  0.265991 -1.290592 -0.924530\n",
       "2019-04-30  0.183131  1.277674 -0.082489 -1.300810\n",
       "2019-05-31  1.034467 -0.557459  0.584907 -1.176964"
      ]
     },
     "execution_count": 7,
     "metadata": {},
     "output_type": "execute_result"
    }
   ],
   "source": [
    "#DataFrame의 index를 datetime으로 변경\n",
    "df.index = dates\n",
    "df.head()"
   ]
  },
  {
   "cell_type": "code",
   "execution_count": 8,
   "metadata": {},
   "outputs": [
    {
     "data": {
      "text/plain": [
       "DatetimeIndex(['2019-01-31', '2019-02-28', '2019-03-31', '2019-04-30',\n",
       "               '2019-05-31', '2019-06-30', '2019-07-31', '2019-08-31',\n",
       "               '2019-09-30', '2019-10-31', '2019-11-30', '2019-12-31'],\n",
       "              dtype='datetime64[ns]', freq='M')"
      ]
     },
     "execution_count": 8,
     "metadata": {},
     "output_type": "execute_result"
    }
   ],
   "source": [
    "df.index"
   ]
  },
  {
   "cell_type": "markdown",
   "metadata": {},
   "source": [
    "## to_datetime()\n",
    "\n",
    "- 날짜/시간을 나타내는 문자열을 자동으로 datetime 자료형으로 바꾼 후 DatetimeIndex 자료형 인덱스를 생성"
   ]
  },
  {
   "cell_type": "code",
   "execution_count": 9,
   "metadata": {},
   "outputs": [
    {
     "data": {
      "text/plain": [
       "DatetimeIndex(['2010-01-01', '2015-07-01', '2016-05-01', '2019-12-25',\n",
       "               '2020-12-01', '2021-12-20', '2020-12-31'],\n",
       "              dtype='datetime64[ns]', freq=None)"
      ]
     },
     "execution_count": 9,
     "metadata": {},
     "output_type": "execute_result"
    }
   ],
   "source": [
    "date_str = ['2010-01-01', '2015, 7, 1', 'May, 1 2016', \n",
    "            'Dec, 25, 2019', 'DEC 1 2020', 'dec 20 2021', '2020 12 31']\n",
    "pd.to_datetime(date_str)"
   ]
  },
  {
   "cell_type": "markdown",
   "metadata": {},
   "source": [
    "## resample\n",
    "\n",
    "- 시간 간격을 재조정   \n",
    "- 원래의 데이터가 그룹으로 묶이기 때문에 그룹 연산을 해서 대표값을 구해야 한다."
   ]
  },
  {
   "cell_type": "code",
   "execution_count": 10,
   "metadata": {},
   "outputs": [
    {
     "data": {
      "text/plain": [
       "2025-12-31    0.712331\n",
       "2026-01-31    1.937739\n",
       "2026-02-28   -0.561826\n",
       "2026-03-31   -0.506947\n",
       "2026-04-30    0.502343\n",
       "Freq: M, dtype: float64"
      ]
     },
     "execution_count": 10,
     "metadata": {},
     "output_type": "execute_result"
    }
   ],
   "source": [
    "ts = pd.Series(np.random.randn(100), \n",
    "               index=pd.date_range(\"2018-1-1\", periods=100, freq=\"M\"))\n",
    "ts.tail()"
   ]
  },
  {
   "cell_type": "code",
   "execution_count": 11,
   "metadata": {},
   "outputs": [
    {
     "data": {
      "text/plain": [
       "<pandas.core.resample.DatetimeIndexResampler object at 0x00000251F64DE0A0>"
      ]
     },
     "execution_count": 11,
     "metadata": {},
     "output_type": "execute_result"
    }
   ],
   "source": [
    "# 주단위로 down-sampling\n",
    "ts.resample('W')"
   ]
  },
  {
   "cell_type": "code",
   "execution_count": 12,
   "metadata": {},
   "outputs": [
    {
     "data": {
      "text/plain": [
       "2018-02-04    0.191120\n",
       "2018-02-11         NaN\n",
       "2018-02-18         NaN\n",
       "2018-02-25         NaN\n",
       "2018-03-04   -0.267864\n",
       "                ...   \n",
       "2026-04-05   -0.506947\n",
       "2026-04-12         NaN\n",
       "2026-04-19         NaN\n",
       "2026-04-26         NaN\n",
       "2026-05-03    0.502343\n",
       "Freq: W-SUN, Length: 431, dtype: float64"
      ]
     },
     "execution_count": 12,
     "metadata": {},
     "output_type": "execute_result"
    }
   ],
   "source": [
    "ts.resample('W').mean()  # 주단위 평균"
   ]
  },
  {
   "cell_type": "code",
   "execution_count": 13,
   "metadata": {},
   "outputs": [
    {
     "data": {
      "text/plain": [
       "2018-01-31    0.191120\n",
       "2018-02-28   -0.267864\n",
       "2018-03-31    1.320040\n",
       "2018-04-30    1.113962\n",
       "2018-05-31    1.742405\n",
       "                ...   \n",
       "2025-12-31    0.712331\n",
       "2026-01-31    1.937739\n",
       "2026-02-28   -0.561826\n",
       "2026-03-31   -0.506947\n",
       "2026-04-30    0.502343\n",
       "Freq: M, Length: 100, dtype: float64"
      ]
     },
     "execution_count": 13,
     "metadata": {},
     "output_type": "execute_result"
    }
   ],
   "source": [
    "ts.resample('M').mean() # 월 평균"
   ]
  },
  {
   "cell_type": "markdown",
   "metadata": {},
   "source": [
    "## Price difference (익일 - 당일)\n",
    "\n",
    "PriceDiff = (Close Price of tomorrow - Close Price of today)\n",
    "\n",
    "- shift(period)"
   ]
  },
  {
   "cell_type": "code",
   "execution_count": 14,
   "metadata": {},
   "outputs": [],
   "source": [
    "# !pip install pandas_datareader"
   ]
  },
  {
   "cell_type": "code",
   "execution_count": 224,
   "metadata": {},
   "outputs": [],
   "source": [
    "import pandas_datareader as data_reader\n",
    "\n",
    "fb = data_reader.DataReader(\"FB\", data_source=\"yahoo\")\n",
    "ms = data_reader.DataReader(\"MSFT\", data_source=\"yahoo\")  #Microsoft"
   ]
  },
  {
   "cell_type": "code",
   "execution_count": 225,
   "metadata": {},
   "outputs": [
    {
     "data": {
      "text/html": [
       "<div>\n",
       "<style scoped>\n",
       "    .dataframe tbody tr th:only-of-type {\n",
       "        vertical-align: middle;\n",
       "    }\n",
       "\n",
       "    .dataframe tbody tr th {\n",
       "        vertical-align: top;\n",
       "    }\n",
       "\n",
       "    .dataframe thead th {\n",
       "        text-align: right;\n",
       "    }\n",
       "</style>\n",
       "<table border=\"1\" class=\"dataframe\">\n",
       "  <thead>\n",
       "    <tr style=\"text-align: right;\">\n",
       "      <th></th>\n",
       "      <th>High</th>\n",
       "      <th>Low</th>\n",
       "      <th>Open</th>\n",
       "      <th>Close</th>\n",
       "      <th>Volume</th>\n",
       "      <th>Adj Close</th>\n",
       "    </tr>\n",
       "    <tr>\n",
       "      <th>Date</th>\n",
       "      <th></th>\n",
       "      <th></th>\n",
       "      <th></th>\n",
       "      <th></th>\n",
       "      <th></th>\n",
       "      <th></th>\n",
       "    </tr>\n",
       "  </thead>\n",
       "  <tbody>\n",
       "    <tr>\n",
       "      <th>2017-01-17</th>\n",
       "      <td>128.339996</td>\n",
       "      <td>127.400002</td>\n",
       "      <td>128.039993</td>\n",
       "      <td>127.870003</td>\n",
       "      <td>15294500</td>\n",
       "      <td>127.870003</td>\n",
       "    </tr>\n",
       "    <tr>\n",
       "      <th>2017-01-18</th>\n",
       "      <td>128.429993</td>\n",
       "      <td>126.839996</td>\n",
       "      <td>128.410004</td>\n",
       "      <td>127.919998</td>\n",
       "      <td>13145900</td>\n",
       "      <td>127.919998</td>\n",
       "    </tr>\n",
       "    <tr>\n",
       "      <th>2017-01-19</th>\n",
       "      <td>128.350006</td>\n",
       "      <td>127.449997</td>\n",
       "      <td>128.229996</td>\n",
       "      <td>127.550003</td>\n",
       "      <td>12195500</td>\n",
       "      <td>127.550003</td>\n",
       "    </tr>\n",
       "    <tr>\n",
       "      <th>2017-01-20</th>\n",
       "      <td>128.479996</td>\n",
       "      <td>126.779999</td>\n",
       "      <td>128.100006</td>\n",
       "      <td>127.040001</td>\n",
       "      <td>19097200</td>\n",
       "      <td>127.040001</td>\n",
       "    </tr>\n",
       "    <tr>\n",
       "      <th>2017-01-23</th>\n",
       "      <td>129.250000</td>\n",
       "      <td>126.949997</td>\n",
       "      <td>127.309998</td>\n",
       "      <td>128.929993</td>\n",
       "      <td>16593600</td>\n",
       "      <td>128.929993</td>\n",
       "    </tr>\n",
       "  </tbody>\n",
       "</table>\n",
       "</div>"
      ],
      "text/plain": [
       "                  High         Low        Open       Close    Volume  \\\n",
       "Date                                                                   \n",
       "2017-01-17  128.339996  127.400002  128.039993  127.870003  15294500   \n",
       "2017-01-18  128.429993  126.839996  128.410004  127.919998  13145900   \n",
       "2017-01-19  128.350006  127.449997  128.229996  127.550003  12195500   \n",
       "2017-01-20  128.479996  126.779999  128.100006  127.040001  19097200   \n",
       "2017-01-23  129.250000  126.949997  127.309998  128.929993  16593600   \n",
       "\n",
       "             Adj Close  \n",
       "Date                    \n",
       "2017-01-17  127.870003  \n",
       "2017-01-18  127.919998  \n",
       "2017-01-19  127.550003  \n",
       "2017-01-20  127.040001  \n",
       "2017-01-23  128.929993  "
      ]
     },
     "execution_count": 225,
     "metadata": {},
     "output_type": "execute_result"
    }
   ],
   "source": [
    "fb.head()"
   ]
  },
  {
   "cell_type": "code",
   "execution_count": 226,
   "metadata": {},
   "outputs": [],
   "source": [
    "fb.drop(['High', 'Low', 'Open', 'Volume', 'Adj Close'], axis=1, inplace=True)\n",
    "ms.drop(['High', 'Low', 'Open', 'Volume', 'Adj Close'], axis=1, inplace=True)"
   ]
  },
  {
   "cell_type": "code",
   "execution_count": 227,
   "metadata": {},
   "outputs": [
    {
     "data": {
      "text/html": [
       "<div>\n",
       "<style scoped>\n",
       "    .dataframe tbody tr th:only-of-type {\n",
       "        vertical-align: middle;\n",
       "    }\n",
       "\n",
       "    .dataframe tbody tr th {\n",
       "        vertical-align: top;\n",
       "    }\n",
       "\n",
       "    .dataframe thead th {\n",
       "        text-align: right;\n",
       "    }\n",
       "</style>\n",
       "<table border=\"1\" class=\"dataframe\">\n",
       "  <thead>\n",
       "    <tr style=\"text-align: right;\">\n",
       "      <th></th>\n",
       "      <th>Close</th>\n",
       "      <th>Yesterday Close</th>\n",
       "    </tr>\n",
       "    <tr>\n",
       "      <th>Date</th>\n",
       "      <th></th>\n",
       "      <th></th>\n",
       "    </tr>\n",
       "  </thead>\n",
       "  <tbody>\n",
       "    <tr>\n",
       "      <th>2017-01-17</th>\n",
       "      <td>127.870003</td>\n",
       "      <td>NaN</td>\n",
       "    </tr>\n",
       "    <tr>\n",
       "      <th>2017-01-18</th>\n",
       "      <td>127.919998</td>\n",
       "      <td>127.870003</td>\n",
       "    </tr>\n",
       "    <tr>\n",
       "      <th>2017-01-19</th>\n",
       "      <td>127.550003</td>\n",
       "      <td>127.919998</td>\n",
       "    </tr>\n",
       "    <tr>\n",
       "      <th>2017-01-20</th>\n",
       "      <td>127.040001</td>\n",
       "      <td>127.550003</td>\n",
       "    </tr>\n",
       "    <tr>\n",
       "      <th>2017-01-23</th>\n",
       "      <td>128.929993</td>\n",
       "      <td>127.040001</td>\n",
       "    </tr>\n",
       "  </tbody>\n",
       "</table>\n",
       "</div>"
      ],
      "text/plain": [
       "                 Close  Yesterday Close\n",
       "Date                                   \n",
       "2017-01-17  127.870003              NaN\n",
       "2017-01-18  127.919998       127.870003\n",
       "2017-01-19  127.550003       127.919998\n",
       "2017-01-20  127.040001       127.550003\n",
       "2017-01-23  128.929993       127.040001"
      ]
     },
     "execution_count": 227,
     "metadata": {},
     "output_type": "execute_result"
    }
   ],
   "source": [
    "fb['Yesterday Close'] = fb['Close'].shift(1)\n",
    "fb.head()"
   ]
  },
  {
   "cell_type": "code",
   "execution_count": 228,
   "metadata": {},
   "outputs": [
    {
     "data": {
      "text/html": [
       "<div>\n",
       "<style scoped>\n",
       "    .dataframe tbody tr th:only-of-type {\n",
       "        vertical-align: middle;\n",
       "    }\n",
       "\n",
       "    .dataframe tbody tr th {\n",
       "        vertical-align: top;\n",
       "    }\n",
       "\n",
       "    .dataframe thead th {\n",
       "        text-align: right;\n",
       "    }\n",
       "</style>\n",
       "<table border=\"1\" class=\"dataframe\">\n",
       "  <thead>\n",
       "    <tr style=\"text-align: right;\">\n",
       "      <th></th>\n",
       "      <th>Close</th>\n",
       "      <th>Yesterday Close</th>\n",
       "      <th>Price Difference</th>\n",
       "    </tr>\n",
       "    <tr>\n",
       "      <th>Date</th>\n",
       "      <th></th>\n",
       "      <th></th>\n",
       "      <th></th>\n",
       "    </tr>\n",
       "  </thead>\n",
       "  <tbody>\n",
       "    <tr>\n",
       "      <th>2017-01-17</th>\n",
       "      <td>127.870003</td>\n",
       "      <td>NaN</td>\n",
       "      <td>NaN</td>\n",
       "    </tr>\n",
       "    <tr>\n",
       "      <th>2017-01-18</th>\n",
       "      <td>127.919998</td>\n",
       "      <td>127.870003</td>\n",
       "      <td>0.049995</td>\n",
       "    </tr>\n",
       "    <tr>\n",
       "      <th>2017-01-19</th>\n",
       "      <td>127.550003</td>\n",
       "      <td>127.919998</td>\n",
       "      <td>-0.369995</td>\n",
       "    </tr>\n",
       "    <tr>\n",
       "      <th>2017-01-20</th>\n",
       "      <td>127.040001</td>\n",
       "      <td>127.550003</td>\n",
       "      <td>-0.510002</td>\n",
       "    </tr>\n",
       "    <tr>\n",
       "      <th>2017-01-23</th>\n",
       "      <td>128.929993</td>\n",
       "      <td>127.040001</td>\n",
       "      <td>1.889992</td>\n",
       "    </tr>\n",
       "  </tbody>\n",
       "</table>\n",
       "</div>"
      ],
      "text/plain": [
       "                 Close  Yesterday Close  Price Difference\n",
       "Date                                                     \n",
       "2017-01-17  127.870003              NaN               NaN\n",
       "2017-01-18  127.919998       127.870003          0.049995\n",
       "2017-01-19  127.550003       127.919998         -0.369995\n",
       "2017-01-20  127.040001       127.550003         -0.510002\n",
       "2017-01-23  128.929993       127.040001          1.889992"
      ]
     },
     "execution_count": 228,
     "metadata": {},
     "output_type": "execute_result"
    }
   ],
   "source": [
    "#Price Difference - manual 계산\n",
    "fb['Price Difference'] = fb['Close'] - fb['Yesterday Close']\n",
    "fb.head()"
   ]
  },
  {
   "cell_type": "code",
   "execution_count": 229,
   "metadata": {},
   "outputs": [
    {
     "data": {
      "text/html": [
       "<div>\n",
       "<style scoped>\n",
       "    .dataframe tbody tr th:only-of-type {\n",
       "        vertical-align: middle;\n",
       "    }\n",
       "\n",
       "    .dataframe tbody tr th {\n",
       "        vertical-align: top;\n",
       "    }\n",
       "\n",
       "    .dataframe thead th {\n",
       "        text-align: right;\n",
       "    }\n",
       "</style>\n",
       "<table border=\"1\" class=\"dataframe\">\n",
       "  <thead>\n",
       "    <tr style=\"text-align: right;\">\n",
       "      <th></th>\n",
       "      <th>Close</th>\n",
       "      <th>Yesterday Close</th>\n",
       "      <th>Price Difference</th>\n",
       "      <th>Price Diff2</th>\n",
       "    </tr>\n",
       "    <tr>\n",
       "      <th>Date</th>\n",
       "      <th></th>\n",
       "      <th></th>\n",
       "      <th></th>\n",
       "      <th></th>\n",
       "    </tr>\n",
       "  </thead>\n",
       "  <tbody>\n",
       "    <tr>\n",
       "      <th>2017-01-17</th>\n",
       "      <td>127.870003</td>\n",
       "      <td>NaN</td>\n",
       "      <td>NaN</td>\n",
       "      <td>NaN</td>\n",
       "    </tr>\n",
       "    <tr>\n",
       "      <th>2017-01-18</th>\n",
       "      <td>127.919998</td>\n",
       "      <td>127.870003</td>\n",
       "      <td>0.049995</td>\n",
       "      <td>0.049995</td>\n",
       "    </tr>\n",
       "    <tr>\n",
       "      <th>2017-01-19</th>\n",
       "      <td>127.550003</td>\n",
       "      <td>127.919998</td>\n",
       "      <td>-0.369995</td>\n",
       "      <td>-0.369995</td>\n",
       "    </tr>\n",
       "    <tr>\n",
       "      <th>2017-01-20</th>\n",
       "      <td>127.040001</td>\n",
       "      <td>127.550003</td>\n",
       "      <td>-0.510002</td>\n",
       "      <td>-0.510002</td>\n",
       "    </tr>\n",
       "    <tr>\n",
       "      <th>2017-01-23</th>\n",
       "      <td>128.929993</td>\n",
       "      <td>127.040001</td>\n",
       "      <td>1.889992</td>\n",
       "      <td>1.889992</td>\n",
       "    </tr>\n",
       "  </tbody>\n",
       "</table>\n",
       "</div>"
      ],
      "text/plain": [
       "                 Close  Yesterday Close  Price Difference  Price Diff2\n",
       "Date                                                                  \n",
       "2017-01-17  127.870003              NaN               NaN          NaN\n",
       "2017-01-18  127.919998       127.870003          0.049995     0.049995\n",
       "2017-01-19  127.550003       127.919998         -0.369995    -0.369995\n",
       "2017-01-20  127.040001       127.550003         -0.510002    -0.510002\n",
       "2017-01-23  128.929993       127.040001          1.889992     1.889992"
      ]
     },
     "execution_count": 229,
     "metadata": {},
     "output_type": "execute_result"
    }
   ],
   "source": [
    "#Price Difference method 사용해도 동일 결과\n",
    "fb['Price Diff2'] = fb['Close'].diff()\n",
    "fb.head()"
   ]
  },
  {
   "cell_type": "code",
   "execution_count": 230,
   "metadata": {},
   "outputs": [
    {
     "data": {
      "text/html": [
       "<div>\n",
       "<style scoped>\n",
       "    .dataframe tbody tr th:only-of-type {\n",
       "        vertical-align: middle;\n",
       "    }\n",
       "\n",
       "    .dataframe tbody tr th {\n",
       "        vertical-align: top;\n",
       "    }\n",
       "\n",
       "    .dataframe thead th {\n",
       "        text-align: right;\n",
       "    }\n",
       "</style>\n",
       "<table border=\"1\" class=\"dataframe\">\n",
       "  <thead>\n",
       "    <tr style=\"text-align: right;\">\n",
       "      <th></th>\n",
       "      <th>Close</th>\n",
       "      <th>Yesterday Close</th>\n",
       "      <th>Price Difference</th>\n",
       "    </tr>\n",
       "    <tr>\n",
       "      <th>Date</th>\n",
       "      <th></th>\n",
       "      <th></th>\n",
       "      <th></th>\n",
       "    </tr>\n",
       "  </thead>\n",
       "  <tbody>\n",
       "    <tr>\n",
       "      <th>2017-01-17</th>\n",
       "      <td>62.529999</td>\n",
       "      <td>NaN</td>\n",
       "      <td>NaN</td>\n",
       "    </tr>\n",
       "    <tr>\n",
       "      <th>2017-01-18</th>\n",
       "      <td>62.500000</td>\n",
       "      <td>62.529999</td>\n",
       "      <td>-0.029999</td>\n",
       "    </tr>\n",
       "    <tr>\n",
       "      <th>2017-01-19</th>\n",
       "      <td>62.299999</td>\n",
       "      <td>62.500000</td>\n",
       "      <td>-0.200001</td>\n",
       "    </tr>\n",
       "    <tr>\n",
       "      <th>2017-01-20</th>\n",
       "      <td>62.740002</td>\n",
       "      <td>62.299999</td>\n",
       "      <td>0.440002</td>\n",
       "    </tr>\n",
       "    <tr>\n",
       "      <th>2017-01-23</th>\n",
       "      <td>62.959999</td>\n",
       "      <td>62.740002</td>\n",
       "      <td>0.219997</td>\n",
       "    </tr>\n",
       "  </tbody>\n",
       "</table>\n",
       "</div>"
      ],
      "text/plain": [
       "                Close  Yesterday Close  Price Difference\n",
       "Date                                                    \n",
       "2017-01-17  62.529999              NaN               NaN\n",
       "2017-01-18  62.500000        62.529999         -0.029999\n",
       "2017-01-19  62.299999        62.500000         -0.200001\n",
       "2017-01-20  62.740002        62.299999          0.440002\n",
       "2017-01-23  62.959999        62.740002          0.219997"
      ]
     },
     "execution_count": 230,
     "metadata": {},
     "output_type": "execute_result"
    }
   ],
   "source": [
    "ms['Yesterday Close'] = ms['Close'].shift(1)\n",
    "ms['Price Difference'] = ms['Close'].diff()\n",
    "ms.head()"
   ]
  },
  {
   "cell_type": "code",
   "execution_count": 231,
   "metadata": {},
   "outputs": [
    {
     "name": "stdout",
     "output_type": "stream",
     "text": [
      "0.089996337890625\n"
     ]
    }
   ],
   "source": [
    "print(ms['Price Difference'].loc['2017-11-03'])"
   ]
  },
  {
   "cell_type": "markdown",
   "metadata": {},
   "source": [
    "## 일일 수익률 계산\n",
    "\n",
    "- 1 주를 계속 보유하였다고 가정.  \n",
    "\n",
    "\n",
    "- 계산 방법. \n",
    "\n",
    "- Daily Return = df/df.shift(1) - 1  \n",
    "    or\n",
    "- Daily Return[1:] = df[1:] / df[:-1].values - 1  \n",
    "    or    \n",
    "- Daily Return = df.pct_chage()"
   ]
  },
  {
   "cell_type": "code",
   "execution_count": 232,
   "metadata": {},
   "outputs": [
    {
     "data": {
      "text/html": [
       "<div>\n",
       "<style scoped>\n",
       "    .dataframe tbody tr th:only-of-type {\n",
       "        vertical-align: middle;\n",
       "    }\n",
       "\n",
       "    .dataframe tbody tr th {\n",
       "        vertical-align: top;\n",
       "    }\n",
       "\n",
       "    .dataframe thead th {\n",
       "        text-align: right;\n",
       "    }\n",
       "</style>\n",
       "<table border=\"1\" class=\"dataframe\">\n",
       "  <thead>\n",
       "    <tr style=\"text-align: right;\">\n",
       "      <th></th>\n",
       "      <th>Close</th>\n",
       "      <th>Yesterday Close</th>\n",
       "      <th>Price Difference</th>\n",
       "      <th>Return</th>\n",
       "    </tr>\n",
       "    <tr>\n",
       "      <th>Date</th>\n",
       "      <th></th>\n",
       "      <th></th>\n",
       "      <th></th>\n",
       "      <th></th>\n",
       "    </tr>\n",
       "  </thead>\n",
       "  <tbody>\n",
       "    <tr>\n",
       "      <th>2017-01-17</th>\n",
       "      <td>62.529999</td>\n",
       "      <td>NaN</td>\n",
       "      <td>NaN</td>\n",
       "      <td>NaN</td>\n",
       "    </tr>\n",
       "    <tr>\n",
       "      <th>2017-01-18</th>\n",
       "      <td>62.500000</td>\n",
       "      <td>62.529999</td>\n",
       "      <td>-0.029999</td>\n",
       "      <td>-0.000480</td>\n",
       "    </tr>\n",
       "    <tr>\n",
       "      <th>2017-01-19</th>\n",
       "      <td>62.299999</td>\n",
       "      <td>62.500000</td>\n",
       "      <td>-0.200001</td>\n",
       "      <td>-0.003200</td>\n",
       "    </tr>\n",
       "    <tr>\n",
       "      <th>2017-01-20</th>\n",
       "      <td>62.740002</td>\n",
       "      <td>62.299999</td>\n",
       "      <td>0.440002</td>\n",
       "      <td>0.007063</td>\n",
       "    </tr>\n",
       "    <tr>\n",
       "      <th>2017-01-23</th>\n",
       "      <td>62.959999</td>\n",
       "      <td>62.740002</td>\n",
       "      <td>0.219997</td>\n",
       "      <td>0.003506</td>\n",
       "    </tr>\n",
       "  </tbody>\n",
       "</table>\n",
       "</div>"
      ],
      "text/plain": [
       "                Close  Yesterday Close  Price Difference    Return\n",
       "Date                                                              \n",
       "2017-01-17  62.529999              NaN               NaN       NaN\n",
       "2017-01-18  62.500000        62.529999         -0.029999 -0.000480\n",
       "2017-01-19  62.299999        62.500000         -0.200001 -0.003200\n",
       "2017-01-20  62.740002        62.299999          0.440002  0.007063\n",
       "2017-01-23  62.959999        62.740002          0.219997  0.003506"
      ]
     },
     "execution_count": 232,
     "metadata": {},
     "output_type": "execute_result"
    }
   ],
   "source": [
    "ms['Return'] = ms['Close'] / ms['Yesterday Close'] - 1\n",
    "ms.head()"
   ]
  },
  {
   "cell_type": "code",
   "execution_count": 233,
   "metadata": {},
   "outputs": [
    {
     "data": {
      "text/html": [
       "<div>\n",
       "<style scoped>\n",
       "    .dataframe tbody tr th:only-of-type {\n",
       "        vertical-align: middle;\n",
       "    }\n",
       "\n",
       "    .dataframe tbody tr th {\n",
       "        vertical-align: top;\n",
       "    }\n",
       "\n",
       "    .dataframe thead th {\n",
       "        text-align: right;\n",
       "    }\n",
       "</style>\n",
       "<table border=\"1\" class=\"dataframe\">\n",
       "  <thead>\n",
       "    <tr style=\"text-align: right;\">\n",
       "      <th></th>\n",
       "      <th>Close</th>\n",
       "      <th>Yesterday Close</th>\n",
       "      <th>Price Difference</th>\n",
       "      <th>Return</th>\n",
       "    </tr>\n",
       "    <tr>\n",
       "      <th>Date</th>\n",
       "      <th></th>\n",
       "      <th></th>\n",
       "      <th></th>\n",
       "      <th></th>\n",
       "    </tr>\n",
       "  </thead>\n",
       "  <tbody>\n",
       "    <tr>\n",
       "      <th>2022-01-10</th>\n",
       "      <td>314.269989</td>\n",
       "      <td>314.040009</td>\n",
       "      <td>0.229980</td>\n",
       "      <td>0.000732</td>\n",
       "    </tr>\n",
       "    <tr>\n",
       "      <th>2022-01-11</th>\n",
       "      <td>314.980011</td>\n",
       "      <td>314.269989</td>\n",
       "      <td>0.710022</td>\n",
       "      <td>0.002259</td>\n",
       "    </tr>\n",
       "    <tr>\n",
       "      <th>2022-01-12</th>\n",
       "      <td>318.269989</td>\n",
       "      <td>314.980011</td>\n",
       "      <td>3.289978</td>\n",
       "      <td>0.010445</td>\n",
       "    </tr>\n",
       "    <tr>\n",
       "      <th>2022-01-13</th>\n",
       "      <td>304.799988</td>\n",
       "      <td>318.269989</td>\n",
       "      <td>-13.470001</td>\n",
       "      <td>-0.042323</td>\n",
       "    </tr>\n",
       "    <tr>\n",
       "      <th>2022-01-14</th>\n",
       "      <td>310.200012</td>\n",
       "      <td>304.799988</td>\n",
       "      <td>5.400024</td>\n",
       "      <td>0.017717</td>\n",
       "    </tr>\n",
       "  </tbody>\n",
       "</table>\n",
       "</div>"
      ],
      "text/plain": [
       "                 Close  Yesterday Close  Price Difference    Return\n",
       "Date                                                               \n",
       "2022-01-10  314.269989       314.040009          0.229980  0.000732\n",
       "2022-01-11  314.980011       314.269989          0.710022  0.002259\n",
       "2022-01-12  318.269989       314.980011          3.289978  0.010445\n",
       "2022-01-13  304.799988       318.269989        -13.470001 -0.042323\n",
       "2022-01-14  310.200012       304.799988          5.400024  0.017717"
      ]
     },
     "execution_count": 233,
     "metadata": {},
     "output_type": "execute_result"
    }
   ],
   "source": [
    "ms.tail()"
   ]
  },
  {
   "cell_type": "code",
   "execution_count": 234,
   "metadata": {},
   "outputs": [
    {
     "data": {
      "text/plain": [
       "Date\n",
       "2017-01-18   -0.000480\n",
       "2017-01-19   -0.003200\n",
       "2017-01-20    0.007063\n",
       "2017-01-23    0.003506\n",
       "2017-01-24    0.008895\n",
       "                ...   \n",
       "2022-01-10    0.000732\n",
       "2022-01-11    0.002259\n",
       "2022-01-12    0.010445\n",
       "2022-01-13   -0.042323\n",
       "2022-01-14    0.017717\n",
       "Name: Close, Length: 1259, dtype: float64"
      ]
     },
     "execution_count": 234,
     "metadata": {},
     "output_type": "execute_result"
    }
   ],
   "source": [
    "ms['Close'][1:] / ms['Close'][:-1].values - 1"
   ]
  },
  {
   "cell_type": "code",
   "execution_count": 235,
   "metadata": {},
   "outputs": [
    {
     "data": {
      "text/plain": [
       "Date\n",
       "2017-01-17         NaN\n",
       "2017-01-18   -0.000480\n",
       "2017-01-19   -0.003200\n",
       "2017-01-20    0.007063\n",
       "2017-01-23    0.003506\n",
       "                ...   \n",
       "2022-01-10    0.000732\n",
       "2022-01-11    0.002259\n",
       "2022-01-12    0.010445\n",
       "2022-01-13   -0.042323\n",
       "2022-01-14    0.017717\n",
       "Name: Close, Length: 1260, dtype: float64"
      ]
     },
     "execution_count": 235,
     "metadata": {},
     "output_type": "execute_result"
    }
   ],
   "source": [
    "ms['Close'].pct_change()"
   ]
  },
  {
   "cell_type": "code",
   "execution_count": 236,
   "metadata": {},
   "outputs": [
    {
     "data": {
      "text/plain": [
       "'1824 일간 1 주를 계속 보유하였다면 누적 수익율은'"
      ]
     },
     "execution_count": 236,
     "metadata": {},
     "output_type": "execute_result"
    }
   ],
   "source": [
    "f\"{len(pd.date_range(ms.index[0], ms.index[-1]))} 일간 1 주를 계속 보유하였다면 누적 수익율은\""
   ]
  },
  {
   "cell_type": "code",
   "execution_count": 237,
   "metadata": {},
   "outputs": [
    {
     "data": {
      "text/plain": [
       "Date\n",
       "2017-01-17         NaN\n",
       "2017-01-18    0.999520\n",
       "2017-01-19    0.996322\n",
       "2017-01-20    1.003358\n",
       "2017-01-23    1.006877\n",
       "                ...   \n",
       "2022-01-10    5.025907\n",
       "2022-01-11    5.037262\n",
       "2022-01-12    5.089877\n",
       "2022-01-13    4.874460\n",
       "2022-01-14    4.960819\n",
       "Name: Return, Length: 1260, dtype: float64"
      ]
     },
     "execution_count": 237,
     "metadata": {},
     "output_type": "execute_result"
    }
   ],
   "source": [
    "(1+ms['Return']).cumprod()"
   ]
  },
  {
   "cell_type": "markdown",
   "metadata": {},
   "source": [
    "## 이동평균 작성 (.rolling()) - Moving average"
   ]
  },
  {
   "cell_type": "code",
   "execution_count": 238,
   "metadata": {},
   "outputs": [
    {
     "data": {
      "text/plain": [
       "Date\n",
       "2017-01-17           NaN\n",
       "2017-01-18           NaN\n",
       "2017-01-19    127.780001\n",
       "2017-01-20    127.503334\n",
       "2017-01-23    127.839999\n",
       "                 ...    \n",
       "2022-01-10    330.773336\n",
       "2022-01-11    331.410004\n",
       "2022-01-12    331.900004\n",
       "2022-01-13    331.370005\n",
       "2022-01-14    330.546672\n",
       "Name: Close, Length: 1260, dtype: float64"
      ]
     },
     "execution_count": 238,
     "metadata": {},
     "output_type": "execute_result"
    }
   ],
   "source": [
    "# 3일 이동평균\n",
    "(fb['Close'] + fb['Close'].shift(1) + fb['Close'].shift(2)) / 3"
   ]
  },
  {
   "cell_type": "code",
   "execution_count": 239,
   "metadata": {},
   "outputs": [
    {
     "data": {
      "text/plain": [
       "Date\n",
       "2017-01-17           NaN\n",
       "2017-01-18           NaN\n",
       "2017-01-19    127.780001\n",
       "2017-01-20    127.503334\n",
       "2017-01-23    127.839999\n",
       "                 ...    \n",
       "2022-01-10    330.773336\n",
       "2022-01-11    331.410004\n",
       "2022-01-12    331.900004\n",
       "2022-01-13    331.370005\n",
       "2022-01-14    330.546672\n",
       "Name: Close, Length: 1260, dtype: float64"
      ]
     },
     "execution_count": 239,
     "metadata": {},
     "output_type": "execute_result"
    }
   ],
   "source": [
    "fb['Close'].rolling(3).mean()"
   ]
  },
  {
   "cell_type": "markdown",
   "metadata": {},
   "source": [
    "### 이동평균 계산 및 이동평균선 시각화"
   ]
  },
  {
   "cell_type": "code",
   "execution_count": 240,
   "metadata": {},
   "outputs": [
    {
     "data": {
      "text/plain": [
       "<matplotlib.legend.Legend at 0x251fa537dc0>"
      ]
     },
     "execution_count": 240,
     "metadata": {},
     "output_type": "execute_result"
    },
    {
     "data": {
      "image/png": "[encoded data removed]",
      "text/plain": [
       "<Figure size 576x432 with 1 Axes>"
      ]
     },
     "metadata": {
      "needs_background": "light"
     },
     "output_type": "display_data"
    }
   ],
   "source": [
    "import matplotlib.pyplot as plt\n",
    "\n",
    "fb['ma30'] = fb['Close'].rolling(30).mean()\n",
    "fb['ma60'] = fb['Close'].rolling(60).mean()#plot the moving average\n",
    "\n",
    "#plot the moving average\n",
    "plt.figure(figsize=(8, 6))\n",
    "fb['ma30'].plot(label='MA30')\n",
    "fb['ma60'].plot(label='MA60')\n",
    "fb['Close'].plot(label='Close')\n",
    "plt.legend()"
   ]
  },
  {
   "cell_type": "code",
   "execution_count": 241,
   "metadata": {},
   "outputs": [
    {
     "data": {
      "image/png": "[encoded data removed]",
      "text/plain": [
       "<Figure size 576x432 with 1 Axes>"
      ]
     },
     "metadata": {
      "needs_background": "light"
     },
     "output_type": "display_data"
    }
   ],
   "source": [
    "#특정 기간을 slicing한 이동평균 plot\n",
    "plt.figure(figsize=(8, 6))\n",
    "fb['ma30'].loc['2017-01-01':'2017-12-31'].plot(label='MA30')\n",
    "fb['ma60'].loc['2017-01-01':'2017-12-31'].plot(label='MA60')\n",
    "fb['Close'].loc['2017-01-01':'2017-12-31'].plot(label='Close')\n",
    "plt.legend()\n",
    "plt.show()"
   ]
  },
  {
   "cell_type": "markdown",
   "metadata": {},
   "source": [
    "# 이동평균선을 이용한 Simple trading strategy - Backtesting\n",
    "\n",
    "- fast signal (단기 이동평균) 이 slow signal (장기 이동평균)위에 있으면 1 주 보유, 아래에 있으면 0 주 보유 전략\n",
    "\n",
    "- MA10 > MA50 --> 1 주 보유\n",
    "\n",
    "- Daily Profit 계산\n",
    "\n",
    "- 누적 수익 계산"
   ]
  },
  {
   "cell_type": "code",
   "execution_count": 242,
   "metadata": {},
   "outputs": [
    {
     "data": {
      "text/html": [
       "<div>\n",
       "<style scoped>\n",
       "    .dataframe tbody tr th:only-of-type {\n",
       "        vertical-align: middle;\n",
       "    }\n",
       "\n",
       "    .dataframe tbody tr th {\n",
       "        vertical-align: top;\n",
       "    }\n",
       "\n",
       "    .dataframe thead th {\n",
       "        text-align: right;\n",
       "    }\n",
       "</style>\n",
       "<table border=\"1\" class=\"dataframe\">\n",
       "  <thead>\n",
       "    <tr style=\"text-align: right;\">\n",
       "      <th></th>\n",
       "      <th>Close</th>\n",
       "      <th>Yesterday Close</th>\n",
       "      <th>Price Difference</th>\n",
       "      <th>Return</th>\n",
       "      <th>MA10</th>\n",
       "      <th>MA50</th>\n",
       "      <th>Shares</th>\n",
       "    </tr>\n",
       "    <tr>\n",
       "      <th>Date</th>\n",
       "      <th></th>\n",
       "      <th></th>\n",
       "      <th></th>\n",
       "      <th></th>\n",
       "      <th></th>\n",
       "      <th></th>\n",
       "      <th></th>\n",
       "    </tr>\n",
       "  </thead>\n",
       "  <tbody>\n",
       "    <tr>\n",
       "      <th>2017-01-17</th>\n",
       "      <td>62.529999</td>\n",
       "      <td>NaN</td>\n",
       "      <td>NaN</td>\n",
       "      <td>NaN</td>\n",
       "      <td>NaN</td>\n",
       "      <td>NaN</td>\n",
       "      <td>0</td>\n",
       "    </tr>\n",
       "    <tr>\n",
       "      <th>2017-01-18</th>\n",
       "      <td>62.500000</td>\n",
       "      <td>62.529999</td>\n",
       "      <td>-0.029999</td>\n",
       "      <td>-0.000480</td>\n",
       "      <td>NaN</td>\n",
       "      <td>NaN</td>\n",
       "      <td>0</td>\n",
       "    </tr>\n",
       "    <tr>\n",
       "      <th>2017-01-19</th>\n",
       "      <td>62.299999</td>\n",
       "      <td>62.500000</td>\n",
       "      <td>-0.200001</td>\n",
       "      <td>-0.003200</td>\n",
       "      <td>NaN</td>\n",
       "      <td>NaN</td>\n",
       "      <td>0</td>\n",
       "    </tr>\n",
       "    <tr>\n",
       "      <th>2017-01-20</th>\n",
       "      <td>62.740002</td>\n",
       "      <td>62.299999</td>\n",
       "      <td>0.440002</td>\n",
       "      <td>0.007063</td>\n",
       "      <td>NaN</td>\n",
       "      <td>NaN</td>\n",
       "      <td>0</td>\n",
       "    </tr>\n",
       "    <tr>\n",
       "      <th>2017-01-23</th>\n",
       "      <td>62.959999</td>\n",
       "      <td>62.740002</td>\n",
       "      <td>0.219997</td>\n",
       "      <td>0.003506</td>\n",
       "      <td>NaN</td>\n",
       "      <td>NaN</td>\n",
       "      <td>0</td>\n",
       "    </tr>\n",
       "  </tbody>\n",
       "</table>\n",
       "</div>"
      ],
      "text/plain": [
       "                Close  Yesterday Close  Price Difference    Return  MA10  \\\n",
       "Date                                                                       \n",
       "2017-01-17  62.529999              NaN               NaN       NaN   NaN   \n",
       "2017-01-18  62.500000        62.529999         -0.029999 -0.000480   NaN   \n",
       "2017-01-19  62.299999        62.500000         -0.200001 -0.003200   NaN   \n",
       "2017-01-20  62.740002        62.299999          0.440002  0.007063   NaN   \n",
       "2017-01-23  62.959999        62.740002          0.219997  0.003506   NaN   \n",
       "\n",
       "            MA50  Shares  \n",
       "Date                      \n",
       "2017-01-17   NaN       0  \n",
       "2017-01-18   NaN       0  \n",
       "2017-01-19   NaN       0  \n",
       "2017-01-20   NaN       0  \n",
       "2017-01-23   NaN       0  "
      ]
     },
     "execution_count": 242,
     "metadata": {},
     "output_type": "execute_result"
    }
   ],
   "source": [
    "ms['MA10'] = ms['Close'].rolling(10).mean()\n",
    "ms['MA50'] = ms['Close'].rolling(50).mean()\n",
    "ms['Shares'] = [1 if ms.loc[day, 'MA10'] > ms.loc[day, 'MA50'] else 0 for day in ms.index]\n",
    "ms.head()"
   ]
  },
  {
   "cell_type": "code",
   "execution_count": 243,
   "metadata": {},
   "outputs": [
    {
     "data": {
      "text/html": [
       "<div>\n",
       "<style scoped>\n",
       "    .dataframe tbody tr th:only-of-type {\n",
       "        vertical-align: middle;\n",
       "    }\n",
       "\n",
       "    .dataframe tbody tr th {\n",
       "        vertical-align: top;\n",
       "    }\n",
       "\n",
       "    .dataframe thead th {\n",
       "        text-align: right;\n",
       "    }\n",
       "</style>\n",
       "<table border=\"1\" class=\"dataframe\">\n",
       "  <thead>\n",
       "    <tr style=\"text-align: right;\">\n",
       "      <th></th>\n",
       "      <th>Close</th>\n",
       "      <th>Yesterday Close</th>\n",
       "      <th>Price Difference</th>\n",
       "      <th>Return</th>\n",
       "      <th>MA10</th>\n",
       "      <th>MA50</th>\n",
       "      <th>Shares</th>\n",
       "      <th>NextDay Close</th>\n",
       "    </tr>\n",
       "    <tr>\n",
       "      <th>Date</th>\n",
       "      <th></th>\n",
       "      <th></th>\n",
       "      <th></th>\n",
       "      <th></th>\n",
       "      <th></th>\n",
       "      <th></th>\n",
       "      <th></th>\n",
       "      <th></th>\n",
       "    </tr>\n",
       "  </thead>\n",
       "  <tbody>\n",
       "    <tr>\n",
       "      <th>2017-01-17</th>\n",
       "      <td>62.529999</td>\n",
       "      <td>NaN</td>\n",
       "      <td>NaN</td>\n",
       "      <td>NaN</td>\n",
       "      <td>NaN</td>\n",
       "      <td>NaN</td>\n",
       "      <td>0</td>\n",
       "      <td>62.500000</td>\n",
       "    </tr>\n",
       "    <tr>\n",
       "      <th>2017-01-18</th>\n",
       "      <td>62.500000</td>\n",
       "      <td>62.529999</td>\n",
       "      <td>-0.029999</td>\n",
       "      <td>-0.000480</td>\n",
       "      <td>NaN</td>\n",
       "      <td>NaN</td>\n",
       "      <td>0</td>\n",
       "      <td>62.299999</td>\n",
       "    </tr>\n",
       "    <tr>\n",
       "      <th>2017-01-19</th>\n",
       "      <td>62.299999</td>\n",
       "      <td>62.500000</td>\n",
       "      <td>-0.200001</td>\n",
       "      <td>-0.003200</td>\n",
       "      <td>NaN</td>\n",
       "      <td>NaN</td>\n",
       "      <td>0</td>\n",
       "      <td>62.740002</td>\n",
       "    </tr>\n",
       "    <tr>\n",
       "      <th>2017-01-20</th>\n",
       "      <td>62.740002</td>\n",
       "      <td>62.299999</td>\n",
       "      <td>0.440002</td>\n",
       "      <td>0.007063</td>\n",
       "      <td>NaN</td>\n",
       "      <td>NaN</td>\n",
       "      <td>0</td>\n",
       "      <td>62.959999</td>\n",
       "    </tr>\n",
       "    <tr>\n",
       "      <th>2017-01-23</th>\n",
       "      <td>62.959999</td>\n",
       "      <td>62.740002</td>\n",
       "      <td>0.219997</td>\n",
       "      <td>0.003506</td>\n",
       "      <td>NaN</td>\n",
       "      <td>NaN</td>\n",
       "      <td>0</td>\n",
       "      <td>63.520000</td>\n",
       "    </tr>\n",
       "  </tbody>\n",
       "</table>\n",
       "</div>"
      ],
      "text/plain": [
       "                Close  Yesterday Close  Price Difference    Return  MA10  \\\n",
       "Date                                                                       \n",
       "2017-01-17  62.529999              NaN               NaN       NaN   NaN   \n",
       "2017-01-18  62.500000        62.529999         -0.029999 -0.000480   NaN   \n",
       "2017-01-19  62.299999        62.500000         -0.200001 -0.003200   NaN   \n",
       "2017-01-20  62.740002        62.299999          0.440002  0.007063   NaN   \n",
       "2017-01-23  62.959999        62.740002          0.219997  0.003506   NaN   \n",
       "\n",
       "            MA50  Shares  NextDay Close  \n",
       "Date                                     \n",
       "2017-01-17   NaN       0      62.500000  \n",
       "2017-01-18   NaN       0      62.299999  \n",
       "2017-01-19   NaN       0      62.740002  \n",
       "2017-01-20   NaN       0      62.959999  \n",
       "2017-01-23   NaN       0      63.520000  "
      ]
     },
     "execution_count": 243,
     "metadata": {},
     "output_type": "execute_result"
    }
   ],
   "source": [
    "ms['NextDay Close'] = ms['Close'].shift(-1)\n",
    "ms.head()"
   ]
  },
  {
   "cell_type": "markdown",
   "metadata": {},
   "source": [
    "## Daily Profit"
   ]
  },
  {
   "cell_type": "code",
   "execution_count": 244,
   "metadata": {},
   "outputs": [
    {
     "data": {
      "text/html": [
       "<div>\n",
       "<style scoped>\n",
       "    .dataframe tbody tr th:only-of-type {\n",
       "        vertical-align: middle;\n",
       "    }\n",
       "\n",
       "    .dataframe tbody tr th {\n",
       "        vertical-align: top;\n",
       "    }\n",
       "\n",
       "    .dataframe thead th {\n",
       "        text-align: right;\n",
       "    }\n",
       "</style>\n",
       "<table border=\"1\" class=\"dataframe\">\n",
       "  <thead>\n",
       "    <tr style=\"text-align: right;\">\n",
       "      <th></th>\n",
       "      <th>Close</th>\n",
       "      <th>Yesterday Close</th>\n",
       "      <th>Price Difference</th>\n",
       "      <th>Return</th>\n",
       "      <th>MA10</th>\n",
       "      <th>MA50</th>\n",
       "      <th>Shares</th>\n",
       "      <th>NextDay Close</th>\n",
       "      <th>Profit</th>\n",
       "    </tr>\n",
       "    <tr>\n",
       "      <th>Date</th>\n",
       "      <th></th>\n",
       "      <th></th>\n",
       "      <th></th>\n",
       "      <th></th>\n",
       "      <th></th>\n",
       "      <th></th>\n",
       "      <th></th>\n",
       "      <th></th>\n",
       "      <th></th>\n",
       "    </tr>\n",
       "  </thead>\n",
       "  <tbody>\n",
       "    <tr>\n",
       "      <th>2017-06-09</th>\n",
       "      <td>70.320000</td>\n",
       "      <td>71.949997</td>\n",
       "      <td>-1.629997</td>\n",
       "      <td>-0.022655</td>\n",
       "      <td>71.152999</td>\n",
       "      <td>68.1266</td>\n",
       "      <td>1</td>\n",
       "      <td>69.779999</td>\n",
       "      <td>-0.540001</td>\n",
       "    </tr>\n",
       "    <tr>\n",
       "      <th>2017-06-12</th>\n",
       "      <td>69.779999</td>\n",
       "      <td>70.320000</td>\n",
       "      <td>-0.540001</td>\n",
       "      <td>-0.007679</td>\n",
       "      <td>71.134999</td>\n",
       "      <td>68.2080</td>\n",
       "      <td>1</td>\n",
       "      <td>70.650002</td>\n",
       "      <td>0.870003</td>\n",
       "    </tr>\n",
       "    <tr>\n",
       "      <th>2017-06-13</th>\n",
       "      <td>70.650002</td>\n",
       "      <td>69.779999</td>\n",
       "      <td>0.870003</td>\n",
       "      <td>0.012468</td>\n",
       "      <td>71.158999</td>\n",
       "      <td>68.3038</td>\n",
       "      <td>1</td>\n",
       "      <td>70.269997</td>\n",
       "      <td>-0.380005</td>\n",
       "    </tr>\n",
       "    <tr>\n",
       "      <th>2017-06-14</th>\n",
       "      <td>70.269997</td>\n",
       "      <td>70.650002</td>\n",
       "      <td>-0.380005</td>\n",
       "      <td>-0.005379</td>\n",
       "      <td>71.201999</td>\n",
       "      <td>68.3982</td>\n",
       "      <td>1</td>\n",
       "      <td>69.900002</td>\n",
       "      <td>-0.369995</td>\n",
       "    </tr>\n",
       "    <tr>\n",
       "      <th>2017-06-15</th>\n",
       "      <td>69.900002</td>\n",
       "      <td>70.269997</td>\n",
       "      <td>-0.369995</td>\n",
       "      <td>-0.005265</td>\n",
       "      <td>71.181999</td>\n",
       "      <td>68.4816</td>\n",
       "      <td>1</td>\n",
       "      <td>70.000000</td>\n",
       "      <td>0.099998</td>\n",
       "    </tr>\n",
       "  </tbody>\n",
       "</table>\n",
       "</div>"
      ],
      "text/plain": [
       "                Close  Yesterday Close  Price Difference    Return       MA10  \\\n",
       "Date                                                                            \n",
       "2017-06-09  70.320000        71.949997         -1.629997 -0.022655  71.152999   \n",
       "2017-06-12  69.779999        70.320000         -0.540001 -0.007679  71.134999   \n",
       "2017-06-13  70.650002        69.779999          0.870003  0.012468  71.158999   \n",
       "2017-06-14  70.269997        70.650002         -0.380005 -0.005379  71.201999   \n",
       "2017-06-15  69.900002        70.269997         -0.369995 -0.005265  71.181999   \n",
       "\n",
       "               MA50  Shares  NextDay Close    Profit  \n",
       "Date                                                  \n",
       "2017-06-09  68.1266       1      69.779999 -0.540001  \n",
       "2017-06-12  68.2080       1      70.650002  0.870003  \n",
       "2017-06-13  68.3038       1      70.269997 -0.380005  \n",
       "2017-06-14  68.3982       1      69.900002 -0.369995  \n",
       "2017-06-15  68.4816       1      70.000000  0.099998  "
      ]
     },
     "execution_count": 244,
     "metadata": {},
     "output_type": "execute_result"
    }
   ],
   "source": [
    "# Daily Profit 계산\n",
    "ms['Profit'] = [ms.loc[day, 'NextDay Close'] - ms.loc[day, 'Close'] \n",
    "                if ms.loc[day, 'Shares'] == 1 else 0 for day in ms.index]\n",
    "\n",
    "ms.iloc[100:105]"
   ]
  },
  {
   "cell_type": "code",
   "execution_count": 245,
   "metadata": {},
   "outputs": [
    {
     "data": {
      "text/plain": [
       "<matplotlib.lines.Line2D at 0x251fa437ca0>"
      ]
     },
     "execution_count": 245,
     "metadata": {},
     "output_type": "execute_result"
    },
    {
     "data": {
      "image/png": "[encoded data removed]",
      "text/plain": [
       "<Figure size 432x288 with 1 Axes>"
      ]
     },
     "metadata": {
      "needs_background": "light"
     },
     "output_type": "display_data"
    }
   ],
   "source": [
    "# red line 위쪽은 make money 아래는 lose money\n",
    "ms['Profit'].plot()\n",
    "plt.axhline(y=0, color='r')  "
   ]
  },
  {
   "cell_type": "markdown",
   "metadata": {},
   "source": [
    "## 누적 수익"
   ]
  },
  {
   "cell_type": "code",
   "execution_count": 246,
   "metadata": {},
   "outputs": [
    {
     "data": {
      "text/html": [
       "<div>\n",
       "<style scoped>\n",
       "    .dataframe tbody tr th:only-of-type {\n",
       "        vertical-align: middle;\n",
       "    }\n",
       "\n",
       "    .dataframe tbody tr th {\n",
       "        vertical-align: top;\n",
       "    }\n",
       "\n",
       "    .dataframe thead th {\n",
       "        text-align: right;\n",
       "    }\n",
       "</style>\n",
       "<table border=\"1\" class=\"dataframe\">\n",
       "  <thead>\n",
       "    <tr style=\"text-align: right;\">\n",
       "      <th></th>\n",
       "      <th>Close</th>\n",
       "      <th>Yesterday Close</th>\n",
       "      <th>Price Difference</th>\n",
       "      <th>Return</th>\n",
       "      <th>MA10</th>\n",
       "      <th>MA50</th>\n",
       "      <th>Shares</th>\n",
       "      <th>NextDay Close</th>\n",
       "      <th>Profit</th>\n",
       "      <th>wealth</th>\n",
       "    </tr>\n",
       "    <tr>\n",
       "      <th>Date</th>\n",
       "      <th></th>\n",
       "      <th></th>\n",
       "      <th></th>\n",
       "      <th></th>\n",
       "      <th></th>\n",
       "      <th></th>\n",
       "      <th></th>\n",
       "      <th></th>\n",
       "      <th></th>\n",
       "      <th></th>\n",
       "    </tr>\n",
       "  </thead>\n",
       "  <tbody>\n",
       "    <tr>\n",
       "      <th>2022-01-10</th>\n",
       "      <td>314.269989</td>\n",
       "      <td>314.040009</td>\n",
       "      <td>0.229980</td>\n",
       "      <td>0.000732</td>\n",
       "      <td>328.117004</td>\n",
       "      <td>332.580200</td>\n",
       "      <td>0</td>\n",
       "      <td>314.980011</td>\n",
       "      <td>0.0</td>\n",
       "      <td>116.030014</td>\n",
       "    </tr>\n",
       "    <tr>\n",
       "      <th>2022-01-11</th>\n",
       "      <td>314.980011</td>\n",
       "      <td>314.269989</td>\n",
       "      <td>0.710022</td>\n",
       "      <td>0.002259</td>\n",
       "      <td>325.490005</td>\n",
       "      <td>332.247401</td>\n",
       "      <td>0</td>\n",
       "      <td>318.269989</td>\n",
       "      <td>0.0</td>\n",
       "      <td>116.030014</td>\n",
       "    </tr>\n",
       "    <tr>\n",
       "      <th>2022-01-12</th>\n",
       "      <td>318.269989</td>\n",
       "      <td>314.980011</td>\n",
       "      <td>3.289978</td>\n",
       "      <td>0.010445</td>\n",
       "      <td>323.122003</td>\n",
       "      <td>332.025400</td>\n",
       "      <td>0</td>\n",
       "      <td>304.799988</td>\n",
       "      <td>0.0</td>\n",
       "      <td>116.030014</td>\n",
       "    </tr>\n",
       "    <tr>\n",
       "      <th>2022-01-13</th>\n",
       "      <td>304.799988</td>\n",
       "      <td>318.269989</td>\n",
       "      <td>-13.470001</td>\n",
       "      <td>-0.042323</td>\n",
       "      <td>319.670001</td>\n",
       "      <td>331.458800</td>\n",
       "      <td>0</td>\n",
       "      <td>310.200012</td>\n",
       "      <td>0.0</td>\n",
       "      <td>116.030014</td>\n",
       "    </tr>\n",
       "    <tr>\n",
       "      <th>2022-01-14</th>\n",
       "      <td>310.200012</td>\n",
       "      <td>304.799988</td>\n",
       "      <td>5.400024</td>\n",
       "      <td>0.017717</td>\n",
       "      <td>317.058002</td>\n",
       "      <td>330.982800</td>\n",
       "      <td>0</td>\n",
       "      <td>NaN</td>\n",
       "      <td>0.0</td>\n",
       "      <td>116.030014</td>\n",
       "    </tr>\n",
       "  </tbody>\n",
       "</table>\n",
       "</div>"
      ],
      "text/plain": [
       "                 Close  Yesterday Close  Price Difference    Return  \\\n",
       "Date                                                                  \n",
       "2022-01-10  314.269989       314.040009          0.229980  0.000732   \n",
       "2022-01-11  314.980011       314.269989          0.710022  0.002259   \n",
       "2022-01-12  318.269989       314.980011          3.289978  0.010445   \n",
       "2022-01-13  304.799988       318.269989        -13.470001 -0.042323   \n",
       "2022-01-14  310.200012       304.799988          5.400024  0.017717   \n",
       "\n",
       "                  MA10        MA50  Shares  NextDay Close  Profit      wealth  \n",
       "Date                                                                           \n",
       "2022-01-10  328.117004  332.580200       0     314.980011     0.0  116.030014  \n",
       "2022-01-11  325.490005  332.247401       0     318.269989     0.0  116.030014  \n",
       "2022-01-12  323.122003  332.025400       0     304.799988     0.0  116.030014  \n",
       "2022-01-13  319.670001  331.458800       0     310.200012     0.0  116.030014  \n",
       "2022-01-14  317.058002  330.982800       0            NaN     0.0  116.030014  "
      ]
     },
     "execution_count": 246,
     "metadata": {},
     "output_type": "execute_result"
    }
   ],
   "source": [
    "ms['wealth'] = ms['Profit'].cumsum()\n",
    "ms.tail()"
   ]
  },
  {
   "cell_type": "code",
   "execution_count": 247,
   "metadata": {},
   "outputs": [
    {
     "name": "stdout",
     "output_type": "stream",
     "text": [
      "이 전략으로 1824일 동안 번 수익 : 116.03 \n"
     ]
    },
    {
     "data": {
      "text/plain": [
       "<AxesSubplot:xlabel='Date'>"
      ]
     },
     "execution_count": 247,
     "metadata": {},
     "output_type": "execute_result"
    },
    {
     "data": {
      "image/png": "[encoded data removed]",
      "text/plain": [
       "<Figure size 432x288 with 1 Axes>"
      ]
     },
     "metadata": {
      "needs_background": "light"
     },
     "output_type": "display_data"
    }
   ],
   "source": [
    "n_days = len(pd.date_range(fb.index[0], fb.index[-1]))\n",
    "\n",
    "print(f\"이 전략으로 {n_days}일 동안 번 수익 : {ms.loc[ms.index[-2], 'wealth']:.2f} \")\n",
    "\n",
    "ms['wealth'].plot()"
   ]
  },
  {
   "cell_type": "code",
   "execution_count": null,
   "metadata": {},
   "outputs": [],
   "source": []
  }
 ],
 "metadata": {
  "kernelspec": {
   "display_name": "Python 3",
   "language": "python",
   "name": "python3"
  },
  "language_info": {
   "codemirror_mode": {
    "name": "ipython",
    "version": 3
   },
   "file_extension": ".py",
   "mimetype": "text/x-python",
   "name": "python",
   "nbconvert_exporter": "python",
   "pygments_lexer": "ipython3",
   "version": "3.9.7"
  }
 },
 "nbformat": 4,
 "nbformat_minor": 2
}
