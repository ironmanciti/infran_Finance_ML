{
 "cells": [
  {
   "cell_type": "markdown",
   "metadata": {},
   "source": [
    "# 변동성과 위험 (Volatility and Risk), Sharpe Ratio\n",
    "\n",
    "변동성은 표준편차인 평균으로부터의 평균 제곱편차로 측정됩니다."
   ]
  },
  {
   "cell_type": "markdown",
   "metadata": {},
   "source": [
    "표준 편차를 계산합니다.  \n",
    "$$(편차) = (각 변량) - (전체 평균)$$  \n",
    "$$(분산) = \\frac{편차의 제곱의 합}{총 변량의 갯수}$$\n",
    "$$(표준편차) = 분산의 제곱근 (\\sqrt{분산})$$"
   ]
  },
  {
   "cell_type": "markdown",
   "metadata": {},
   "source": [
    "내장된 `.std()` 메소드를 사용할 때도 같은 답이 나와야 하는데 약간의 차이가 납니다.  \n",
    "\n",
    "- ddof : int, default 1, Delta Degrees of Freedom. 계산에 사용되는 제수는 `N-ddof`이며, 여기서 N은 element 수를 나타냅니다."
   ]
  },
  {
   "cell_type": "markdown",
   "metadata": {},
   "source": [
    "위 두 계산이 일치 않는 이유는 기본적으로 `.std()` 메서드는 $n-1$의 분모를 사용하는 샘플 표준 편차를 계산하기 때문입니다. 반면에 우리는 $n$의 분자를 사용하는 모표준편차(Population Standard Deviation)를 계산했습니다. 관찰된 수익률은 분포에서 관찰된 샘플로 간주되기 때문에 $n-1$의 분모를 사용하는 것이 더 정확할 것이므로 동일한 숫자를 얻는지 확인하기 위해 계산을 다시 실행해 보겠습니다.\n",
    "\n",
    "관찰 수를 얻기 위해 행과 열 수의 튜플을 반환하는 DataFrame의 `.shape` 속성을 사용할 수 있습니다."
   ]
  },
  {
   "cell_type": "markdown",
   "metadata": {},
   "source": [
    "# 연간 변동성 (Annualizing Volatility)\n",
    "\n",
    "변동성을 관측당 기간 수의 제곱근으로 스케일링(곱하기)하여 annualize 합니다.\n",
    "\n",
    "따라서 월별 시리즈의 변동성을 연간화하기 위해 12의 제곱근을 곱합니다. `np.sqrt()`를 사용하는 대신 $0.5$의 거듭제곱으로 올릴 수도 있습니다."
   ]
  },
  {
   "cell_type": "markdown",
   "metadata": {},
   "source": [
    "# 위험 조정 수익 (Risk Adjusted Returns)\n",
    "\n",
    "위험 조정 수익이란 투자 수익(investment returns)을 단순히 투입 대비 산출로만 계산하는 것이 아니라, 수익이 나타나는 과정에서 포함된 위험들을 고려했을 때의 수익을 의미한다.\n",
    "\n",
    "예를 들어 시장에 기본적이고 공통적으로 존재하는 위험이 있어서 이에 대한 보상으로 투자 활동에 3%의 수익률이 있어야 할 때, 한 투자 활동으로부터 5%의 수익을 얻었다면 시장 위험을 조정한 수익으로 볼때는 그 투자활동은 2%의 수익을 얻은 것이다. \n",
    "\n",
    "Sharpe Ratio 가 대표적인 위험 조정 수익률 지수"
   ]
  },
  {
   "cell_type": "markdown",
   "metadata": {},
   "source": [
    "1 년간 주식에 투자하여 얻은 수익률 계산"
   ]
  },
  {
   "cell_type": "markdown",
   "metadata": {},
   "source": [
    "일일 수익률 시각화"
   ]
  },
  {
   "cell_type": "markdown",
   "metadata": {},
   "source": [
    "일일 변동성(volatility)"
   ]
  },
  {
   "cell_type": "markdown",
   "metadata": {},
   "source": [
    "연간 수익률"
   ]
  },
  {
   "cell_type": "markdown",
   "metadata": {},
   "source": [
    "연간 변동성"
   ]
  },
  {
   "cell_type": "markdown",
   "metadata": {},
   "source": [
    "- Sharpe Ratio 계산 \n",
    "\n",
    "초과 수익 / 변동성 --> 변동성(위험) 한단위 당 초과 수익\n",
    "\n",
    "$$SR=\\frac{R_p-R_f}{\\sigma_p}$$\n",
    "\n",
    "p: portfolio, f: risk free"
   ]
  },
  {
   "cell_type": "markdown",
   "metadata": {},
   "source": [
    "실제 주가 시각화"
   ]
  }
 ],
 "metadata": {
  "kernelspec": {
   "display_name": "Python 3 (ipykernel)",
   "language": "python",
   "name": "python3"
  },
  "language_info": {
   "codemirror_mode": {
    "name": "ipython",
    "version": 3
   },
   "file_extension": ".py",
   "mimetype": "text/x-python",
   "name": "python",
   "nbconvert_exporter": "python",
   "pygments_lexer": "ipython3",
   "version": "3.8.13"
  }
 },
 "nbformat": 4,
 "nbformat_minor": 4
}
